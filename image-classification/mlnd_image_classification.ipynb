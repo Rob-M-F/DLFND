{
 "cells": [
  {
   "cell_type": "markdown",
   "metadata": {
    "collapsed": true,
    "deletable": true,
    "editable": true
   },
   "source": [
    "# Image Classification\n",
    "In this project, you'll classify images from the [CIFAR-10 dataset](https://www.cs.toronto.edu/~kriz/cifar.html).  The dataset consists of airplanes, dogs, cats, and other objects. You'll preprocess the images, then train a convolutional neural network on all the samples. The images need to be normalized and the labels need to be one-hot encoded.  You'll get to apply what you learned and build a convolutional, max pooling, dropout, and fully connected layers.  At the end, you'll get to see your neural network's predictions on the sample images.\n",
    "## Get the Data\n",
    "Run the following cell to download the [CIFAR-10 dataset for python](https://www.cs.toronto.edu/~kriz/cifar-10-python.tar.gz)."
   ]
  },
  {
   "cell_type": "code",
   "execution_count": 1,
   "metadata": {
    "collapsed": false,
    "deletable": true,
    "editable": true
   },
   "outputs": [
    {
     "name": "stdout",
     "output_type": "stream",
     "text": [
      "All files found!\n"
     ]
    }
   ],
   "source": [
    "\"\"\"\n",
    "DON'T MODIFY ANYTHING IN THIS CELL THAT IS BELOW THIS LINE\n",
    "\"\"\"\n",
    "from urllib.request import urlretrieve\n",
    "from os.path import isfile, isdir\n",
    "from tqdm import tqdm\n",
    "import problem_unittests as tests\n",
    "import tarfile\n",
    "\n",
    "cifar10_dataset_folder_path = 'cifar-10-batches-py'\n",
    "\n",
    "class DLProgress(tqdm):\n",
    "    last_block = 0\n",
    "\n",
    "    def hook(self, block_num=1, block_size=1, total_size=None):\n",
    "        self.total = total_size\n",
    "        self.update((block_num - self.last_block) * block_size)\n",
    "        self.last_block = block_num\n",
    "\n",
    "if not isfile('cifar-10-python.tar.gz'):\n",
    "    with DLProgress(unit='B', unit_scale=True, miniters=1, desc='CIFAR-10 Dataset') as pbar:\n",
    "        urlretrieve(\n",
    "            'https://www.cs.toronto.edu/~kriz/cifar-10-python.tar.gz',\n",
    "            'cifar-10-python.tar.gz',\n",
    "            pbar.hook)\n",
    "\n",
    "if not isdir(cifar10_dataset_folder_path):\n",
    "    with tarfile.open('cifar-10-python.tar.gz') as tar:\n",
    "        tar.extractall()\n",
    "        tar.close()\n",
    "\n",
    "\n",
    "tests.test_folder_path(cifar10_dataset_folder_path)"
   ]
  },
  {
   "cell_type": "markdown",
   "metadata": {
    "deletable": true,
    "editable": true
   },
   "source": [
    "## Explore the Data\n",
    "The dataset is broken into batches to prevent your machine from running out of memory.  The CIFAR-10 dataset consists of 5 batches, named `data_batch_1`, `data_batch_2`, etc.. Each batch contains the labels and images that are one of the following:\n",
    "* airplane\n",
    "* automobile\n",
    "* bird\n",
    "* cat\n",
    "* deer\n",
    "* dog\n",
    "* frog\n",
    "* horse\n",
    "* ship\n",
    "* truck\n",
    "\n",
    "Understanding a dataset is part of making predictions on the data.  Play around with the code cell below by changing the `batch_id` and `sample_id`. The `batch_id` is the id for a batch (1-5). The `sample_id` is the id for a image and label pair in the batch.\n",
    "\n",
    "Ask yourself \"What are all possible labels?\", \"What is the range of values for the image data?\", \"Are the labels in order or random?\".  Answers to questions like these will help you preprocess the data and end up with better predictions."
   ]
  },
  {
   "cell_type": "code",
   "execution_count": 2,
   "metadata": {
    "collapsed": false,
    "deletable": true,
    "editable": true
   },
   "outputs": [
    {
     "name": "stdout",
     "output_type": "stream",
     "text": [
      "\n",
      "Stats of batch 1:\n",
      "Samples: 10000\n",
      "Label Counts: {0: 1005, 1: 974, 2: 1032, 3: 1016, 4: 999, 5: 937, 6: 1030, 7: 1001, 8: 1025, 9: 981}\n",
      "First 20 Labels: [6, 9, 9, 4, 1, 1, 2, 7, 8, 3, 4, 7, 7, 2, 9, 9, 9, 3, 2, 6]\n",
      "\n",
      "Example of Image 5:\n",
      "Image - Min Value: 0 Max Value: 252\n",
      "Image - Shape: (32, 32, 3)\n",
      "Label - Label Id: 1 Name: automobile\n"
     ]
    },
    {
     "data": {
      "image/png": "[encoded data removed]",
      "text/plain": [
       "<matplotlib.figure.Figure at 0x222bf98cf60>"
      ]
     },
     "metadata": {
      "image/png": {
       "height": 250,
       "width": 253
      }
     },
     "output_type": "display_data"
    }
   ],
   "source": [
    "%matplotlib inline\n",
    "%config InlineBackend.figure_format = 'retina'\n",
    "\n",
    "import helper\n",
    "import numpy as np\n",
    "\n",
    "# Explore the dataset\n",
    "batch_id = 1\n",
    "sample_id = 5\n",
    "helper.display_stats(cifar10_dataset_folder_path, batch_id, sample_id)"
   ]
  },
  {
   "cell_type": "markdown",
   "metadata": {
    "deletable": true,
    "editable": true
   },
   "source": [
    "## Implement Preprocess Functions\n",
    "### Normalize\n",
    "In the cell below, implement the `normalize` function to take in image data, `x`, and return it as a normalized Numpy array. The values should be in the range of 0 to 1, inclusive.  The return object should be the same shape as `x`."
   ]
  },
  {
   "cell_type": "code",
   "execution_count": 3,
   "metadata": {
    "collapsed": false,
    "deletable": true,
    "editable": true
   },
   "outputs": [
    {
     "name": "stdout",
     "output_type": "stream",
     "text": [
      "Tests Passed\n"
     ]
    }
   ],
   "source": [
    "def normalize(x):\n",
    "    \"\"\"\n",
    "    Normalize a list of sample image data in the range of 0 to 1\n",
    "    : x: List of image data.  The image shape is (32, 32, 3)\n",
    "    : return: Numpy array of normalize data\n",
    "    \"\"\"\n",
    "    return np.divide(x, 255.)\n",
    "\n",
    "\n",
    "\"\"\"\n",
    "DON'T MODIFY ANYTHING IN THIS CELL THAT IS BELOW THIS LINE\n",
    "\"\"\"\n",
    "tests.test_normalize(normalize)"
   ]
  },
  {
   "cell_type": "markdown",
   "metadata": {
    "deletable": true,
    "editable": true
   },
   "source": [
    "### One-hot encode\n",
    "Just like the previous code cell, you'll be implementing a function for preprocessing.  This time, you'll implement the `one_hot_encode` function. The input, `x`, are a list of labels.  Implement the function to return the list of labels as One-Hot encoded Numpy array.  The possible values for labels are 0 to 9. The one-hot encoding function should return the same encoding for each value between each call to `one_hot_encode`.  Make sure to save the map of encodings outside the function.\n",
    "\n",
    "**Hint:**\n",
    "\n",
    "Look into LabelBinarizer in the preprocessing module of sklearn."
   ]
  },
  {
   "cell_type": "code",
   "execution_count": 4,
   "metadata": {
    "collapsed": false,
    "deletable": true,
    "editable": true
   },
   "outputs": [
    {
     "name": "stdout",
     "output_type": "stream",
     "text": [
      "Tests Passed\n"
     ]
    }
   ],
   "source": [
    "def one_hot_encode(x):\n",
    "    \"\"\"\n",
    "    One hot encode a list of sample labels. Return a one-hot encoded vector for each label.\n",
    "    : x: List of sample Labels\n",
    "    : return: Numpy array of one-hot encoded labels\n",
    "    \"\"\"\n",
    "    a = np.zeros((len(x), 10), dtype=np.float32)\n",
    "    for i, j in enumerate(x):\n",
    "        a[i,j]  = 1\n",
    "    return a\n",
    "\n",
    "\n",
    "\"\"\"\n",
    "DON'T MODIFY ANYTHING IN THIS CELL THAT IS BELOW THIS LINE\n",
    "\"\"\"\n",
    "tests.test_one_hot_encode(one_hot_encode)"
   ]
  },
  {
   "cell_type": "markdown",
   "metadata": {
    "deletable": true,
    "editable": true
   },
   "source": [
    "### Randomize Data\n",
    "As you saw from exploring the data above, the order of the samples are randomized.  It doesn't hurt to randomize it again, but you don't need to for this dataset."
   ]
  },
  {
   "cell_type": "markdown",
   "metadata": {
    "deletable": true,
    "editable": true
   },
   "source": [
    "## Preprocess all the data and save it\n",
    "Running the code cell below will preprocess all the CIFAR-10 data and save it to file. The code below also uses 10% of the training data for validation."
   ]
  },
  {
   "cell_type": "code",
   "execution_count": 5,
   "metadata": {
    "collapsed": false,
    "deletable": true,
    "editable": true
   },
   "outputs": [],
   "source": [
    "\"\"\"\n",
    "DON'T MODIFY ANYTHING IN THIS CELL\n",
    "\"\"\"\n",
    "# Preprocess Training, Validation, and Testing Data\n",
    "helper.preprocess_and_save_data(cifar10_dataset_folder_path, normalize, one_hot_encode)"
   ]
  },
  {
   "cell_type": "markdown",
   "metadata": {
    "deletable": true,
    "editable": true
   },
   "source": [
    "# Check Point\n",
    "This is your first checkpoint.  If you ever decide to come back to this notebook or have to restart the notebook, you can start from here.  The preprocessed data has been saved to disk."
   ]
  },
  {
   "cell_type": "code",
   "execution_count": 6,
   "metadata": {
    "collapsed": true,
    "deletable": true,
    "editable": true
   },
   "outputs": [],
   "source": [
    "\"\"\"\n",
    "DON'T MODIFY ANYTHING IN THIS CELL\n",
    "\"\"\"\n",
    "import pickle\n",
    "import problem_unittests as tests\n",
    "import helper\n",
    "\n",
    "# Load the Preprocessed Validation data\n",
    "valid_features, valid_labels = pickle.load(open('preprocess_validation.p', mode='rb'))"
   ]
  },
  {
   "cell_type": "markdown",
   "metadata": {
    "deletable": true,
    "editable": true
   },
   "source": [
    "## Build the network\n",
    "For the neural network, you'll build each layer into a function.  Most of the code you've seen has been outside of functions. To test your code more thoroughly, we require that you put each layer in a function.  This allows us to give you better feedback and test for simple mistakes using our unittests before you submit your project.\n",
    "\n",
    ">**Note:** If you're finding it hard to dedicate enough time for this course each week, we've provided a small shortcut to this part of the project. In the next couple of problems, you'll have the option to use classes from the [TensorFlow Layers](https://www.tensorflow.org/api_docs/python/tf/layers) or [TensorFlow Layers (contrib)](https://www.tensorflow.org/api_guides/python/contrib.layers) packages to build each layer, except the layers you build in the \"Convolutional and Max Pooling Layer\" section.  TF Layers is similar to Keras's and TFLearn's abstraction to layers, so it's easy to pickup.\n",
    "\n",
    ">However, if you would like to get the most out of this course, try to solve all the problems _without_ using anything from the TF Layers packages. You **can** still use classes from other packages that happen to have the same name as ones you find in TF Layers! For example, instead of using the TF Layers version of the `conv2d` class, [tf.layers.conv2d](https://www.tensorflow.org/api_docs/python/tf/layers/conv2d), you would want to use the TF Neural Network version of `conv2d`, [tf.nn.conv2d](https://www.tensorflow.org/api_docs/python/tf/nn/conv2d). \n",
    "\n",
    "Let's begin!\n",
    "\n",
    "### Input\n",
    "The neural network needs to read the image data, one-hot encoded labels, and dropout keep probability. Implement the following functions\n",
    "* Implement `neural_net_image_input`\n",
    " * Return a [TF Placeholder](https://www.tensorflow.org/api_docs/python/tf/placeholder)\n",
    " * Set the shape using `image_shape` with batch size set to `None`.\n",
    " * Name the TensorFlow placeholder \"x\" using the TensorFlow `name` parameter in the [TF Placeholder](https://www.tensorflow.org/api_docs/python/tf/placeholder).\n",
    "* Implement `neural_net_label_input`\n",
    " * Return a [TF Placeholder](https://www.tensorflow.org/api_docs/python/tf/placeholder)\n",
    " * Set the shape using `n_classes` with batch size set to `None`.\n",
    " * Name the TensorFlow placeholder \"y\" using the TensorFlow `name` parameter in the [TF Placeholder](https://www.tensorflow.org/api_docs/python/tf/placeholder).\n",
    "* Implement `neural_net_keep_prob_input`\n",
    " * Return a [TF Placeholder](https://www.tensorflow.org/api_docs/python/tf/placeholder) for dropout keep probability.\n",
    " * Name the TensorFlow placeholder \"keep_prob\" using the TensorFlow `name` parameter in the [TF Placeholder](https://www.tensorflow.org/api_docs/python/tf/placeholder).\n",
    "\n",
    "These names will be used at the end of the project to load your saved model.\n",
    "\n",
    "Note: `None` for shapes in TensorFlow allow for a dynamic size."
   ]
  },
  {
   "cell_type": "code",
   "execution_count": 7,
   "metadata": {
    "collapsed": false,
    "deletable": true,
    "editable": true
   },
   "outputs": [
    {
     "name": "stdout",
     "output_type": "stream",
     "text": [
      "Image Input Tests Passed.\n",
      "Label Input Tests Passed.\n",
      "Keep Prob Tests Passed.\n"
     ]
    }
   ],
   "source": [
    "import tensorflow as tf\n",
    "\n",
    "def neural_net_image_input(image_shape):\n",
    "    \"\"\"\n",
    "    Return a Tensor for a bach of image input\n",
    "    : image_shape: Shape of the images\n",
    "    : return: Tensor for image input.\n",
    "    \"\"\"\n",
    "    return tf.placeholder(tf.float32, shape=(None, image_shape[0], image_shape[1], \n",
    "                                             image_shape[2]), name='x')\n",
    "\n",
    "\n",
    "def neural_net_label_input(n_classes):\n",
    "    \"\"\"\n",
    "    Return a Tensor for a batch of label input\n",
    "    : n_classes: Number of classes\n",
    "    : return: Tensor for label input.\n",
    "    \"\"\"\n",
    "    return tf.placeholder(tf.float32, shape=(None, n_classes), name='y')\n",
    "\n",
    "\n",
    "def neural_net_keep_prob_input():\n",
    "    \"\"\"\n",
    "    Return a Tensor for keep probability\n",
    "    : return: Tensor for keep probability.\n",
    "    \"\"\"\n",
    "    return tf.placeholder(tf.float32, name='keep_prob')\n",
    "\n",
    "\n",
    "\"\"\"\n",
    "DON'T MODIFY ANYTHING IN THIS CELL THAT IS BELOW THIS LINE\n",
    "\"\"\"\n",
    "tf.reset_default_graph()\n",
    "tests.test_nn_image_inputs(neural_net_image_input)\n",
    "tests.test_nn_label_inputs(neural_net_label_input)\n",
    "tests.test_nn_keep_prob_inputs(neural_net_keep_prob_input)"
   ]
  },
  {
   "cell_type": "markdown",
   "metadata": {
    "deletable": true,
    "editable": true
   },
   "source": [
    "### Convolution and Max Pooling Layer\n",
    "Convolution layers have a lot of success with images. For this code cell, you should implement the function `conv2d_maxpool` to apply convolution then max pooling:\n",
    "* Create the weight and bias using `conv_ksize`, `conv_num_outputs` and the shape of `x_tensor`.\n",
    "* Apply a convolution to `x_tensor` using weight and `conv_strides`.\n",
    " * We recommend you use same padding, but you're welcome to use any padding.\n",
    "* Add bias\n",
    "* Add a nonlinear activation to the convolution.\n",
    "* Apply Max Pooling using `pool_ksize` and `pool_strides`.\n",
    " * We recommend you use same padding, but you're welcome to use any padding.\n",
    "\n",
    "**Note:** You **can't** use [TensorFlow Layers](https://www.tensorflow.org/api_docs/python/tf/layers) or [TensorFlow Layers (contrib)](https://www.tensorflow.org/api_guides/python/contrib.layers) for **this** layer, but you can still use TensorFlow's [Neural Network](https://www.tensorflow.org/api_docs/python/tf/nn) package. You may still use the shortcut option for all the **other** layers.\n",
    "\n",
    "** Hint: **\n",
    "\n",
    "When unpacking values as an argument in Python, look into the [unpacking](https://docs.python.org/3/tutorial/controlflow.html#unpacking-argument-lists) operator. "
   ]
  },
  {
   "cell_type": "code",
   "execution_count": 8,
   "metadata": {
    "collapsed": false,
    "deletable": true,
    "editable": true
   },
   "outputs": [
    {
     "name": "stdout",
     "output_type": "stream",
     "text": [
      "Tests Passed\n"
     ]
    }
   ],
   "source": [
    "def conv2d_maxpool(x_tensor, conv_num_outputs, conv_ksize, conv_strides, pool_ksize, pool_strides):\n",
    "    \"\"\"\n",
    "    Apply convolution then max pooling to x_tensor\n",
    "    :param x_tensor: TensorFlow Tensor\n",
    "    :param conv_num_outputs: Number of outputs for the convolutional layer\n",
    "    :param conv_ksize: kernal size 2-D Tuple for the convolutional layer\n",
    "    :param conv_strides: Stride 2-D Tuple for convolution\n",
    "    :param pool_ksize: kernal size 2-D Tuple for pool\n",
    "    :param pool_strides: Stride 2-D Tuple for pool\n",
    "    : return: A tensor that represents convolution and max pooling of x_tensor\n",
    "    \"\"\"\n",
    "    weights = tf.Variable(tf.truncated_normal([conv_ksize[0], conv_ksize[1], x_tensor.get_shape().as_list()[3], \n",
    "                                               conv_num_outputs], stddev=0.1))\n",
    "    bias = tf.Variable(tf.constant(1.0, shape=[conv_num_outputs]))\n",
    "    \n",
    "    conv = tf.nn.conv2d(x_tensor, weights, [1, conv_strides[0], conv_strides[1], 1], padding='SAME')\n",
    "    conv = tf.nn.relu(conv + bias)\n",
    "    conv = tf.nn.max_pool(conv, [1, pool_strides[0], pool_strides[0], 1], \n",
    "                          [1, pool_ksize[0], pool_ksize[1], 1], padding='SAME')\n",
    "    return conv\n",
    "\n",
    "\n",
    "\"\"\"\n",
    "DON'T MODIFY ANYTHING IN THIS CELL THAT IS BELOW THIS LINE\n",
    "\"\"\"\n",
    "tests.test_con_pool(conv2d_maxpool)"
   ]
  },
  {
   "cell_type": "markdown",
   "metadata": {
    "deletable": true,
    "editable": true
   },
   "source": [
    "### Flatten Layer\n",
    "Implement the `flatten` function to change the dimension of `x_tensor` from a 4-D tensor to a 2-D tensor.  The output should be the shape (*Batch Size*, *Flattened Image Size*). Shortcut option: you can use classes from the [TensorFlow Layers](https://www.tensorflow.org/api_docs/python/tf/layers) or [TensorFlow Layers (contrib)](https://www.tensorflow.org/api_guides/python/contrib.layers) packages for this layer. For more of a challenge, only use other TensorFlow packages."
   ]
  },
  {
   "cell_type": "code",
   "execution_count": 9,
   "metadata": {
    "collapsed": false,
    "deletable": true,
    "editable": true
   },
   "outputs": [
    {
     "name": "stdout",
     "output_type": "stream",
     "text": [
      "Tests Passed\n"
     ]
    }
   ],
   "source": [
    "def flatten(x_tensor):\n",
    "    \"\"\"\n",
    "    Flatten x_tensor to (Batch Size, Flattened Image Size)\n",
    "    : x_tensor: A tensor of size (Batch Size, ...), where ... are the image dimensions.\n",
    "    : return: A tensor of size (Batch Size, Flattened Image Size).\n",
    "    \"\"\"\n",
    "    shape = x_tensor.get_shape().as_list()\n",
    "    new_dim = 1\n",
    "    for i in shape[1:]:\n",
    "        new_dim *= i\n",
    "    x = tf.reshape(x_tensor, (-1, new_dim))\n",
    "    return x\n",
    "\n",
    "\n",
    "\"\"\"\n",
    "DON'T MODIFY ANYTHING IN THIS CELL THAT IS BELOW THIS LINE\n",
    "\"\"\"\n",
    "tests.test_flatten(flatten)"
   ]
  },
  {
   "cell_type": "markdown",
   "metadata": {
    "deletable": true,
    "editable": true
   },
   "source": [
    "### Fully-Connected Layer\n",
    "Implement the `fully_conn` function to apply a fully connected layer to `x_tensor` with the shape (*Batch Size*, *num_outputs*). Shortcut option: you can use classes from the [TensorFlow Layers](https://www.tensorflow.org/api_docs/python/tf/layers) or [TensorFlow Layers (contrib)](https://www.tensorflow.org/api_guides/python/contrib.layers) packages for this layer. For more of a challenge, only use other TensorFlow packages."
   ]
  },
  {
   "cell_type": "code",
   "execution_count": 10,
   "metadata": {
    "collapsed": false,
    "deletable": true,
    "editable": true
   },
   "outputs": [
    {
     "name": "stdout",
     "output_type": "stream",
     "text": [
      "Tests Passed\n"
     ]
    }
   ],
   "source": [
    "def fully_conn(x_tensor, num_outputs):\n",
    "    \"\"\"\n",
    "    Apply a fully connected layer to x_tensor using weight and bias\n",
    "    : x_tensor: A 2-D tensor where the first dimension is batch size.\n",
    "    : num_outputs: The number of output that the new tensor should be.\n",
    "    : return: A 2-D tensor where the second dimension is num_outputs.\n",
    "    \"\"\"\n",
    "    shape = x_tensor.get_shape().as_list()\n",
    "    weights = tf.Variable(tf.truncated_normal([shape[1], num_outputs], stddev=0.1))\n",
    "    bias = tf.Variable(tf.constant(1.0, shape=[num_outputs]))\n",
    "    \n",
    "    layer = tf.matmul(x_tensor, weights)\n",
    "    layer = tf.add(layer, bias)\n",
    "    layer = tf.nn.relu(layer)\n",
    "    return layer\n",
    "\n",
    "\n",
    "\"\"\"\n",
    "DON'T MODIFY ANYTHING IN THIS CELL THAT IS BELOW THIS LINE\n",
    "\"\"\"\n",
    "tests.test_fully_conn(fully_conn)"
   ]
  },
  {
   "cell_type": "markdown",
   "metadata": {
    "deletable": true,
    "editable": true
   },
   "source": [
    "### Output Layer\n",
    "Implement the `output` function to apply a fully connected layer to `x_tensor` with the shape (*Batch Size*, *num_outputs*). Shortcut option: you can use classes from the [TensorFlow Layers](https://www.tensorflow.org/api_docs/python/tf/layers) or [TensorFlow Layers (contrib)](https://www.tensorflow.org/api_guides/python/contrib.layers) packages for this layer. For more of a challenge, only use other TensorFlow packages.\n",
    "\n",
    "**Note:** Activation, softmax, or cross entropy should **not** be applied to this."
   ]
  },
  {
   "cell_type": "code",
   "execution_count": 11,
   "metadata": {
    "collapsed": false,
    "deletable": true,
    "editable": true
   },
   "outputs": [
    {
     "name": "stdout",
     "output_type": "stream",
     "text": [
      "Tests Passed\n"
     ]
    }
   ],
   "source": [
    "def output(x_tensor, num_outputs):\n",
    "    \"\"\"\n",
    "    Apply a output layer to x_tensor using weight and bias\n",
    "    : x_tensor: A 2-D tensor where the first dimension is batch size.\n",
    "    : num_outputs: The number of output that the new tensor should be.\n",
    "    : return: A 2-D tensor where the second dimension is num_outputs.\n",
    "    \"\"\"\n",
    "    shape = x_tensor.get_shape().as_list()\n",
    "    weights = tf.Variable(tf.truncated_normal([shape[1], num_outputs], stddev=0.1))\n",
    "    bias = tf.Variable(tf.constant(1.0, shape=[num_outputs]))\n",
    "    \n",
    "    layer = tf.matmul(x_tensor, weights)\n",
    "    layer = tf.add(layer, bias)\n",
    "    return layer\n",
    "\n",
    "\n",
    "\"\"\"\n",
    "DON'T MODIFY ANYTHING IN THIS CELL THAT IS BELOW THIS LINE\n",
    "\"\"\"\n",
    "tests.test_output(output)"
   ]
  },
  {
   "cell_type": "markdown",
   "metadata": {
    "deletable": true,
    "editable": true
   },
   "source": [
    "### Create Convolutional Model\n",
    "Implement the function `conv_net` to create a convolutional neural network model. The function takes in a batch of images, `x`, and outputs logits.  Use the layers you created above to create this model:\n",
    "\n",
    "* Apply 1, 2, or 3 Convolution and Max Pool layers\n",
    "* Apply a Flatten Layer\n",
    "* Apply 1, 2, or 3 Fully Connected Layers\n",
    "* Apply an Output Layer\n",
    "* Return the output\n",
    "* Apply [TensorFlow's Dropout](https://www.tensorflow.org/api_docs/python/tf/nn/dropout) to one or more layers in the model using `keep_prob`. "
   ]
  },
  {
   "cell_type": "code",
   "execution_count": 12,
   "metadata": {
    "collapsed": false,
    "deletable": true,
    "editable": true,
    "scrolled": false
   },
   "outputs": [
    {
     "name": "stdout",
     "output_type": "stream",
     "text": [
      "Neural Network Built!\n"
     ]
    }
   ],
   "source": [
    "def conv_net(x, keep_prob):\n",
    "    \"\"\"\n",
    "    Create a convolutional neural network model\n",
    "    : x: Placeholder tensor that holds image data.\n",
    "    : keep_prob: Placeholder tensor that hold dropout keep probability.\n",
    "    : return: Tensor that represents logits\n",
    "    \"\"\"\n",
    "    # TODO: Apply 1, 2, or 3 Convolution and Max Pool layers\n",
    "    #    Play around with different number of outputs, kernel size and stride\n",
    "    # Function Definition from Above:\n",
    "    #    conv2d_maxpool(x_tensor, conv_num_outputs, conv_ksize, conv_strides, pool_ksize, pool_strides)\n",
    "    model = conv2d_maxpool(x, conv_num_outputs=8, conv_ksize=(10,10), \n",
    "                           conv_strides=(1,1), pool_ksize=(2,2), \n",
    "                           pool_strides=(2,2))    \n",
    "    model = conv2d_maxpool(model, conv_num_outputs=16, conv_ksize=(5,5), \n",
    "                           conv_strides=(1,1), pool_ksize=(2,2), \n",
    "                           pool_strides=(2,2))    \n",
    "    model = conv2d_maxpool(model, conv_num_outputs=32, conv_ksize=(3,3), \n",
    "                           conv_strides=(1,1), pool_ksize=(2,2), \n",
    "                           pool_strides=(1,1))    \n",
    "\n",
    "    # TODO: Apply a Flatten Layer\n",
    "    # Function Definition from Above:\n",
    "    #   flatten(x_tensor)\n",
    "    model = flatten(model)    \n",
    "\n",
    "    # TODO: Apply 1, 2, or 3 Fully Connected Layers\n",
    "    #    Play around with different number of outputs\n",
    "    # Function Definition from Above:\n",
    "    #   fully_conn(x_tensor, num_outputs)\n",
    "    model = fully_conn(model, 1024)\n",
    "    model = tf.nn.dropout(model, keep_prob)\n",
    "    model = fully_conn(model, 256)\n",
    "    model = tf.nn.dropout(model, keep_prob)\n",
    "    model = fully_conn(model, 64)\n",
    "    model = tf.nn.dropout(model, keep_prob)    \n",
    "    \n",
    "    # TODO: Apply an Output Layer\n",
    "    #    Set this to the number of classes\n",
    "    # Function Definition from Above:\n",
    "    #   output(x_tensor, num_outputs)\n",
    "    model = output(model, 10)    \n",
    "    \n",
    "    # TODO: return output\n",
    "    return model\n",
    "\n",
    "\n",
    "\"\"\"\n",
    "DON'T MODIFY ANYTHING IN THIS CELL THAT IS BELOW THIS LINE\n",
    "\"\"\"\n",
    "\n",
    "##############################\n",
    "## Build the Neural Network ##\n",
    "##############################\n",
    "\n",
    "# Remove previous weights, bias, inputs, etc..\n",
    "tf.reset_default_graph()\n",
    "\n",
    "# Inputs\n",
    "x = neural_net_image_input((32, 32, 3))\n",
    "y = neural_net_label_input(10)\n",
    "keep_prob = neural_net_keep_prob_input()\n",
    "\n",
    "# Model\n",
    "logits = conv_net(x, keep_prob)\n",
    "\n",
    "# Name logits Tensor, so that is can be loaded from disk after training\n",
    "logits = tf.identity(logits, name='logits')\n",
    "\n",
    "# Loss and Optimizer\n",
    "cost = tf.reduce_mean(tf.nn.softmax_cross_entropy_with_logits(logits=logits, labels=y))\n",
    "optimizer = tf.train.AdamOptimizer().minimize(cost)\n",
    "\n",
    "# Accuracy\n",
    "correct_pred = tf.equal(tf.argmax(logits, 1), tf.argmax(y, 1))\n",
    "accuracy = tf.reduce_mean(tf.cast(correct_pred, tf.float32), name='accuracy')\n",
    "\n",
    "tests.test_conv_net(conv_net)"
   ]
  },
  {
   "cell_type": "markdown",
   "metadata": {
    "deletable": true,
    "editable": true
   },
   "source": [
    "## Train the Neural Network\n",
    "### Single Optimization\n",
    "Implement the function `train_neural_network` to do a single optimization.  The optimization should use `optimizer` to optimize in `session` with a `feed_dict` of the following:\n",
    "* `x` for image input\n",
    "* `y` for labels\n",
    "* `keep_prob` for keep probability for dropout\n",
    "\n",
    "This function will be called for each batch, so `tf.global_variables_initializer()` has already been called.\n",
    "\n",
    "Note: Nothing needs to be returned. This function is only optimizing the neural network."
   ]
  },
  {
   "cell_type": "code",
   "execution_count": 13,
   "metadata": {
    "collapsed": false,
    "deletable": true,
    "editable": true
   },
   "outputs": [
    {
     "name": "stdout",
     "output_type": "stream",
     "text": [
      "Tests Passed\n"
     ]
    }
   ],
   "source": [
    "def train_neural_network(session, optimizer, keep_probability, feature_batch, label_batch):\n",
    "    \"\"\"\n",
    "    Optimize the session on a batch of images and labels\n",
    "    : session: Current TensorFlow session\n",
    "    : optimizer: TensorFlow optimizer function\n",
    "    : keep_probability: keep probability\n",
    "    : feature_batch: Batch of Numpy image data\n",
    "    : label_batch: Batch of Numpy label data\n",
    "    \"\"\"\n",
    "    feed_dict = {x:feature_batch, y:label_batch, keep_prob:keep_probability}\n",
    "    fetches = [optimizer]\n",
    "    session.run(fetches, feed_dict=feed_dict)\n",
    "\n",
    "\n",
    "\"\"\"\n",
    "DON'T MODIFY ANYTHING IN THIS CELL THAT IS BELOW THIS LINE\n",
    "\"\"\"\n",
    "tests.test_train_nn(train_neural_network)"
   ]
  },
  {
   "cell_type": "markdown",
   "metadata": {
    "deletable": true,
    "editable": true
   },
   "source": [
    "### Show Stats\n",
    "Implement the function `print_stats` to print loss and validation accuracy.  Use the global variables `valid_features` and `valid_labels` to calculate validation accuracy.  Use a keep probability of `1.0` to calculate the loss and validation accuracy."
   ]
  },
  {
   "cell_type": "code",
   "execution_count": 14,
   "metadata": {
    "collapsed": false,
    "deletable": true,
    "editable": true
   },
   "outputs": [],
   "source": [
    "def print_stats(session, feature_batch, label_batch, cost, accuracy):\n",
    "    \"\"\"\n",
    "    Print information about loss and validation accuracy\n",
    "    : session: Current TensorFlow session\n",
    "    : feature_batch: Batch of Numpy image data\n",
    "    : label_batch: Batch of Numpy label data\n",
    "    : cost: TensorFlow cost function\n",
    "    : accuracy: TensorFlow accuracy function\n",
    "    \"\"\"\n",
    "    feed_dict = {x:feature_batch, y:label_batch, keep_prob:keep_probability}\n",
    "    loss, acc = session.run([cost, accuracy], feed_dict=feed_dict)\n",
    "    print('\\tBatch: loss {:6.4f} and accuracy {:4.2f}%'.format(loss, acc*100), end='\\t\\t')\n",
    "    \n",
    "    feed_dict = {x:valid_features, y:valid_labels, keep_prob:1}\n",
    "    loss, acc = session.run([cost, accuracy], feed_dict=feed_dict)\n",
    "    print('Valid: loss {:6.4f}, accuracy {:4.2f}%'.format(loss, acc*100))"
   ]
  },
  {
   "cell_type": "markdown",
   "metadata": {
    "deletable": true,
    "editable": true
   },
   "source": [
    "### Hyperparameters\n",
    "Tune the following parameters:\n",
    "* Set `epochs` to the number of iterations until the network stops learning or start overfitting\n",
    "* Set `batch_size` to the highest number that your machine has memory for.  Most people set them to common sizes of memory:\n",
    " * 64\n",
    " * 128\n",
    " * 256\n",
    " * ...\n",
    "* Set `keep_probability` to the probability of keeping a node using dropout"
   ]
  },
  {
   "cell_type": "code",
   "execution_count": 15,
   "metadata": {
    "collapsed": true,
    "deletable": true,
    "editable": true
   },
   "outputs": [],
   "source": [
    "# TODO: Tune Parameters\n",
    "epochs = 100\n",
    "batch_size = 1024\n",
    "keep_probability = 0.5"
   ]
  },
  {
   "cell_type": "markdown",
   "metadata": {
    "deletable": true,
    "editable": true
   },
   "source": [
    "### Train on a Single CIFAR-10 Batch\n",
    "Instead of training the neural network on all the CIFAR-10 batches of data, let's use a single batch. This should save time while you iterate on the model to get a better accuracy.  Once the final validation accuracy is 50% or greater, run the model on all the data in the next section."
   ]
  },
  {
   "cell_type": "code",
   "execution_count": 16,
   "metadata": {
    "collapsed": false,
    "deletable": true,
    "editable": true,
    "scrolled": false
   },
   "outputs": [
    {
     "name": "stdout",
     "output_type": "stream",
     "text": [
      "Checking the Training on a Single Batch...\n",
      "Epoch  1, CIFAR-10 Batch 1:  \tBatch: loss 2.8901 and accuracy 10.52%\t\tValid: loss 2.3088, accuracy 11.50%\n",
      "Epoch  2, CIFAR-10 Batch 1:  \tBatch: loss 2.4764 and accuracy 10.15%\t\tValid: loss 2.3011, accuracy 11.42%\n",
      "Epoch  3, CIFAR-10 Batch 1:  \tBatch: loss 2.3901 and accuracy 10.40%\t\tValid: loss 2.3022, accuracy 9.98%\n",
      "Epoch  4, CIFAR-10 Batch 1:  \tBatch: loss 2.3389 and accuracy 11.01%\t\tValid: loss 2.3027, accuracy 9.44%\n",
      "Epoch  5, CIFAR-10 Batch 1:  \tBatch: loss 2.3153 and accuracy 11.88%\t\tValid: loss 2.3027, accuracy 9.42%\n",
      "Epoch  6, CIFAR-10 Batch 1:  \tBatch: loss 2.3347 and accuracy 9.03%\t\tValid: loss 2.3027, accuracy 9.42%\n",
      "Epoch  7, CIFAR-10 Batch 1:  \tBatch: loss 2.3189 and accuracy 10.52%\t\tValid: loss 2.3027, accuracy 9.42%\n",
      "Epoch  8, CIFAR-10 Batch 1:  \tBatch: loss 2.3053 and accuracy 10.64%\t\tValid: loss 2.3027, accuracy 9.42%\n",
      "Epoch  9, CIFAR-10 Batch 1:  \tBatch: loss 2.3250 and accuracy 11.51%\t\tValid: loss 2.3026, accuracy 9.44%\n",
      "Epoch 10, CIFAR-10 Batch 1:  \tBatch: loss 2.3097 and accuracy 11.01%\t\tValid: loss 2.2976, accuracy 12.58%\n",
      "Epoch 11, CIFAR-10 Batch 1:  \tBatch: loss 2.3117 and accuracy 11.01%\t\tValid: loss 2.2959, accuracy 13.46%\n",
      "Epoch 12, CIFAR-10 Batch 1:  \tBatch: loss 2.3031 and accuracy 11.26%\t\tValid: loss 2.2861, accuracy 17.50%\n",
      "Epoch 13, CIFAR-10 Batch 1:  \tBatch: loss 2.3065 and accuracy 10.77%\t\tValid: loss 2.2742, accuracy 17.54%\n",
      "Epoch 14, CIFAR-10 Batch 1:  \tBatch: loss 2.2764 and accuracy 11.63%\t\tValid: loss 2.2579, accuracy 16.82%\n",
      "Epoch 15, CIFAR-10 Batch 1:  \tBatch: loss 2.2847 and accuracy 11.88%\t\tValid: loss 2.2575, accuracy 15.50%\n",
      "Epoch 16, CIFAR-10 Batch 1:  \tBatch: loss 2.2621 and accuracy 13.74%\t\tValid: loss 2.2183, accuracy 17.94%\n",
      "Epoch 17, CIFAR-10 Batch 1:  \tBatch: loss 2.2471 and accuracy 13.99%\t\tValid: loss 2.1917, accuracy 15.58%\n",
      "Epoch 18, CIFAR-10 Batch 1:  \tBatch: loss 2.2229 and accuracy 12.50%\t\tValid: loss 2.1516, accuracy 17.48%\n",
      "Epoch 19, CIFAR-10 Batch 1:  \tBatch: loss 2.2005 and accuracy 17.08%\t\tValid: loss 2.1393, accuracy 20.38%\n",
      "Epoch 20, CIFAR-10 Batch 1:  \tBatch: loss 2.2042 and accuracy 16.46%\t\tValid: loss 2.0860, accuracy 19.78%\n",
      "Epoch 21, CIFAR-10 Batch 1:  \tBatch: loss 2.1827 and accuracy 16.46%\t\tValid: loss 2.1060, accuracy 21.30%\n",
      "Epoch 22, CIFAR-10 Batch 1:  \tBatch: loss 2.1724 and accuracy 17.20%\t\tValid: loss 2.0861, accuracy 21.78%\n",
      "Epoch 23, CIFAR-10 Batch 1:  \tBatch: loss 2.1621 and accuracy 16.58%\t\tValid: loss 2.0560, accuracy 22.30%\n",
      "Epoch 24, CIFAR-10 Batch 1:  \tBatch: loss 2.1431 and accuracy 17.20%\t\tValid: loss 2.0413, accuracy 22.96%\n",
      "Epoch 25, CIFAR-10 Batch 1:  \tBatch: loss 2.1014 and accuracy 19.68%\t\tValid: loss 2.0123, accuracy 24.32%\n",
      "Epoch 26, CIFAR-10 Batch 1:  \tBatch: loss 2.1331 and accuracy 18.19%\t\tValid: loss 1.9928, accuracy 25.02%\n",
      "Epoch 27, CIFAR-10 Batch 1:  \tBatch: loss 2.0825 and accuracy 22.65%\t\tValid: loss 1.9892, accuracy 26.16%\n",
      "Epoch 28, CIFAR-10 Batch 1:  \tBatch: loss 2.0681 and accuracy 20.54%\t\tValid: loss 1.9696, accuracy 27.28%\n",
      "Epoch 29, CIFAR-10 Batch 1:  \tBatch: loss 2.0255 and accuracy 22.40%\t\tValid: loss 1.9402, accuracy 28.30%\n",
      "Epoch 30, CIFAR-10 Batch 1:  \tBatch: loss 2.0180 and accuracy 23.27%\t\tValid: loss 1.9209, accuracy 28.22%\n",
      "Epoch 31, CIFAR-10 Batch 1:  \tBatch: loss 2.0410 and accuracy 23.02%\t\tValid: loss 1.9359, accuracy 28.96%\n",
      "Epoch 32, CIFAR-10 Batch 1:  \tBatch: loss 1.9952 and accuracy 23.76%\t\tValid: loss 1.8882, accuracy 29.66%\n",
      "Epoch 33, CIFAR-10 Batch 1:  \tBatch: loss 1.9758 and accuracy 25.00%\t\tValid: loss 1.8566, accuracy 31.30%\n",
      "Epoch 34, CIFAR-10 Batch 1:  \tBatch: loss 1.9914 and accuracy 27.10%\t\tValid: loss 1.8451, accuracy 32.18%\n",
      "Epoch 35, CIFAR-10 Batch 1:  \tBatch: loss 1.9288 and accuracy 28.71%\t\tValid: loss 1.8243, accuracy 32.38%\n",
      "Epoch 36, CIFAR-10 Batch 1:  \tBatch: loss 1.9025 and accuracy 29.46%\t\tValid: loss 1.7970, accuracy 33.76%\n",
      "Epoch 37, CIFAR-10 Batch 1:  \tBatch: loss 1.8737 and accuracy 30.20%\t\tValid: loss 1.7738, accuracy 34.04%\n",
      "Epoch 38, CIFAR-10 Batch 1:  \tBatch: loss 1.8843 and accuracy 28.59%\t\tValid: loss 1.7644, accuracy 33.88%\n",
      "Epoch 39, CIFAR-10 Batch 1:  \tBatch: loss 1.8862 and accuracy 29.83%\t\tValid: loss 1.7460, accuracy 35.44%\n",
      "Epoch 40, CIFAR-10 Batch 1:  \tBatch: loss 1.7743 and accuracy 32.43%\t\tValid: loss 1.7348, accuracy 35.64%\n",
      "Epoch 41, CIFAR-10 Batch 1:  \tBatch: loss 1.8388 and accuracy 32.43%\t\tValid: loss 1.7094, accuracy 36.96%\n",
      "Epoch 42, CIFAR-10 Batch 1:  \tBatch: loss 1.7848 and accuracy 34.65%\t\tValid: loss 1.7032, accuracy 37.36%\n",
      "Epoch 43, CIFAR-10 Batch 1:  \tBatch: loss 1.7774 and accuracy 34.53%\t\tValid: loss 1.6766, accuracy 37.82%\n",
      "Epoch 44, CIFAR-10 Batch 1:  \tBatch: loss 1.7995 and accuracy 32.43%\t\tValid: loss 1.6633, accuracy 37.86%\n",
      "Epoch 45, CIFAR-10 Batch 1:  \tBatch: loss 1.7171 and accuracy 34.53%\t\tValid: loss 1.6469, accuracy 38.42%\n",
      "Epoch 46, CIFAR-10 Batch 1:  \tBatch: loss 1.7092 and accuracy 34.16%\t\tValid: loss 1.6357, accuracy 38.80%\n",
      "Epoch 47, CIFAR-10 Batch 1:  \tBatch: loss 1.6727 and accuracy 37.75%\t\tValid: loss 1.6411, accuracy 38.50%\n",
      "Epoch 48, CIFAR-10 Batch 1:  \tBatch: loss 1.6794 and accuracy 40.22%\t\tValid: loss 1.6293, accuracy 39.20%\n",
      "Epoch 49, CIFAR-10 Batch 1:  \tBatch: loss 1.6829 and accuracy 37.87%\t\tValid: loss 1.6041, accuracy 40.00%\n",
      "Epoch 50, CIFAR-10 Batch 1:  \tBatch: loss 1.6461 and accuracy 38.99%\t\tValid: loss 1.6226, accuracy 40.66%\n",
      "Epoch 51, CIFAR-10 Batch 1:  \tBatch: loss 1.6076 and accuracy 38.61%\t\tValid: loss 1.5970, accuracy 40.78%\n",
      "Epoch 52, CIFAR-10 Batch 1:  \tBatch: loss 1.6334 and accuracy 39.73%\t\tValid: loss 1.5856, accuracy 41.62%\n",
      "Epoch 53, CIFAR-10 Batch 1:  \tBatch: loss 1.6075 and accuracy 38.74%\t\tValid: loss 1.5765, accuracy 41.34%\n",
      "Epoch 54, CIFAR-10 Batch 1:  \tBatch: loss 1.6267 and accuracy 40.47%\t\tValid: loss 1.5942, accuracy 41.54%\n",
      "Epoch 55, CIFAR-10 Batch 1:  \tBatch: loss 1.6112 and accuracy 41.71%\t\tValid: loss 1.5630, accuracy 43.16%\n",
      "Epoch 56, CIFAR-10 Batch 1:  \tBatch: loss 1.5632 and accuracy 40.97%\t\tValid: loss 1.5551, accuracy 41.98%\n",
      "Epoch 57, CIFAR-10 Batch 1:  \tBatch: loss 1.5419 and accuracy 43.19%\t\tValid: loss 1.5692, accuracy 43.00%\n",
      "Epoch 58, CIFAR-10 Batch 1:  \tBatch: loss 1.5433 and accuracy 42.82%\t\tValid: loss 1.5610, accuracy 42.88%\n",
      "Epoch 59, CIFAR-10 Batch 1:  \tBatch: loss 1.5622 and accuracy 42.45%\t\tValid: loss 1.5491, accuracy 43.18%\n",
      "Epoch 60, CIFAR-10 Batch 1:  \tBatch: loss 1.4917 and accuracy 43.07%\t\tValid: loss 1.5356, accuracy 44.22%\n",
      "Epoch 61, CIFAR-10 Batch 1:  \tBatch: loss 1.4494 and accuracy 45.79%\t\tValid: loss 1.5182, accuracy 43.82%\n",
      "Epoch 62, CIFAR-10 Batch 1:  \tBatch: loss 1.4772 and accuracy 44.43%\t\tValid: loss 1.5075, accuracy 43.96%\n",
      "Epoch 63, CIFAR-10 Batch 1:  \tBatch: loss 1.4674 and accuracy 44.93%\t\tValid: loss 1.4973, accuracy 44.98%\n",
      "Epoch 64, CIFAR-10 Batch 1:  \tBatch: loss 1.4387 and accuracy 46.16%\t\tValid: loss 1.4973, accuracy 44.88%\n",
      "Epoch 65, CIFAR-10 Batch 1:  \tBatch: loss 1.4428 and accuracy 48.14%\t\tValid: loss 1.5064, accuracy 44.70%\n",
      "Epoch 66, CIFAR-10 Batch 1:  \tBatch: loss 1.4555 and accuracy 45.54%\t\tValid: loss 1.4961, accuracy 45.00%\n",
      "Epoch 67, CIFAR-10 Batch 1:  \tBatch: loss 1.4565 and accuracy 47.15%\t\tValid: loss 1.4940, accuracy 45.80%\n",
      "Epoch 68, CIFAR-10 Batch 1:  \tBatch: loss 1.3981 and accuracy 50.87%\t\tValid: loss 1.4775, accuracy 45.68%\n",
      "Epoch 69, CIFAR-10 Batch 1:  \tBatch: loss 1.4002 and accuracy 49.63%\t\tValid: loss 1.4932, accuracy 45.54%\n",
      "Epoch 70, CIFAR-10 Batch 1:  \tBatch: loss 1.3795 and accuracy 48.76%\t\tValid: loss 1.4723, accuracy 46.02%\n",
      "Epoch 71, CIFAR-10 Batch 1:  \tBatch: loss 1.3572 and accuracy 50.87%\t\tValid: loss 1.4814, accuracy 46.54%\n",
      "Epoch 72, CIFAR-10 Batch 1:  \tBatch: loss 1.3238 and accuracy 51.36%\t\tValid: loss 1.4599, accuracy 47.14%\n",
      "Epoch 73, CIFAR-10 Batch 1:  \tBatch: loss 1.3114 and accuracy 51.61%\t\tValid: loss 1.4678, accuracy 46.40%\n",
      "Epoch 74, CIFAR-10 Batch 1:  \tBatch: loss 1.2995 and accuracy 51.98%\t\tValid: loss 1.4687, accuracy 47.12%\n",
      "Epoch 75, CIFAR-10 Batch 1:  \tBatch: loss 1.3133 and accuracy 52.85%\t\tValid: loss 1.4665, accuracy 47.26%\n",
      "Epoch 76, CIFAR-10 Batch 1:  \tBatch: loss 1.3082 and accuracy 51.24%\t\tValid: loss 1.4698, accuracy 46.90%\n",
      "Epoch 77, CIFAR-10 Batch 1:  \tBatch: loss 1.2793 and accuracy 52.35%\t\tValid: loss 1.4702, accuracy 47.52%\n",
      "Epoch 78, CIFAR-10 Batch 1:  \tBatch: loss 1.2554 and accuracy 53.71%\t\tValid: loss 1.4515, accuracy 48.06%\n",
      "Epoch 79, CIFAR-10 Batch 1:  \tBatch: loss 1.2375 and accuracy 56.19%\t\tValid: loss 1.4586, accuracy 47.58%\n",
      "Epoch 80, CIFAR-10 Batch 1:  \tBatch: loss 1.2093 and accuracy 55.94%\t\tValid: loss 1.4445, accuracy 48.28%\n",
      "Epoch 81, CIFAR-10 Batch 1:  \tBatch: loss 1.2296 and accuracy 54.83%\t\tValid: loss 1.4503, accuracy 48.40%\n",
      "Epoch 82, CIFAR-10 Batch 1:  \tBatch: loss 1.2569 and accuracy 53.96%\t\tValid: loss 1.4508, accuracy 47.98%\n",
      "Epoch 83, CIFAR-10 Batch 1:  \tBatch: loss 1.2211 and accuracy 55.20%\t\tValid: loss 1.4772, accuracy 48.16%\n",
      "Epoch 84, CIFAR-10 Batch 1:  \tBatch: loss 1.1644 and accuracy 57.67%\t\tValid: loss 1.4552, accuracy 48.12%\n",
      "Epoch 85, CIFAR-10 Batch 1:  \tBatch: loss 1.1677 and accuracy 58.17%\t\tValid: loss 1.4573, accuracy 48.28%\n",
      "Epoch 86, CIFAR-10 Batch 1:  \tBatch: loss 1.2131 and accuracy 55.69%\t\tValid: loss 1.4779, accuracy 47.98%\n",
      "Epoch 87, CIFAR-10 Batch 1:  \tBatch: loss 1.1347 and accuracy 55.82%\t\tValid: loss 1.4625, accuracy 49.20%\n",
      "Epoch 88, CIFAR-10 Batch 1:  \tBatch: loss 1.1315 and accuracy 58.91%\t\tValid: loss 1.4814, accuracy 48.54%\n",
      "Epoch 89, CIFAR-10 Batch 1:  \tBatch: loss 1.1112 and accuracy 59.03%\t\tValid: loss 1.4588, accuracy 49.06%\n",
      "Epoch 90, CIFAR-10 Batch 1:  \tBatch: loss 1.1088 and accuracy 59.28%\t\tValid: loss 1.4702, accuracy 48.26%\n",
      "Epoch 91, CIFAR-10 Batch 1:  \tBatch: loss 1.1032 and accuracy 59.90%\t\tValid: loss 1.4661, accuracy 48.64%\n",
      "Epoch 92, CIFAR-10 Batch 1:  \tBatch: loss 1.0652 and accuracy 59.78%\t\tValid: loss 1.4797, accuracy 48.74%\n",
      "Epoch 93, CIFAR-10 Batch 1:  \tBatch: loss 1.0645 and accuracy 61.14%\t\tValid: loss 1.4712, accuracy 49.20%\n",
      "Epoch 94, CIFAR-10 Batch 1:  \tBatch: loss 1.0910 and accuracy 58.66%\t\tValid: loss 1.4761, accuracy 48.68%\n",
      "Epoch 95, CIFAR-10 Batch 1:  \tBatch: loss 1.0538 and accuracy 60.15%\t\tValid: loss 1.4673, accuracy 48.70%\n",
      "Epoch 96, CIFAR-10 Batch 1:  \tBatch: loss 1.0333 and accuracy 61.76%\t\tValid: loss 1.4828, accuracy 49.06%\n",
      "Epoch 97, CIFAR-10 Batch 1:  \tBatch: loss 1.0373 and accuracy 63.24%\t\tValid: loss 1.5040, accuracy 49.32%\n",
      "Epoch 98, CIFAR-10 Batch 1:  \tBatch: loss 1.0092 and accuracy 63.61%\t\tValid: loss 1.4834, accuracy 49.22%\n",
      "Epoch 99, CIFAR-10 Batch 1:  \tBatch: loss 0.9754 and accuracy 64.85%\t\tValid: loss 1.4782, accuracy 49.60%\n",
      "Epoch 100, CIFAR-10 Batch 1:  \tBatch: loss 0.9361 and accuracy 66.21%\t\tValid: loss 1.4896, accuracy 50.12%\n"
     ]
    }
   ],
   "source": [
    "\"\"\"\n",
    "DON'T MODIFY ANYTHING IN THIS CELL\n",
    "\"\"\"\n",
    "print('Checking the Training on a Single Batch...')\n",
    "with tf.Session() as sess:\n",
    "    # Initializing the variables\n",
    "    sess.run(tf.global_variables_initializer())\n",
    "    \n",
    "    # Training cycle\n",
    "    for epoch in range(epochs):\n",
    "        batch_i = 1\n",
    "        for batch_features, batch_labels in helper.load_preprocess_training_batch(batch_i, batch_size):\n",
    "            train_neural_network(sess, optimizer, keep_probability, batch_features, batch_labels)\n",
    "        print('Epoch {:>2}, CIFAR-10 Batch {}:  '.format(epoch + 1, batch_i), end='')\n",
    "        print_stats(sess, batch_features, batch_labels, cost, accuracy)"
   ]
  },
  {
   "cell_type": "markdown",
   "metadata": {
    "deletable": true,
    "editable": true
   },
   "source": [
    "### Fully Train the Model\n",
    "Now that you got a good accuracy with a single CIFAR-10 batch, try it with all five batches."
   ]
  },
  {
   "cell_type": "code",
   "execution_count": 17,
   "metadata": {
    "collapsed": false,
    "deletable": true,
    "editable": true
   },
   "outputs": [
    {
     "name": "stdout",
     "output_type": "stream",
     "text": [
      "Training...\n",
      "Epoch  1, CIFAR-10 Batch 1:  \tBatch: loss 3.3634 and accuracy 9.78%\t\tValid: loss 2.2994, accuracy 10.66%\n",
      "Epoch  1, CIFAR-10 Batch 2:  \tBatch: loss 2.5604 and accuracy 11.39%\t\tValid: loss 2.3024, accuracy 9.76%\n",
      "Epoch  1, CIFAR-10 Batch 3:  \tBatch: loss 2.4326 and accuracy 9.78%\t\tValid: loss 2.3025, accuracy 9.70%\n",
      "Epoch  1, CIFAR-10 Batch 4:  \tBatch: loss 2.3512 and accuracy 8.42%\t\tValid: loss 2.3026, accuracy 9.42%\n",
      "Epoch  1, CIFAR-10 Batch 5:  \tBatch: loss 2.3237 and accuracy 11.88%\t\tValid: loss 2.3026, accuracy 9.42%\n",
      "Epoch  2, CIFAR-10 Batch 1:  \tBatch: loss 2.3251 and accuracy 7.92%\t\tValid: loss 2.3026, accuracy 9.42%\n",
      "Epoch  2, CIFAR-10 Batch 2:  \tBatch: loss 2.3224 and accuracy 11.39%\t\tValid: loss 2.3026, accuracy 9.42%\n",
      "Epoch  2, CIFAR-10 Batch 3:  \tBatch: loss 2.3134 and accuracy 12.13%\t\tValid: loss 2.3026, accuracy 9.42%\n",
      "Epoch  2, CIFAR-10 Batch 4:  \tBatch: loss 2.3144 and accuracy 10.64%\t\tValid: loss 2.3026, accuracy 9.42%\n",
      "Epoch  2, CIFAR-10 Batch 5:  \tBatch: loss 2.3105 and accuracy 11.01%\t\tValid: loss 2.3027, accuracy 9.42%\n",
      "Epoch  3, CIFAR-10 Batch 1:  \tBatch: loss 2.3068 and accuracy 10.40%\t\tValid: loss 2.3027, accuracy 9.42%\n",
      "Epoch  3, CIFAR-10 Batch 2:  \tBatch: loss 2.2987 and accuracy 11.26%\t\tValid: loss 2.3027, accuracy 9.42%\n",
      "Epoch  3, CIFAR-10 Batch 3:  \tBatch: loss 2.3015 and accuracy 13.61%\t\tValid: loss 2.3009, accuracy 10.78%\n",
      "Epoch  3, CIFAR-10 Batch 4:  \tBatch: loss 2.2967 and accuracy 13.24%\t\tValid: loss 2.2886, accuracy 14.02%\n",
      "Epoch  3, CIFAR-10 Batch 5:  \tBatch: loss 2.2601 and accuracy 14.85%\t\tValid: loss 2.2656, accuracy 15.42%\n",
      "Epoch  4, CIFAR-10 Batch 1:  \tBatch: loss 2.2795 and accuracy 14.23%\t\tValid: loss 2.2319, accuracy 18.14%\n",
      "Epoch  4, CIFAR-10 Batch 2:  \tBatch: loss 2.2766 and accuracy 16.21%\t\tValid: loss 2.1986, accuracy 18.56%\n",
      "Epoch  4, CIFAR-10 Batch 3:  \tBatch: loss 2.2544 and accuracy 16.34%\t\tValid: loss 2.2421, accuracy 15.86%\n",
      "Epoch  4, CIFAR-10 Batch 4:  \tBatch: loss 2.2148 and accuracy 15.84%\t\tValid: loss 2.1937, accuracy 19.84%\n",
      "Epoch  4, CIFAR-10 Batch 5:  \tBatch: loss 2.2079 and accuracy 18.69%\t\tValid: loss 2.1472, accuracy 19.64%\n",
      "Epoch  5, CIFAR-10 Batch 1:  \tBatch: loss 2.2235 and accuracy 17.82%\t\tValid: loss 2.1646, accuracy 20.46%\n",
      "Epoch  5, CIFAR-10 Batch 2:  \tBatch: loss 2.1884 and accuracy 18.19%\t\tValid: loss 2.1308, accuracy 20.24%\n",
      "Epoch  5, CIFAR-10 Batch 3:  \tBatch: loss 2.1961 and accuracy 18.32%\t\tValid: loss 2.1119, accuracy 21.38%\n",
      "Epoch  5, CIFAR-10 Batch 4:  \tBatch: loss 2.1389 and accuracy 17.20%\t\tValid: loss 2.0931, accuracy 21.74%\n",
      "Epoch  5, CIFAR-10 Batch 5:  \tBatch: loss 2.1612 and accuracy 21.66%\t\tValid: loss 2.0592, accuracy 21.40%\n",
      "Epoch  6, CIFAR-10 Batch 1:  \tBatch: loss 2.1507 and accuracy 17.95%\t\tValid: loss 2.0439, accuracy 24.84%\n",
      "Epoch  6, CIFAR-10 Batch 2:  \tBatch: loss 2.1041 and accuracy 20.30%\t\tValid: loss 2.0394, accuracy 24.70%\n",
      "Epoch  6, CIFAR-10 Batch 3:  \tBatch: loss 2.1090 and accuracy 19.31%\t\tValid: loss 2.0179, accuracy 23.84%\n",
      "Epoch  6, CIFAR-10 Batch 4:  \tBatch: loss 2.0793 and accuracy 21.66%\t\tValid: loss 2.0257, accuracy 25.68%\n",
      "Epoch  6, CIFAR-10 Batch 5:  \tBatch: loss 2.0751 and accuracy 20.05%\t\tValid: loss 1.9790, accuracy 25.98%\n",
      "Epoch  7, CIFAR-10 Batch 1:  \tBatch: loss 2.1077 and accuracy 22.15%\t\tValid: loss 1.9655, accuracy 27.08%\n",
      "Epoch  7, CIFAR-10 Batch 2:  \tBatch: loss 2.1050 and accuracy 18.69%\t\tValid: loss 1.9816, accuracy 26.32%\n",
      "Epoch  7, CIFAR-10 Batch 3:  \tBatch: loss 2.0406 and accuracy 22.15%\t\tValid: loss 1.9302, accuracy 26.96%\n",
      "Epoch  7, CIFAR-10 Batch 4:  \tBatch: loss 1.9955 and accuracy 26.11%\t\tValid: loss 1.9065, accuracy 29.60%\n",
      "Epoch  7, CIFAR-10 Batch 5:  \tBatch: loss 2.0257 and accuracy 21.91%\t\tValid: loss 1.9016, accuracy 28.22%\n",
      "Epoch  8, CIFAR-10 Batch 1:  \tBatch: loss 2.0151 and accuracy 24.13%\t\tValid: loss 1.8806, accuracy 30.34%\n",
      "Epoch  8, CIFAR-10 Batch 2:  \tBatch: loss 1.9952 and accuracy 24.75%\t\tValid: loss 1.8582, accuracy 31.32%\n",
      "Epoch  8, CIFAR-10 Batch 3:  \tBatch: loss 1.9388 and accuracy 27.10%\t\tValid: loss 1.8193, accuracy 33.96%\n",
      "Epoch  8, CIFAR-10 Batch 4:  \tBatch: loss 1.9400 and accuracy 28.47%\t\tValid: loss 1.8491, accuracy 32.28%\n",
      "Epoch  8, CIFAR-10 Batch 5:  \tBatch: loss 1.9878 and accuracy 25.12%\t\tValid: loss 1.8383, accuracy 31.16%\n",
      "Epoch  9, CIFAR-10 Batch 1:  \tBatch: loss 1.9314 and accuracy 28.22%\t\tValid: loss 1.7932, accuracy 34.10%\n",
      "Epoch  9, CIFAR-10 Batch 2:  \tBatch: loss 1.9660 and accuracy 25.62%\t\tValid: loss 1.8169, accuracy 32.88%\n",
      "Epoch  9, CIFAR-10 Batch 3:  \tBatch: loss 1.8459 and accuracy 31.44%\t\tValid: loss 1.7477, accuracy 34.96%\n",
      "Epoch  9, CIFAR-10 Batch 4:  \tBatch: loss 1.8472 and accuracy 30.57%\t\tValid: loss 1.7638, accuracy 35.78%\n",
      "Epoch  9, CIFAR-10 Batch 5:  \tBatch: loss 1.8829 and accuracy 27.48%\t\tValid: loss 1.7278, accuracy 37.28%\n",
      "Epoch 10, CIFAR-10 Batch 1:  \tBatch: loss 1.8835 and accuracy 31.06%\t\tValid: loss 1.7378, accuracy 37.08%\n",
      "Epoch 10, CIFAR-10 Batch 2:  \tBatch: loss 1.8586 and accuracy 30.20%\t\tValid: loss 1.7162, accuracy 36.18%\n",
      "Epoch 10, CIFAR-10 Batch 3:  \tBatch: loss 1.7787 and accuracy 31.68%\t\tValid: loss 1.6966, accuracy 37.92%\n",
      "Epoch 10, CIFAR-10 Batch 4:  \tBatch: loss 1.7836 and accuracy 33.04%\t\tValid: loss 1.6996, accuracy 38.38%\n",
      "Epoch 10, CIFAR-10 Batch 5:  \tBatch: loss 1.8473 and accuracy 30.32%\t\tValid: loss 1.6907, accuracy 37.16%\n",
      "Epoch 11, CIFAR-10 Batch 1:  \tBatch: loss 1.8079 and accuracy 32.18%\t\tValid: loss 1.6846, accuracy 38.40%\n",
      "Epoch 11, CIFAR-10 Batch 2:  \tBatch: loss 1.8072 and accuracy 32.43%\t\tValid: loss 1.6587, accuracy 38.92%\n",
      "Epoch 11, CIFAR-10 Batch 3:  \tBatch: loss 1.7706 and accuracy 33.17%\t\tValid: loss 1.6696, accuracy 38.98%\n",
      "Epoch 11, CIFAR-10 Batch 4:  \tBatch: loss 1.7360 and accuracy 34.28%\t\tValid: loss 1.6669, accuracy 39.82%\n",
      "Epoch 11, CIFAR-10 Batch 5:  \tBatch: loss 1.7704 and accuracy 33.54%\t\tValid: loss 1.6444, accuracy 39.14%\n",
      "Epoch 12, CIFAR-10 Batch 1:  \tBatch: loss 1.7643 and accuracy 36.14%\t\tValid: loss 1.6344, accuracy 40.54%\n",
      "Epoch 12, CIFAR-10 Batch 2:  \tBatch: loss 1.7859 and accuracy 34.90%\t\tValid: loss 1.6443, accuracy 40.84%\n",
      "Epoch 12, CIFAR-10 Batch 3:  \tBatch: loss 1.7269 and accuracy 32.43%\t\tValid: loss 1.6257, accuracy 41.08%\n",
      "Epoch 12, CIFAR-10 Batch 4:  \tBatch: loss 1.7337 and accuracy 36.76%\t\tValid: loss 1.6372, accuracy 40.48%\n",
      "Epoch 12, CIFAR-10 Batch 5:  \tBatch: loss 1.7693 and accuracy 33.17%\t\tValid: loss 1.6240, accuracy 40.40%\n",
      "Epoch 13, CIFAR-10 Batch 1:  \tBatch: loss 1.7377 and accuracy 35.40%\t\tValid: loss 1.6016, accuracy 41.82%\n",
      "Epoch 13, CIFAR-10 Batch 2:  \tBatch: loss 1.7784 and accuracy 35.64%\t\tValid: loss 1.6326, accuracy 41.08%\n",
      "Epoch 13, CIFAR-10 Batch 3:  \tBatch: loss 1.7340 and accuracy 35.27%\t\tValid: loss 1.6210, accuracy 41.36%\n",
      "Epoch 13, CIFAR-10 Batch 4:  \tBatch: loss 1.7256 and accuracy 36.63%\t\tValid: loss 1.6126, accuracy 41.88%\n",
      "Epoch 13, CIFAR-10 Batch 5:  \tBatch: loss 1.7829 and accuracy 34.16%\t\tValid: loss 1.6202, accuracy 40.36%\n",
      "Epoch 14, CIFAR-10 Batch 1:  \tBatch: loss 1.7196 and accuracy 37.25%\t\tValid: loss 1.5680, accuracy 43.16%\n",
      "Epoch 14, CIFAR-10 Batch 2:  \tBatch: loss 1.7394 and accuracy 36.26%\t\tValid: loss 1.5961, accuracy 41.70%\n",
      "Epoch 14, CIFAR-10 Batch 3:  \tBatch: loss 1.6977 and accuracy 36.26%\t\tValid: loss 1.5738, accuracy 42.72%\n",
      "Epoch 14, CIFAR-10 Batch 4:  \tBatch: loss 1.6228 and accuracy 38.49%\t\tValid: loss 1.5766, accuracy 42.40%\n",
      "Epoch 14, CIFAR-10 Batch 5:  \tBatch: loss 1.6865 and accuracy 38.37%\t\tValid: loss 1.5432, accuracy 43.60%\n",
      "Epoch 15, CIFAR-10 Batch 1:  \tBatch: loss 1.6629 and accuracy 39.11%\t\tValid: loss 1.5260, accuracy 44.78%\n",
      "Epoch 15, CIFAR-10 Batch 2:  \tBatch: loss 1.6811 and accuracy 38.24%\t\tValid: loss 1.5676, accuracy 43.84%\n",
      "Epoch 15, CIFAR-10 Batch 3:  \tBatch: loss 1.6456 and accuracy 41.09%\t\tValid: loss 1.5312, accuracy 44.96%\n",
      "Epoch 15, CIFAR-10 Batch 4:  \tBatch: loss 1.6451 and accuracy 38.61%\t\tValid: loss 1.5259, accuracy 44.20%\n",
      "Epoch 15, CIFAR-10 Batch 5:  \tBatch: loss 1.6886 and accuracy 38.00%\t\tValid: loss 1.5174, accuracy 44.48%\n",
      "Epoch 16, CIFAR-10 Batch 1:  \tBatch: loss 1.6727 and accuracy 37.87%\t\tValid: loss 1.5077, accuracy 45.52%\n",
      "Epoch 16, CIFAR-10 Batch 2:  \tBatch: loss 1.6688 and accuracy 39.98%\t\tValid: loss 1.5577, accuracy 44.50%\n",
      "Epoch 16, CIFAR-10 Batch 3:  \tBatch: loss 1.6327 and accuracy 38.99%\t\tValid: loss 1.5283, accuracy 44.52%\n",
      "Epoch 16, CIFAR-10 Batch 4:  \tBatch: loss 1.5667 and accuracy 41.21%\t\tValid: loss 1.5034, accuracy 45.68%\n",
      "Epoch 16, CIFAR-10 Batch 5:  \tBatch: loss 1.5817 and accuracy 43.81%\t\tValid: loss 1.4937, accuracy 45.60%\n",
      "Epoch 17, CIFAR-10 Batch 1:  \tBatch: loss 1.6401 and accuracy 41.21%\t\tValid: loss 1.5002, accuracy 45.22%\n",
      "Epoch 17, CIFAR-10 Batch 2:  \tBatch: loss 1.6336 and accuracy 41.71%\t\tValid: loss 1.4974, accuracy 45.62%\n",
      "Epoch 17, CIFAR-10 Batch 3:  \tBatch: loss 1.5919 and accuracy 42.95%\t\tValid: loss 1.4908, accuracy 45.66%\n",
      "Epoch 17, CIFAR-10 Batch 4:  \tBatch: loss 1.5785 and accuracy 40.97%\t\tValid: loss 1.4683, accuracy 46.36%\n",
      "Epoch 17, CIFAR-10 Batch 5:  \tBatch: loss 1.6007 and accuracy 40.59%\t\tValid: loss 1.4840, accuracy 46.06%\n",
      "Epoch 18, CIFAR-10 Batch 1:  \tBatch: loss 1.5946 and accuracy 43.44%\t\tValid: loss 1.4597, accuracy 47.34%\n",
      "Epoch 18, CIFAR-10 Batch 2:  \tBatch: loss 1.5982 and accuracy 42.20%\t\tValid: loss 1.4772, accuracy 47.22%\n",
      "Epoch 18, CIFAR-10 Batch 3:  \tBatch: loss 1.5735 and accuracy 42.33%\t\tValid: loss 1.4854, accuracy 46.44%\n",
      "Epoch 18, CIFAR-10 Batch 4:  \tBatch: loss 1.5665 and accuracy 43.07%\t\tValid: loss 1.4594, accuracy 47.08%\n",
      "Epoch 18, CIFAR-10 Batch 5:  \tBatch: loss 1.5613 and accuracy 41.58%\t\tValid: loss 1.4395, accuracy 47.62%\n",
      "Epoch 19, CIFAR-10 Batch 1:  \tBatch: loss 1.5701 and accuracy 43.81%\t\tValid: loss 1.4367, accuracy 47.52%\n",
      "Epoch 19, CIFAR-10 Batch 2:  \tBatch: loss 1.5776 and accuracy 43.69%\t\tValid: loss 1.4369, accuracy 47.68%\n",
      "Epoch 19, CIFAR-10 Batch 3:  \tBatch: loss 1.5462 and accuracy 45.79%\t\tValid: loss 1.4432, accuracy 47.90%\n",
      "Epoch 19, CIFAR-10 Batch 4:  \tBatch: loss 1.5378 and accuracy 41.83%\t\tValid: loss 1.4336, accuracy 48.00%\n",
      "Epoch 19, CIFAR-10 Batch 5:  \tBatch: loss 1.5588 and accuracy 43.81%\t\tValid: loss 1.4275, accuracy 48.06%\n",
      "Epoch 20, CIFAR-10 Batch 1:  \tBatch: loss 1.5422 and accuracy 42.45%\t\tValid: loss 1.4069, accuracy 49.24%\n",
      "Epoch 20, CIFAR-10 Batch 2:  \tBatch: loss 1.5437 and accuracy 45.05%\t\tValid: loss 1.4172, accuracy 48.40%\n",
      "Epoch 20, CIFAR-10 Batch 3:  \tBatch: loss 1.4769 and accuracy 45.30%\t\tValid: loss 1.4079, accuracy 48.60%\n",
      "Epoch 20, CIFAR-10 Batch 4:  \tBatch: loss 1.4882 and accuracy 45.30%\t\tValid: loss 1.4055, accuracy 48.94%\n",
      "Epoch 20, CIFAR-10 Batch 5:  \tBatch: loss 1.4943 and accuracy 46.66%\t\tValid: loss 1.4088, accuracy 48.98%\n",
      "Epoch 21, CIFAR-10 Batch 1:  \tBatch: loss 1.5424 and accuracy 44.68%\t\tValid: loss 1.4064, accuracy 48.86%\n",
      "Epoch 21, CIFAR-10 Batch 2:  \tBatch: loss 1.5207 and accuracy 45.42%\t\tValid: loss 1.3891, accuracy 50.08%\n",
      "Epoch 21, CIFAR-10 Batch 3:  \tBatch: loss 1.4577 and accuracy 46.91%\t\tValid: loss 1.3871, accuracy 49.82%\n",
      "Epoch 21, CIFAR-10 Batch 4:  \tBatch: loss 1.4497 and accuracy 47.77%\t\tValid: loss 1.3906, accuracy 49.36%\n",
      "Epoch 21, CIFAR-10 Batch 5:  \tBatch: loss 1.4758 and accuracy 47.03%\t\tValid: loss 1.3841, accuracy 49.64%\n",
      "Epoch 22, CIFAR-10 Batch 1:  \tBatch: loss 1.4646 and accuracy 47.28%\t\tValid: loss 1.3780, accuracy 50.00%\n",
      "Epoch 22, CIFAR-10 Batch 2:  \tBatch: loss 1.5220 and accuracy 47.52%\t\tValid: loss 1.3922, accuracy 50.66%\n",
      "Epoch 22, CIFAR-10 Batch 3:  \tBatch: loss 1.4817 and accuracy 46.91%\t\tValid: loss 1.3968, accuracy 49.04%\n",
      "Epoch 22, CIFAR-10 Batch 4:  \tBatch: loss 1.4395 and accuracy 46.66%\t\tValid: loss 1.3828, accuracy 49.98%\n",
      "Epoch 22, CIFAR-10 Batch 5:  \tBatch: loss 1.4766 and accuracy 47.28%\t\tValid: loss 1.3625, accuracy 50.46%\n",
      "Epoch 23, CIFAR-10 Batch 1:  \tBatch: loss 1.4994 and accuracy 47.90%\t\tValid: loss 1.3688, accuracy 49.70%\n",
      "Epoch 23, CIFAR-10 Batch 2:  \tBatch: loss 1.5007 and accuracy 46.16%\t\tValid: loss 1.3600, accuracy 50.40%\n",
      "Epoch 23, CIFAR-10 Batch 3:  \tBatch: loss 1.4263 and accuracy 47.90%\t\tValid: loss 1.3635, accuracy 50.14%\n",
      "Epoch 23, CIFAR-10 Batch 4:  \tBatch: loss 1.4261 and accuracy 47.65%\t\tValid: loss 1.3583, accuracy 50.60%\n",
      "Epoch 23, CIFAR-10 Batch 5:  \tBatch: loss 1.4573 and accuracy 48.76%\t\tValid: loss 1.3642, accuracy 50.36%\n",
      "Epoch 24, CIFAR-10 Batch 1:  \tBatch: loss 1.4481 and accuracy 48.76%\t\tValid: loss 1.3470, accuracy 50.88%\n",
      "Epoch 24, CIFAR-10 Batch 2:  \tBatch: loss 1.4723 and accuracy 47.65%\t\tValid: loss 1.3653, accuracy 51.10%\n",
      "Epoch 24, CIFAR-10 Batch 3:  \tBatch: loss 1.4289 and accuracy 47.40%\t\tValid: loss 1.3515, accuracy 51.40%\n",
      "Epoch 24, CIFAR-10 Batch 4:  \tBatch: loss 1.3985 and accuracy 47.77%\t\tValid: loss 1.3452, accuracy 50.94%\n",
      "Epoch 24, CIFAR-10 Batch 5:  \tBatch: loss 1.4147 and accuracy 50.74%\t\tValid: loss 1.3443, accuracy 50.88%\n",
      "Epoch 25, CIFAR-10 Batch 1:  \tBatch: loss 1.4627 and accuracy 49.38%\t\tValid: loss 1.3368, accuracy 52.24%\n",
      "Epoch 25, CIFAR-10 Batch 2:  \tBatch: loss 1.3916 and accuracy 48.76%\t\tValid: loss 1.3444, accuracy 50.90%\n",
      "Epoch 25, CIFAR-10 Batch 3:  \tBatch: loss 1.4276 and accuracy 48.64%\t\tValid: loss 1.3539, accuracy 50.62%\n",
      "Epoch 25, CIFAR-10 Batch 4:  \tBatch: loss 1.3633 and accuracy 50.74%\t\tValid: loss 1.3403, accuracy 51.20%\n",
      "Epoch 25, CIFAR-10 Batch 5:  \tBatch: loss 1.4267 and accuracy 48.39%\t\tValid: loss 1.3558, accuracy 51.74%\n",
      "Epoch 26, CIFAR-10 Batch 1:  \tBatch: loss 1.4212 and accuracy 48.64%\t\tValid: loss 1.3322, accuracy 52.10%\n",
      "Epoch 26, CIFAR-10 Batch 2:  \tBatch: loss 1.4009 and accuracy 47.52%\t\tValid: loss 1.3294, accuracy 51.62%\n",
      "Epoch 26, CIFAR-10 Batch 3:  \tBatch: loss 1.4344 and accuracy 48.51%\t\tValid: loss 1.3561, accuracy 51.34%\n",
      "Epoch 26, CIFAR-10 Batch 4:  \tBatch: loss 1.3525 and accuracy 51.61%\t\tValid: loss 1.3310, accuracy 51.40%\n",
      "Epoch 26, CIFAR-10 Batch 5:  \tBatch: loss 1.4086 and accuracy 48.51%\t\tValid: loss 1.3239, accuracy 52.12%\n",
      "Epoch 27, CIFAR-10 Batch 1:  \tBatch: loss 1.3751 and accuracy 50.00%\t\tValid: loss 1.3135, accuracy 52.48%\n",
      "Epoch 27, CIFAR-10 Batch 2:  \tBatch: loss 1.3935 and accuracy 50.12%\t\tValid: loss 1.3187, accuracy 52.56%\n",
      "Epoch 27, CIFAR-10 Batch 3:  \tBatch: loss 1.3948 and accuracy 49.50%\t\tValid: loss 1.3430, accuracy 51.72%\n",
      "Epoch 27, CIFAR-10 Batch 4:  \tBatch: loss 1.3605 and accuracy 52.35%\t\tValid: loss 1.3213, accuracy 52.12%\n",
      "Epoch 27, CIFAR-10 Batch 5:  \tBatch: loss 1.3499 and accuracy 50.62%\t\tValid: loss 1.3136, accuracy 52.36%\n",
      "Epoch 28, CIFAR-10 Batch 1:  \tBatch: loss 1.4183 and accuracy 50.25%\t\tValid: loss 1.3144, accuracy 52.82%\n",
      "Epoch 28, CIFAR-10 Batch 2:  \tBatch: loss 1.3899 and accuracy 51.36%\t\tValid: loss 1.3103, accuracy 51.84%\n",
      "Epoch 28, CIFAR-10 Batch 3:  \tBatch: loss 1.3570 and accuracy 52.60%\t\tValid: loss 1.3023, accuracy 52.70%\n",
      "Epoch 28, CIFAR-10 Batch 4:  \tBatch: loss 1.3833 and accuracy 49.38%\t\tValid: loss 1.3317, accuracy 51.56%\n",
      "Epoch 28, CIFAR-10 Batch 5:  \tBatch: loss 1.3471 and accuracy 53.09%\t\tValid: loss 1.3009, accuracy 52.08%\n",
      "Epoch 29, CIFAR-10 Batch 1:  \tBatch: loss 1.3520 and accuracy 52.60%\t\tValid: loss 1.2931, accuracy 53.30%\n",
      "Epoch 29, CIFAR-10 Batch 2:  \tBatch: loss 1.3941 and accuracy 49.26%\t\tValid: loss 1.3218, accuracy 52.10%\n",
      "Epoch 29, CIFAR-10 Batch 3:  \tBatch: loss 1.3556 and accuracy 51.61%\t\tValid: loss 1.3222, accuracy 52.04%\n",
      "Epoch 29, CIFAR-10 Batch 4:  \tBatch: loss 1.3923 and accuracy 50.50%\t\tValid: loss 1.3250, accuracy 52.64%\n",
      "Epoch 29, CIFAR-10 Batch 5:  \tBatch: loss 1.3324 and accuracy 52.48%\t\tValid: loss 1.3164, accuracy 51.48%\n",
      "Epoch 30, CIFAR-10 Batch 1:  \tBatch: loss 1.3862 and accuracy 52.23%\t\tValid: loss 1.3096, accuracy 52.34%\n",
      "Epoch 30, CIFAR-10 Batch 2:  \tBatch: loss 1.4202 and accuracy 51.36%\t\tValid: loss 1.2871, accuracy 53.44%\n",
      "Epoch 30, CIFAR-10 Batch 3:  \tBatch: loss 1.2873 and accuracy 52.60%\t\tValid: loss 1.2737, accuracy 53.52%\n",
      "Epoch 30, CIFAR-10 Batch 4:  \tBatch: loss 1.3248 and accuracy 50.99%\t\tValid: loss 1.2910, accuracy 53.56%\n",
      "Epoch 30, CIFAR-10 Batch 5:  \tBatch: loss 1.3200 and accuracy 54.46%\t\tValid: loss 1.2972, accuracy 52.26%\n",
      "Epoch 31, CIFAR-10 Batch 1:  \tBatch: loss 1.3612 and accuracy 51.11%\t\tValid: loss 1.2951, accuracy 52.98%\n",
      "Epoch 31, CIFAR-10 Batch 2:  \tBatch: loss 1.3716 and accuracy 52.60%\t\tValid: loss 1.2763, accuracy 53.98%\n",
      "Epoch 31, CIFAR-10 Batch 3:  \tBatch: loss 1.3195 and accuracy 54.33%\t\tValid: loss 1.2946, accuracy 53.92%\n",
      "Epoch 31, CIFAR-10 Batch 4:  \tBatch: loss 1.3115 and accuracy 53.22%\t\tValid: loss 1.2869, accuracy 53.52%\n",
      "Epoch 31, CIFAR-10 Batch 5:  \tBatch: loss 1.3624 and accuracy 49.88%\t\tValid: loss 1.2769, accuracy 53.06%\n",
      "Epoch 32, CIFAR-10 Batch 1:  \tBatch: loss 1.3203 and accuracy 53.34%\t\tValid: loss 1.2583, accuracy 54.66%\n",
      "Epoch 32, CIFAR-10 Batch 2:  \tBatch: loss 1.3585 and accuracy 53.22%\t\tValid: loss 1.2669, accuracy 53.88%\n",
      "Epoch 32, CIFAR-10 Batch 3:  \tBatch: loss 1.2816 and accuracy 52.10%\t\tValid: loss 1.2592, accuracy 54.74%\n",
      "Epoch 32, CIFAR-10 Batch 4:  \tBatch: loss 1.2973 and accuracy 54.95%\t\tValid: loss 1.2693, accuracy 54.46%\n",
      "Epoch 32, CIFAR-10 Batch 5:  \tBatch: loss 1.2936 and accuracy 55.07%\t\tValid: loss 1.2609, accuracy 53.78%\n",
      "Epoch 33, CIFAR-10 Batch 1:  \tBatch: loss 1.2870 and accuracy 55.20%\t\tValid: loss 1.2515, accuracy 55.00%\n",
      "Epoch 33, CIFAR-10 Batch 2:  \tBatch: loss 1.3123 and accuracy 55.32%\t\tValid: loss 1.2597, accuracy 54.32%\n",
      "Epoch 33, CIFAR-10 Batch 3:  \tBatch: loss 1.2591 and accuracy 52.85%\t\tValid: loss 1.2709, accuracy 54.24%\n",
      "Epoch 33, CIFAR-10 Batch 4:  \tBatch: loss 1.2534 and accuracy 54.70%\t\tValid: loss 1.2612, accuracy 54.72%\n",
      "Epoch 33, CIFAR-10 Batch 5:  \tBatch: loss 1.2630 and accuracy 55.45%\t\tValid: loss 1.2568, accuracy 54.68%\n",
      "Epoch 34, CIFAR-10 Batch 1:  \tBatch: loss 1.2874 and accuracy 54.46%\t\tValid: loss 1.2550, accuracy 54.08%\n",
      "Epoch 34, CIFAR-10 Batch 2:  \tBatch: loss 1.2952 and accuracy 54.95%\t\tValid: loss 1.2433, accuracy 55.30%\n",
      "Epoch 34, CIFAR-10 Batch 3:  \tBatch: loss 1.2699 and accuracy 53.34%\t\tValid: loss 1.2455, accuracy 55.32%\n",
      "Epoch 34, CIFAR-10 Batch 4:  \tBatch: loss 1.2455 and accuracy 56.06%\t\tValid: loss 1.2515, accuracy 55.28%\n",
      "Epoch 34, CIFAR-10 Batch 5:  \tBatch: loss 1.2599 and accuracy 56.68%\t\tValid: loss 1.2394, accuracy 55.52%\n",
      "Epoch 35, CIFAR-10 Batch 1:  \tBatch: loss 1.2596 and accuracy 54.70%\t\tValid: loss 1.2421, accuracy 55.34%\n",
      "Epoch 35, CIFAR-10 Batch 2:  \tBatch: loss 1.3128 and accuracy 53.47%\t\tValid: loss 1.2421, accuracy 55.22%\n",
      "Epoch 35, CIFAR-10 Batch 3:  \tBatch: loss 1.2782 and accuracy 55.45%\t\tValid: loss 1.2441, accuracy 55.02%\n",
      "Epoch 35, CIFAR-10 Batch 4:  \tBatch: loss 1.2450 and accuracy 56.68%\t\tValid: loss 1.2436, accuracy 54.86%\n",
      "Epoch 35, CIFAR-10 Batch 5:  \tBatch: loss 1.2193 and accuracy 58.29%\t\tValid: loss 1.2431, accuracy 54.70%\n",
      "Epoch 36, CIFAR-10 Batch 1:  \tBatch: loss 1.2514 and accuracy 55.94%\t\tValid: loss 1.2344, accuracy 55.46%\n",
      "Epoch 36, CIFAR-10 Batch 2:  \tBatch: loss 1.3410 and accuracy 52.60%\t\tValid: loss 1.2416, accuracy 55.38%\n",
      "Epoch 36, CIFAR-10 Batch 3:  \tBatch: loss 1.2592 and accuracy 53.47%\t\tValid: loss 1.2491, accuracy 54.58%\n",
      "Epoch 36, CIFAR-10 Batch 4:  \tBatch: loss 1.2355 and accuracy 56.93%\t\tValid: loss 1.2366, accuracy 55.66%\n",
      "Epoch 36, CIFAR-10 Batch 5:  \tBatch: loss 1.2586 and accuracy 54.46%\t\tValid: loss 1.2587, accuracy 55.12%\n",
      "Epoch 37, CIFAR-10 Batch 1:  \tBatch: loss 1.2272 and accuracy 56.44%\t\tValid: loss 1.2401, accuracy 55.64%\n",
      "Epoch 37, CIFAR-10 Batch 2:  \tBatch: loss 1.2654 and accuracy 55.32%\t\tValid: loss 1.2324, accuracy 55.34%\n",
      "Epoch 37, CIFAR-10 Batch 3:  \tBatch: loss 1.2243 and accuracy 56.56%\t\tValid: loss 1.2479, accuracy 55.32%\n",
      "Epoch 37, CIFAR-10 Batch 4:  \tBatch: loss 1.1731 and accuracy 59.28%\t\tValid: loss 1.2329, accuracy 55.24%\n",
      "Epoch 37, CIFAR-10 Batch 5:  \tBatch: loss 1.2195 and accuracy 56.19%\t\tValid: loss 1.2510, accuracy 54.58%\n",
      "Epoch 38, CIFAR-10 Batch 1:  \tBatch: loss 1.2370 and accuracy 57.30%\t\tValid: loss 1.2234, accuracy 56.24%\n",
      "Epoch 38, CIFAR-10 Batch 2:  \tBatch: loss 1.2753 and accuracy 54.70%\t\tValid: loss 1.2318, accuracy 55.26%\n",
      "Epoch 38, CIFAR-10 Batch 3:  \tBatch: loss 1.2038 and accuracy 55.20%\t\tValid: loss 1.2298, accuracy 55.74%\n",
      "Epoch 38, CIFAR-10 Batch 4:  \tBatch: loss 1.2328 and accuracy 56.93%\t\tValid: loss 1.2295, accuracy 55.44%\n",
      "Epoch 38, CIFAR-10 Batch 5:  \tBatch: loss 1.2099 and accuracy 57.43%\t\tValid: loss 1.2253, accuracy 55.50%\n",
      "Epoch 39, CIFAR-10 Batch 1:  \tBatch: loss 1.2095 and accuracy 58.29%\t\tValid: loss 1.2143, accuracy 56.28%\n",
      "Epoch 39, CIFAR-10 Batch 2:  \tBatch: loss 1.2336 and accuracy 55.32%\t\tValid: loss 1.2140, accuracy 56.24%\n",
      "Epoch 39, CIFAR-10 Batch 3:  \tBatch: loss 1.1678 and accuracy 58.66%\t\tValid: loss 1.2078, accuracy 56.38%\n",
      "Epoch 39, CIFAR-10 Batch 4:  \tBatch: loss 1.1730 and accuracy 57.92%\t\tValid: loss 1.2169, accuracy 56.14%\n",
      "Epoch 39, CIFAR-10 Batch 5:  \tBatch: loss 1.1775 and accuracy 60.52%\t\tValid: loss 1.2333, accuracy 56.08%\n",
      "Epoch 40, CIFAR-10 Batch 1:  \tBatch: loss 1.2117 and accuracy 56.93%\t\tValid: loss 1.2101, accuracy 56.84%\n",
      "Epoch 40, CIFAR-10 Batch 2:  \tBatch: loss 1.1700 and accuracy 57.92%\t\tValid: loss 1.2054, accuracy 56.96%\n",
      "Epoch 40, CIFAR-10 Batch 3:  \tBatch: loss 1.1720 and accuracy 57.80%\t\tValid: loss 1.2048, accuracy 56.54%\n",
      "Epoch 40, CIFAR-10 Batch 4:  \tBatch: loss 1.1638 and accuracy 59.16%\t\tValid: loss 1.2281, accuracy 55.58%\n",
      "Epoch 40, CIFAR-10 Batch 5:  \tBatch: loss 1.1648 and accuracy 59.65%\t\tValid: loss 1.2023, accuracy 56.88%\n",
      "Epoch 41, CIFAR-10 Batch 1:  \tBatch: loss 1.1728 and accuracy 57.67%\t\tValid: loss 1.2026, accuracy 56.76%\n",
      "Epoch 41, CIFAR-10 Batch 2:  \tBatch: loss 1.1855 and accuracy 57.92%\t\tValid: loss 1.2030, accuracy 56.88%\n",
      "Epoch 41, CIFAR-10 Batch 3:  \tBatch: loss 1.1308 and accuracy 60.40%\t\tValid: loss 1.2115, accuracy 56.98%\n",
      "Epoch 41, CIFAR-10 Batch 4:  \tBatch: loss 1.1349 and accuracy 60.15%\t\tValid: loss 1.2016, accuracy 56.66%\n",
      "Epoch 41, CIFAR-10 Batch 5:  \tBatch: loss 1.1276 and accuracy 58.17%\t\tValid: loss 1.2024, accuracy 56.88%\n",
      "Epoch 42, CIFAR-10 Batch 1:  \tBatch: loss 1.1966 and accuracy 58.91%\t\tValid: loss 1.2057, accuracy 56.80%\n",
      "Epoch 42, CIFAR-10 Batch 2:  \tBatch: loss 1.2001 and accuracy 59.78%\t\tValid: loss 1.1970, accuracy 57.16%\n",
      "Epoch 42, CIFAR-10 Batch 3:  \tBatch: loss 1.1114 and accuracy 58.42%\t\tValid: loss 1.1964, accuracy 56.82%\n",
      "Epoch 42, CIFAR-10 Batch 4:  \tBatch: loss 1.1248 and accuracy 59.28%\t\tValid: loss 1.2003, accuracy 56.68%\n",
      "Epoch 42, CIFAR-10 Batch 5:  \tBatch: loss 1.1377 and accuracy 61.01%\t\tValid: loss 1.2090, accuracy 57.00%\n",
      "Epoch 43, CIFAR-10 Batch 1:  \tBatch: loss 1.1604 and accuracy 57.92%\t\tValid: loss 1.1944, accuracy 57.08%\n",
      "Epoch 43, CIFAR-10 Batch 2:  \tBatch: loss 1.1602 and accuracy 59.28%\t\tValid: loss 1.1932, accuracy 57.46%\n",
      "Epoch 43, CIFAR-10 Batch 3:  \tBatch: loss 1.1246 and accuracy 60.15%\t\tValid: loss 1.1966, accuracy 57.14%\n",
      "Epoch 43, CIFAR-10 Batch 4:  \tBatch: loss 1.0927 and accuracy 61.76%\t\tValid: loss 1.2032, accuracy 57.20%\n",
      "Epoch 43, CIFAR-10 Batch 5:  \tBatch: loss 1.0933 and accuracy 61.76%\t\tValid: loss 1.1989, accuracy 56.86%\n",
      "Epoch 44, CIFAR-10 Batch 1:  \tBatch: loss 1.1211 and accuracy 62.00%\t\tValid: loss 1.1910, accuracy 57.22%\n",
      "Epoch 44, CIFAR-10 Batch 2:  \tBatch: loss 1.1664 and accuracy 61.88%\t\tValid: loss 1.1886, accuracy 57.20%\n",
      "Epoch 44, CIFAR-10 Batch 3:  \tBatch: loss 1.1212 and accuracy 61.01%\t\tValid: loss 1.1940, accuracy 56.92%\n",
      "Epoch 44, CIFAR-10 Batch 4:  \tBatch: loss 1.1298 and accuracy 60.02%\t\tValid: loss 1.2039, accuracy 57.02%\n",
      "Epoch 44, CIFAR-10 Batch 5:  \tBatch: loss 1.1585 and accuracy 59.90%\t\tValid: loss 1.2114, accuracy 56.98%\n",
      "Epoch 45, CIFAR-10 Batch 1:  \tBatch: loss 1.1018 and accuracy 60.89%\t\tValid: loss 1.1839, accuracy 57.60%\n",
      "Epoch 45, CIFAR-10 Batch 2:  \tBatch: loss 1.1434 and accuracy 58.79%\t\tValid: loss 1.2034, accuracy 56.62%\n",
      "Epoch 45, CIFAR-10 Batch 3:  \tBatch: loss 1.1013 and accuracy 60.27%\t\tValid: loss 1.1938, accuracy 57.60%\n",
      "Epoch 45, CIFAR-10 Batch 4:  \tBatch: loss 1.0880 and accuracy 61.26%\t\tValid: loss 1.1766, accuracy 58.14%\n",
      "Epoch 45, CIFAR-10 Batch 5:  \tBatch: loss 1.1005 and accuracy 61.76%\t\tValid: loss 1.1880, accuracy 57.00%\n",
      "Epoch 46, CIFAR-10 Batch 1:  \tBatch: loss 1.1304 and accuracy 59.90%\t\tValid: loss 1.1820, accuracy 58.02%\n",
      "Epoch 46, CIFAR-10 Batch 2:  \tBatch: loss 1.1346 and accuracy 60.89%\t\tValid: loss 1.1843, accuracy 57.14%\n",
      "Epoch 46, CIFAR-10 Batch 3:  \tBatch: loss 1.1185 and accuracy 59.53%\t\tValid: loss 1.1911, accuracy 57.50%\n",
      "Epoch 46, CIFAR-10 Batch 4:  \tBatch: loss 1.0622 and accuracy 63.86%\t\tValid: loss 1.1845, accuracy 57.52%\n",
      "Epoch 46, CIFAR-10 Batch 5:  \tBatch: loss 1.0970 and accuracy 62.38%\t\tValid: loss 1.1702, accuracy 57.88%\n",
      "Epoch 47, CIFAR-10 Batch 1:  \tBatch: loss 1.0683 and accuracy 62.13%\t\tValid: loss 1.1865, accuracy 57.44%\n",
      "Epoch 47, CIFAR-10 Batch 2:  \tBatch: loss 1.1329 and accuracy 61.76%\t\tValid: loss 1.1765, accuracy 57.50%\n",
      "Epoch 47, CIFAR-10 Batch 3:  \tBatch: loss 1.0849 and accuracy 61.14%\t\tValid: loss 1.1919, accuracy 57.56%\n",
      "Epoch 47, CIFAR-10 Batch 4:  \tBatch: loss 1.0444 and accuracy 63.61%\t\tValid: loss 1.1717, accuracy 58.12%\n",
      "Epoch 47, CIFAR-10 Batch 5:  \tBatch: loss 1.0658 and accuracy 62.62%\t\tValid: loss 1.1777, accuracy 57.94%\n",
      "Epoch 48, CIFAR-10 Batch 1:  \tBatch: loss 1.0489 and accuracy 62.87%\t\tValid: loss 1.1741, accuracy 58.10%\n",
      "Epoch 48, CIFAR-10 Batch 2:  \tBatch: loss 1.0973 and accuracy 61.88%\t\tValid: loss 1.1758, accuracy 57.76%\n",
      "Epoch 48, CIFAR-10 Batch 3:  \tBatch: loss 1.0980 and accuracy 58.79%\t\tValid: loss 1.2133, accuracy 57.24%\n",
      "Epoch 48, CIFAR-10 Batch 4:  \tBatch: loss 1.0001 and accuracy 63.49%\t\tValid: loss 1.1644, accuracy 58.14%\n",
      "Epoch 48, CIFAR-10 Batch 5:  \tBatch: loss 1.0642 and accuracy 62.62%\t\tValid: loss 1.1736, accuracy 58.26%\n",
      "Epoch 49, CIFAR-10 Batch 1:  \tBatch: loss 1.0545 and accuracy 63.99%\t\tValid: loss 1.1763, accuracy 58.38%\n",
      "Epoch 49, CIFAR-10 Batch 2:  \tBatch: loss 1.0976 and accuracy 61.14%\t\tValid: loss 1.1925, accuracy 57.58%\n",
      "Epoch 49, CIFAR-10 Batch 3:  \tBatch: loss 1.0677 and accuracy 63.00%\t\tValid: loss 1.2002, accuracy 57.40%\n",
      "Epoch 49, CIFAR-10 Batch 4:  \tBatch: loss 0.9906 and accuracy 63.61%\t\tValid: loss 1.1753, accuracy 58.24%\n",
      "Epoch 49, CIFAR-10 Batch 5:  \tBatch: loss 1.0045 and accuracy 65.22%\t\tValid: loss 1.1660, accuracy 58.04%\n",
      "Epoch 50, CIFAR-10 Batch 1:  \tBatch: loss 1.0536 and accuracy 64.11%\t\tValid: loss 1.1729, accuracy 58.10%\n",
      "Epoch 50, CIFAR-10 Batch 2:  \tBatch: loss 1.0913 and accuracy 62.75%\t\tValid: loss 1.1748, accuracy 58.24%\n",
      "Epoch 50, CIFAR-10 Batch 3:  \tBatch: loss 1.0528 and accuracy 61.88%\t\tValid: loss 1.1763, accuracy 58.22%\n",
      "Epoch 50, CIFAR-10 Batch 4:  \tBatch: loss 1.0585 and accuracy 62.87%\t\tValid: loss 1.1796, accuracy 58.50%\n",
      "Epoch 50, CIFAR-10 Batch 5:  \tBatch: loss 1.0094 and accuracy 65.10%\t\tValid: loss 1.1628, accuracy 58.28%\n",
      "Epoch 51, CIFAR-10 Batch 1:  \tBatch: loss 1.0134 and accuracy 63.61%\t\tValid: loss 1.1726, accuracy 57.54%\n",
      "Epoch 51, CIFAR-10 Batch 2:  \tBatch: loss 1.0940 and accuracy 61.51%\t\tValid: loss 1.1631, accuracy 58.16%\n",
      "Epoch 51, CIFAR-10 Batch 3:  \tBatch: loss 1.0506 and accuracy 61.51%\t\tValid: loss 1.1839, accuracy 58.14%\n",
      "Epoch 51, CIFAR-10 Batch 4:  \tBatch: loss 1.0110 and accuracy 63.74%\t\tValid: loss 1.1959, accuracy 58.38%\n",
      "Epoch 51, CIFAR-10 Batch 5:  \tBatch: loss 1.0027 and accuracy 65.22%\t\tValid: loss 1.1591, accuracy 58.44%\n",
      "Epoch 52, CIFAR-10 Batch 1:  \tBatch: loss 0.9796 and accuracy 64.73%\t\tValid: loss 1.1714, accuracy 58.08%\n",
      "Epoch 52, CIFAR-10 Batch 2:  \tBatch: loss 1.0428 and accuracy 63.99%\t\tValid: loss 1.1656, accuracy 58.12%\n",
      "Epoch 52, CIFAR-10 Batch 3:  \tBatch: loss 1.0058 and accuracy 64.73%\t\tValid: loss 1.1502, accuracy 59.00%\n",
      "Epoch 52, CIFAR-10 Batch 4:  \tBatch: loss 1.0095 and accuracy 64.98%\t\tValid: loss 1.1890, accuracy 59.08%\n",
      "Epoch 52, CIFAR-10 Batch 5:  \tBatch: loss 1.0187 and accuracy 65.22%\t\tValid: loss 1.1853, accuracy 57.80%\n",
      "Epoch 53, CIFAR-10 Batch 1:  \tBatch: loss 0.9966 and accuracy 66.09%\t\tValid: loss 1.1697, accuracy 58.08%\n",
      "Epoch 53, CIFAR-10 Batch 2:  \tBatch: loss 1.0602 and accuracy 64.11%\t\tValid: loss 1.1678, accuracy 58.48%\n",
      "Epoch 53, CIFAR-10 Batch 3:  \tBatch: loss 1.0188 and accuracy 62.38%\t\tValid: loss 1.1662, accuracy 57.76%\n",
      "Epoch 53, CIFAR-10 Batch 4:  \tBatch: loss 1.0592 and accuracy 64.23%\t\tValid: loss 1.2544, accuracy 57.10%\n",
      "Epoch 53, CIFAR-10 Batch 5:  \tBatch: loss 0.9404 and accuracy 66.58%\t\tValid: loss 1.1680, accuracy 58.66%\n",
      "Epoch 54, CIFAR-10 Batch 1:  \tBatch: loss 1.0103 and accuracy 66.34%\t\tValid: loss 1.1813, accuracy 58.22%\n",
      "Epoch 54, CIFAR-10 Batch 2:  \tBatch: loss 1.0508 and accuracy 63.61%\t\tValid: loss 1.1617, accuracy 58.58%\n",
      "Epoch 54, CIFAR-10 Batch 3:  \tBatch: loss 1.0012 and accuracy 64.36%\t\tValid: loss 1.1591, accuracy 58.62%\n",
      "Epoch 54, CIFAR-10 Batch 4:  \tBatch: loss 0.9687 and accuracy 66.34%\t\tValid: loss 1.1787, accuracy 58.98%\n",
      "Epoch 54, CIFAR-10 Batch 5:  \tBatch: loss 0.9843 and accuracy 65.97%\t\tValid: loss 1.1719, accuracy 58.54%\n",
      "Epoch 55, CIFAR-10 Batch 1:  \tBatch: loss 0.9761 and accuracy 65.97%\t\tValid: loss 1.1769, accuracy 58.46%\n",
      "Epoch 55, CIFAR-10 Batch 2:  \tBatch: loss 1.0582 and accuracy 62.87%\t\tValid: loss 1.1674, accuracy 58.62%\n",
      "Epoch 55, CIFAR-10 Batch 3:  \tBatch: loss 0.9858 and accuracy 66.09%\t\tValid: loss 1.1539, accuracy 59.30%\n",
      "Epoch 55, CIFAR-10 Batch 4:  \tBatch: loss 0.9667 and accuracy 66.09%\t\tValid: loss 1.1686, accuracy 59.14%\n",
      "Epoch 55, CIFAR-10 Batch 5:  \tBatch: loss 0.9809 and accuracy 66.34%\t\tValid: loss 1.1786, accuracy 59.38%\n",
      "Epoch 56, CIFAR-10 Batch 1:  \tBatch: loss 0.9056 and accuracy 68.56%\t\tValid: loss 1.1581, accuracy 58.90%\n",
      "Epoch 56, CIFAR-10 Batch 2:  \tBatch: loss 1.0536 and accuracy 62.87%\t\tValid: loss 1.1806, accuracy 58.62%\n",
      "Epoch 56, CIFAR-10 Batch 3:  \tBatch: loss 0.9457 and accuracy 67.45%\t\tValid: loss 1.1692, accuracy 58.82%\n",
      "Epoch 56, CIFAR-10 Batch 4:  \tBatch: loss 0.9772 and accuracy 65.35%\t\tValid: loss 1.1535, accuracy 59.46%\n",
      "Epoch 56, CIFAR-10 Batch 5:  \tBatch: loss 0.9871 and accuracy 64.85%\t\tValid: loss 1.1995, accuracy 58.52%\n",
      "Epoch 57, CIFAR-10 Batch 1:  \tBatch: loss 0.9607 and accuracy 66.58%\t\tValid: loss 1.1686, accuracy 59.26%\n",
      "Epoch 57, CIFAR-10 Batch 2:  \tBatch: loss 0.9541 and accuracy 67.08%\t\tValid: loss 1.1519, accuracy 59.28%\n",
      "Epoch 57, CIFAR-10 Batch 3:  \tBatch: loss 0.9816 and accuracy 63.74%\t\tValid: loss 1.1855, accuracy 58.78%\n",
      "Epoch 57, CIFAR-10 Batch 4:  \tBatch: loss 0.9664 and accuracy 66.34%\t\tValid: loss 1.1639, accuracy 59.28%\n",
      "Epoch 57, CIFAR-10 Batch 5:  \tBatch: loss 0.9541 and accuracy 67.20%\t\tValid: loss 1.1489, accuracy 59.24%\n",
      "Epoch 58, CIFAR-10 Batch 1:  \tBatch: loss 0.9170 and accuracy 67.33%\t\tValid: loss 1.1561, accuracy 59.18%\n",
      "Epoch 58, CIFAR-10 Batch 2:  \tBatch: loss 0.9760 and accuracy 64.85%\t\tValid: loss 1.1502, accuracy 59.80%\n",
      "Epoch 58, CIFAR-10 Batch 3:  \tBatch: loss 0.9197 and accuracy 66.83%\t\tValid: loss 1.1521, accuracy 59.58%\n",
      "Epoch 58, CIFAR-10 Batch 4:  \tBatch: loss 0.8996 and accuracy 66.58%\t\tValid: loss 1.1577, accuracy 60.16%\n",
      "Epoch 58, CIFAR-10 Batch 5:  \tBatch: loss 0.9294 and accuracy 68.56%\t\tValid: loss 1.1604, accuracy 59.94%\n",
      "Epoch 59, CIFAR-10 Batch 1:  \tBatch: loss 0.8983 and accuracy 68.32%\t\tValid: loss 1.1548, accuracy 59.26%\n",
      "Epoch 59, CIFAR-10 Batch 2:  \tBatch: loss 0.9419 and accuracy 66.09%\t\tValid: loss 1.1458, accuracy 59.80%\n",
      "Epoch 59, CIFAR-10 Batch 3:  \tBatch: loss 0.9429 and accuracy 65.72%\t\tValid: loss 1.1608, accuracy 59.70%\n",
      "Epoch 59, CIFAR-10 Batch 4:  \tBatch: loss 0.8956 and accuracy 69.18%\t\tValid: loss 1.1604, accuracy 59.76%\n",
      "Epoch 59, CIFAR-10 Batch 5:  \tBatch: loss 0.8757 and accuracy 68.44%\t\tValid: loss 1.1621, accuracy 60.22%\n",
      "Epoch 60, CIFAR-10 Batch 1:  \tBatch: loss 0.8850 and accuracy 68.07%\t\tValid: loss 1.1568, accuracy 59.80%\n",
      "Epoch 60, CIFAR-10 Batch 2:  \tBatch: loss 0.9504 and accuracy 68.07%\t\tValid: loss 1.1625, accuracy 59.10%\n",
      "Epoch 60, CIFAR-10 Batch 3:  \tBatch: loss 0.9091 and accuracy 68.32%\t\tValid: loss 1.1659, accuracy 59.32%\n",
      "Epoch 60, CIFAR-10 Batch 4:  \tBatch: loss 0.8843 and accuracy 69.68%\t\tValid: loss 1.1550, accuracy 59.62%\n",
      "Epoch 60, CIFAR-10 Batch 5:  \tBatch: loss 0.9084 and accuracy 69.06%\t\tValid: loss 1.1418, accuracy 60.24%\n",
      "Epoch 61, CIFAR-10 Batch 1:  \tBatch: loss 0.8421 and accuracy 70.05%\t\tValid: loss 1.1592, accuracy 59.62%\n",
      "Epoch 61, CIFAR-10 Batch 2:  \tBatch: loss 0.9460 and accuracy 67.20%\t\tValid: loss 1.1594, accuracy 59.46%\n",
      "Epoch 61, CIFAR-10 Batch 3:  \tBatch: loss 0.9176 and accuracy 66.34%\t\tValid: loss 1.1638, accuracy 59.98%\n",
      "Epoch 61, CIFAR-10 Batch 4:  \tBatch: loss 0.8803 and accuracy 69.06%\t\tValid: loss 1.1584, accuracy 59.74%\n",
      "Epoch 61, CIFAR-10 Batch 5:  \tBatch: loss 0.8656 and accuracy 71.78%\t\tValid: loss 1.1551, accuracy 60.28%\n",
      "Epoch 62, CIFAR-10 Batch 1:  \tBatch: loss 0.8415 and accuracy 70.79%\t\tValid: loss 1.1603, accuracy 60.14%\n",
      "Epoch 62, CIFAR-10 Batch 2:  \tBatch: loss 0.9123 and accuracy 68.56%\t\tValid: loss 1.1605, accuracy 59.90%\n",
      "Epoch 62, CIFAR-10 Batch 3:  \tBatch: loss 0.8913 and accuracy 70.17%\t\tValid: loss 1.1919, accuracy 59.40%\n",
      "Epoch 62, CIFAR-10 Batch 4:  \tBatch: loss 0.8662 and accuracy 69.68%\t\tValid: loss 1.1797, accuracy 59.08%\n",
      "Epoch 62, CIFAR-10 Batch 5:  \tBatch: loss 0.8960 and accuracy 68.19%\t\tValid: loss 1.1500, accuracy 60.42%\n",
      "Epoch 63, CIFAR-10 Batch 1:  \tBatch: loss 0.8690 and accuracy 70.54%\t\tValid: loss 1.1620, accuracy 60.22%\n",
      "Epoch 63, CIFAR-10 Batch 2:  \tBatch: loss 0.9228 and accuracy 69.18%\t\tValid: loss 1.1623, accuracy 59.86%\n",
      "Epoch 63, CIFAR-10 Batch 3:  \tBatch: loss 0.8904 and accuracy 67.20%\t\tValid: loss 1.1847, accuracy 59.74%\n",
      "Epoch 63, CIFAR-10 Batch 4:  \tBatch: loss 0.8925 and accuracy 69.31%\t\tValid: loss 1.1760, accuracy 59.10%\n",
      "Epoch 63, CIFAR-10 Batch 5:  \tBatch: loss 0.8770 and accuracy 68.81%\t\tValid: loss 1.1690, accuracy 60.02%\n",
      "Epoch 64, CIFAR-10 Batch 1:  \tBatch: loss 0.8486 and accuracy 69.68%\t\tValid: loss 1.1765, accuracy 59.74%\n",
      "Epoch 64, CIFAR-10 Batch 2:  \tBatch: loss 0.9256 and accuracy 67.57%\t\tValid: loss 1.1617, accuracy 60.18%\n",
      "Epoch 64, CIFAR-10 Batch 3:  \tBatch: loss 0.8816 and accuracy 68.32%\t\tValid: loss 1.1962, accuracy 59.52%\n",
      "Epoch 64, CIFAR-10 Batch 4:  \tBatch: loss 0.8975 and accuracy 68.56%\t\tValid: loss 1.1872, accuracy 59.26%\n",
      "Epoch 64, CIFAR-10 Batch 5:  \tBatch: loss 0.8565 and accuracy 69.06%\t\tValid: loss 1.1515, accuracy 60.40%\n",
      "Epoch 65, CIFAR-10 Batch 1:  \tBatch: loss 0.8299 and accuracy 70.54%\t\tValid: loss 1.1580, accuracy 60.34%\n",
      "Epoch 65, CIFAR-10 Batch 2:  \tBatch: loss 0.8792 and accuracy 68.69%\t\tValid: loss 1.1594, accuracy 60.22%\n",
      "Epoch 65, CIFAR-10 Batch 3:  \tBatch: loss 0.8633 and accuracy 68.81%\t\tValid: loss 1.1773, accuracy 59.30%\n",
      "Epoch 65, CIFAR-10 Batch 4:  \tBatch: loss 0.8202 and accuracy 71.66%\t\tValid: loss 1.1569, accuracy 60.20%\n",
      "Epoch 65, CIFAR-10 Batch 5:  \tBatch: loss 0.8365 and accuracy 70.42%\t\tValid: loss 1.1632, accuracy 60.14%\n",
      "Epoch 66, CIFAR-10 Batch 1:  \tBatch: loss 0.8032 and accuracy 73.39%\t\tValid: loss 1.1712, accuracy 59.92%\n",
      "Epoch 66, CIFAR-10 Batch 2:  \tBatch: loss 0.9021 and accuracy 67.70%\t\tValid: loss 1.1549, accuracy 60.16%\n",
      "Epoch 66, CIFAR-10 Batch 3:  \tBatch: loss 0.8314 and accuracy 70.54%\t\tValid: loss 1.1904, accuracy 59.24%\n",
      "Epoch 66, CIFAR-10 Batch 4:  \tBatch: loss 0.8277 and accuracy 71.78%\t\tValid: loss 1.1779, accuracy 59.82%\n",
      "Epoch 66, CIFAR-10 Batch 5:  \tBatch: loss 0.8099 and accuracy 72.77%\t\tValid: loss 1.1647, accuracy 60.34%\n",
      "Epoch 67, CIFAR-10 Batch 1:  \tBatch: loss 0.7777 and accuracy 72.40%\t\tValid: loss 1.1673, accuracy 60.06%\n",
      "Epoch 67, CIFAR-10 Batch 2:  \tBatch: loss 0.8565 and accuracy 71.91%\t\tValid: loss 1.1552, accuracy 60.60%\n",
      "Epoch 67, CIFAR-10 Batch 3:  \tBatch: loss 0.8601 and accuracy 69.18%\t\tValid: loss 1.1826, accuracy 59.72%\n",
      "Epoch 67, CIFAR-10 Batch 4:  \tBatch: loss 0.8126 and accuracy 72.52%\t\tValid: loss 1.1641, accuracy 60.58%\n",
      "Epoch 67, CIFAR-10 Batch 5:  \tBatch: loss 0.8362 and accuracy 71.41%\t\tValid: loss 1.1574, accuracy 60.90%\n",
      "Epoch 68, CIFAR-10 Batch 1:  \tBatch: loss 0.7948 and accuracy 72.52%\t\tValid: loss 1.1826, accuracy 60.30%\n",
      "Epoch 68, CIFAR-10 Batch 2:  \tBatch: loss 0.8642 and accuracy 69.93%\t\tValid: loss 1.1640, accuracy 60.22%\n",
      "Epoch 68, CIFAR-10 Batch 3:  \tBatch: loss 0.7810 and accuracy 71.66%\t\tValid: loss 1.1734, accuracy 60.08%\n",
      "Epoch 68, CIFAR-10 Batch 4:  \tBatch: loss 0.7468 and accuracy 73.76%\t\tValid: loss 1.1404, accuracy 61.14%\n",
      "Epoch 68, CIFAR-10 Batch 5:  \tBatch: loss 0.7789 and accuracy 72.90%\t\tValid: loss 1.1666, accuracy 61.02%\n",
      "Epoch 69, CIFAR-10 Batch 1:  \tBatch: loss 0.7374 and accuracy 75.74%\t\tValid: loss 1.1851, accuracy 59.96%\n",
      "Epoch 69, CIFAR-10 Batch 2:  \tBatch: loss 0.8439 and accuracy 70.05%\t\tValid: loss 1.1665, accuracy 60.86%\n",
      "Epoch 69, CIFAR-10 Batch 3:  \tBatch: loss 0.8426 and accuracy 68.69%\t\tValid: loss 1.2112, accuracy 59.70%\n",
      "Epoch 69, CIFAR-10 Batch 4:  \tBatch: loss 0.8246 and accuracy 70.54%\t\tValid: loss 1.1590, accuracy 60.70%\n",
      "Epoch 69, CIFAR-10 Batch 5:  \tBatch: loss 0.8094 and accuracy 69.93%\t\tValid: loss 1.1917, accuracy 60.46%\n",
      "Epoch 70, CIFAR-10 Batch 1:  \tBatch: loss 0.7449 and accuracy 75.87%\t\tValid: loss 1.1864, accuracy 60.00%\n",
      "Epoch 70, CIFAR-10 Batch 2:  \tBatch: loss 0.8288 and accuracy 71.16%\t\tValid: loss 1.1582, accuracy 60.46%\n",
      "Epoch 70, CIFAR-10 Batch 3:  \tBatch: loss 0.7707 and accuracy 74.50%\t\tValid: loss 1.1894, accuracy 60.18%\n",
      "Epoch 70, CIFAR-10 Batch 4:  \tBatch: loss 0.7807 and accuracy 71.53%\t\tValid: loss 1.1835, accuracy 60.48%\n",
      "Epoch 70, CIFAR-10 Batch 5:  \tBatch: loss 0.7915 and accuracy 70.79%\t\tValid: loss 1.1876, accuracy 60.70%\n",
      "Epoch 71, CIFAR-10 Batch 1:  \tBatch: loss 0.7578 and accuracy 74.38%\t\tValid: loss 1.2072, accuracy 59.28%\n",
      "Epoch 71, CIFAR-10 Batch 2:  \tBatch: loss 0.9196 and accuracy 67.70%\t\tValid: loss 1.2100, accuracy 59.44%\n",
      "Epoch 71, CIFAR-10 Batch 3:  \tBatch: loss 0.7662 and accuracy 73.14%\t\tValid: loss 1.2036, accuracy 59.88%\n",
      "Epoch 71, CIFAR-10 Batch 4:  \tBatch: loss 0.8313 and accuracy 72.15%\t\tValid: loss 1.2126, accuracy 59.60%\n",
      "Epoch 71, CIFAR-10 Batch 5:  \tBatch: loss 0.7936 and accuracy 71.16%\t\tValid: loss 1.1988, accuracy 59.62%\n",
      "Epoch 72, CIFAR-10 Batch 1:  \tBatch: loss 0.7516 and accuracy 72.90%\t\tValid: loss 1.2037, accuracy 59.44%\n",
      "Epoch 72, CIFAR-10 Batch 2:  \tBatch: loss 0.8246 and accuracy 70.92%\t\tValid: loss 1.1947, accuracy 59.92%\n",
      "Epoch 72, CIFAR-10 Batch 3:  \tBatch: loss 0.8234 and accuracy 70.67%\t\tValid: loss 1.1983, accuracy 60.04%\n",
      "Epoch 72, CIFAR-10 Batch 4:  \tBatch: loss 0.8360 and accuracy 72.15%\t\tValid: loss 1.1654, accuracy 60.10%\n",
      "Epoch 72, CIFAR-10 Batch 5:  \tBatch: loss 0.7810 and accuracy 73.39%\t\tValid: loss 1.2137, accuracy 59.64%\n",
      "Epoch 73, CIFAR-10 Batch 1:  \tBatch: loss 0.7423 and accuracy 72.77%\t\tValid: loss 1.2171, accuracy 59.18%\n",
      "Epoch 73, CIFAR-10 Batch 2:  \tBatch: loss 0.8212 and accuracy 72.65%\t\tValid: loss 1.2097, accuracy 59.44%\n",
      "Epoch 73, CIFAR-10 Batch 3:  \tBatch: loss 0.7880 and accuracy 71.53%\t\tValid: loss 1.2221, accuracy 59.62%\n",
      "Epoch 73, CIFAR-10 Batch 4:  \tBatch: loss 0.7942 and accuracy 71.91%\t\tValid: loss 1.1783, accuracy 60.68%\n",
      "Epoch 73, CIFAR-10 Batch 5:  \tBatch: loss 0.7481 and accuracy 74.26%\t\tValid: loss 1.2189, accuracy 59.70%\n",
      "Epoch 74, CIFAR-10 Batch 1:  \tBatch: loss 0.7981 and accuracy 73.27%\t\tValid: loss 1.2148, accuracy 59.40%\n",
      "Epoch 74, CIFAR-10 Batch 2:  \tBatch: loss 0.8268 and accuracy 72.40%\t\tValid: loss 1.1745, accuracy 60.62%\n",
      "Epoch 74, CIFAR-10 Batch 3:  \tBatch: loss 0.7820 and accuracy 71.29%\t\tValid: loss 1.1971, accuracy 60.36%\n",
      "Epoch 74, CIFAR-10 Batch 4:  \tBatch: loss 0.8040 and accuracy 73.02%\t\tValid: loss 1.1749, accuracy 60.02%\n",
      "Epoch 74, CIFAR-10 Batch 5:  \tBatch: loss 0.7594 and accuracy 74.13%\t\tValid: loss 1.1917, accuracy 60.68%\n",
      "Epoch 75, CIFAR-10 Batch 1:  \tBatch: loss 0.6857 and accuracy 76.36%\t\tValid: loss 1.1895, accuracy 60.50%\n",
      "Epoch 75, CIFAR-10 Batch 2:  \tBatch: loss 0.7831 and accuracy 71.91%\t\tValid: loss 1.1746, accuracy 61.32%\n",
      "Epoch 75, CIFAR-10 Batch 3:  \tBatch: loss 0.7834 and accuracy 71.41%\t\tValid: loss 1.2054, accuracy 60.04%\n",
      "Epoch 75, CIFAR-10 Batch 4:  \tBatch: loss 0.7440 and accuracy 73.64%\t\tValid: loss 1.1714, accuracy 61.00%\n",
      "Epoch 75, CIFAR-10 Batch 5:  \tBatch: loss 0.7220 and accuracy 75.00%\t\tValid: loss 1.1879, accuracy 60.76%\n",
      "Epoch 76, CIFAR-10 Batch 1:  \tBatch: loss 0.7550 and accuracy 72.15%\t\tValid: loss 1.2019, accuracy 60.52%\n",
      "Epoch 76, CIFAR-10 Batch 2:  \tBatch: loss 0.8484 and accuracy 70.54%\t\tValid: loss 1.1973, accuracy 60.92%\n",
      "Epoch 76, CIFAR-10 Batch 3:  \tBatch: loss 0.7630 and accuracy 72.77%\t\tValid: loss 1.2541, accuracy 59.26%\n",
      "Epoch 76, CIFAR-10 Batch 4:  \tBatch: loss 0.7500 and accuracy 74.50%\t\tValid: loss 1.1706, accuracy 60.80%\n",
      "Epoch 76, CIFAR-10 Batch 5:  \tBatch: loss 0.6848 and accuracy 75.99%\t\tValid: loss 1.1809, accuracy 61.02%\n",
      "Epoch 77, CIFAR-10 Batch 1:  \tBatch: loss 0.7440 and accuracy 74.01%\t\tValid: loss 1.2016, accuracy 59.68%\n",
      "Epoch 77, CIFAR-10 Batch 2:  \tBatch: loss 0.8242 and accuracy 70.42%\t\tValid: loss 1.1979, accuracy 60.82%\n",
      "Epoch 77, CIFAR-10 Batch 3:  \tBatch: loss 0.7581 and accuracy 71.53%\t\tValid: loss 1.2512, accuracy 59.26%\n",
      "Epoch 77, CIFAR-10 Batch 4:  \tBatch: loss 0.7535 and accuracy 73.76%\t\tValid: loss 1.1860, accuracy 60.66%\n",
      "Epoch 77, CIFAR-10 Batch 5:  \tBatch: loss 0.7080 and accuracy 73.39%\t\tValid: loss 1.2106, accuracy 60.18%\n",
      "Epoch 78, CIFAR-10 Batch 1:  \tBatch: loss 0.7037 and accuracy 76.98%\t\tValid: loss 1.2105, accuracy 60.28%\n",
      "Epoch 78, CIFAR-10 Batch 2:  \tBatch: loss 0.7703 and accuracy 73.27%\t\tValid: loss 1.1745, accuracy 61.12%\n",
      "Epoch 78, CIFAR-10 Batch 3:  \tBatch: loss 0.7466 and accuracy 72.03%\t\tValid: loss 1.2208, accuracy 59.86%\n",
      "Epoch 78, CIFAR-10 Batch 4:  \tBatch: loss 0.7228 and accuracy 73.76%\t\tValid: loss 1.1966, accuracy 60.66%\n",
      "Epoch 78, CIFAR-10 Batch 5:  \tBatch: loss 0.7130 and accuracy 74.50%\t\tValid: loss 1.2154, accuracy 59.66%\n",
      "Epoch 79, CIFAR-10 Batch 1:  \tBatch: loss 0.6933 and accuracy 75.87%\t\tValid: loss 1.2187, accuracy 61.06%\n",
      "Epoch 79, CIFAR-10 Batch 2:  \tBatch: loss 0.7608 and accuracy 75.12%\t\tValid: loss 1.1835, accuracy 61.42%\n",
      "Epoch 79, CIFAR-10 Batch 3:  \tBatch: loss 0.7096 and accuracy 75.37%\t\tValid: loss 1.2405, accuracy 59.70%\n",
      "Epoch 79, CIFAR-10 Batch 4:  \tBatch: loss 0.7142 and accuracy 75.25%\t\tValid: loss 1.1831, accuracy 60.92%\n",
      "Epoch 79, CIFAR-10 Batch 5:  \tBatch: loss 0.6848 and accuracy 76.98%\t\tValid: loss 1.2004, accuracy 60.24%\n",
      "Epoch 80, CIFAR-10 Batch 1:  \tBatch: loss 0.6881 and accuracy 76.61%\t\tValid: loss 1.2107, accuracy 61.00%\n",
      "Epoch 80, CIFAR-10 Batch 2:  \tBatch: loss 0.7725 and accuracy 73.02%\t\tValid: loss 1.1951, accuracy 61.10%\n",
      "Epoch 80, CIFAR-10 Batch 3:  \tBatch: loss 0.6674 and accuracy 76.11%\t\tValid: loss 1.2171, accuracy 60.48%\n",
      "Epoch 80, CIFAR-10 Batch 4:  \tBatch: loss 0.6504 and accuracy 77.85%\t\tValid: loss 1.1859, accuracy 61.16%\n",
      "Epoch 80, CIFAR-10 Batch 5:  \tBatch: loss 0.7011 and accuracy 78.59%\t\tValid: loss 1.1850, accuracy 60.86%\n",
      "Epoch 81, CIFAR-10 Batch 1:  \tBatch: loss 0.6760 and accuracy 77.35%\t\tValid: loss 1.2287, accuracy 61.14%\n",
      "Epoch 81, CIFAR-10 Batch 2:  \tBatch: loss 0.7302 and accuracy 75.00%\t\tValid: loss 1.1878, accuracy 61.58%\n",
      "Epoch 81, CIFAR-10 Batch 3:  \tBatch: loss 0.7103 and accuracy 73.64%\t\tValid: loss 1.2187, accuracy 60.64%\n",
      "Epoch 81, CIFAR-10 Batch 4:  \tBatch: loss 0.6685 and accuracy 78.22%\t\tValid: loss 1.1873, accuracy 60.84%\n",
      "Epoch 81, CIFAR-10 Batch 5:  \tBatch: loss 0.7047 and accuracy 74.75%\t\tValid: loss 1.2011, accuracy 60.10%\n",
      "Epoch 82, CIFAR-10 Batch 1:  \tBatch: loss 0.6436 and accuracy 79.21%\t\tValid: loss 1.2169, accuracy 61.64%\n",
      "Epoch 82, CIFAR-10 Batch 2:  \tBatch: loss 0.7574 and accuracy 72.40%\t\tValid: loss 1.1999, accuracy 62.02%\n",
      "Epoch 82, CIFAR-10 Batch 3:  \tBatch: loss 0.6495 and accuracy 76.73%\t\tValid: loss 1.2028, accuracy 60.94%\n",
      "Epoch 82, CIFAR-10 Batch 4:  \tBatch: loss 0.7182 and accuracy 76.24%\t\tValid: loss 1.2121, accuracy 60.84%\n",
      "Epoch 82, CIFAR-10 Batch 5:  \tBatch: loss 0.6842 and accuracy 75.00%\t\tValid: loss 1.2094, accuracy 60.54%\n",
      "Epoch 83, CIFAR-10 Batch 1:  \tBatch: loss 0.6708 and accuracy 75.62%\t\tValid: loss 1.2278, accuracy 60.90%\n",
      "Epoch 83, CIFAR-10 Batch 2:  \tBatch: loss 0.7497 and accuracy 74.01%\t\tValid: loss 1.2097, accuracy 61.44%\n",
      "Epoch 83, CIFAR-10 Batch 3:  \tBatch: loss 0.6482 and accuracy 76.61%\t\tValid: loss 1.2172, accuracy 61.06%\n",
      "Epoch 83, CIFAR-10 Batch 4:  \tBatch: loss 0.6935 and accuracy 75.87%\t\tValid: loss 1.2166, accuracy 60.80%\n",
      "Epoch 83, CIFAR-10 Batch 5:  \tBatch: loss 0.6608 and accuracy 78.34%\t\tValid: loss 1.2228, accuracy 60.90%\n",
      "Epoch 84, CIFAR-10 Batch 1:  \tBatch: loss 0.6341 and accuracy 76.86%\t\tValid: loss 1.2265, accuracy 61.44%\n",
      "Epoch 84, CIFAR-10 Batch 2:  \tBatch: loss 0.7190 and accuracy 74.75%\t\tValid: loss 1.2330, accuracy 61.74%\n",
      "Epoch 84, CIFAR-10 Batch 3:  \tBatch: loss 0.6475 and accuracy 77.23%\t\tValid: loss 1.2215, accuracy 60.96%\n",
      "Epoch 84, CIFAR-10 Batch 4:  \tBatch: loss 0.6739 and accuracy 76.98%\t\tValid: loss 1.2174, accuracy 60.74%\n",
      "Epoch 84, CIFAR-10 Batch 5:  \tBatch: loss 0.6723 and accuracy 77.72%\t\tValid: loss 1.1975, accuracy 61.14%\n",
      "Epoch 85, CIFAR-10 Batch 1:  \tBatch: loss 0.6878 and accuracy 77.23%\t\tValid: loss 1.2120, accuracy 61.52%\n",
      "Epoch 85, CIFAR-10 Batch 2:  \tBatch: loss 0.7094 and accuracy 76.11%\t\tValid: loss 1.2035, accuracy 61.44%\n",
      "Epoch 85, CIFAR-10 Batch 3:  \tBatch: loss 0.6669 and accuracy 75.74%\t\tValid: loss 1.2099, accuracy 60.94%\n",
      "Epoch 85, CIFAR-10 Batch 4:  \tBatch: loss 0.6525 and accuracy 77.23%\t\tValid: loss 1.2151, accuracy 60.66%\n",
      "Epoch 85, CIFAR-10 Batch 5:  \tBatch: loss 0.6645 and accuracy 76.73%\t\tValid: loss 1.2068, accuracy 61.66%\n",
      "Epoch 86, CIFAR-10 Batch 1:  \tBatch: loss 0.6321 and accuracy 77.10%\t\tValid: loss 1.2266, accuracy 61.38%\n",
      "Epoch 86, CIFAR-10 Batch 2:  \tBatch: loss 0.7086 and accuracy 75.00%\t\tValid: loss 1.2453, accuracy 60.54%\n",
      "Epoch 86, CIFAR-10 Batch 3:  \tBatch: loss 0.7007 and accuracy 76.49%\t\tValid: loss 1.2588, accuracy 60.94%\n",
      "Epoch 86, CIFAR-10 Batch 4:  \tBatch: loss 0.6684 and accuracy 75.37%\t\tValid: loss 1.2480, accuracy 60.96%\n",
      "Epoch 86, CIFAR-10 Batch 5:  \tBatch: loss 0.6545 and accuracy 76.61%\t\tValid: loss 1.2229, accuracy 60.98%\n",
      "Epoch 87, CIFAR-10 Batch 1:  \tBatch: loss 0.6260 and accuracy 78.84%\t\tValid: loss 1.2007, accuracy 62.04%\n",
      "Epoch 87, CIFAR-10 Batch 2:  \tBatch: loss 0.6677 and accuracy 75.62%\t\tValid: loss 1.2166, accuracy 61.96%\n",
      "Epoch 87, CIFAR-10 Batch 3:  \tBatch: loss 0.6410 and accuracy 76.61%\t\tValid: loss 1.2343, accuracy 61.48%\n",
      "Epoch 87, CIFAR-10 Batch 4:  \tBatch: loss 0.6776 and accuracy 76.36%\t\tValid: loss 1.2368, accuracy 61.20%\n",
      "Epoch 87, CIFAR-10 Batch 5:  \tBatch: loss 0.6078 and accuracy 78.47%\t\tValid: loss 1.2069, accuracy 61.94%\n",
      "Epoch 88, CIFAR-10 Batch 1:  \tBatch: loss 0.6273 and accuracy 79.08%\t\tValid: loss 1.2288, accuracy 61.82%\n",
      "Epoch 88, CIFAR-10 Batch 2:  \tBatch: loss 0.6844 and accuracy 76.73%\t\tValid: loss 1.2511, accuracy 60.68%\n",
      "Epoch 88, CIFAR-10 Batch 3:  \tBatch: loss 0.6463 and accuracy 75.99%\t\tValid: loss 1.2480, accuracy 61.28%\n",
      "Epoch 88, CIFAR-10 Batch 4:  \tBatch: loss 0.5869 and accuracy 78.59%\t\tValid: loss 1.2180, accuracy 61.86%\n",
      "Epoch 88, CIFAR-10 Batch 5:  \tBatch: loss 0.6223 and accuracy 78.47%\t\tValid: loss 1.2111, accuracy 62.04%\n",
      "Epoch 89, CIFAR-10 Batch 1:  \tBatch: loss 0.6153 and accuracy 79.46%\t\tValid: loss 1.2346, accuracy 61.92%\n",
      "Epoch 89, CIFAR-10 Batch 2:  \tBatch: loss 0.6722 and accuracy 75.87%\t\tValid: loss 1.2517, accuracy 61.04%\n",
      "Epoch 89, CIFAR-10 Batch 3:  \tBatch: loss 0.6456 and accuracy 76.73%\t\tValid: loss 1.2582, accuracy 61.66%\n",
      "Epoch 89, CIFAR-10 Batch 4:  \tBatch: loss 0.5838 and accuracy 78.84%\t\tValid: loss 1.2188, accuracy 62.50%\n",
      "Epoch 89, CIFAR-10 Batch 5:  \tBatch: loss 0.5950 and accuracy 79.08%\t\tValid: loss 1.2119, accuracy 62.16%\n",
      "Epoch 90, CIFAR-10 Batch 1:  \tBatch: loss 0.5704 and accuracy 80.32%\t\tValid: loss 1.2361, accuracy 62.38%\n",
      "Epoch 90, CIFAR-10 Batch 2:  \tBatch: loss 0.6360 and accuracy 77.35%\t\tValid: loss 1.2653, accuracy 61.08%\n",
      "Epoch 90, CIFAR-10 Batch 3:  \tBatch: loss 0.5692 and accuracy 78.59%\t\tValid: loss 1.2775, accuracy 60.90%\n",
      "Epoch 90, CIFAR-10 Batch 4:  \tBatch: loss 0.5862 and accuracy 79.83%\t\tValid: loss 1.2257, accuracy 61.62%\n",
      "Epoch 90, CIFAR-10 Batch 5:  \tBatch: loss 0.6135 and accuracy 77.85%\t\tValid: loss 1.2298, accuracy 61.58%\n",
      "Epoch 91, CIFAR-10 Batch 1:  \tBatch: loss 0.5599 and accuracy 80.57%\t\tValid: loss 1.2523, accuracy 62.40%\n",
      "Epoch 91, CIFAR-10 Batch 2:  \tBatch: loss 0.6281 and accuracy 79.08%\t\tValid: loss 1.2517, accuracy 61.08%\n",
      "Epoch 91, CIFAR-10 Batch 3:  \tBatch: loss 0.5829 and accuracy 78.96%\t\tValid: loss 1.2655, accuracy 61.40%\n",
      "Epoch 91, CIFAR-10 Batch 4:  \tBatch: loss 0.6117 and accuracy 79.33%\t\tValid: loss 1.2594, accuracy 62.24%\n",
      "Epoch 91, CIFAR-10 Batch 5:  \tBatch: loss 0.5971 and accuracy 79.46%\t\tValid: loss 1.2437, accuracy 61.78%\n",
      "Epoch 92, CIFAR-10 Batch 1:  \tBatch: loss 0.5705 and accuracy 80.82%\t\tValid: loss 1.2588, accuracy 61.86%\n",
      "Epoch 92, CIFAR-10 Batch 2:  \tBatch: loss 0.6005 and accuracy 79.21%\t\tValid: loss 1.2343, accuracy 62.00%\n",
      "Epoch 92, CIFAR-10 Batch 3:  \tBatch: loss 0.6061 and accuracy 78.09%\t\tValid: loss 1.2762, accuracy 61.08%\n",
      "Epoch 92, CIFAR-10 Batch 4:  \tBatch: loss 0.5564 and accuracy 81.93%\t\tValid: loss 1.2532, accuracy 60.90%\n",
      "Epoch 92, CIFAR-10 Batch 5:  \tBatch: loss 0.6094 and accuracy 78.84%\t\tValid: loss 1.2502, accuracy 60.82%\n",
      "Epoch 93, CIFAR-10 Batch 1:  \tBatch: loss 0.5776 and accuracy 79.08%\t\tValid: loss 1.2537, accuracy 61.82%\n",
      "Epoch 93, CIFAR-10 Batch 2:  \tBatch: loss 0.6700 and accuracy 78.22%\t\tValid: loss 1.2489, accuracy 61.70%\n",
      "Epoch 93, CIFAR-10 Batch 3:  \tBatch: loss 0.5946 and accuracy 80.20%\t\tValid: loss 1.2273, accuracy 62.16%\n",
      "Epoch 93, CIFAR-10 Batch 4:  \tBatch: loss 0.5583 and accuracy 79.46%\t\tValid: loss 1.2496, accuracy 61.62%\n",
      "Epoch 93, CIFAR-10 Batch 5:  \tBatch: loss 0.6033 and accuracy 78.96%\t\tValid: loss 1.2670, accuracy 60.70%\n",
      "Epoch 94, CIFAR-10 Batch 1:  \tBatch: loss 0.5465 and accuracy 80.32%\t\tValid: loss 1.2677, accuracy 61.52%\n",
      "Epoch 94, CIFAR-10 Batch 2:  \tBatch: loss 0.5456 and accuracy 81.06%\t\tValid: loss 1.2301, accuracy 62.26%\n",
      "Epoch 94, CIFAR-10 Batch 3:  \tBatch: loss 0.5283 and accuracy 80.82%\t\tValid: loss 1.2600, accuracy 61.14%\n",
      "Epoch 94, CIFAR-10 Batch 4:  \tBatch: loss 0.5848 and accuracy 79.46%\t\tValid: loss 1.2687, accuracy 61.68%\n",
      "Epoch 94, CIFAR-10 Batch 5:  \tBatch: loss 0.6089 and accuracy 79.83%\t\tValid: loss 1.2534, accuracy 61.10%\n",
      "Epoch 95, CIFAR-10 Batch 1:  \tBatch: loss 0.5532 and accuracy 82.30%\t\tValid: loss 1.2908, accuracy 61.72%\n",
      "Epoch 95, CIFAR-10 Batch 2:  \tBatch: loss 0.5811 and accuracy 79.70%\t\tValid: loss 1.2906, accuracy 61.46%\n",
      "Epoch 95, CIFAR-10 Batch 3:  \tBatch: loss 0.5676 and accuracy 81.31%\t\tValid: loss 1.2815, accuracy 61.70%\n",
      "Epoch 95, CIFAR-10 Batch 4:  \tBatch: loss 0.5420 and accuracy 80.82%\t\tValid: loss 1.2627, accuracy 61.94%\n",
      "Epoch 95, CIFAR-10 Batch 5:  \tBatch: loss 0.6391 and accuracy 77.10%\t\tValid: loss 1.2580, accuracy 60.76%\n",
      "Epoch 96, CIFAR-10 Batch 1:  \tBatch: loss 0.5723 and accuracy 81.81%\t\tValid: loss 1.2962, accuracy 61.06%\n",
      "Epoch 96, CIFAR-10 Batch 2:  \tBatch: loss 0.5733 and accuracy 80.20%\t\tValid: loss 1.2829, accuracy 61.14%\n",
      "Epoch 96, CIFAR-10 Batch 3:  \tBatch: loss 0.5133 and accuracy 82.43%\t\tValid: loss 1.3076, accuracy 61.82%\n",
      "Epoch 96, CIFAR-10 Batch 4:  \tBatch: loss 0.5421 and accuracy 83.54%\t\tValid: loss 1.2896, accuracy 62.02%\n",
      "Epoch 96, CIFAR-10 Batch 5:  \tBatch: loss 0.5214 and accuracy 82.30%\t\tValid: loss 1.2544, accuracy 61.66%\n",
      "Epoch 97, CIFAR-10 Batch 1:  \tBatch: loss 0.5552 and accuracy 78.96%\t\tValid: loss 1.2926, accuracy 61.50%\n",
      "Epoch 97, CIFAR-10 Batch 2:  \tBatch: loss 0.5574 and accuracy 79.46%\t\tValid: loss 1.3211, accuracy 60.72%\n",
      "Epoch 97, CIFAR-10 Batch 3:  \tBatch: loss 0.6017 and accuracy 79.83%\t\tValid: loss 1.3014, accuracy 61.78%\n",
      "Epoch 97, CIFAR-10 Batch 4:  \tBatch: loss 0.5635 and accuracy 82.05%\t\tValid: loss 1.3118, accuracy 60.52%\n",
      "Epoch 97, CIFAR-10 Batch 5:  \tBatch: loss 0.5927 and accuracy 79.83%\t\tValid: loss 1.2740, accuracy 62.02%\n",
      "Epoch 98, CIFAR-10 Batch 1:  \tBatch: loss 0.5173 and accuracy 81.81%\t\tValid: loss 1.2800, accuracy 61.90%\n",
      "Epoch 98, CIFAR-10 Batch 2:  \tBatch: loss 0.6221 and accuracy 78.96%\t\tValid: loss 1.3297, accuracy 60.64%\n",
      "Epoch 98, CIFAR-10 Batch 3:  \tBatch: loss 0.6187 and accuracy 78.09%\t\tValid: loss 1.3169, accuracy 61.24%\n",
      "Epoch 98, CIFAR-10 Batch 4:  \tBatch: loss 0.5722 and accuracy 80.82%\t\tValid: loss 1.2926, accuracy 61.46%\n",
      "Epoch 98, CIFAR-10 Batch 5:  \tBatch: loss 0.5543 and accuracy 80.32%\t\tValid: loss 1.2674, accuracy 61.88%\n",
      "Epoch 99, CIFAR-10 Batch 1:  \tBatch: loss 0.5370 and accuracy 79.83%\t\tValid: loss 1.3128, accuracy 61.86%\n",
      "Epoch 99, CIFAR-10 Batch 2:  \tBatch: loss 0.6790 and accuracy 75.12%\t\tValid: loss 1.4097, accuracy 60.30%\n",
      "Epoch 99, CIFAR-10 Batch 3:  \tBatch: loss 0.5899 and accuracy 79.33%\t\tValid: loss 1.3237, accuracy 61.04%\n",
      "Epoch 99, CIFAR-10 Batch 4:  \tBatch: loss 0.5384 and accuracy 81.68%\t\tValid: loss 1.2758, accuracy 61.24%\n",
      "Epoch 99, CIFAR-10 Batch 5:  \tBatch: loss 0.5049 and accuracy 81.93%\t\tValid: loss 1.2557, accuracy 61.84%\n",
      "Epoch 100, CIFAR-10 Batch 1:  \tBatch: loss 0.5258 and accuracy 83.54%\t\tValid: loss 1.3013, accuracy 61.96%\n",
      "Epoch 100, CIFAR-10 Batch 2:  \tBatch: loss 0.5291 and accuracy 81.31%\t\tValid: loss 1.3264, accuracy 61.32%\n",
      "Epoch 100, CIFAR-10 Batch 3:  \tBatch: loss 0.4889 and accuracy 82.43%\t\tValid: loss 1.2855, accuracy 61.96%\n",
      "Epoch 100, CIFAR-10 Batch 4:  \tBatch: loss 0.4968 and accuracy 83.04%\t\tValid: loss 1.2790, accuracy 61.62%\n",
      "Epoch 100, CIFAR-10 Batch 5:  \tBatch: loss 0.5155 and accuracy 81.68%\t\tValid: loss 1.2674, accuracy 62.14%\n"
     ]
    }
   ],
   "source": [
    "\"\"\"\n",
    "DON'T MODIFY ANYTHING IN THIS CELL\n",
    "\"\"\"\n",
    "save_model_path = './image_classification'\n",
    "\n",
    "print('Training...')\n",
    "with tf.Session() as sess:\n",
    "    # Initializing the variables\n",
    "    sess.run(tf.global_variables_initializer())\n",
    "    \n",
    "    # Training cycle\n",
    "    for epoch in range(epochs):\n",
    "        # Loop over all batches\n",
    "        n_batches = 5\n",
    "        for batch_i in range(1, n_batches + 1):\n",
    "            for batch_features, batch_labels in helper.load_preprocess_training_batch(batch_i, batch_size):\n",
    "                train_neural_network(sess, optimizer, keep_probability, batch_features, batch_labels)\n",
    "            print('Epoch {:>2}, CIFAR-10 Batch {}:  '.format(epoch + 1, batch_i), end='')\n",
    "            print_stats(sess, batch_features, batch_labels, cost, accuracy)\n",
    "            \n",
    "    # Save Model\n",
    "    saver = tf.train.Saver()\n",
    "    save_path = saver.save(sess, save_model_path)"
   ]
  },
  {
   "cell_type": "markdown",
   "metadata": {
    "deletable": true,
    "editable": true
   },
   "source": [
    "# Checkpoint\n",
    "The model has been saved to disk.\n",
    "## Test Model\n",
    "Test your model against the test dataset.  This will be your final accuracy. You should have an accuracy greater than 50%. If you don't, keep tweaking the model architecture and parameters."
   ]
  },
  {
   "cell_type": "code",
   "execution_count": 18,
   "metadata": {
    "collapsed": false,
    "deletable": true,
    "editable": true
   },
   "outputs": [
    {
     "name": "stdout",
     "output_type": "stream",
     "text": [
      "Testing Accuracy: 0.6167191505432129\n",
      "\n"
     ]
    },
    {
     "data": {
      "image/png": "[encoded data removed]",
      "text/plain": [
       "<matplotlib.figure.Figure at 0x222bbb176a0>"
      ]
     },
     "metadata": {
      "image/png": {
       "height": 319,
       "width": 355
      }
     },
     "output_type": "display_data"
    }
   ],
   "source": [
    "\"\"\"\n",
    "DON'T MODIFY ANYTHING IN THIS CELL\n",
    "\"\"\"\n",
    "%matplotlib inline\n",
    "%config InlineBackend.figure_format = 'retina'\n",
    "\n",
    "import tensorflow as tf\n",
    "import pickle\n",
    "import helper\n",
    "import random\n",
    "\n",
    "# Set batch size if not already set\n",
    "try:\n",
    "    if batch_size:\n",
    "        pass\n",
    "except NameError:\n",
    "    batch_size = 64\n",
    "\n",
    "save_model_path = './image_classification'\n",
    "n_samples = 4\n",
    "top_n_predictions = 3\n",
    "\n",
    "def test_model():\n",
    "    \"\"\"\n",
    "    Test the saved model against the test dataset\n",
    "    \"\"\"\n",
    "\n",
    "    test_features, test_labels = pickle.load(open('preprocess_training.p', mode='rb'))\n",
    "    loaded_graph = tf.Graph()\n",
    "\n",
    "    with tf.Session(graph=loaded_graph) as sess:\n",
    "        # Load model\n",
    "        loader = tf.train.import_meta_graph(save_model_path + '.meta')\n",
    "        loader.restore(sess, save_model_path)\n",
    "\n",
    "        # Get Tensors from loaded model\n",
    "        loaded_x = loaded_graph.get_tensor_by_name('x:0')\n",
    "        loaded_y = loaded_graph.get_tensor_by_name('y:0')\n",
    "        loaded_keep_prob = loaded_graph.get_tensor_by_name('keep_prob:0')\n",
    "        loaded_logits = loaded_graph.get_tensor_by_name('logits:0')\n",
    "        loaded_acc = loaded_graph.get_tensor_by_name('accuracy:0')\n",
    "        \n",
    "        # Get accuracy in batches for memory limitations\n",
    "        test_batch_acc_total = 0\n",
    "        test_batch_count = 0\n",
    "        \n",
    "        for train_feature_batch, train_label_batch in helper.batch_features_labels(test_features, test_labels, batch_size):\n",
    "            test_batch_acc_total += sess.run(\n",
    "                loaded_acc,\n",
    "                feed_dict={loaded_x: train_feature_batch, loaded_y: train_label_batch, loaded_keep_prob: 1.0})\n",
    "            test_batch_count += 1\n",
    "\n",
    "        print('Testing Accuracy: {}\\n'.format(test_batch_acc_total/test_batch_count))\n",
    "\n",
    "        # Print Random Samples\n",
    "        random_test_features, random_test_labels = tuple(zip(*random.sample(list(zip(test_features, test_labels)), n_samples)))\n",
    "        random_test_predictions = sess.run(\n",
    "            tf.nn.top_k(tf.nn.softmax(loaded_logits), top_n_predictions),\n",
    "            feed_dict={loaded_x: random_test_features, loaded_y: random_test_labels, loaded_keep_prob: 1.0})\n",
    "        helper.display_image_predictions(random_test_features, random_test_labels, random_test_predictions)\n",
    "\n",
    "\n",
    "test_model()"
   ]
  },
  {
   "cell_type": "markdown",
   "metadata": {
    "deletable": true,
    "editable": true
   },
   "source": [
    "## Why 50-80% Accuracy?\n",
    "You might be wondering why you can't get an accuracy any higher. First things first, 50% isn't bad for a simple CNN.  Pure guessing would get you 10% accuracy. That's because there are many more techniques that can be applied to your model and we recemmond that once you are done with this project, you explore!\n",
    "\n",
    "## Submitting This Project\n",
    "When submitting this project, make sure to run all the cells before saving the notebook.  Save the notebook file as \"dlnd_image_classification.ipynb\" and save it as a HTML file under \"File\" -> \"Download as\".  Include the \"helper.py\" and \"problem_unittests.py\" files in your submission."
   ]
  },
  {
   "cell_type": "code",
   "execution_count": null,
   "metadata": {
    "collapsed": true,
    "deletable": true,
    "editable": true
   },
   "outputs": [],
   "source": []
  }
 ],
 "metadata": {
  "kernelspec": {
   "display_name": "Python 3",
   "language": "python",
   "name": "python3"
  },
  "language_info": {
   "codemirror_mode": {
    "name": "ipython",
    "version": 3
   },
   "file_extension": ".py",
   "mimetype": "text/x-python",
   "name": "python",
   "nbconvert_exporter": "python",
   "pygments_lexer": "ipython3",
   "version": "3.5.3"
  }
 },
 "nbformat": 4,
 "nbformat_minor": 0
}
