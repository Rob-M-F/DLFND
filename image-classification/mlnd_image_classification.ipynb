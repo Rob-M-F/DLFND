{
 "cells": [
  {
   "cell_type": "markdown",
   "metadata": {
    "collapsed": true,
    "deletable": true,
    "editable": true
   },
   "source": [
    "# Image Classification\n",
    "In this project, you'll classify images from the [CIFAR-10 dataset](https://www.cs.toronto.edu/~kriz/cifar.html).  The dataset consists of airplanes, dogs, cats, and other objects. You'll preprocess the images, then train a convolutional neural network on all the samples. The images need to be normalized and the labels need to be one-hot encoded.  You'll get to apply what you learned and build a convolutional, max pooling, dropout, and fully connected layers.  At the end, you'll get to see your neural network's predictions on the sample images.\n",
    "## Get the Data\n",
    "Run the following cell to download the [CIFAR-10 dataset for python](https://www.cs.toronto.edu/~kriz/cifar-10-python.tar.gz)."
   ]
  },
  {
   "cell_type": "code",
   "execution_count": 1,
   "metadata": {
    "collapsed": false,
    "deletable": true,
    "editable": true
   },
   "outputs": [
    {
     "name": "stdout",
     "output_type": "stream",
     "text": [
      "All files found!\n"
     ]
    }
   ],
   "source": [
    "\"\"\"\n",
    "DON'T MODIFY ANYTHING IN THIS CELL THAT IS BELOW THIS LINE\n",
    "\"\"\"\n",
    "from urllib.request import urlretrieve\n",
    "from os.path import isfile, isdir\n",
    "from tqdm import tqdm\n",
    "import problem_unittests as tests\n",
    "import tarfile\n",
    "\n",
    "cifar10_dataset_folder_path = 'cifar-10-batches-py'\n",
    "\n",
    "class DLProgress(tqdm):\n",
    "    last_block = 0\n",
    "\n",
    "    def hook(self, block_num=1, block_size=1, total_size=None):\n",
    "        self.total = total_size\n",
    "        self.update((block_num - self.last_block) * block_size)\n",
    "        self.last_block = block_num\n",
    "\n",
    "if not isfile('cifar-10-python.tar.gz'):\n",
    "    with DLProgress(unit='B', unit_scale=True, miniters=1, desc='CIFAR-10 Dataset') as pbar:\n",
    "        urlretrieve(\n",
    "            'https://www.cs.toronto.edu/~kriz/cifar-10-python.tar.gz',\n",
    "            'cifar-10-python.tar.gz',\n",
    "            pbar.hook)\n",
    "\n",
    "if not isdir(cifar10_dataset_folder_path):\n",
    "    with tarfile.open('cifar-10-python.tar.gz') as tar:\n",
    "        tar.extractall()\n",
    "        tar.close()\n",
    "\n",
    "\n",
    "tests.test_folder_path(cifar10_dataset_folder_path)"
   ]
  },
  {
   "cell_type": "markdown",
   "metadata": {
    "deletable": true,
    "editable": true
   },
   "source": [
    "## Explore the Data\n",
    "The dataset is broken into batches to prevent your machine from running out of memory.  The CIFAR-10 dataset consists of 5 batches, named `data_batch_1`, `data_batch_2`, etc.. Each batch contains the labels and images that are one of the following:\n",
    "* airplane\n",
    "* automobile\n",
    "* bird\n",
    "* cat\n",
    "* deer\n",
    "* dog\n",
    "* frog\n",
    "* horse\n",
    "* ship\n",
    "* truck\n",
    "\n",
    "Understanding a dataset is part of making predictions on the data.  Play around with the code cell below by changing the `batch_id` and `sample_id`. The `batch_id` is the id for a batch (1-5). The `sample_id` is the id for a image and label pair in the batch.\n",
    "\n",
    "Ask yourself \"What are all possible labels?\", \"What is the range of values for the image data?\", \"Are the labels in order or random?\".  Answers to questions like these will help you preprocess the data and end up with better predictions."
   ]
  },
  {
   "cell_type": "code",
   "execution_count": 2,
   "metadata": {
    "collapsed": false,
    "deletable": true,
    "editable": true
   },
   "outputs": [
    {
     "name": "stdout",
     "output_type": "stream",
     "text": [
      "\n",
      "Stats of batch 1:\n",
      "Samples: 10000\n",
      "Label Counts: {0: 1005, 1: 974, 2: 1032, 3: 1016, 4: 999, 5: 937, 6: 1030, 7: 1001, 8: 1025, 9: 981}\n",
      "First 20 Labels: [6, 9, 9, 4, 1, 1, 2, 7, 8, 3, 4, 7, 7, 2, 9, 9, 9, 3, 2, 6]\n",
      "\n",
      "Example of Image 5:\n",
      "Image - Min Value: 0 Max Value: 252\n",
      "Image - Shape: (32, 32, 3)\n",
      "Label - Label Id: 1 Name: automobile\n"
     ]
    },
    {
     "data": {
      "image/png": "[encoded data removed]",
      "text/plain": [
       "<matplotlib.figure.Figure at 0x222bf98cf60>"
      ]
     },
     "metadata": {
      "image/png": {
       "height": 250,
       "width": 253
      }
     },
     "output_type": "display_data"
    }
   ],
   "source": [
    "%matplotlib inline\n",
    "%config InlineBackend.figure_format = 'retina'\n",
    "\n",
    "import helper\n",
    "import numpy as np\n",
    "\n",
    "# Explore the dataset\n",
    "batch_id = 1\n",
    "sample_id = 5\n",
    "helper.display_stats(cifar10_dataset_folder_path, batch_id, sample_id)"
   ]
  },
  {
   "cell_type": "markdown",
   "metadata": {
    "deletable": true,
    "editable": true
   },
   "source": [
    "## Implement Preprocess Functions\n",
    "### Normalize\n",
    "In the cell below, implement the `normalize` function to take in image data, `x`, and return it as a normalized Numpy array. The values should be in the range of 0 to 1, inclusive.  The return object should be the same shape as `x`."
   ]
  },
  {
   "cell_type": "code",
   "execution_count": 3,
   "metadata": {
    "collapsed": false,
    "deletable": true,
    "editable": true
   },
   "outputs": [
    {
     "name": "stdout",
     "output_type": "stream",
     "text": [
      "Tests Passed\n"
     ]
    }
   ],
   "source": [
    "def normalize(x):\n",
    "    \"\"\"\n",
    "    Normalize a list of sample image data in the range of 0 to 1\n",
    "    : x: List of image data.  The image shape is (32, 32, 3)\n",
    "    : return: Numpy array of normalize data\n",
    "    \"\"\"\n",
    "    return np.divide(x, 255.)\n",
    "\n",
    "\n",
    "\"\"\"\n",
    "DON'T MODIFY ANYTHING IN THIS CELL THAT IS BELOW THIS LINE\n",
    "\"\"\"\n",
    "tests.test_normalize(normalize)"
   ]
  },
  {
   "cell_type": "markdown",
   "metadata": {
    "deletable": true,
    "editable": true
   },
   "source": [
    "### One-hot encode\n",
    "Just like the previous code cell, you'll be implementing a function for preprocessing.  This time, you'll implement the `one_hot_encode` function. The input, `x`, are a list of labels.  Implement the function to return the list of labels as One-Hot encoded Numpy array.  The possible values for labels are 0 to 9. The one-hot encoding function should return the same encoding for each value between each call to `one_hot_encode`.  Make sure to save the map of encodings outside the function.\n",
    "\n",
    "**Hint:**\n",
    "\n",
    "Look into LabelBinarizer in the preprocessing module of sklearn."
   ]
  },
  {
   "cell_type": "code",
   "execution_count": 4,
   "metadata": {
    "collapsed": false,
    "deletable": true,
    "editable": true
   },
   "outputs": [
    {
     "name": "stdout",
     "output_type": "stream",
     "text": [
      "Tests Passed\n"
     ]
    }
   ],
   "source": [
    "def one_hot_encode(x):\n",
    "    \"\"\"\n",
    "    One hot encode a list of sample labels. Return a one-hot encoded vector for each label.\n",
    "    : x: List of sample Labels\n",
    "    : return: Numpy array of one-hot encoded labels\n",
    "    \"\"\"\n",
    "    a = np.zeros((len(x), 10), dtype=np.float32)\n",
    "    for i, j in enumerate(x):\n",
    "        a[i,j]  = 1\n",
    "    return a\n",
    "\n",
    "\n",
    "\"\"\"\n",
    "DON'T MODIFY ANYTHING IN THIS CELL THAT IS BELOW THIS LINE\n",
    "\"\"\"\n",
    "tests.test_one_hot_encode(one_hot_encode)"
   ]
  },
  {
   "cell_type": "markdown",
   "metadata": {
    "deletable": true,
    "editable": true
   },
   "source": [
    "### Randomize Data\n",
    "As you saw from exploring the data above, the order of the samples are randomized.  It doesn't hurt to randomize it again, but you don't need to for this dataset."
   ]
  },
  {
   "cell_type": "markdown",
   "metadata": {
    "deletable": true,
    "editable": true
   },
   "source": [
    "## Preprocess all the data and save it\n",
    "Running the code cell below will preprocess all the CIFAR-10 data and save it to file. The code below also uses 10% of the training data for validation."
   ]
  },
  {
   "cell_type": "code",
   "execution_count": 5,
   "metadata": {
    "collapsed": false,
    "deletable": true,
    "editable": true
   },
   "outputs": [],
   "source": [
    "\"\"\"\n",
    "DON'T MODIFY ANYTHING IN THIS CELL\n",
    "\"\"\"\n",
    "# Preprocess Training, Validation, and Testing Data\n",
    "helper.preprocess_and_save_data(cifar10_dataset_folder_path, normalize, one_hot_encode)"
   ]
  },
  {
   "cell_type": "markdown",
   "metadata": {
    "deletable": true,
    "editable": true
   },
   "source": [
    "# Check Point\n",
    "This is your first checkpoint.  If you ever decide to come back to this notebook or have to restart the notebook, you can start from here.  The preprocessed data has been saved to disk."
   ]
  },
  {
   "cell_type": "code",
   "execution_count": 6,
   "metadata": {
    "collapsed": true,
    "deletable": true,
    "editable": true
   },
   "outputs": [],
   "source": [
    "\"\"\"\n",
    "DON'T MODIFY ANYTHING IN THIS CELL\n",
    "\"\"\"\n",
    "import pickle\n",
    "import problem_unittests as tests\n",
    "import helper\n",
    "\n",
    "# Load the Preprocessed Validation data\n",
    "valid_features, valid_labels = pickle.load(open('preprocess_validation.p', mode='rb'))"
   ]
  },
  {
   "cell_type": "markdown",
   "metadata": {
    "deletable": true,
    "editable": true
   },
   "source": [
    "## Build the network\n",
    "For the neural network, you'll build each layer into a function.  Most of the code you've seen has been outside of functions. To test your code more thoroughly, we require that you put each layer in a function.  This allows us to give you better feedback and test for simple mistakes using our unittests before you submit your project.\n",
    "\n",
    ">**Note:** If you're finding it hard to dedicate enough time for this course each week, we've provided a small shortcut to this part of the project. In the next couple of problems, you'll have the option to use classes from the [TensorFlow Layers](https://www.tensorflow.org/api_docs/python/tf/layers) or [TensorFlow Layers (contrib)](https://www.tensorflow.org/api_guides/python/contrib.layers) packages to build each layer, except the layers you build in the \"Convolutional and Max Pooling Layer\" section.  TF Layers is similar to Keras's and TFLearn's abstraction to layers, so it's easy to pickup.\n",
    "\n",
    ">However, if you would like to get the most out of this course, try to solve all the problems _without_ using anything from the TF Layers packages. You **can** still use classes from other packages that happen to have the same name as ones you find in TF Layers! For example, instead of using the TF Layers version of the `conv2d` class, [tf.layers.conv2d](https://www.tensorflow.org/api_docs/python/tf/layers/conv2d), you would want to use the TF Neural Network version of `conv2d`, [tf.nn.conv2d](https://www.tensorflow.org/api_docs/python/tf/nn/conv2d). \n",
    "\n",
    "Let's begin!\n",
    "\n",
    "### Input\n",
    "The neural network needs to read the image data, one-hot encoded labels, and dropout keep probability. Implement the following functions\n",
    "* Implement `neural_net_image_input`\n",
    " * Return a [TF Placeholder](https://www.tensorflow.org/api_docs/python/tf/placeholder)\n",
    " * Set the shape using `image_shape` with batch size set to `None`.\n",
    " * Name the TensorFlow placeholder \"x\" using the TensorFlow `name` parameter in the [TF Placeholder](https://www.tensorflow.org/api_docs/python/tf/placeholder).\n",
    "* Implement `neural_net_label_input`\n",
    " * Return a [TF Placeholder](https://www.tensorflow.org/api_docs/python/tf/placeholder)\n",
    " * Set the shape using `n_classes` with batch size set to `None`.\n",
    " * Name the TensorFlow placeholder \"y\" using the TensorFlow `name` parameter in the [TF Placeholder](https://www.tensorflow.org/api_docs/python/tf/placeholder).\n",
    "* Implement `neural_net_keep_prob_input`\n",
    " * Return a [TF Placeholder](https://www.tensorflow.org/api_docs/python/tf/placeholder) for dropout keep probability.\n",
    " * Name the TensorFlow placeholder \"keep_prob\" using the TensorFlow `name` parameter in the [TF Placeholder](https://www.tensorflow.org/api_docs/python/tf/placeholder).\n",
    "\n",
    "These names will be used at the end of the project to load your saved model.\n",
    "\n",
    "Note: `None` for shapes in TensorFlow allow for a dynamic size."
   ]
  },
  {
   "cell_type": "code",
   "execution_count": 7,
   "metadata": {
    "collapsed": false,
    "deletable": true,
    "editable": true
   },
   "outputs": [
    {
     "name": "stdout",
     "output_type": "stream",
     "text": [
      "Image Input Tests Passed.\n",
      "Label Input Tests Passed.\n",
      "Keep Prob Tests Passed.\n"
     ]
    }
   ],
   "source": [
    "import tensorflow as tf\n",
    "\n",
    "def neural_net_image_input(image_shape):\n",
    "    \"\"\"\n",
    "    Return a Tensor for a bach of image input\n",
    "    : image_shape: Shape of the images\n",
    "    : return: Tensor for image input.\n",
    "    \"\"\"\n",
    "    return tf.placeholder(tf.float32, shape=(None, image_shape[0], image_shape[1], \n",
    "                                             image_shape[2]), name='x')\n",
    "\n",
    "\n",
    "def neural_net_label_input(n_classes):\n",
    "    \"\"\"\n",
    "    Return a Tensor for a batch of label input\n",
    "    : n_classes: Number of classes\n",
    "    : return: Tensor for label input.\n",
    "    \"\"\"\n",
    "    return tf.placeholder(tf.float32, shape=(None, n_classes), name='y')\n",
    "\n",
    "\n",
    "def neural_net_keep_prob_input():\n",
    "    \"\"\"\n",
    "    Return a Tensor for keep probability\n",
    "    : return: Tensor for keep probability.\n",
    "    \"\"\"\n",
    "    return tf.placeholder(tf.float32, name='keep_prob')\n",
    "\n",
    "\n",
    "\"\"\"\n",
    "DON'T MODIFY ANYTHING IN THIS CELL THAT IS BELOW THIS LINE\n",
    "\"\"\"\n",
    "tf.reset_default_graph()\n",
    "tests.test_nn_image_inputs(neural_net_image_input)\n",
    "tests.test_nn_label_inputs(neural_net_label_input)\n",
    "tests.test_nn_keep_prob_inputs(neural_net_keep_prob_input)"
   ]
  },
  {
   "cell_type": "markdown",
   "metadata": {
    "deletable": true,
    "editable": true
   },
   "source": [
    "### Convolution and Max Pooling Layer\n",
    "Convolution layers have a lot of success with images. For this code cell, you should implement the function `conv2d_maxpool` to apply convolution then max pooling:\n",
    "* Create the weight and bias using `conv_ksize`, `conv_num_outputs` and the shape of `x_tensor`.\n",
    "* Apply a convolution to `x_tensor` using weight and `conv_strides`.\n",
    " * We recommend you use same padding, but you're welcome to use any padding.\n",
    "* Add bias\n",
    "* Add a nonlinear activation to the convolution.\n",
    "* Apply Max Pooling using `pool_ksize` and `pool_strides`.\n",
    " * We recommend you use same padding, but you're welcome to use any padding.\n",
    "\n",
    "**Note:** You **can't** use [TensorFlow Layers](https://www.tensorflow.org/api_docs/python/tf/layers) or [TensorFlow Layers (contrib)](https://www.tensorflow.org/api_guides/python/contrib.layers) for **this** layer, but you can still use TensorFlow's [Neural Network](https://www.tensorflow.org/api_docs/python/tf/nn) package. You may still use the shortcut option for all the **other** layers.\n",
    "\n",
    "** Hint: **\n",
    "\n",
    "When unpacking values as an argument in Python, look into the [unpacking](https://docs.python.org/3/tutorial/controlflow.html#unpacking-argument-lists) operator. "
   ]
  },
  {
   "cell_type": "code",
   "execution_count": 8,
   "metadata": {
    "collapsed": false,
    "deletable": true,
    "editable": true
   },
   "outputs": [
    {
     "name": "stdout",
     "output_type": "stream",
     "text": [
      "Tests Passed\n"
     ]
    }
   ],
   "source": [
    "def conv2d_maxpool(x_tensor, conv_num_outputs, conv_ksize, conv_strides, pool_ksize, pool_strides):\n",
    "    \"\"\"\n",
    "    Apply convolution then max pooling to x_tensor\n",
    "    :param x_tensor: TensorFlow Tensor\n",
    "    :param conv_num_outputs: Number of outputs for the convolutional layer\n",
    "    :param conv_ksize: kernal size 2-D Tuple for the convolutional layer\n",
    "    :param conv_strides: Stride 2-D Tuple for convolution\n",
    "    :param pool_ksize: kernal size 2-D Tuple for pool\n",
    "    :param pool_strides: Stride 2-D Tuple for pool\n",
    "    : return: A tensor that represents convolution and max pooling of x_tensor\n",
    "    \"\"\"\n",
    "    weights = tf.Variable(tf.truncated_normal([conv_ksize[0], conv_ksize[1], x_tensor.get_shape().as_list()[3], \n",
    "                                               conv_num_outputs], stddev=0.1))\n",
    "    bias = tf.Variable(tf.constant(1.0, shape=[conv_num_outputs]))\n",
    "    \n",
    "    conv = tf.nn.conv2d(x_tensor, weights, [1, conv_strides[0], conv_strides[1], 1], padding='SAME')\n",
    "    conv = tf.nn.relu(conv + bias)\n",
    "    conv = tf.nn.max_pool(conv, [1, pool_strides[0], pool_strides[0], 1], \n",
    "                          [1, pool_ksize[0], pool_ksize[1], 1], padding='SAME')\n",
    "    return conv\n",
    "\n",
    "\n",
    "\"\"\"\n",
    "DON'T MODIFY ANYTHING IN THIS CELL THAT IS BELOW THIS LINE\n",
    "\"\"\"\n",
    "tests.test_con_pool(conv2d_maxpool)"
   ]
  },
  {
   "cell_type": "markdown",
   "metadata": {
    "deletable": true,
    "editable": true
   },
   "source": [
    "### Flatten Layer\n",
    "Implement the `flatten` function to change the dimension of `x_tensor` from a 4-D tensor to a 2-D tensor.  The output should be the shape (*Batch Size*, *Flattened Image Size*). Shortcut option: you can use classes from the [TensorFlow Layers](https://www.tensorflow.org/api_docs/python/tf/layers) or [TensorFlow Layers (contrib)](https://www.tensorflow.org/api_guides/python/contrib.layers) packages for this layer. For more of a challenge, only use other TensorFlow packages."
   ]
  },
  {
   "cell_type": "code",
   "execution_count": 9,
   "metadata": {
    "collapsed": false,
    "deletable": true,
    "editable": true
   },
   "outputs": [
    {
     "name": "stdout",
     "output_type": "stream",
     "text": [
      "Tests Passed\n"
     ]
    }
   ],
   "source": [
    "def flatten(x_tensor):\n",
    "    \"\"\"\n",
    "    Flatten x_tensor to (Batch Size, Flattened Image Size)\n",
    "    : x_tensor: A tensor of size (Batch Size, ...), where ... are the image dimensions.\n",
    "    : return: A tensor of size (Batch Size, Flattened Image Size).\n",
    "    \"\"\"\n",
    "    shape = x_tensor.get_shape().as_list()\n",
    "    new_dim = 1\n",
    "    for i in shape[1:]:\n",
    "        new_dim *= i\n",
    "    x = tf.reshape(x_tensor, (-1, new_dim))\n",
    "    return x\n",
    "\n",
    "\n",
    "\"\"\"\n",
    "DON'T MODIFY ANYTHING IN THIS CELL THAT IS BELOW THIS LINE\n",
    "\"\"\"\n",
    "tests.test_flatten(flatten)"
   ]
  },
  {
   "cell_type": "markdown",
   "metadata": {
    "deletable": true,
    "editable": true
   },
   "source": [
    "### Fully-Connected Layer\n",
    "Implement the `fully_conn` function to apply a fully connected layer to `x_tensor` with the shape (*Batch Size*, *num_outputs*). Shortcut option: you can use classes from the [TensorFlow Layers](https://www.tensorflow.org/api_docs/python/tf/layers) or [TensorFlow Layers (contrib)](https://www.tensorflow.org/api_guides/python/contrib.layers) packages for this layer. For more of a challenge, only use other TensorFlow packages."
   ]
  },
  {
   "cell_type": "code",
   "execution_count": 10,
   "metadata": {
    "collapsed": false,
    "deletable": true,
    "editable": true
   },
   "outputs": [
    {
     "name": "stdout",
     "output_type": "stream",
     "text": [
      "Tests Passed\n"
     ]
    }
   ],
   "source": [
    "def fully_conn(x_tensor, num_outputs):\n",
    "    \"\"\"\n",
    "    Apply a fully connected layer to x_tensor using weight and bias\n",
    "    : x_tensor: A 2-D tensor where the first dimension is batch size.\n",
    "    : num_outputs: The number of output that the new tensor should be.\n",
    "    : return: A 2-D tensor where the second dimension is num_outputs.\n",
    "    \"\"\"\n",
    "    shape = x_tensor.get_shape().as_list()\n",
    "    weights = tf.Variable(tf.truncated_normal([shape[1], num_outputs], stddev=0.1))\n",
    "    bias = tf.Variable(tf.constant(1.0, shape=[num_outputs]))\n",
    "    \n",
    "    layer = tf.matmul(x_tensor, weights)\n",
    "    layer = tf.add(layer, bias)\n",
    "    layer = tf.nn.relu(layer)\n",
    "    return layer\n",
    "\n",
    "\n",
    "\"\"\"\n",
    "DON'T MODIFY ANYTHING IN THIS CELL THAT IS BELOW THIS LINE\n",
    "\"\"\"\n",
    "tests.test_fully_conn(fully_conn)"
   ]
  },
  {
   "cell_type": "markdown",
   "metadata": {
    "deletable": true,
    "editable": true
   },
   "source": [
    "### Output Layer\n",
    "Implement the `output` function to apply a fully connected layer to `x_tensor` with the shape (*Batch Size*, *num_outputs*). Shortcut option: you can use classes from the [TensorFlow Layers](https://www.tensorflow.org/api_docs/python/tf/layers) or [TensorFlow Layers (contrib)](https://www.tensorflow.org/api_guides/python/contrib.layers) packages for this layer. For more of a challenge, only use other TensorFlow packages.\n",
    "\n",
    "**Note:** Activation, softmax, or cross entropy should **not** be applied to this."
   ]
  },
  {
   "cell_type": "code",
   "execution_count": 11,
   "metadata": {
    "collapsed": false,
    "deletable": true,
    "editable": true
   },
   "outputs": [
    {
     "name": "stdout",
     "output_type": "stream",
     "text": [
      "Tests Passed\n"
     ]
    }
   ],
   "source": [
    "def output(x_tensor, num_outputs):\n",
    "    \"\"\"\n",
    "    Apply a output layer to x_tensor using weight and bias\n",
    "    : x_tensor: A 2-D tensor where the first dimension is batch size.\n",
    "    : num_outputs: The number of output that the new tensor should be.\n",
    "    : return: A 2-D tensor where the second dimension is num_outputs.\n",
    "    \"\"\"\n",
    "    shape = x_tensor.get_shape().as_list()\n",
    "    weights = tf.Variable(tf.truncated_normal([shape[1], num_outputs], stddev=0.1))\n",
    "    bias = tf.Variable(tf.constant(1.0, shape=[num_outputs]))\n",
    "    \n",
    "    layer = tf.matmul(x_tensor, weights)\n",
    "    layer = tf.add(layer, bias)\n",
    "    return layer\n",
    "\n",
    "\n",
    "\"\"\"\n",
    "DON'T MODIFY ANYTHING IN THIS CELL THAT IS BELOW THIS LINE\n",
    "\"\"\"\n",
    "tests.test_output(output)"
   ]
  },
  {
   "cell_type": "markdown",
   "metadata": {
    "deletable": true,
    "editable": true
   },
   "source": [
    "### Create Convolutional Model\n",
    "Implement the function `conv_net` to create a convolutional neural network model. The function takes in a batch of images, `x`, and outputs logits.  Use the layers you created above to create this model:\n",
    "\n",
    "* Apply 1, 2, or 3 Convolution and Max Pool layers\n",
    "* Apply a Flatten Layer\n",
    "* Apply 1, 2, or 3 Fully Connected Layers\n",
    "* Apply an Output Layer\n",
    "* Return the output\n",
    "* Apply [TensorFlow's Dropout](https://www.tensorflow.org/api_docs/python/tf/nn/dropout) to one or more layers in the model using `keep_prob`. "
   ]
  },
  {
   "cell_type": "code",
   "execution_count": 19,
   "metadata": {
    "collapsed": false,
    "deletable": true,
    "editable": true,
    "scrolled": false
   },
   "outputs": [
    {
     "name": "stdout",
     "output_type": "stream",
     "text": [
      "Neural Network Built!\n"
     ]
    }
   ],
   "source": [
    "def conv_net(x, keep_prob):\n",
    "    \"\"\"\n",
    "    Create a convolutional neural network model\n",
    "    : x: Placeholder tensor that holds image data.\n",
    "    : keep_prob: Placeholder tensor that hold dropout keep probability.\n",
    "    : return: Tensor that represents logits\n",
    "    \"\"\"\n",
    "    # TODO: Apply 1, 2, or 3 Convolution and Max Pool layers\n",
    "    #    Play around with different number of outputs, kernel size and stride\n",
    "    # Function Definition from Above:\n",
    "    #    conv2d_maxpool(x_tensor, conv_num_outputs, conv_ksize, conv_strides, pool_ksize, pool_strides)\n",
    "    model = conv2d_maxpool(x, conv_num_outputs=8, conv_ksize=(10,10), \n",
    "                           conv_strides=(1,1), pool_ksize=(2,2), \n",
    "                           pool_strides=(2,2))    \n",
    "    model = conv2d_maxpool(model, conv_num_outputs=16, conv_ksize=(5,5), \n",
    "                           conv_strides=(1,1), pool_ksize=(2,2), \n",
    "                           pool_strides=(2,2))    \n",
    "    model = conv2d_maxpool(model, conv_num_outputs=32, conv_ksize=(3,3), \n",
    "                           conv_strides=(1,1), pool_ksize=(2,2), \n",
    "                           pool_strides=(1,1))    \n",
    "\n",
    "    # TODO: Apply a Flatten Layer\n",
    "    # Function Definition from Above:\n",
    "    #   flatten(x_tensor)\n",
    "    model = flatten(model)    \n",
    "\n",
    "    # TODO: Apply 1, 2, or 3 Fully Connected Layers\n",
    "    #    Play around with different number of outputs\n",
    "    # Function Definition from Above:\n",
    "    #   fully_conn(x_tensor, num_outputs)\n",
    "    model = fully_conn(model, 1024)\n",
    "    model = tf.nn.dropout(model, keep_prob)\n",
    "    model = fully_conn(model, 256)\n",
    "    model = tf.nn.dropout(model, keep_prob)\n",
    "    model = fully_conn(model, 128)\n",
    "    model = tf.nn.dropout(model, keep_prob)    \n",
    "    \n",
    "    # TODO: Apply an Output Layer\n",
    "    #    Set this to the number of classes\n",
    "    # Function Definition from Above:\n",
    "    #   output(x_tensor, num_outputs)\n",
    "    model = output(model, 10)    \n",
    "    \n",
    "    # TODO: return output\n",
    "    return model\n",
    "\n",
    "\n",
    "\"\"\"\n",
    "DON'T MODIFY ANYTHING IN THIS CELL THAT IS BELOW THIS LINE\n",
    "\"\"\"\n",
    "\n",
    "##############################\n",
    "## Build the Neural Network ##\n",
    "##############################\n",
    "\n",
    "# Remove previous weights, bias, inputs, etc..\n",
    "tf.reset_default_graph()\n",
    "\n",
    "# Inputs\n",
    "x = neural_net_image_input((32, 32, 3))\n",
    "y = neural_net_label_input(10)\n",
    "keep_prob = neural_net_keep_prob_input()\n",
    "\n",
    "# Model\n",
    "logits = conv_net(x, keep_prob)\n",
    "\n",
    "# Name logits Tensor, so that is can be loaded from disk after training\n",
    "logits = tf.identity(logits, name='logits')\n",
    "\n",
    "# Loss and Optimizer\n",
    "cost = tf.reduce_mean(tf.nn.softmax_cross_entropy_with_logits(logits=logits, labels=y))\n",
    "optimizer = tf.train.AdamOptimizer().minimize(cost)\n",
    "\n",
    "# Accuracy\n",
    "correct_pred = tf.equal(tf.argmax(logits, 1), tf.argmax(y, 1))\n",
    "accuracy = tf.reduce_mean(tf.cast(correct_pred, tf.float32), name='accuracy')\n",
    "\n",
    "tests.test_conv_net(conv_net)"
   ]
  },
  {
   "cell_type": "markdown",
   "metadata": {
    "deletable": true,
    "editable": true
   },
   "source": [
    "## Train the Neural Network\n",
    "### Single Optimization\n",
    "Implement the function `train_neural_network` to do a single optimization.  The optimization should use `optimizer` to optimize in `session` with a `feed_dict` of the following:\n",
    "* `x` for image input\n",
    "* `y` for labels\n",
    "* `keep_prob` for keep probability for dropout\n",
    "\n",
    "This function will be called for each batch, so `tf.global_variables_initializer()` has already been called.\n",
    "\n",
    "Note: Nothing needs to be returned. This function is only optimizing the neural network."
   ]
  },
  {
   "cell_type": "code",
   "execution_count": 20,
   "metadata": {
    "collapsed": false,
    "deletable": true,
    "editable": true
   },
   "outputs": [
    {
     "name": "stdout",
     "output_type": "stream",
     "text": [
      "Tests Passed\n"
     ]
    }
   ],
   "source": [
    "def train_neural_network(session, optimizer, keep_probability, feature_batch, label_batch):\n",
    "    \"\"\"\n",
    "    Optimize the session on a batch of images and labels\n",
    "    : session: Current TensorFlow session\n",
    "    : optimizer: TensorFlow optimizer function\n",
    "    : keep_probability: keep probability\n",
    "    : feature_batch: Batch of Numpy image data\n",
    "    : label_batch: Batch of Numpy label data\n",
    "    \"\"\"\n",
    "    feed_dict = {x:feature_batch, y:label_batch, keep_prob:keep_probability}\n",
    "    fetches = [optimizer]\n",
    "    session.run(fetches, feed_dict=feed_dict)\n",
    "\n",
    "\n",
    "\"\"\"\n",
    "DON'T MODIFY ANYTHING IN THIS CELL THAT IS BELOW THIS LINE\n",
    "\"\"\"\n",
    "tests.test_train_nn(train_neural_network)"
   ]
  },
  {
   "cell_type": "markdown",
   "metadata": {
    "deletable": true,
    "editable": true
   },
   "source": [
    "### Show Stats\n",
    "Implement the function `print_stats` to print loss and validation accuracy.  Use the global variables `valid_features` and `valid_labels` to calculate validation accuracy.  Use a keep probability of `1.0` to calculate the loss and validation accuracy."
   ]
  },
  {
   "cell_type": "code",
   "execution_count": 21,
   "metadata": {
    "collapsed": false,
    "deletable": true,
    "editable": true
   },
   "outputs": [],
   "source": [
    "def print_stats(session, feature_batch, label_batch, cost, accuracy):\n",
    "    \"\"\"\n",
    "    Print information about loss and validation accuracy\n",
    "    : session: Current TensorFlow session\n",
    "    : feature_batch: Batch of Numpy image data\n",
    "    : label_batch: Batch of Numpy label data\n",
    "    : cost: TensorFlow cost function\n",
    "    : accuracy: TensorFlow accuracy function\n",
    "    \"\"\"\n",
    "    feed_dict = {x:feature_batch, y:label_batch, keep_prob:keep_probability}\n",
    "    loss, acc = session.run([cost, accuracy], feed_dict=feed_dict)\n",
    "    print('\\tBatch: loss {:6.4f} and accuracy {:4.2f}%'.format(loss, acc*100), end='\\t\\t')\n",
    "    \n",
    "    feed_dict = {x:valid_features, y:valid_labels, keep_prob:1}\n",
    "    loss, acc = session.run([cost, accuracy], feed_dict=feed_dict)\n",
    "    print('Valid: loss {:6.4f}, accuracy {:4.2f}%'.format(loss, acc*100))"
   ]
  },
  {
   "cell_type": "markdown",
   "metadata": {
    "deletable": true,
    "editable": true
   },
   "source": [
    "### Hyperparameters\n",
    "Tune the following parameters:\n",
    "* Set `epochs` to the number of iterations until the network stops learning or start overfitting\n",
    "* Set `batch_size` to the highest number that your machine has memory for.  Most people set them to common sizes of memory:\n",
    " * 64\n",
    " * 128\n",
    " * 256\n",
    " * ...\n",
    "* Set `keep_probability` to the probability of keeping a node using dropout"
   ]
  },
  {
   "cell_type": "code",
   "execution_count": 22,
   "metadata": {
    "collapsed": true,
    "deletable": true,
    "editable": true
   },
   "outputs": [],
   "source": [
    "# TODO: Tune Parameters\n",
    "epochs = 100\n",
    "batch_size = 1024\n",
    "keep_probability = 0.5"
   ]
  },
  {
   "cell_type": "markdown",
   "metadata": {
    "deletable": true,
    "editable": true
   },
   "source": [
    "### Train on a Single CIFAR-10 Batch\n",
    "Instead of training the neural network on all the CIFAR-10 batches of data, let's use a single batch. This should save time while you iterate on the model to get a better accuracy.  Once the final validation accuracy is 50% or greater, run the model on all the data in the next section."
   ]
  },
  {
   "cell_type": "code",
   "execution_count": 23,
   "metadata": {
    "collapsed": false,
    "deletable": true,
    "editable": true,
    "scrolled": false
   },
   "outputs": [
    {
     "name": "stdout",
     "output_type": "stream",
     "text": [
      "Checking the Training on a Single Batch...\n",
      "Epoch  1, CIFAR-10 Batch 1:  \tBatch: loss 5.2844 and accuracy 7.80%\t\tValid: loss 2.3669, accuracy 8.34%\n",
      "Epoch  2, CIFAR-10 Batch 1:  \tBatch: loss 3.1522 and accuracy 10.27%\t\tValid: loss 2.3258, accuracy 9.54%\n",
      "Epoch  3, CIFAR-10 Batch 1:  \tBatch: loss 2.7748 and accuracy 11.01%\t\tValid: loss 2.3193, accuracy 8.66%\n",
      "Epoch  4, CIFAR-10 Batch 1:  \tBatch: loss 2.5735 and accuracy 10.89%\t\tValid: loss 2.2909, accuracy 8.48%\n",
      "Epoch  5, CIFAR-10 Batch 1:  \tBatch: loss 2.5797 and accuracy 10.52%\t\tValid: loss 2.2893, accuracy 11.04%\n",
      "Epoch  6, CIFAR-10 Batch 1:  \tBatch: loss 2.5225 and accuracy 11.26%\t\tValid: loss 2.2877, accuracy 13.00%\n",
      "Epoch  7, CIFAR-10 Batch 1:  \tBatch: loss 2.4955 and accuracy 9.90%\t\tValid: loss 2.2876, accuracy 15.78%\n",
      "Epoch  8, CIFAR-10 Batch 1:  \tBatch: loss 2.4434 and accuracy 9.03%\t\tValid: loss 2.2901, accuracy 14.72%\n",
      "Epoch  9, CIFAR-10 Batch 1:  \tBatch: loss 2.4176 and accuracy 10.89%\t\tValid: loss 2.2837, accuracy 14.28%\n",
      "Epoch 10, CIFAR-10 Batch 1:  \tBatch: loss 2.3641 and accuracy 12.75%\t\tValid: loss 2.2861, accuracy 15.50%\n",
      "Epoch 11, CIFAR-10 Batch 1:  \tBatch: loss 2.3478 and accuracy 12.00%\t\tValid: loss 2.2868, accuracy 15.06%\n",
      "Epoch 12, CIFAR-10 Batch 1:  \tBatch: loss 2.3260 and accuracy 12.25%\t\tValid: loss 2.2782, accuracy 15.42%\n",
      "Epoch 13, CIFAR-10 Batch 1:  \tBatch: loss 2.3161 and accuracy 15.35%\t\tValid: loss 2.2677, accuracy 15.68%\n",
      "Epoch 14, CIFAR-10 Batch 1:  \tBatch: loss 2.2609 and accuracy 16.83%\t\tValid: loss 2.2439, accuracy 19.96%\n",
      "Epoch 15, CIFAR-10 Batch 1:  \tBatch: loss 2.2375 and accuracy 15.59%\t\tValid: loss 2.2163, accuracy 20.22%\n",
      "Epoch 16, CIFAR-10 Batch 1:  \tBatch: loss 2.2382 and accuracy 18.44%\t\tValid: loss 2.1818, accuracy 22.06%\n",
      "Epoch 17, CIFAR-10 Batch 1:  \tBatch: loss 2.2016 and accuracy 19.31%\t\tValid: loss 2.1578, accuracy 21.78%\n",
      "Epoch 18, CIFAR-10 Batch 1:  \tBatch: loss 2.2226 and accuracy 18.81%\t\tValid: loss 2.0981, accuracy 23.06%\n",
      "Epoch 19, CIFAR-10 Batch 1:  \tBatch: loss 2.1837 and accuracy 18.07%\t\tValid: loss 2.0830, accuracy 26.42%\n",
      "Epoch 20, CIFAR-10 Batch 1:  \tBatch: loss 2.1241 and accuracy 20.17%\t\tValid: loss 2.0457, accuracy 26.56%\n",
      "Epoch 21, CIFAR-10 Batch 1:  \tBatch: loss 2.1702 and accuracy 20.30%\t\tValid: loss 2.0334, accuracy 26.84%\n",
      "Epoch 22, CIFAR-10 Batch 1:  \tBatch: loss 2.1208 and accuracy 22.65%\t\tValid: loss 1.9995, accuracy 27.62%\n",
      "Epoch 23, CIFAR-10 Batch 1:  \tBatch: loss 2.1114 and accuracy 21.41%\t\tValid: loss 1.9824, accuracy 28.44%\n",
      "Epoch 24, CIFAR-10 Batch 1:  \tBatch: loss 2.0600 and accuracy 23.51%\t\tValid: loss 1.9683, accuracy 28.40%\n",
      "Epoch 25, CIFAR-10 Batch 1:  \tBatch: loss 2.0584 and accuracy 24.38%\t\tValid: loss 1.9452, accuracy 28.68%\n",
      "Epoch 26, CIFAR-10 Batch 1:  \tBatch: loss 2.0646 and accuracy 23.39%\t\tValid: loss 1.9363, accuracy 28.86%\n",
      "Epoch 27, CIFAR-10 Batch 1:  \tBatch: loss 2.0504 and accuracy 24.38%\t\tValid: loss 1.9234, accuracy 29.50%\n",
      "Epoch 28, CIFAR-10 Batch 1:  \tBatch: loss 1.9720 and accuracy 26.36%\t\tValid: loss 1.9031, accuracy 29.46%\n",
      "Epoch 29, CIFAR-10 Batch 1:  \tBatch: loss 2.0093 and accuracy 24.63%\t\tValid: loss 1.8688, accuracy 31.94%\n",
      "Epoch 30, CIFAR-10 Batch 1:  \tBatch: loss 2.0206 and accuracy 25.62%\t\tValid: loss 1.8842, accuracy 30.64%\n",
      "Epoch 31, CIFAR-10 Batch 1:  \tBatch: loss 1.9681 and accuracy 26.11%\t\tValid: loss 1.8434, accuracy 32.30%\n",
      "Epoch 32, CIFAR-10 Batch 1:  \tBatch: loss 1.9722 and accuracy 24.13%\t\tValid: loss 1.8323, accuracy 33.32%\n",
      "Epoch 33, CIFAR-10 Batch 1:  \tBatch: loss 1.9296 and accuracy 28.22%\t\tValid: loss 1.8247, accuracy 33.20%\n",
      "Epoch 34, CIFAR-10 Batch 1:  \tBatch: loss 1.9318 and accuracy 28.96%\t\tValid: loss 1.7852, accuracy 34.40%\n",
      "Epoch 35, CIFAR-10 Batch 1:  \tBatch: loss 1.8846 and accuracy 29.58%\t\tValid: loss 1.7804, accuracy 35.58%\n",
      "Epoch 36, CIFAR-10 Batch 1:  \tBatch: loss 1.9565 and accuracy 25.12%\t\tValid: loss 1.8263, accuracy 33.82%\n",
      "Epoch 37, CIFAR-10 Batch 1:  \tBatch: loss 1.8648 and accuracy 33.17%\t\tValid: loss 1.7692, accuracy 35.70%\n",
      "Epoch 38, CIFAR-10 Batch 1:  \tBatch: loss 1.8505 and accuracy 31.81%\t\tValid: loss 1.7436, accuracy 36.98%\n",
      "Epoch 39, CIFAR-10 Batch 1:  \tBatch: loss 1.8441 and accuracy 32.55%\t\tValid: loss 1.7353, accuracy 37.46%\n",
      "Epoch 40, CIFAR-10 Batch 1:  \tBatch: loss 1.8732 and accuracy 29.33%\t\tValid: loss 1.7505, accuracy 36.96%\n",
      "Epoch 41, CIFAR-10 Batch 1:  \tBatch: loss 1.8303 and accuracy 34.41%\t\tValid: loss 1.7020, accuracy 38.32%\n",
      "Epoch 42, CIFAR-10 Batch 1:  \tBatch: loss 1.7631 and accuracy 33.04%\t\tValid: loss 1.6987, accuracy 38.14%\n",
      "Epoch 43, CIFAR-10 Batch 1:  \tBatch: loss 1.7827 and accuracy 35.27%\t\tValid: loss 1.6867, accuracy 39.22%\n",
      "Epoch 44, CIFAR-10 Batch 1:  \tBatch: loss 1.7886 and accuracy 35.15%\t\tValid: loss 1.6595, accuracy 40.08%\n",
      "Epoch 45, CIFAR-10 Batch 1:  \tBatch: loss 1.7793 and accuracy 35.02%\t\tValid: loss 1.6849, accuracy 39.18%\n",
      "Epoch 46, CIFAR-10 Batch 1:  \tBatch: loss 1.7969 and accuracy 35.77%\t\tValid: loss 1.6538, accuracy 40.52%\n",
      "Epoch 47, CIFAR-10 Batch 1:  \tBatch: loss 1.7700 and accuracy 36.39%\t\tValid: loss 1.6699, accuracy 39.74%\n",
      "Epoch 48, CIFAR-10 Batch 1:  \tBatch: loss 1.7311 and accuracy 35.77%\t\tValid: loss 1.6235, accuracy 41.48%\n",
      "Epoch 49, CIFAR-10 Batch 1:  \tBatch: loss 1.7140 and accuracy 35.77%\t\tValid: loss 1.6328, accuracy 41.54%\n",
      "Epoch 50, CIFAR-10 Batch 1:  \tBatch: loss 1.7038 and accuracy 37.87%\t\tValid: loss 1.6163, accuracy 41.28%\n",
      "Epoch 51, CIFAR-10 Batch 1:  \tBatch: loss 1.7010 and accuracy 36.26%\t\tValid: loss 1.6072, accuracy 42.26%\n",
      "Epoch 52, CIFAR-10 Batch 1:  \tBatch: loss 1.6953 and accuracy 39.11%\t\tValid: loss 1.6097, accuracy 41.60%\n",
      "Epoch 53, CIFAR-10 Batch 1:  \tBatch: loss 1.6315 and accuracy 38.99%\t\tValid: loss 1.5812, accuracy 42.86%\n",
      "Epoch 54, CIFAR-10 Batch 1:  \tBatch: loss 1.6294 and accuracy 40.72%\t\tValid: loss 1.5877, accuracy 42.06%\n",
      "Epoch 55, CIFAR-10 Batch 1:  \tBatch: loss 1.6248 and accuracy 41.83%\t\tValid: loss 1.5625, accuracy 44.36%\n",
      "Epoch 56, CIFAR-10 Batch 1:  \tBatch: loss 1.6353 and accuracy 41.96%\t\tValid: loss 1.5675, accuracy 43.12%\n",
      "Epoch 57, CIFAR-10 Batch 1:  \tBatch: loss 1.6144 and accuracy 42.95%\t\tValid: loss 1.5485, accuracy 44.20%\n",
      "Epoch 58, CIFAR-10 Batch 1:  \tBatch: loss 1.6130 and accuracy 40.72%\t\tValid: loss 1.5351, accuracy 44.72%\n",
      "Epoch 59, CIFAR-10 Batch 1:  \tBatch: loss 1.6374 and accuracy 42.20%\t\tValid: loss 1.5720, accuracy 42.62%\n",
      "Epoch 60, CIFAR-10 Batch 1:  \tBatch: loss 1.5517 and accuracy 41.96%\t\tValid: loss 1.5189, accuracy 45.24%\n",
      "Epoch 61, CIFAR-10 Batch 1:  \tBatch: loss 1.5741 and accuracy 42.33%\t\tValid: loss 1.5242, accuracy 44.94%\n",
      "Epoch 62, CIFAR-10 Batch 1:  \tBatch: loss 1.5296 and accuracy 42.45%\t\tValid: loss 1.5218, accuracy 44.96%\n",
      "Epoch 63, CIFAR-10 Batch 1:  \tBatch: loss 1.5334 and accuracy 45.42%\t\tValid: loss 1.5099, accuracy 45.58%\n",
      "Epoch 64, CIFAR-10 Batch 1:  \tBatch: loss 1.4999 and accuracy 46.04%\t\tValid: loss 1.5101, accuracy 45.46%\n",
      "Epoch 65, CIFAR-10 Batch 1:  \tBatch: loss 1.4967 and accuracy 45.67%\t\tValid: loss 1.5096, accuracy 45.48%\n",
      "Epoch 66, CIFAR-10 Batch 1:  \tBatch: loss 1.4767 and accuracy 46.41%\t\tValid: loss 1.4903, accuracy 46.40%\n",
      "Epoch 67, CIFAR-10 Batch 1:  \tBatch: loss 1.4509 and accuracy 48.51%\t\tValid: loss 1.4917, accuracy 46.64%\n",
      "Epoch 68, CIFAR-10 Batch 1:  \tBatch: loss 1.4652 and accuracy 47.52%\t\tValid: loss 1.5020, accuracy 45.54%\n",
      "Epoch 69, CIFAR-10 Batch 1:  \tBatch: loss 1.4801 and accuracy 46.53%\t\tValid: loss 1.5018, accuracy 45.88%\n",
      "Epoch 70, CIFAR-10 Batch 1:  \tBatch: loss 1.4307 and accuracy 47.90%\t\tValid: loss 1.4699, accuracy 46.88%\n",
      "Epoch 71, CIFAR-10 Batch 1:  \tBatch: loss 1.4094 and accuracy 48.64%\t\tValid: loss 1.4765, accuracy 46.38%\n",
      "Epoch 72, CIFAR-10 Batch 1:  \tBatch: loss 1.3828 and accuracy 50.87%\t\tValid: loss 1.4614, accuracy 47.04%\n",
      "Epoch 73, CIFAR-10 Batch 1:  \tBatch: loss 1.4184 and accuracy 49.63%\t\tValid: loss 1.4584, accuracy 46.84%\n",
      "Epoch 74, CIFAR-10 Batch 1:  \tBatch: loss 1.3832 and accuracy 48.76%\t\tValid: loss 1.4801, accuracy 46.74%\n",
      "Epoch 75, CIFAR-10 Batch 1:  \tBatch: loss 1.4247 and accuracy 47.90%\t\tValid: loss 1.4673, accuracy 46.72%\n",
      "Epoch 76, CIFAR-10 Batch 1:  \tBatch: loss 1.3619 and accuracy 50.99%\t\tValid: loss 1.4561, accuracy 47.34%\n",
      "Epoch 77, CIFAR-10 Batch 1:  \tBatch: loss 1.3346 and accuracy 51.49%\t\tValid: loss 1.4505, accuracy 47.64%\n",
      "Epoch 78, CIFAR-10 Batch 1:  \tBatch: loss 1.3364 and accuracy 51.61%\t\tValid: loss 1.4624, accuracy 47.34%\n",
      "Epoch 79, CIFAR-10 Batch 1:  \tBatch: loss 1.3336 and accuracy 52.48%\t\tValid: loss 1.4496, accuracy 48.14%\n",
      "Epoch 80, CIFAR-10 Batch 1:  \tBatch: loss 1.2981 and accuracy 53.34%\t\tValid: loss 1.4415, accuracy 47.62%\n",
      "Epoch 81, CIFAR-10 Batch 1:  \tBatch: loss 1.3455 and accuracy 52.97%\t\tValid: loss 1.4981, accuracy 45.98%\n",
      "Epoch 82, CIFAR-10 Batch 1:  \tBatch: loss 1.3021 and accuracy 54.08%\t\tValid: loss 1.4643, accuracy 46.84%\n",
      "Epoch 83, CIFAR-10 Batch 1:  \tBatch: loss 1.3470 and accuracy 50.74%\t\tValid: loss 1.4509, accuracy 48.26%\n",
      "Epoch 84, CIFAR-10 Batch 1:  \tBatch: loss 1.2744 and accuracy 56.19%\t\tValid: loss 1.4397, accuracy 47.84%\n",
      "Epoch 85, CIFAR-10 Batch 1:  \tBatch: loss 1.2257 and accuracy 56.81%\t\tValid: loss 1.4802, accuracy 48.32%\n",
      "Epoch 86, CIFAR-10 Batch 1:  \tBatch: loss 1.1813 and accuracy 56.81%\t\tValid: loss 1.4305, accuracy 48.82%\n",
      "Epoch 87, CIFAR-10 Batch 1:  \tBatch: loss 1.1921 and accuracy 55.32%\t\tValid: loss 1.4308, accuracy 49.08%\n",
      "Epoch 88, CIFAR-10 Batch 1:  \tBatch: loss 1.2368 and accuracy 56.06%\t\tValid: loss 1.4754, accuracy 47.88%\n",
      "Epoch 89, CIFAR-10 Batch 1:  \tBatch: loss 1.3116 and accuracy 51.98%\t\tValid: loss 1.5160, accuracy 47.28%\n",
      "Epoch 90, CIFAR-10 Batch 1:  \tBatch: loss 1.2027 and accuracy 56.06%\t\tValid: loss 1.4529, accuracy 49.14%\n",
      "Epoch 91, CIFAR-10 Batch 1:  \tBatch: loss 1.1881 and accuracy 56.56%\t\tValid: loss 1.4472, accuracy 48.64%\n",
      "Epoch 92, CIFAR-10 Batch 1:  \tBatch: loss 1.1677 and accuracy 56.81%\t\tValid: loss 1.4647, accuracy 48.60%\n",
      "Epoch 93, CIFAR-10 Batch 1:  \tBatch: loss 1.1819 and accuracy 58.66%\t\tValid: loss 1.4544, accuracy 49.06%\n",
      "Epoch 94, CIFAR-10 Batch 1:  \tBatch: loss 1.1411 and accuracy 56.81%\t\tValid: loss 1.4751, accuracy 48.94%\n",
      "Epoch 95, CIFAR-10 Batch 1:  \tBatch: loss 1.1810 and accuracy 58.04%\t\tValid: loss 1.4414, accuracy 49.08%\n",
      "Epoch 96, CIFAR-10 Batch 1:  \tBatch: loss 1.1606 and accuracy 59.41%\t\tValid: loss 1.4858, accuracy 48.38%\n",
      "Epoch 97, CIFAR-10 Batch 1:  \tBatch: loss 1.1537 and accuracy 58.91%\t\tValid: loss 1.4658, accuracy 48.82%\n",
      "Epoch 98, CIFAR-10 Batch 1:  \tBatch: loss 1.0770 and accuracy 60.77%\t\tValid: loss 1.4324, accuracy 49.42%\n",
      "Epoch 99, CIFAR-10 Batch 1:  \tBatch: loss 1.0730 and accuracy 61.39%\t\tValid: loss 1.4468, accuracy 50.24%\n",
      "Epoch 100, CIFAR-10 Batch 1:  \tBatch: loss 1.0511 and accuracy 62.75%\t\tValid: loss 1.4492, accuracy 50.34%\n"
     ]
    }
   ],
   "source": [
    "\"\"\"\n",
    "DON'T MODIFY ANYTHING IN THIS CELL\n",
    "\"\"\"\n",
    "print('Checking the Training on a Single Batch...')\n",
    "with tf.Session() as sess:\n",
    "    # Initializing the variables\n",
    "    sess.run(tf.global_variables_initializer())\n",
    "    \n",
    "    # Training cycle\n",
    "    for epoch in range(epochs):\n",
    "        batch_i = 1\n",
    "        for batch_features, batch_labels in helper.load_preprocess_training_batch(batch_i, batch_size):\n",
    "            train_neural_network(sess, optimizer, keep_probability, batch_features, batch_labels)\n",
    "        print('Epoch {:>2}, CIFAR-10 Batch {}:  '.format(epoch + 1, batch_i), end='')\n",
    "        print_stats(sess, batch_features, batch_labels, cost, accuracy)"
   ]
  },
  {
   "cell_type": "markdown",
   "metadata": {
    "deletable": true,
    "editable": true
   },
   "source": [
    "### Fully Train the Model\n",
    "Now that you got a good accuracy with a single CIFAR-10 batch, try it with all five batches."
   ]
  },
  {
   "cell_type": "code",
   "execution_count": 24,
   "metadata": {
    "collapsed": false,
    "deletable": true,
    "editable": true,
    "scrolled": false
   },
   "outputs": [
    {
     "name": "stdout",
     "output_type": "stream",
     "text": [
      "Training...\n",
      "Epoch  1, CIFAR-10 Batch 1:  \tBatch: loss 3.7802 and accuracy 10.52%\t\tValid: loss 2.4031, accuracy 9.76%\n",
      "Epoch  1, CIFAR-10 Batch 2:  \tBatch: loss 2.8251 and accuracy 9.90%\t\tValid: loss 2.3397, accuracy 8.94%\n",
      "Epoch  1, CIFAR-10 Batch 3:  \tBatch: loss 2.6240 and accuracy 11.51%\t\tValid: loss 2.3178, accuracy 9.86%\n",
      "Epoch  1, CIFAR-10 Batch 4:  \tBatch: loss 2.6041 and accuracy 10.27%\t\tValid: loss 2.2986, accuracy 11.10%\n",
      "Epoch  1, CIFAR-10 Batch 5:  \tBatch: loss 2.5266 and accuracy 11.76%\t\tValid: loss 2.2703, accuracy 14.86%\n",
      "Epoch  2, CIFAR-10 Batch 1:  \tBatch: loss 2.4962 and accuracy 10.89%\t\tValid: loss 2.2427, accuracy 16.90%\n",
      "Epoch  2, CIFAR-10 Batch 2:  \tBatch: loss 2.5027 and accuracy 11.01%\t\tValid: loss 2.2140, accuracy 19.00%\n",
      "Epoch  2, CIFAR-10 Batch 3:  \tBatch: loss 2.4134 and accuracy 14.23%\t\tValid: loss 2.1949, accuracy 18.78%\n",
      "Epoch  2, CIFAR-10 Batch 4:  \tBatch: loss 2.3467 and accuracy 14.73%\t\tValid: loss 2.1533, accuracy 20.34%\n",
      "Epoch  2, CIFAR-10 Batch 5:  \tBatch: loss 2.2914 and accuracy 16.83%\t\tValid: loss 2.1168, accuracy 20.98%\n",
      "Epoch  3, CIFAR-10 Batch 1:  \tBatch: loss 2.3087 and accuracy 13.99%\t\tValid: loss 2.0818, accuracy 23.88%\n",
      "Epoch  3, CIFAR-10 Batch 2:  \tBatch: loss 2.2514 and accuracy 17.82%\t\tValid: loss 2.0751, accuracy 23.86%\n",
      "Epoch  3, CIFAR-10 Batch 3:  \tBatch: loss 2.2430 and accuracy 15.84%\t\tValid: loss 2.0275, accuracy 25.82%\n",
      "Epoch  3, CIFAR-10 Batch 4:  \tBatch: loss 2.1876 and accuracy 17.57%\t\tValid: loss 2.0329, accuracy 24.22%\n",
      "Epoch  3, CIFAR-10 Batch 5:  \tBatch: loss 2.1109 and accuracy 21.53%\t\tValid: loss 2.0010, accuracy 25.80%\n",
      "Epoch  4, CIFAR-10 Batch 1:  \tBatch: loss 2.1340 and accuracy 20.42%\t\tValid: loss 1.9914, accuracy 28.98%\n",
      "Epoch  4, CIFAR-10 Batch 2:  \tBatch: loss 2.1394 and accuracy 19.31%\t\tValid: loss 1.9871, accuracy 26.80%\n",
      "Epoch  4, CIFAR-10 Batch 3:  \tBatch: loss 2.1075 and accuracy 19.43%\t\tValid: loss 1.9283, accuracy 29.52%\n",
      "Epoch  4, CIFAR-10 Batch 4:  \tBatch: loss 2.0613 and accuracy 20.79%\t\tValid: loss 1.9387, accuracy 28.30%\n",
      "Epoch  4, CIFAR-10 Batch 5:  \tBatch: loss 2.0582 and accuracy 24.50%\t\tValid: loss 1.9128, accuracy 30.36%\n",
      "Epoch  5, CIFAR-10 Batch 1:  \tBatch: loss 2.0552 and accuracy 24.01%\t\tValid: loss 1.8931, accuracy 31.38%\n",
      "Epoch  5, CIFAR-10 Batch 2:  \tBatch: loss 2.0084 and accuracy 25.50%\t\tValid: loss 1.8965, accuracy 31.88%\n",
      "Epoch  5, CIFAR-10 Batch 3:  \tBatch: loss 2.0510 and accuracy 24.38%\t\tValid: loss 1.8548, accuracy 32.72%\n",
      "Epoch  5, CIFAR-10 Batch 4:  \tBatch: loss 1.9827 and accuracy 24.38%\t\tValid: loss 1.8720, accuracy 32.80%\n",
      "Epoch  5, CIFAR-10 Batch 5:  \tBatch: loss 1.9901 and accuracy 25.00%\t\tValid: loss 1.8296, accuracy 35.54%\n",
      "Epoch  6, CIFAR-10 Batch 1:  \tBatch: loss 1.9634 and accuracy 27.85%\t\tValid: loss 1.8102, accuracy 36.28%\n",
      "Epoch  6, CIFAR-10 Batch 2:  \tBatch: loss 1.9773 and accuracy 28.84%\t\tValid: loss 1.8272, accuracy 35.02%\n",
      "Epoch  6, CIFAR-10 Batch 3:  \tBatch: loss 1.8890 and accuracy 29.95%\t\tValid: loss 1.7782, accuracy 35.82%\n",
      "Epoch  6, CIFAR-10 Batch 4:  \tBatch: loss 1.8846 and accuracy 28.09%\t\tValid: loss 1.7728, accuracy 36.64%\n",
      "Epoch  6, CIFAR-10 Batch 5:  \tBatch: loss 1.9097 and accuracy 26.86%\t\tValid: loss 1.7559, accuracy 37.56%\n",
      "Epoch  7, CIFAR-10 Batch 1:  \tBatch: loss 1.9009 and accuracy 29.70%\t\tValid: loss 1.7369, accuracy 39.16%\n",
      "Epoch  7, CIFAR-10 Batch 2:  \tBatch: loss 1.8954 and accuracy 27.85%\t\tValid: loss 1.7209, accuracy 38.78%\n",
      "Epoch  7, CIFAR-10 Batch 3:  \tBatch: loss 1.8405 and accuracy 32.05%\t\tValid: loss 1.7062, accuracy 38.84%\n",
      "Epoch  7, CIFAR-10 Batch 4:  \tBatch: loss 1.8111 and accuracy 33.17%\t\tValid: loss 1.6927, accuracy 39.82%\n",
      "Epoch  7, CIFAR-10 Batch 5:  \tBatch: loss 1.8746 and accuracy 30.94%\t\tValid: loss 1.7024, accuracy 39.02%\n",
      "Epoch  8, CIFAR-10 Batch 1:  \tBatch: loss 1.8508 and accuracy 29.21%\t\tValid: loss 1.6664, accuracy 41.22%\n",
      "Epoch  8, CIFAR-10 Batch 2:  \tBatch: loss 1.8293 and accuracy 31.81%\t\tValid: loss 1.6559, accuracy 40.00%\n",
      "Epoch  8, CIFAR-10 Batch 3:  \tBatch: loss 1.7851 and accuracy 35.02%\t\tValid: loss 1.6468, accuracy 41.20%\n",
      "Epoch  8, CIFAR-10 Batch 4:  \tBatch: loss 1.7665 and accuracy 35.02%\t\tValid: loss 1.6392, accuracy 41.32%\n",
      "Epoch  8, CIFAR-10 Batch 5:  \tBatch: loss 1.7915 and accuracy 36.88%\t\tValid: loss 1.6310, accuracy 41.42%\n",
      "Epoch  9, CIFAR-10 Batch 1:  \tBatch: loss 1.7715 and accuracy 35.52%\t\tValid: loss 1.6035, accuracy 42.30%\n",
      "Epoch  9, CIFAR-10 Batch 2:  \tBatch: loss 1.7844 and accuracy 36.88%\t\tValid: loss 1.6059, accuracy 42.42%\n",
      "Epoch  9, CIFAR-10 Batch 3:  \tBatch: loss 1.7247 and accuracy 35.64%\t\tValid: loss 1.6234, accuracy 41.78%\n",
      "Epoch  9, CIFAR-10 Batch 4:  \tBatch: loss 1.7341 and accuracy 38.00%\t\tValid: loss 1.6207, accuracy 41.00%\n",
      "Epoch  9, CIFAR-10 Batch 5:  \tBatch: loss 1.7109 and accuracy 38.00%\t\tValid: loss 1.5805, accuracy 42.98%\n",
      "Epoch 10, CIFAR-10 Batch 1:  \tBatch: loss 1.7094 and accuracy 38.12%\t\tValid: loss 1.5636, accuracy 43.62%\n",
      "Epoch 10, CIFAR-10 Batch 2:  \tBatch: loss 1.6985 and accuracy 38.37%\t\tValid: loss 1.5880, accuracy 43.08%\n",
      "Epoch 10, CIFAR-10 Batch 3:  \tBatch: loss 1.6417 and accuracy 37.75%\t\tValid: loss 1.5518, accuracy 43.50%\n",
      "Epoch 10, CIFAR-10 Batch 4:  \tBatch: loss 1.6228 and accuracy 39.85%\t\tValid: loss 1.5477, accuracy 43.90%\n",
      "Epoch 10, CIFAR-10 Batch 5:  \tBatch: loss 1.6923 and accuracy 38.12%\t\tValid: loss 1.5337, accuracy 44.74%\n",
      "Epoch 11, CIFAR-10 Batch 1:  \tBatch: loss 1.7054 and accuracy 38.49%\t\tValid: loss 1.5645, accuracy 43.34%\n",
      "Epoch 11, CIFAR-10 Batch 2:  \tBatch: loss 1.6722 and accuracy 38.61%\t\tValid: loss 1.5244, accuracy 44.78%\n",
      "Epoch 11, CIFAR-10 Batch 3:  \tBatch: loss 1.6431 and accuracy 38.37%\t\tValid: loss 1.5264, accuracy 44.46%\n",
      "Epoch 11, CIFAR-10 Batch 4:  \tBatch: loss 1.6643 and accuracy 41.21%\t\tValid: loss 1.5163, accuracy 44.94%\n",
      "Epoch 11, CIFAR-10 Batch 5:  \tBatch: loss 1.6493 and accuracy 39.11%\t\tValid: loss 1.5110, accuracy 45.20%\n",
      "Epoch 12, CIFAR-10 Batch 1:  \tBatch: loss 1.6191 and accuracy 41.71%\t\tValid: loss 1.5057, accuracy 45.36%\n",
      "Epoch 12, CIFAR-10 Batch 2:  \tBatch: loss 1.6256 and accuracy 41.96%\t\tValid: loss 1.4937, accuracy 46.06%\n",
      "Epoch 12, CIFAR-10 Batch 3:  \tBatch: loss 1.5705 and accuracy 40.72%\t\tValid: loss 1.4980, accuracy 45.38%\n",
      "Epoch 12, CIFAR-10 Batch 4:  \tBatch: loss 1.5738 and accuracy 42.45%\t\tValid: loss 1.4859, accuracy 45.26%\n",
      "Epoch 12, CIFAR-10 Batch 5:  \tBatch: loss 1.6424 and accuracy 38.37%\t\tValid: loss 1.5069, accuracy 44.48%\n",
      "Epoch 13, CIFAR-10 Batch 1:  \tBatch: loss 1.6404 and accuracy 41.34%\t\tValid: loss 1.4924, accuracy 45.78%\n",
      "Epoch 13, CIFAR-10 Batch 2:  \tBatch: loss 1.5780 and accuracy 41.46%\t\tValid: loss 1.4694, accuracy 47.18%\n",
      "Epoch 13, CIFAR-10 Batch 3:  \tBatch: loss 1.5301 and accuracy 43.69%\t\tValid: loss 1.4525, accuracy 47.26%\n",
      "Epoch 13, CIFAR-10 Batch 4:  \tBatch: loss 1.5368 and accuracy 46.53%\t\tValid: loss 1.4513, accuracy 46.74%\n",
      "Epoch 13, CIFAR-10 Batch 5:  \tBatch: loss 1.6142 and accuracy 42.70%\t\tValid: loss 1.4820, accuracy 45.52%\n",
      "Epoch 14, CIFAR-10 Batch 1:  \tBatch: loss 1.6012 and accuracy 42.57%\t\tValid: loss 1.4770, accuracy 45.08%\n",
      "Epoch 14, CIFAR-10 Batch 2:  \tBatch: loss 1.6037 and accuracy 42.45%\t\tValid: loss 1.4810, accuracy 46.84%\n",
      "Epoch 14, CIFAR-10 Batch 3:  \tBatch: loss 1.5802 and accuracy 41.46%\t\tValid: loss 1.4722, accuracy 46.26%\n",
      "Epoch 14, CIFAR-10 Batch 4:  \tBatch: loss 1.5538 and accuracy 45.30%\t\tValid: loss 1.4641, accuracy 46.34%\n",
      "Epoch 14, CIFAR-10 Batch 5:  \tBatch: loss 1.6101 and accuracy 42.82%\t\tValid: loss 1.4380, accuracy 47.70%\n",
      "Epoch 15, CIFAR-10 Batch 1:  \tBatch: loss 1.5468 and accuracy 42.95%\t\tValid: loss 1.4193, accuracy 48.30%\n",
      "Epoch 15, CIFAR-10 Batch 2:  \tBatch: loss 1.5018 and accuracy 47.40%\t\tValid: loss 1.4280, accuracy 48.38%\n",
      "Epoch 15, CIFAR-10 Batch 3:  \tBatch: loss 1.5144 and accuracy 45.05%\t\tValid: loss 1.4122, accuracy 48.14%\n",
      "Epoch 15, CIFAR-10 Batch 4:  \tBatch: loss 1.4988 and accuracy 45.42%\t\tValid: loss 1.4187, accuracy 48.14%\n",
      "Epoch 15, CIFAR-10 Batch 5:  \tBatch: loss 1.5016 and accuracy 46.91%\t\tValid: loss 1.4082, accuracy 49.18%\n",
      "Epoch 16, CIFAR-10 Batch 1:  \tBatch: loss 1.4935 and accuracy 46.91%\t\tValid: loss 1.3948, accuracy 48.72%\n",
      "Epoch 16, CIFAR-10 Batch 2:  \tBatch: loss 1.5080 and accuracy 46.41%\t\tValid: loss 1.4081, accuracy 48.94%\n",
      "Epoch 16, CIFAR-10 Batch 3:  \tBatch: loss 1.4900 and accuracy 45.30%\t\tValid: loss 1.4019, accuracy 48.28%\n",
      "Epoch 16, CIFAR-10 Batch 4:  \tBatch: loss 1.4638 and accuracy 48.51%\t\tValid: loss 1.4095, accuracy 48.62%\n",
      "Epoch 16, CIFAR-10 Batch 5:  \tBatch: loss 1.5227 and accuracy 44.93%\t\tValid: loss 1.3917, accuracy 49.64%\n",
      "Epoch 17, CIFAR-10 Batch 1:  \tBatch: loss 1.5092 and accuracy 47.40%\t\tValid: loss 1.3807, accuracy 49.48%\n",
      "Epoch 17, CIFAR-10 Batch 2:  \tBatch: loss 1.4898 and accuracy 49.63%\t\tValid: loss 1.3932, accuracy 49.30%\n",
      "Epoch 17, CIFAR-10 Batch 3:  \tBatch: loss 1.4535 and accuracy 46.53%\t\tValid: loss 1.3842, accuracy 48.98%\n",
      "Epoch 17, CIFAR-10 Batch 4:  \tBatch: loss 1.4428 and accuracy 49.75%\t\tValid: loss 1.3716, accuracy 49.48%\n",
      "Epoch 17, CIFAR-10 Batch 5:  \tBatch: loss 1.4855 and accuracy 47.77%\t\tValid: loss 1.3660, accuracy 50.70%\n",
      "Epoch 18, CIFAR-10 Batch 1:  \tBatch: loss 1.4808 and accuracy 47.65%\t\tValid: loss 1.3665, accuracy 49.76%\n",
      "Epoch 18, CIFAR-10 Batch 2:  \tBatch: loss 1.4482 and accuracy 47.40%\t\tValid: loss 1.3550, accuracy 50.78%\n",
      "Epoch 18, CIFAR-10 Batch 3:  \tBatch: loss 1.4248 and accuracy 47.77%\t\tValid: loss 1.3836, accuracy 49.06%\n",
      "Epoch 18, CIFAR-10 Batch 4:  \tBatch: loss 1.4338 and accuracy 49.38%\t\tValid: loss 1.3703, accuracy 49.64%\n",
      "Epoch 18, CIFAR-10 Batch 5:  \tBatch: loss 1.4922 and accuracy 47.40%\t\tValid: loss 1.3826, accuracy 50.46%\n",
      "Epoch 19, CIFAR-10 Batch 1:  \tBatch: loss 1.4306 and accuracy 51.24%\t\tValid: loss 1.3598, accuracy 49.80%\n",
      "Epoch 19, CIFAR-10 Batch 2:  \tBatch: loss 1.4770 and accuracy 46.53%\t\tValid: loss 1.3699, accuracy 50.02%\n",
      "Epoch 19, CIFAR-10 Batch 3:  \tBatch: loss 1.4238 and accuracy 47.90%\t\tValid: loss 1.3979, accuracy 48.68%\n",
      "Epoch 19, CIFAR-10 Batch 4:  \tBatch: loss 1.4208 and accuracy 50.25%\t\tValid: loss 1.3589, accuracy 50.52%\n",
      "Epoch 19, CIFAR-10 Batch 5:  \tBatch: loss 1.4535 and accuracy 50.87%\t\tValid: loss 1.3625, accuracy 50.94%\n",
      "Epoch 20, CIFAR-10 Batch 1:  \tBatch: loss 1.4160 and accuracy 48.51%\t\tValid: loss 1.3615, accuracy 49.90%\n",
      "Epoch 20, CIFAR-10 Batch 2:  \tBatch: loss 1.4499 and accuracy 49.50%\t\tValid: loss 1.3582, accuracy 51.04%\n",
      "Epoch 20, CIFAR-10 Batch 3:  \tBatch: loss 1.4214 and accuracy 49.01%\t\tValid: loss 1.3815, accuracy 49.80%\n",
      "Epoch 20, CIFAR-10 Batch 4:  \tBatch: loss 1.4138 and accuracy 50.00%\t\tValid: loss 1.3542, accuracy 50.66%\n",
      "Epoch 20, CIFAR-10 Batch 5:  \tBatch: loss 1.4084 and accuracy 48.51%\t\tValid: loss 1.3307, accuracy 51.42%\n",
      "Epoch 21, CIFAR-10 Batch 1:  \tBatch: loss 1.4053 and accuracy 51.49%\t\tValid: loss 1.3175, accuracy 51.48%\n",
      "Epoch 21, CIFAR-10 Batch 2:  \tBatch: loss 1.4127 and accuracy 51.24%\t\tValid: loss 1.3239, accuracy 51.98%\n",
      "Epoch 21, CIFAR-10 Batch 3:  \tBatch: loss 1.3797 and accuracy 51.24%\t\tValid: loss 1.3430, accuracy 50.68%\n",
      "Epoch 21, CIFAR-10 Batch 4:  \tBatch: loss 1.3497 and accuracy 51.86%\t\tValid: loss 1.3156, accuracy 51.86%\n",
      "Epoch 21, CIFAR-10 Batch 5:  \tBatch: loss 1.3681 and accuracy 50.99%\t\tValid: loss 1.3090, accuracy 52.46%\n",
      "Epoch 22, CIFAR-10 Batch 1:  \tBatch: loss 1.3914 and accuracy 52.48%\t\tValid: loss 1.3126, accuracy 51.72%\n",
      "Epoch 22, CIFAR-10 Batch 2:  \tBatch: loss 1.4176 and accuracy 49.63%\t\tValid: loss 1.3131, accuracy 52.22%\n",
      "Epoch 22, CIFAR-10 Batch 3:  \tBatch: loss 1.3444 and accuracy 50.25%\t\tValid: loss 1.3034, accuracy 51.92%\n",
      "Epoch 22, CIFAR-10 Batch 4:  \tBatch: loss 1.3669 and accuracy 53.71%\t\tValid: loss 1.3183, accuracy 51.94%\n",
      "Epoch 22, CIFAR-10 Batch 5:  \tBatch: loss 1.3658 and accuracy 51.61%\t\tValid: loss 1.2946, accuracy 52.60%\n",
      "Epoch 23, CIFAR-10 Batch 1:  \tBatch: loss 1.3783 and accuracy 49.88%\t\tValid: loss 1.3054, accuracy 51.90%\n",
      "Epoch 23, CIFAR-10 Batch 2:  \tBatch: loss 1.3680 and accuracy 54.21%\t\tValid: loss 1.3115, accuracy 52.58%\n",
      "Epoch 23, CIFAR-10 Batch 3:  \tBatch: loss 1.3246 and accuracy 52.60%\t\tValid: loss 1.2998, accuracy 51.88%\n",
      "Epoch 23, CIFAR-10 Batch 4:  \tBatch: loss 1.3161 and accuracy 53.59%\t\tValid: loss 1.2874, accuracy 52.60%\n",
      "Epoch 23, CIFAR-10 Batch 5:  \tBatch: loss 1.3008 and accuracy 53.84%\t\tValid: loss 1.2817, accuracy 52.94%\n",
      "Epoch 24, CIFAR-10 Batch 1:  \tBatch: loss 1.3702 and accuracy 52.72%\t\tValid: loss 1.3100, accuracy 52.68%\n",
      "Epoch 24, CIFAR-10 Batch 2:  \tBatch: loss 1.3555 and accuracy 49.38%\t\tValid: loss 1.2814, accuracy 53.12%\n",
      "Epoch 24, CIFAR-10 Batch 3:  \tBatch: loss 1.3317 and accuracy 51.86%\t\tValid: loss 1.2926, accuracy 53.04%\n",
      "Epoch 24, CIFAR-10 Batch 4:  \tBatch: loss 1.3014 and accuracy 56.06%\t\tValid: loss 1.2844, accuracy 53.04%\n",
      "Epoch 24, CIFAR-10 Batch 5:  \tBatch: loss 1.3077 and accuracy 53.59%\t\tValid: loss 1.2680, accuracy 53.62%\n",
      "Epoch 25, CIFAR-10 Batch 1:  \tBatch: loss 1.3113 and accuracy 56.06%\t\tValid: loss 1.2704, accuracy 53.10%\n",
      "Epoch 25, CIFAR-10 Batch 2:  \tBatch: loss 1.3321 and accuracy 53.22%\t\tValid: loss 1.2726, accuracy 53.82%\n",
      "Epoch 25, CIFAR-10 Batch 3:  \tBatch: loss 1.3386 and accuracy 50.74%\t\tValid: loss 1.2840, accuracy 53.00%\n",
      "Epoch 25, CIFAR-10 Batch 4:  \tBatch: loss 1.2727 and accuracy 55.45%\t\tValid: loss 1.2768, accuracy 53.54%\n",
      "Epoch 25, CIFAR-10 Batch 5:  \tBatch: loss 1.2961 and accuracy 54.08%\t\tValid: loss 1.2568, accuracy 53.80%\n",
      "Epoch 26, CIFAR-10 Batch 1:  \tBatch: loss 1.3187 and accuracy 52.97%\t\tValid: loss 1.2665, accuracy 53.20%\n",
      "Epoch 26, CIFAR-10 Batch 2:  \tBatch: loss 1.3318 and accuracy 51.73%\t\tValid: loss 1.2735, accuracy 54.14%\n",
      "Epoch 26, CIFAR-10 Batch 3:  \tBatch: loss 1.2670 and accuracy 54.95%\t\tValid: loss 1.2652, accuracy 54.16%\n",
      "Epoch 26, CIFAR-10 Batch 4:  \tBatch: loss 1.2502 and accuracy 55.32%\t\tValid: loss 1.2784, accuracy 52.72%\n",
      "Epoch 26, CIFAR-10 Batch 5:  \tBatch: loss 1.2998 and accuracy 55.32%\t\tValid: loss 1.2555, accuracy 54.14%\n",
      "Epoch 27, CIFAR-10 Batch 1:  \tBatch: loss 1.3520 and accuracy 52.10%\t\tValid: loss 1.2736, accuracy 54.16%\n",
      "Epoch 27, CIFAR-10 Batch 2:  \tBatch: loss 1.3312 and accuracy 52.23%\t\tValid: loss 1.2910, accuracy 53.36%\n",
      "Epoch 27, CIFAR-10 Batch 3:  \tBatch: loss 1.2509 and accuracy 52.85%\t\tValid: loss 1.2542, accuracy 54.20%\n",
      "Epoch 27, CIFAR-10 Batch 4:  \tBatch: loss 1.2510 and accuracy 56.19%\t\tValid: loss 1.2470, accuracy 53.92%\n",
      "Epoch 27, CIFAR-10 Batch 5:  \tBatch: loss 1.3011 and accuracy 53.96%\t\tValid: loss 1.2390, accuracy 54.42%\n",
      "Epoch 28, CIFAR-10 Batch 1:  \tBatch: loss 1.2993 and accuracy 52.60%\t\tValid: loss 1.2446, accuracy 54.38%\n",
      "Epoch 28, CIFAR-10 Batch 2:  \tBatch: loss 1.2834 and accuracy 56.06%\t\tValid: loss 1.2589, accuracy 54.38%\n",
      "Epoch 28, CIFAR-10 Batch 3:  \tBatch: loss 1.2443 and accuracy 54.21%\t\tValid: loss 1.2357, accuracy 54.56%\n",
      "Epoch 28, CIFAR-10 Batch 4:  \tBatch: loss 1.2656 and accuracy 54.83%\t\tValid: loss 1.2586, accuracy 54.10%\n",
      "Epoch 28, CIFAR-10 Batch 5:  \tBatch: loss 1.2468 and accuracy 55.20%\t\tValid: loss 1.2498, accuracy 54.08%\n",
      "Epoch 29, CIFAR-10 Batch 1:  \tBatch: loss 1.2626 and accuracy 56.68%\t\tValid: loss 1.2419, accuracy 54.54%\n",
      "Epoch 29, CIFAR-10 Batch 2:  \tBatch: loss 1.2871 and accuracy 56.44%\t\tValid: loss 1.2633, accuracy 54.30%\n",
      "Epoch 29, CIFAR-10 Batch 3:  \tBatch: loss 1.1962 and accuracy 57.05%\t\tValid: loss 1.2387, accuracy 54.90%\n",
      "Epoch 29, CIFAR-10 Batch 4:  \tBatch: loss 1.2724 and accuracy 54.08%\t\tValid: loss 1.2406, accuracy 54.56%\n",
      "Epoch 29, CIFAR-10 Batch 5:  \tBatch: loss 1.2269 and accuracy 57.67%\t\tValid: loss 1.2279, accuracy 55.24%\n",
      "Epoch 30, CIFAR-10 Batch 1:  \tBatch: loss 1.2632 and accuracy 53.59%\t\tValid: loss 1.2290, accuracy 55.00%\n",
      "Epoch 30, CIFAR-10 Batch 2:  \tBatch: loss 1.2318 and accuracy 56.19%\t\tValid: loss 1.2336, accuracy 55.08%\n",
      "Epoch 30, CIFAR-10 Batch 3:  \tBatch: loss 1.2085 and accuracy 56.56%\t\tValid: loss 1.2331, accuracy 55.84%\n",
      "Epoch 30, CIFAR-10 Batch 4:  \tBatch: loss 1.1885 and accuracy 58.04%\t\tValid: loss 1.2212, accuracy 55.28%\n",
      "Epoch 30, CIFAR-10 Batch 5:  \tBatch: loss 1.1860 and accuracy 59.16%\t\tValid: loss 1.2118, accuracy 55.32%\n",
      "Epoch 31, CIFAR-10 Batch 1:  \tBatch: loss 1.2043 and accuracy 57.55%\t\tValid: loss 1.2176, accuracy 55.26%\n",
      "Epoch 31, CIFAR-10 Batch 2:  \tBatch: loss 1.2260 and accuracy 55.20%\t\tValid: loss 1.2475, accuracy 55.04%\n",
      "Epoch 31, CIFAR-10 Batch 3:  \tBatch: loss 1.1880 and accuracy 57.67%\t\tValid: loss 1.2161, accuracy 55.96%\n",
      "Epoch 31, CIFAR-10 Batch 4:  \tBatch: loss 1.2504 and accuracy 55.45%\t\tValid: loss 1.2488, accuracy 55.12%\n",
      "Epoch 31, CIFAR-10 Batch 5:  \tBatch: loss 1.2250 and accuracy 55.69%\t\tValid: loss 1.2294, accuracy 55.46%\n",
      "Epoch 32, CIFAR-10 Batch 1:  \tBatch: loss 1.2238 and accuracy 57.67%\t\tValid: loss 1.2067, accuracy 56.38%\n",
      "Epoch 32, CIFAR-10 Batch 2:  \tBatch: loss 1.2142 and accuracy 57.92%\t\tValid: loss 1.2090, accuracy 55.74%\n",
      "Epoch 32, CIFAR-10 Batch 3:  \tBatch: loss 1.2215 and accuracy 55.82%\t\tValid: loss 1.2478, accuracy 55.98%\n",
      "Epoch 32, CIFAR-10 Batch 4:  \tBatch: loss 1.2235 and accuracy 55.45%\t\tValid: loss 1.2163, accuracy 55.90%\n",
      "Epoch 32, CIFAR-10 Batch 5:  \tBatch: loss 1.1879 and accuracy 60.02%\t\tValid: loss 1.1967, accuracy 56.12%\n",
      "Epoch 33, CIFAR-10 Batch 1:  \tBatch: loss 1.1884 and accuracy 58.91%\t\tValid: loss 1.2113, accuracy 56.32%\n",
      "Epoch 33, CIFAR-10 Batch 2:  \tBatch: loss 1.1942 and accuracy 59.03%\t\tValid: loss 1.1981, accuracy 56.02%\n",
      "Epoch 33, CIFAR-10 Batch 3:  \tBatch: loss 1.1790 and accuracy 57.92%\t\tValid: loss 1.2251, accuracy 56.12%\n",
      "Epoch 33, CIFAR-10 Batch 4:  \tBatch: loss 1.1946 and accuracy 56.44%\t\tValid: loss 1.2191, accuracy 55.52%\n",
      "Epoch 33, CIFAR-10 Batch 5:  \tBatch: loss 1.2046 and accuracy 58.79%\t\tValid: loss 1.2069, accuracy 55.78%\n",
      "Epoch 34, CIFAR-10 Batch 1:  \tBatch: loss 1.2065 and accuracy 56.93%\t\tValid: loss 1.2159, accuracy 57.38%\n",
      "Epoch 34, CIFAR-10 Batch 2:  \tBatch: loss 1.1514 and accuracy 58.66%\t\tValid: loss 1.1849, accuracy 56.68%\n",
      "Epoch 34, CIFAR-10 Batch 3:  \tBatch: loss 1.1697 and accuracy 60.52%\t\tValid: loss 1.2079, accuracy 56.58%\n",
      "Epoch 34, CIFAR-10 Batch 4:  \tBatch: loss 1.1491 and accuracy 59.03%\t\tValid: loss 1.2162, accuracy 55.92%\n",
      "Epoch 34, CIFAR-10 Batch 5:  \tBatch: loss 1.1309 and accuracy 62.13%\t\tValid: loss 1.1781, accuracy 57.18%\n",
      "Epoch 35, CIFAR-10 Batch 1:  \tBatch: loss 1.1465 and accuracy 59.41%\t\tValid: loss 1.1977, accuracy 56.76%\n",
      "Epoch 35, CIFAR-10 Batch 2:  \tBatch: loss 1.1685 and accuracy 59.03%\t\tValid: loss 1.1869, accuracy 56.72%\n",
      "Epoch 35, CIFAR-10 Batch 3:  \tBatch: loss 1.1596 and accuracy 58.54%\t\tValid: loss 1.2047, accuracy 56.78%\n",
      "Epoch 35, CIFAR-10 Batch 4:  \tBatch: loss 1.1305 and accuracy 61.26%\t\tValid: loss 1.2004, accuracy 56.34%\n",
      "Epoch 35, CIFAR-10 Batch 5:  \tBatch: loss 1.1462 and accuracy 58.66%\t\tValid: loss 1.1937, accuracy 56.46%\n",
      "Epoch 36, CIFAR-10 Batch 1:  \tBatch: loss 1.1301 and accuracy 61.76%\t\tValid: loss 1.1901, accuracy 56.92%\n",
      "Epoch 36, CIFAR-10 Batch 2:  \tBatch: loss 1.1390 and accuracy 60.15%\t\tValid: loss 1.1957, accuracy 56.18%\n",
      "Epoch 36, CIFAR-10 Batch 3:  \tBatch: loss 1.0864 and accuracy 60.40%\t\tValid: loss 1.1789, accuracy 57.18%\n",
      "Epoch 36, CIFAR-10 Batch 4:  \tBatch: loss 1.0999 and accuracy 62.00%\t\tValid: loss 1.1649, accuracy 57.58%\n",
      "Epoch 36, CIFAR-10 Batch 5:  \tBatch: loss 1.0770 and accuracy 63.37%\t\tValid: loss 1.1672, accuracy 57.34%\n",
      "Epoch 37, CIFAR-10 Batch 1:  \tBatch: loss 1.1157 and accuracy 61.63%\t\tValid: loss 1.1816, accuracy 57.28%\n",
      "Epoch 37, CIFAR-10 Batch 2:  \tBatch: loss 1.1257 and accuracy 61.01%\t\tValid: loss 1.1830, accuracy 57.28%\n",
      "Epoch 37, CIFAR-10 Batch 3:  \tBatch: loss 1.1105 and accuracy 60.27%\t\tValid: loss 1.1846, accuracy 57.36%\n",
      "Epoch 37, CIFAR-10 Batch 4:  \tBatch: loss 1.0881 and accuracy 59.78%\t\tValid: loss 1.1663, accuracy 57.84%\n",
      "Epoch 37, CIFAR-10 Batch 5:  \tBatch: loss 1.0995 and accuracy 62.62%\t\tValid: loss 1.1893, accuracy 56.56%\n",
      "Epoch 38, CIFAR-10 Batch 1:  \tBatch: loss 1.0839 and accuracy 63.37%\t\tValid: loss 1.1762, accuracy 57.44%\n",
      "Epoch 38, CIFAR-10 Batch 2:  \tBatch: loss 1.1221 and accuracy 61.39%\t\tValid: loss 1.1956, accuracy 56.16%\n",
      "Epoch 38, CIFAR-10 Batch 3:  \tBatch: loss 1.0821 and accuracy 59.78%\t\tValid: loss 1.1947, accuracy 57.64%\n",
      "Epoch 38, CIFAR-10 Batch 4:  \tBatch: loss 1.0596 and accuracy 63.37%\t\tValid: loss 1.1761, accuracy 57.08%\n",
      "Epoch 38, CIFAR-10 Batch 5:  \tBatch: loss 1.0581 and accuracy 63.74%\t\tValid: loss 1.1741, accuracy 57.02%\n",
      "Epoch 39, CIFAR-10 Batch 1:  \tBatch: loss 1.0899 and accuracy 63.37%\t\tValid: loss 1.1775, accuracy 57.60%\n",
      "Epoch 39, CIFAR-10 Batch 2:  \tBatch: loss 1.0991 and accuracy 60.77%\t\tValid: loss 1.1645, accuracy 57.54%\n",
      "Epoch 39, CIFAR-10 Batch 3:  \tBatch: loss 1.0594 and accuracy 62.13%\t\tValid: loss 1.1884, accuracy 57.42%\n",
      "Epoch 39, CIFAR-10 Batch 4:  \tBatch: loss 1.1073 and accuracy 63.37%\t\tValid: loss 1.2034, accuracy 57.40%\n",
      "Epoch 39, CIFAR-10 Batch 5:  \tBatch: loss 1.0642 and accuracy 63.61%\t\tValid: loss 1.1736, accuracy 57.02%\n",
      "Epoch 40, CIFAR-10 Batch 1:  \tBatch: loss 1.0972 and accuracy 61.88%\t\tValid: loss 1.1849, accuracy 57.68%\n",
      "Epoch 40, CIFAR-10 Batch 2:  \tBatch: loss 1.0727 and accuracy 61.76%\t\tValid: loss 1.1630, accuracy 58.16%\n",
      "Epoch 40, CIFAR-10 Batch 3:  \tBatch: loss 1.0817 and accuracy 62.13%\t\tValid: loss 1.2128, accuracy 57.48%\n",
      "Epoch 40, CIFAR-10 Batch 4:  \tBatch: loss 1.0626 and accuracy 63.00%\t\tValid: loss 1.1582, accuracy 57.88%\n",
      "Epoch 40, CIFAR-10 Batch 5:  \tBatch: loss 1.0822 and accuracy 61.88%\t\tValid: loss 1.1756, accuracy 57.86%\n",
      "Epoch 41, CIFAR-10 Batch 1:  \tBatch: loss 1.0375 and accuracy 62.62%\t\tValid: loss 1.1554, accuracy 58.56%\n",
      "Epoch 41, CIFAR-10 Batch 2:  \tBatch: loss 1.0569 and accuracy 61.76%\t\tValid: loss 1.1608, accuracy 58.40%\n",
      "Epoch 41, CIFAR-10 Batch 3:  \tBatch: loss 1.0601 and accuracy 62.75%\t\tValid: loss 1.1958, accuracy 58.74%\n",
      "Epoch 41, CIFAR-10 Batch 4:  \tBatch: loss 1.0140 and accuracy 63.99%\t\tValid: loss 1.1524, accuracy 58.74%\n",
      "Epoch 41, CIFAR-10 Batch 5:  \tBatch: loss 1.0086 and accuracy 63.49%\t\tValid: loss 1.1626, accuracy 58.32%\n",
      "Epoch 42, CIFAR-10 Batch 1:  \tBatch: loss 1.0121 and accuracy 63.61%\t\tValid: loss 1.1715, accuracy 58.98%\n",
      "Epoch 42, CIFAR-10 Batch 2:  \tBatch: loss 1.0996 and accuracy 61.39%\t\tValid: loss 1.1722, accuracy 58.18%\n",
      "Epoch 42, CIFAR-10 Batch 3:  \tBatch: loss 0.9974 and accuracy 63.61%\t\tValid: loss 1.1783, accuracy 58.72%\n",
      "Epoch 42, CIFAR-10 Batch 4:  \tBatch: loss 1.0330 and accuracy 63.99%\t\tValid: loss 1.1404, accuracy 58.94%\n",
      "Epoch 42, CIFAR-10 Batch 5:  \tBatch: loss 0.9686 and accuracy 66.71%\t\tValid: loss 1.1441, accuracy 59.20%\n",
      "Epoch 43, CIFAR-10 Batch 1:  \tBatch: loss 0.9514 and accuracy 68.07%\t\tValid: loss 1.1484, accuracy 58.98%\n",
      "Epoch 43, CIFAR-10 Batch 2:  \tBatch: loss 1.0473 and accuracy 62.50%\t\tValid: loss 1.1837, accuracy 57.90%\n",
      "Epoch 43, CIFAR-10 Batch 3:  \tBatch: loss 0.9883 and accuracy 64.36%\t\tValid: loss 1.1880, accuracy 58.32%\n",
      "Epoch 43, CIFAR-10 Batch 4:  \tBatch: loss 1.0144 and accuracy 65.10%\t\tValid: loss 1.1496, accuracy 58.72%\n",
      "Epoch 43, CIFAR-10 Batch 5:  \tBatch: loss 1.0335 and accuracy 64.60%\t\tValid: loss 1.1534, accuracy 59.40%\n",
      "Epoch 44, CIFAR-10 Batch 1:  \tBatch: loss 1.0268 and accuracy 63.37%\t\tValid: loss 1.1571, accuracy 59.08%\n",
      "Epoch 44, CIFAR-10 Batch 2:  \tBatch: loss 1.1049 and accuracy 62.50%\t\tValid: loss 1.1840, accuracy 58.44%\n",
      "Epoch 44, CIFAR-10 Batch 3:  \tBatch: loss 1.0057 and accuracy 63.99%\t\tValid: loss 1.1882, accuracy 57.78%\n",
      "Epoch 44, CIFAR-10 Batch 4:  \tBatch: loss 1.0567 and accuracy 64.11%\t\tValid: loss 1.1903, accuracy 58.10%\n",
      "Epoch 44, CIFAR-10 Batch 5:  \tBatch: loss 1.0447 and accuracy 64.73%\t\tValid: loss 1.1627, accuracy 58.72%\n",
      "Epoch 45, CIFAR-10 Batch 1:  \tBatch: loss 1.0246 and accuracy 66.09%\t\tValid: loss 1.1452, accuracy 59.10%\n",
      "Epoch 45, CIFAR-10 Batch 2:  \tBatch: loss 1.0115 and accuracy 65.10%\t\tValid: loss 1.1604, accuracy 59.22%\n",
      "Epoch 45, CIFAR-10 Batch 3:  \tBatch: loss 1.0183 and accuracy 63.49%\t\tValid: loss 1.1745, accuracy 58.96%\n",
      "Epoch 45, CIFAR-10 Batch 4:  \tBatch: loss 0.9885 and accuracy 64.48%\t\tValid: loss 1.1520, accuracy 58.90%\n",
      "Epoch 45, CIFAR-10 Batch 5:  \tBatch: loss 0.9787 and accuracy 65.59%\t\tValid: loss 1.1420, accuracy 59.86%\n",
      "Epoch 46, CIFAR-10 Batch 1:  \tBatch: loss 0.9926 and accuracy 63.99%\t\tValid: loss 1.1453, accuracy 59.58%\n",
      "Epoch 46, CIFAR-10 Batch 2:  \tBatch: loss 1.0050 and accuracy 64.11%\t\tValid: loss 1.1664, accuracy 58.94%\n",
      "Epoch 46, CIFAR-10 Batch 3:  \tBatch: loss 0.9632 and accuracy 66.71%\t\tValid: loss 1.1796, accuracy 58.86%\n",
      "Epoch 46, CIFAR-10 Batch 4:  \tBatch: loss 1.0615 and accuracy 63.74%\t\tValid: loss 1.1656, accuracy 58.30%\n",
      "Epoch 46, CIFAR-10 Batch 5:  \tBatch: loss 0.9918 and accuracy 63.99%\t\tValid: loss 1.1334, accuracy 60.04%\n",
      "Epoch 47, CIFAR-10 Batch 1:  \tBatch: loss 0.9693 and accuracy 66.71%\t\tValid: loss 1.1333, accuracy 59.98%\n",
      "Epoch 47, CIFAR-10 Batch 2:  \tBatch: loss 0.9891 and accuracy 64.11%\t\tValid: loss 1.1531, accuracy 59.86%\n",
      "Epoch 47, CIFAR-10 Batch 3:  \tBatch: loss 0.9974 and accuracy 63.00%\t\tValid: loss 1.1936, accuracy 57.84%\n",
      "Epoch 47, CIFAR-10 Batch 4:  \tBatch: loss 0.9842 and accuracy 64.98%\t\tValid: loss 1.1715, accuracy 58.36%\n",
      "Epoch 47, CIFAR-10 Batch 5:  \tBatch: loss 0.9553 and accuracy 65.59%\t\tValid: loss 1.1368, accuracy 59.82%\n",
      "Epoch 48, CIFAR-10 Batch 1:  \tBatch: loss 0.9387 and accuracy 67.82%\t\tValid: loss 1.1363, accuracy 59.94%\n",
      "Epoch 48, CIFAR-10 Batch 2:  \tBatch: loss 0.9746 and accuracy 64.98%\t\tValid: loss 1.1521, accuracy 59.44%\n",
      "Epoch 48, CIFAR-10 Batch 3:  \tBatch: loss 0.9816 and accuracy 65.59%\t\tValid: loss 1.1760, accuracy 59.14%\n",
      "Epoch 48, CIFAR-10 Batch 4:  \tBatch: loss 0.9880 and accuracy 66.34%\t\tValid: loss 1.1463, accuracy 58.58%\n",
      "Epoch 48, CIFAR-10 Batch 5:  \tBatch: loss 0.9409 and accuracy 68.44%\t\tValid: loss 1.1261, accuracy 59.90%\n",
      "Epoch 49, CIFAR-10 Batch 1:  \tBatch: loss 0.9393 and accuracy 68.56%\t\tValid: loss 1.1288, accuracy 60.42%\n",
      "Epoch 49, CIFAR-10 Batch 2:  \tBatch: loss 0.9355 and accuracy 67.45%\t\tValid: loss 1.1406, accuracy 60.24%\n",
      "Epoch 49, CIFAR-10 Batch 3:  \tBatch: loss 0.9025 and accuracy 66.34%\t\tValid: loss 1.1478, accuracy 59.96%\n",
      "Epoch 49, CIFAR-10 Batch 4:  \tBatch: loss 0.9652 and accuracy 64.36%\t\tValid: loss 1.1417, accuracy 59.48%\n",
      "Epoch 49, CIFAR-10 Batch 5:  \tBatch: loss 0.9043 and accuracy 66.21%\t\tValid: loss 1.1309, accuracy 60.06%\n",
      "Epoch 50, CIFAR-10 Batch 1:  \tBatch: loss 0.9282 and accuracy 69.43%\t\tValid: loss 1.1295, accuracy 60.64%\n",
      "Epoch 50, CIFAR-10 Batch 2:  \tBatch: loss 0.9615 and accuracy 67.08%\t\tValid: loss 1.1387, accuracy 60.34%\n",
      "Epoch 50, CIFAR-10 Batch 3:  \tBatch: loss 0.9304 and accuracy 67.82%\t\tValid: loss 1.1485, accuracy 59.58%\n",
      "Epoch 50, CIFAR-10 Batch 4:  \tBatch: loss 0.9188 and accuracy 69.68%\t\tValid: loss 1.1477, accuracy 59.22%\n",
      "Epoch 50, CIFAR-10 Batch 5:  \tBatch: loss 0.9563 and accuracy 66.46%\t\tValid: loss 1.1394, accuracy 59.86%\n",
      "Epoch 51, CIFAR-10 Batch 1:  \tBatch: loss 0.9021 and accuracy 68.69%\t\tValid: loss 1.1282, accuracy 61.00%\n",
      "Epoch 51, CIFAR-10 Batch 2:  \tBatch: loss 0.9693 and accuracy 66.46%\t\tValid: loss 1.1345, accuracy 60.22%\n",
      "Epoch 51, CIFAR-10 Batch 3:  \tBatch: loss 0.8845 and accuracy 67.20%\t\tValid: loss 1.1435, accuracy 59.68%\n",
      "Epoch 51, CIFAR-10 Batch 4:  \tBatch: loss 0.9159 and accuracy 66.71%\t\tValid: loss 1.1415, accuracy 60.12%\n",
      "Epoch 51, CIFAR-10 Batch 5:  \tBatch: loss 0.9436 and accuracy 65.72%\t\tValid: loss 1.1277, accuracy 60.44%\n",
      "Epoch 52, CIFAR-10 Batch 1:  \tBatch: loss 0.9495 and accuracy 66.46%\t\tValid: loss 1.1301, accuracy 60.30%\n",
      "Epoch 52, CIFAR-10 Batch 2:  \tBatch: loss 0.8871 and accuracy 66.58%\t\tValid: loss 1.1235, accuracy 60.52%\n",
      "Epoch 52, CIFAR-10 Batch 3:  \tBatch: loss 0.9230 and accuracy 66.21%\t\tValid: loss 1.1543, accuracy 59.70%\n",
      "Epoch 52, CIFAR-10 Batch 4:  \tBatch: loss 0.9507 and accuracy 66.09%\t\tValid: loss 1.1806, accuracy 58.76%\n",
      "Epoch 52, CIFAR-10 Batch 5:  \tBatch: loss 0.9192 and accuracy 67.45%\t\tValid: loss 1.1343, accuracy 60.16%\n",
      "Epoch 53, CIFAR-10 Batch 1:  \tBatch: loss 0.8909 and accuracy 68.69%\t\tValid: loss 1.1343, accuracy 60.86%\n",
      "Epoch 53, CIFAR-10 Batch 2:  \tBatch: loss 0.9335 and accuracy 67.57%\t\tValid: loss 1.1225, accuracy 60.32%\n",
      "Epoch 53, CIFAR-10 Batch 3:  \tBatch: loss 0.8634 and accuracy 69.80%\t\tValid: loss 1.1285, accuracy 60.78%\n",
      "Epoch 53, CIFAR-10 Batch 4:  \tBatch: loss 0.9166 and accuracy 68.44%\t\tValid: loss 1.1656, accuracy 59.82%\n",
      "Epoch 53, CIFAR-10 Batch 5:  \tBatch: loss 0.8938 and accuracy 68.07%\t\tValid: loss 1.1455, accuracy 59.76%\n",
      "Epoch 54, CIFAR-10 Batch 1:  \tBatch: loss 0.8779 and accuracy 70.42%\t\tValid: loss 1.1154, accuracy 60.78%\n",
      "Epoch 54, CIFAR-10 Batch 2:  \tBatch: loss 0.9280 and accuracy 66.83%\t\tValid: loss 1.1073, accuracy 60.72%\n",
      "Epoch 54, CIFAR-10 Batch 3:  \tBatch: loss 0.9102 and accuracy 67.70%\t\tValid: loss 1.1187, accuracy 61.18%\n",
      "Epoch 54, CIFAR-10 Batch 4:  \tBatch: loss 0.9283 and accuracy 67.70%\t\tValid: loss 1.1624, accuracy 59.96%\n",
      "Epoch 54, CIFAR-10 Batch 5:  \tBatch: loss 0.8836 and accuracy 69.06%\t\tValid: loss 1.1314, accuracy 60.06%\n",
      "Epoch 55, CIFAR-10 Batch 1:  \tBatch: loss 0.8832 and accuracy 68.94%\t\tValid: loss 1.1214, accuracy 60.60%\n",
      "Epoch 55, CIFAR-10 Batch 2:  \tBatch: loss 0.8618 and accuracy 68.56%\t\tValid: loss 1.1286, accuracy 60.24%\n",
      "Epoch 55, CIFAR-10 Batch 3:  \tBatch: loss 0.8353 and accuracy 69.06%\t\tValid: loss 1.1396, accuracy 60.44%\n",
      "Epoch 55, CIFAR-10 Batch 4:  \tBatch: loss 0.9155 and accuracy 69.55%\t\tValid: loss 1.1457, accuracy 60.14%\n",
      "Epoch 55, CIFAR-10 Batch 5:  \tBatch: loss 0.8495 and accuracy 71.91%\t\tValid: loss 1.1078, accuracy 61.28%\n",
      "Epoch 56, CIFAR-10 Batch 1:  \tBatch: loss 0.8521 and accuracy 71.04%\t\tValid: loss 1.1046, accuracy 61.62%\n",
      "Epoch 56, CIFAR-10 Batch 2:  \tBatch: loss 0.8487 and accuracy 69.68%\t\tValid: loss 1.1119, accuracy 61.60%\n",
      "Epoch 56, CIFAR-10 Batch 3:  \tBatch: loss 0.8291 and accuracy 69.31%\t\tValid: loss 1.1534, accuracy 60.70%\n",
      "Epoch 56, CIFAR-10 Batch 4:  \tBatch: loss 0.8235 and accuracy 71.78%\t\tValid: loss 1.1407, accuracy 60.68%\n",
      "Epoch 56, CIFAR-10 Batch 5:  \tBatch: loss 0.8432 and accuracy 70.54%\t\tValid: loss 1.1178, accuracy 61.78%\n",
      "Epoch 57, CIFAR-10 Batch 1:  \tBatch: loss 0.8242 and accuracy 72.52%\t\tValid: loss 1.1154, accuracy 61.60%\n",
      "Epoch 57, CIFAR-10 Batch 2:  \tBatch: loss 0.8631 and accuracy 68.81%\t\tValid: loss 1.1263, accuracy 61.28%\n",
      "Epoch 57, CIFAR-10 Batch 3:  \tBatch: loss 0.7989 and accuracy 71.53%\t\tValid: loss 1.1396, accuracy 61.14%\n",
      "Epoch 57, CIFAR-10 Batch 4:  \tBatch: loss 0.8511 and accuracy 69.68%\t\tValid: loss 1.1543, accuracy 60.28%\n",
      "Epoch 57, CIFAR-10 Batch 5:  \tBatch: loss 0.7820 and accuracy 72.90%\t\tValid: loss 1.1196, accuracy 61.42%\n",
      "Epoch 58, CIFAR-10 Batch 1:  \tBatch: loss 0.7847 and accuracy 73.39%\t\tValid: loss 1.1170, accuracy 61.32%\n",
      "Epoch 58, CIFAR-10 Batch 2:  \tBatch: loss 0.8462 and accuracy 71.16%\t\tValid: loss 1.1300, accuracy 61.52%\n",
      "Epoch 58, CIFAR-10 Batch 3:  \tBatch: loss 0.8493 and accuracy 69.55%\t\tValid: loss 1.1289, accuracy 62.04%\n",
      "Epoch 58, CIFAR-10 Batch 4:  \tBatch: loss 0.8218 and accuracy 71.16%\t\tValid: loss 1.1509, accuracy 60.10%\n",
      "Epoch 58, CIFAR-10 Batch 5:  \tBatch: loss 0.7905 and accuracy 72.03%\t\tValid: loss 1.1180, accuracy 61.58%\n",
      "Epoch 59, CIFAR-10 Batch 1:  \tBatch: loss 0.7891 and accuracy 73.14%\t\tValid: loss 1.1252, accuracy 61.74%\n",
      "Epoch 59, CIFAR-10 Batch 2:  \tBatch: loss 0.8060 and accuracy 73.02%\t\tValid: loss 1.1202, accuracy 62.44%\n",
      "Epoch 59, CIFAR-10 Batch 3:  \tBatch: loss 0.8751 and accuracy 71.29%\t\tValid: loss 1.1888, accuracy 60.70%\n",
      "Epoch 59, CIFAR-10 Batch 4:  \tBatch: loss 0.8149 and accuracy 71.04%\t\tValid: loss 1.1752, accuracy 60.34%\n",
      "Epoch 59, CIFAR-10 Batch 5:  \tBatch: loss 0.7943 and accuracy 72.77%\t\tValid: loss 1.1246, accuracy 61.20%\n",
      "Epoch 60, CIFAR-10 Batch 1:  \tBatch: loss 0.7936 and accuracy 71.66%\t\tValid: loss 1.1227, accuracy 61.54%\n",
      "Epoch 60, CIFAR-10 Batch 2:  \tBatch: loss 0.8176 and accuracy 72.52%\t\tValid: loss 1.1278, accuracy 61.22%\n",
      "Epoch 60, CIFAR-10 Batch 3:  \tBatch: loss 0.7641 and accuracy 72.52%\t\tValid: loss 1.1272, accuracy 62.40%\n",
      "Epoch 60, CIFAR-10 Batch 4:  \tBatch: loss 0.7993 and accuracy 73.51%\t\tValid: loss 1.1526, accuracy 60.44%\n",
      "Epoch 60, CIFAR-10 Batch 5:  \tBatch: loss 0.7784 and accuracy 72.90%\t\tValid: loss 1.1391, accuracy 61.80%\n",
      "Epoch 61, CIFAR-10 Batch 1:  \tBatch: loss 0.7535 and accuracy 73.51%\t\tValid: loss 1.1193, accuracy 61.78%\n",
      "Epoch 61, CIFAR-10 Batch 2:  \tBatch: loss 0.7871 and accuracy 73.14%\t\tValid: loss 1.1407, accuracy 61.04%\n",
      "Epoch 61, CIFAR-10 Batch 3:  \tBatch: loss 0.7467 and accuracy 73.89%\t\tValid: loss 1.1288, accuracy 61.76%\n",
      "Epoch 61, CIFAR-10 Batch 4:  \tBatch: loss 0.7890 and accuracy 71.41%\t\tValid: loss 1.1690, accuracy 60.72%\n",
      "Epoch 61, CIFAR-10 Batch 5:  \tBatch: loss 0.7559 and accuracy 73.64%\t\tValid: loss 1.1452, accuracy 60.76%\n",
      "Epoch 62, CIFAR-10 Batch 1:  \tBatch: loss 0.7515 and accuracy 72.90%\t\tValid: loss 1.1372, accuracy 61.80%\n",
      "Epoch 62, CIFAR-10 Batch 2:  \tBatch: loss 0.7753 and accuracy 71.78%\t\tValid: loss 1.1329, accuracy 61.60%\n",
      "Epoch 62, CIFAR-10 Batch 3:  \tBatch: loss 0.8006 and accuracy 68.32%\t\tValid: loss 1.1247, accuracy 62.16%\n",
      "Epoch 62, CIFAR-10 Batch 4:  \tBatch: loss 0.8293 and accuracy 70.42%\t\tValid: loss 1.1421, accuracy 60.74%\n",
      "Epoch 62, CIFAR-10 Batch 5:  \tBatch: loss 0.7559 and accuracy 71.91%\t\tValid: loss 1.1503, accuracy 61.42%\n",
      "Epoch 63, CIFAR-10 Batch 1:  \tBatch: loss 0.7467 and accuracy 75.25%\t\tValid: loss 1.1534, accuracy 61.70%\n",
      "Epoch 63, CIFAR-10 Batch 2:  \tBatch: loss 0.7543 and accuracy 73.89%\t\tValid: loss 1.1307, accuracy 62.42%\n",
      "Epoch 63, CIFAR-10 Batch 3:  \tBatch: loss 0.7807 and accuracy 71.16%\t\tValid: loss 1.1616, accuracy 61.00%\n",
      "Epoch 63, CIFAR-10 Batch 4:  \tBatch: loss 0.7903 and accuracy 73.64%\t\tValid: loss 1.1508, accuracy 61.50%\n",
      "Epoch 63, CIFAR-10 Batch 5:  \tBatch: loss 0.7298 and accuracy 73.76%\t\tValid: loss 1.1508, accuracy 61.44%\n",
      "Epoch 64, CIFAR-10 Batch 1:  \tBatch: loss 0.7574 and accuracy 72.90%\t\tValid: loss 1.1641, accuracy 61.28%\n",
      "Epoch 64, CIFAR-10 Batch 2:  \tBatch: loss 0.7428 and accuracy 72.65%\t\tValid: loss 1.1436, accuracy 62.28%\n",
      "Epoch 64, CIFAR-10 Batch 3:  \tBatch: loss 0.7241 and accuracy 72.65%\t\tValid: loss 1.1366, accuracy 62.32%\n",
      "Epoch 64, CIFAR-10 Batch 4:  \tBatch: loss 0.7684 and accuracy 73.39%\t\tValid: loss 1.1643, accuracy 61.24%\n",
      "Epoch 64, CIFAR-10 Batch 5:  \tBatch: loss 0.7391 and accuracy 74.75%\t\tValid: loss 1.1481, accuracy 62.28%\n",
      "Epoch 65, CIFAR-10 Batch 1:  \tBatch: loss 0.7776 and accuracy 71.41%\t\tValid: loss 1.1725, accuracy 61.54%\n",
      "Epoch 65, CIFAR-10 Batch 2:  \tBatch: loss 0.7928 and accuracy 72.03%\t\tValid: loss 1.1504, accuracy 61.98%\n",
      "Epoch 65, CIFAR-10 Batch 3:  \tBatch: loss 0.7273 and accuracy 73.76%\t\tValid: loss 1.1460, accuracy 62.06%\n",
      "Epoch 65, CIFAR-10 Batch 4:  \tBatch: loss 0.7423 and accuracy 74.63%\t\tValid: loss 1.1419, accuracy 62.48%\n",
      "Epoch 65, CIFAR-10 Batch 5:  \tBatch: loss 0.7251 and accuracy 75.25%\t\tValid: loss 1.1725, accuracy 61.52%\n",
      "Epoch 66, CIFAR-10 Batch 1:  \tBatch: loss 0.7603 and accuracy 73.27%\t\tValid: loss 1.2003, accuracy 60.26%\n",
      "Epoch 66, CIFAR-10 Batch 2:  \tBatch: loss 0.8013 and accuracy 71.29%\t\tValid: loss 1.1664, accuracy 60.96%\n",
      "Epoch 66, CIFAR-10 Batch 3:  \tBatch: loss 0.7887 and accuracy 71.29%\t\tValid: loss 1.1769, accuracy 61.16%\n",
      "Epoch 66, CIFAR-10 Batch 4:  \tBatch: loss 0.7831 and accuracy 72.90%\t\tValid: loss 1.1444, accuracy 61.72%\n",
      "Epoch 66, CIFAR-10 Batch 5:  \tBatch: loss 0.7329 and accuracy 74.13%\t\tValid: loss 1.1737, accuracy 60.74%\n",
      "Epoch 67, CIFAR-10 Batch 1:  \tBatch: loss 0.7145 and accuracy 75.12%\t\tValid: loss 1.1593, accuracy 61.20%\n",
      "Epoch 67, CIFAR-10 Batch 2:  \tBatch: loss 0.7429 and accuracy 73.64%\t\tValid: loss 1.1451, accuracy 62.42%\n",
      "Epoch 67, CIFAR-10 Batch 3:  \tBatch: loss 0.7700 and accuracy 70.30%\t\tValid: loss 1.1704, accuracy 61.30%\n",
      "Epoch 67, CIFAR-10 Batch 4:  \tBatch: loss 0.7256 and accuracy 74.63%\t\tValid: loss 1.1507, accuracy 62.22%\n",
      "Epoch 67, CIFAR-10 Batch 5:  \tBatch: loss 0.7293 and accuracy 74.26%\t\tValid: loss 1.1658, accuracy 61.52%\n",
      "Epoch 68, CIFAR-10 Batch 1:  \tBatch: loss 0.7099 and accuracy 75.62%\t\tValid: loss 1.1555, accuracy 61.62%\n",
      "Epoch 68, CIFAR-10 Batch 2:  \tBatch: loss 0.7584 and accuracy 73.76%\t\tValid: loss 1.1385, accuracy 61.68%\n",
      "Epoch 68, CIFAR-10 Batch 3:  \tBatch: loss 0.7151 and accuracy 73.64%\t\tValid: loss 1.1510, accuracy 62.10%\n",
      "Epoch 68, CIFAR-10 Batch 4:  \tBatch: loss 0.7240 and accuracy 76.24%\t\tValid: loss 1.1545, accuracy 61.46%\n",
      "Epoch 68, CIFAR-10 Batch 5:  \tBatch: loss 0.7470 and accuracy 74.63%\t\tValid: loss 1.1988, accuracy 61.12%\n",
      "Epoch 69, CIFAR-10 Batch 1:  \tBatch: loss 0.6910 and accuracy 78.09%\t\tValid: loss 1.1422, accuracy 61.86%\n",
      "Epoch 69, CIFAR-10 Batch 2:  \tBatch: loss 0.8181 and accuracy 70.67%\t\tValid: loss 1.1539, accuracy 61.96%\n",
      "Epoch 69, CIFAR-10 Batch 3:  \tBatch: loss 0.7848 and accuracy 73.02%\t\tValid: loss 1.1677, accuracy 61.78%\n",
      "Epoch 69, CIFAR-10 Batch 4:  \tBatch: loss 0.7447 and accuracy 73.14%\t\tValid: loss 1.1505, accuracy 61.80%\n",
      "Epoch 69, CIFAR-10 Batch 5:  \tBatch: loss 0.7044 and accuracy 76.86%\t\tValid: loss 1.1526, accuracy 61.82%\n",
      "Epoch 70, CIFAR-10 Batch 1:  \tBatch: loss 0.7449 and accuracy 73.51%\t\tValid: loss 1.1503, accuracy 61.26%\n",
      "Epoch 70, CIFAR-10 Batch 2:  \tBatch: loss 0.7796 and accuracy 72.28%\t\tValid: loss 1.1448, accuracy 62.02%\n",
      "Epoch 70, CIFAR-10 Batch 3:  \tBatch: loss 0.7094 and accuracy 75.25%\t\tValid: loss 1.1413, accuracy 62.24%\n",
      "Epoch 70, CIFAR-10 Batch 4:  \tBatch: loss 0.7126 and accuracy 75.50%\t\tValid: loss 1.1398, accuracy 62.16%\n",
      "Epoch 70, CIFAR-10 Batch 5:  \tBatch: loss 0.6536 and accuracy 77.10%\t\tValid: loss 1.1409, accuracy 62.40%\n",
      "Epoch 71, CIFAR-10 Batch 1:  \tBatch: loss 0.7082 and accuracy 76.49%\t\tValid: loss 1.1670, accuracy 61.74%\n",
      "Epoch 71, CIFAR-10 Batch 2:  \tBatch: loss 0.7469 and accuracy 73.51%\t\tValid: loss 1.1493, accuracy 62.10%\n",
      "Epoch 71, CIFAR-10 Batch 3:  \tBatch: loss 0.7200 and accuracy 73.64%\t\tValid: loss 1.1609, accuracy 62.38%\n",
      "Epoch 71, CIFAR-10 Batch 4:  \tBatch: loss 0.6956 and accuracy 75.50%\t\tValid: loss 1.1410, accuracy 61.70%\n",
      "Epoch 71, CIFAR-10 Batch 5:  \tBatch: loss 0.7546 and accuracy 74.13%\t\tValid: loss 1.1675, accuracy 61.44%\n",
      "Epoch 72, CIFAR-10 Batch 1:  \tBatch: loss 0.6850 and accuracy 77.85%\t\tValid: loss 1.1526, accuracy 61.80%\n",
      "Epoch 72, CIFAR-10 Batch 2:  \tBatch: loss 0.7867 and accuracy 72.28%\t\tValid: loss 1.1926, accuracy 60.68%\n",
      "Epoch 72, CIFAR-10 Batch 3:  \tBatch: loss 0.7744 and accuracy 71.04%\t\tValid: loss 1.1581, accuracy 60.94%\n",
      "Epoch 72, CIFAR-10 Batch 4:  \tBatch: loss 0.7332 and accuracy 75.37%\t\tValid: loss 1.1642, accuracy 60.74%\n",
      "Epoch 72, CIFAR-10 Batch 5:  \tBatch: loss 0.7074 and accuracy 75.99%\t\tValid: loss 1.1494, accuracy 61.14%\n",
      "Epoch 73, CIFAR-10 Batch 1:  \tBatch: loss 0.7064 and accuracy 75.00%\t\tValid: loss 1.1321, accuracy 62.30%\n",
      "Epoch 73, CIFAR-10 Batch 2:  \tBatch: loss 0.7869 and accuracy 72.77%\t\tValid: loss 1.2054, accuracy 61.02%\n",
      "Epoch 73, CIFAR-10 Batch 3:  \tBatch: loss 0.7152 and accuracy 75.25%\t\tValid: loss 1.1842, accuracy 60.76%\n",
      "Epoch 73, CIFAR-10 Batch 4:  \tBatch: loss 0.6903 and accuracy 75.12%\t\tValid: loss 1.1527, accuracy 61.40%\n",
      "Epoch 73, CIFAR-10 Batch 5:  \tBatch: loss 0.7274 and accuracy 73.76%\t\tValid: loss 1.1585, accuracy 61.62%\n",
      "Epoch 74, CIFAR-10 Batch 1:  \tBatch: loss 0.6962 and accuracy 77.35%\t\tValid: loss 1.1518, accuracy 61.36%\n",
      "Epoch 74, CIFAR-10 Batch 2:  \tBatch: loss 0.7220 and accuracy 75.74%\t\tValid: loss 1.1579, accuracy 62.10%\n",
      "Epoch 74, CIFAR-10 Batch 3:  \tBatch: loss 0.7128 and accuracy 72.65%\t\tValid: loss 1.1791, accuracy 61.62%\n",
      "Epoch 74, CIFAR-10 Batch 4:  \tBatch: loss 0.6984 and accuracy 74.63%\t\tValid: loss 1.1532, accuracy 62.20%\n",
      "Epoch 74, CIFAR-10 Batch 5:  \tBatch: loss 0.6486 and accuracy 77.85%\t\tValid: loss 1.1602, accuracy 61.80%\n",
      "Epoch 75, CIFAR-10 Batch 1:  \tBatch: loss 0.6720 and accuracy 75.37%\t\tValid: loss 1.1498, accuracy 61.84%\n",
      "Epoch 75, CIFAR-10 Batch 2:  \tBatch: loss 0.7335 and accuracy 75.12%\t\tValid: loss 1.1683, accuracy 61.86%\n",
      "Epoch 75, CIFAR-10 Batch 3:  \tBatch: loss 0.6796 and accuracy 75.87%\t\tValid: loss 1.2136, accuracy 60.82%\n",
      "Epoch 75, CIFAR-10 Batch 4:  \tBatch: loss 0.7063 and accuracy 75.25%\t\tValid: loss 1.1672, accuracy 61.80%\n",
      "Epoch 75, CIFAR-10 Batch 5:  \tBatch: loss 0.6648 and accuracy 76.24%\t\tValid: loss 1.1590, accuracy 62.08%\n",
      "Epoch 76, CIFAR-10 Batch 1:  \tBatch: loss 0.6201 and accuracy 77.48%\t\tValid: loss 1.1562, accuracy 62.48%\n",
      "Epoch 76, CIFAR-10 Batch 2:  \tBatch: loss 0.7107 and accuracy 74.13%\t\tValid: loss 1.1513, accuracy 62.10%\n",
      "Epoch 76, CIFAR-10 Batch 3:  \tBatch: loss 0.6540 and accuracy 75.99%\t\tValid: loss 1.1843, accuracy 61.58%\n",
      "Epoch 76, CIFAR-10 Batch 4:  \tBatch: loss 0.7008 and accuracy 76.61%\t\tValid: loss 1.1602, accuracy 62.70%\n",
      "Epoch 76, CIFAR-10 Batch 5:  \tBatch: loss 0.6453 and accuracy 79.08%\t\tValid: loss 1.1659, accuracy 62.34%\n",
      "Epoch 77, CIFAR-10 Batch 1:  \tBatch: loss 0.6168 and accuracy 77.35%\t\tValid: loss 1.1619, accuracy 62.14%\n",
      "Epoch 77, CIFAR-10 Batch 2:  \tBatch: loss 0.6880 and accuracy 77.10%\t\tValid: loss 1.1783, accuracy 62.38%\n",
      "Epoch 77, CIFAR-10 Batch 3:  \tBatch: loss 0.6650 and accuracy 76.11%\t\tValid: loss 1.2020, accuracy 61.80%\n",
      "Epoch 77, CIFAR-10 Batch 4:  \tBatch: loss 0.7087 and accuracy 74.63%\t\tValid: loss 1.1733, accuracy 61.82%\n",
      "Epoch 77, CIFAR-10 Batch 5:  \tBatch: loss 0.6315 and accuracy 78.22%\t\tValid: loss 1.1756, accuracy 61.70%\n",
      "Epoch 78, CIFAR-10 Batch 1:  \tBatch: loss 0.6559 and accuracy 76.11%\t\tValid: loss 1.1540, accuracy 62.04%\n",
      "Epoch 78, CIFAR-10 Batch 2:  \tBatch: loss 0.6814 and accuracy 76.61%\t\tValid: loss 1.1990, accuracy 61.46%\n",
      "Epoch 78, CIFAR-10 Batch 3:  \tBatch: loss 0.6828 and accuracy 76.36%\t\tValid: loss 1.1960, accuracy 61.56%\n",
      "Epoch 78, CIFAR-10 Batch 4:  \tBatch: loss 0.6830 and accuracy 76.49%\t\tValid: loss 1.1785, accuracy 61.76%\n",
      "Epoch 78, CIFAR-10 Batch 5:  \tBatch: loss 0.6433 and accuracy 78.34%\t\tValid: loss 1.1736, accuracy 61.58%\n",
      "Epoch 79, CIFAR-10 Batch 1:  \tBatch: loss 0.7215 and accuracy 74.50%\t\tValid: loss 1.2031, accuracy 61.66%\n",
      "Epoch 79, CIFAR-10 Batch 2:  \tBatch: loss 0.6897 and accuracy 76.49%\t\tValid: loss 1.1586, accuracy 62.22%\n",
      "Epoch 79, CIFAR-10 Batch 3:  \tBatch: loss 0.7019 and accuracy 75.50%\t\tValid: loss 1.2244, accuracy 62.04%\n",
      "Epoch 79, CIFAR-10 Batch 4:  \tBatch: loss 0.6579 and accuracy 78.22%\t\tValid: loss 1.1691, accuracy 62.26%\n",
      "Epoch 79, CIFAR-10 Batch 5:  \tBatch: loss 0.6715 and accuracy 77.23%\t\tValid: loss 1.1766, accuracy 61.28%\n",
      "Epoch 80, CIFAR-10 Batch 1:  \tBatch: loss 0.6431 and accuracy 78.09%\t\tValid: loss 1.1610, accuracy 62.54%\n",
      "Epoch 80, CIFAR-10 Batch 2:  \tBatch: loss 0.6717 and accuracy 75.50%\t\tValid: loss 1.1535, accuracy 62.26%\n",
      "Epoch 80, CIFAR-10 Batch 3:  \tBatch: loss 0.6132 and accuracy 77.72%\t\tValid: loss 1.1807, accuracy 62.36%\n",
      "Epoch 80, CIFAR-10 Batch 4:  \tBatch: loss 0.6586 and accuracy 78.84%\t\tValid: loss 1.1662, accuracy 62.30%\n",
      "Epoch 80, CIFAR-10 Batch 5:  \tBatch: loss 0.6799 and accuracy 76.49%\t\tValid: loss 1.1871, accuracy 61.04%\n",
      "Epoch 81, CIFAR-10 Batch 1:  \tBatch: loss 0.6268 and accuracy 78.09%\t\tValid: loss 1.1716, accuracy 61.96%\n",
      "Epoch 81, CIFAR-10 Batch 2:  \tBatch: loss 0.6435 and accuracy 77.85%\t\tValid: loss 1.1614, accuracy 61.48%\n",
      "Epoch 81, CIFAR-10 Batch 3:  \tBatch: loss 0.6570 and accuracy 76.11%\t\tValid: loss 1.2055, accuracy 61.70%\n",
      "Epoch 81, CIFAR-10 Batch 4:  \tBatch: loss 0.6430 and accuracy 78.22%\t\tValid: loss 1.1838, accuracy 62.30%\n",
      "Epoch 81, CIFAR-10 Batch 5:  \tBatch: loss 0.6646 and accuracy 76.24%\t\tValid: loss 1.2193, accuracy 61.38%\n",
      "Epoch 82, CIFAR-10 Batch 1:  \tBatch: loss 0.5976 and accuracy 77.85%\t\tValid: loss 1.1734, accuracy 62.72%\n",
      "Epoch 82, CIFAR-10 Batch 2:  \tBatch: loss 0.6139 and accuracy 77.72%\t\tValid: loss 1.1524, accuracy 62.86%\n",
      "Epoch 82, CIFAR-10 Batch 3:  \tBatch: loss 0.6443 and accuracy 77.48%\t\tValid: loss 1.2185, accuracy 61.88%\n",
      "Epoch 82, CIFAR-10 Batch 4:  \tBatch: loss 0.6586 and accuracy 76.73%\t\tValid: loss 1.1866, accuracy 62.64%\n",
      "Epoch 82, CIFAR-10 Batch 5:  \tBatch: loss 0.6174 and accuracy 77.85%\t\tValid: loss 1.2179, accuracy 61.22%\n",
      "Epoch 83, CIFAR-10 Batch 1:  \tBatch: loss 0.5993 and accuracy 80.82%\t\tValid: loss 1.1839, accuracy 62.52%\n",
      "Epoch 83, CIFAR-10 Batch 2:  \tBatch: loss 0.6218 and accuracy 78.59%\t\tValid: loss 1.1835, accuracy 62.20%\n",
      "Epoch 83, CIFAR-10 Batch 3:  \tBatch: loss 0.6207 and accuracy 78.59%\t\tValid: loss 1.2048, accuracy 62.06%\n",
      "Epoch 83, CIFAR-10 Batch 4:  \tBatch: loss 0.6488 and accuracy 78.47%\t\tValid: loss 1.2212, accuracy 61.22%\n",
      "Epoch 83, CIFAR-10 Batch 5:  \tBatch: loss 0.5917 and accuracy 80.07%\t\tValid: loss 1.2417, accuracy 61.42%\n",
      "Epoch 84, CIFAR-10 Batch 1:  \tBatch: loss 0.6090 and accuracy 79.08%\t\tValid: loss 1.2034, accuracy 62.12%\n",
      "Epoch 84, CIFAR-10 Batch 2:  \tBatch: loss 0.6759 and accuracy 78.47%\t\tValid: loss 1.1706, accuracy 62.46%\n",
      "Epoch 84, CIFAR-10 Batch 3:  \tBatch: loss 0.6053 and accuracy 80.45%\t\tValid: loss 1.2001, accuracy 62.54%\n",
      "Epoch 84, CIFAR-10 Batch 4:  \tBatch: loss 0.6403 and accuracy 77.60%\t\tValid: loss 1.2010, accuracy 62.10%\n",
      "Epoch 84, CIFAR-10 Batch 5:  \tBatch: loss 0.5495 and accuracy 81.44%\t\tValid: loss 1.1996, accuracy 62.24%\n",
      "Epoch 85, CIFAR-10 Batch 1:  \tBatch: loss 0.5285 and accuracy 81.56%\t\tValid: loss 1.1853, accuracy 62.68%\n",
      "Epoch 85, CIFAR-10 Batch 2:  \tBatch: loss 0.5929 and accuracy 80.94%\t\tValid: loss 1.1733, accuracy 62.78%\n",
      "Epoch 85, CIFAR-10 Batch 3:  \tBatch: loss 0.5993 and accuracy 78.84%\t\tValid: loss 1.2008, accuracy 62.70%\n",
      "Epoch 85, CIFAR-10 Batch 4:  \tBatch: loss 0.6200 and accuracy 79.46%\t\tValid: loss 1.2362, accuracy 62.10%\n",
      "Epoch 85, CIFAR-10 Batch 5:  \tBatch: loss 0.5920 and accuracy 79.95%\t\tValid: loss 1.2310, accuracy 61.54%\n",
      "Epoch 86, CIFAR-10 Batch 1:  \tBatch: loss 0.6270 and accuracy 79.46%\t\tValid: loss 1.2145, accuracy 62.30%\n",
      "Epoch 86, CIFAR-10 Batch 2:  \tBatch: loss 0.6416 and accuracy 77.23%\t\tValid: loss 1.1720, accuracy 63.24%\n",
      "Epoch 86, CIFAR-10 Batch 3:  \tBatch: loss 0.5604 and accuracy 81.81%\t\tValid: loss 1.2016, accuracy 62.68%\n",
      "Epoch 86, CIFAR-10 Batch 4:  \tBatch: loss 0.5757 and accuracy 81.68%\t\tValid: loss 1.2104, accuracy 62.68%\n",
      "Epoch 86, CIFAR-10 Batch 5:  \tBatch: loss 0.5636 and accuracy 78.22%\t\tValid: loss 1.2225, accuracy 62.30%\n",
      "Epoch 87, CIFAR-10 Batch 1:  \tBatch: loss 0.6423 and accuracy 77.72%\t\tValid: loss 1.2346, accuracy 61.86%\n",
      "Epoch 87, CIFAR-10 Batch 2:  \tBatch: loss 0.5900 and accuracy 80.07%\t\tValid: loss 1.1909, accuracy 62.46%\n",
      "Epoch 87, CIFAR-10 Batch 3:  \tBatch: loss 0.5412 and accuracy 80.32%\t\tValid: loss 1.2182, accuracy 62.84%\n",
      "Epoch 87, CIFAR-10 Batch 4:  \tBatch: loss 0.5538 and accuracy 81.93%\t\tValid: loss 1.1802, accuracy 63.22%\n",
      "Epoch 87, CIFAR-10 Batch 5:  \tBatch: loss 0.5287 and accuracy 83.54%\t\tValid: loss 1.2058, accuracy 62.50%\n",
      "Epoch 88, CIFAR-10 Batch 1:  \tBatch: loss 0.5634 and accuracy 80.32%\t\tValid: loss 1.2232, accuracy 62.28%\n",
      "Epoch 88, CIFAR-10 Batch 2:  \tBatch: loss 0.5773 and accuracy 79.58%\t\tValid: loss 1.1752, accuracy 63.56%\n",
      "Epoch 88, CIFAR-10 Batch 3:  \tBatch: loss 0.5587 and accuracy 81.81%\t\tValid: loss 1.1997, accuracy 63.24%\n",
      "Epoch 88, CIFAR-10 Batch 4:  \tBatch: loss 0.5225 and accuracy 81.68%\t\tValid: loss 1.2067, accuracy 62.86%\n",
      "Epoch 88, CIFAR-10 Batch 5:  \tBatch: loss 0.5706 and accuracy 80.82%\t\tValid: loss 1.2098, accuracy 62.32%\n",
      "Epoch 89, CIFAR-10 Batch 1:  \tBatch: loss 0.5835 and accuracy 79.33%\t\tValid: loss 1.2160, accuracy 62.30%\n",
      "Epoch 89, CIFAR-10 Batch 2:  \tBatch: loss 0.5778 and accuracy 79.95%\t\tValid: loss 1.1944, accuracy 62.92%\n",
      "Epoch 89, CIFAR-10 Batch 3:  \tBatch: loss 0.5764 and accuracy 80.32%\t\tValid: loss 1.2275, accuracy 62.96%\n",
      "Epoch 89, CIFAR-10 Batch 4:  \tBatch: loss 0.6274 and accuracy 79.46%\t\tValid: loss 1.2485, accuracy 61.12%\n",
      "Epoch 89, CIFAR-10 Batch 5:  \tBatch: loss 0.5528 and accuracy 81.31%\t\tValid: loss 1.2279, accuracy 62.08%\n",
      "Epoch 90, CIFAR-10 Batch 1:  \tBatch: loss 0.5936 and accuracy 79.58%\t\tValid: loss 1.2658, accuracy 61.94%\n",
      "Epoch 90, CIFAR-10 Batch 2:  \tBatch: loss 0.5316 and accuracy 80.07%\t\tValid: loss 1.1844, accuracy 63.44%\n",
      "Epoch 90, CIFAR-10 Batch 3:  \tBatch: loss 0.5540 and accuracy 81.19%\t\tValid: loss 1.2237, accuracy 62.98%\n",
      "Epoch 90, CIFAR-10 Batch 4:  \tBatch: loss 0.5698 and accuracy 79.58%\t\tValid: loss 1.2337, accuracy 62.30%\n",
      "Epoch 90, CIFAR-10 Batch 5:  \tBatch: loss 0.5617 and accuracy 80.82%\t\tValid: loss 1.2119, accuracy 63.08%\n",
      "Epoch 91, CIFAR-10 Batch 1:  \tBatch: loss 0.5037 and accuracy 83.29%\t\tValid: loss 1.2573, accuracy 62.40%\n",
      "Epoch 91, CIFAR-10 Batch 2:  \tBatch: loss 0.5770 and accuracy 80.57%\t\tValid: loss 1.2134, accuracy 62.78%\n",
      "Epoch 91, CIFAR-10 Batch 3:  \tBatch: loss 0.5806 and accuracy 81.31%\t\tValid: loss 1.2556, accuracy 62.32%\n",
      "Epoch 91, CIFAR-10 Batch 4:  \tBatch: loss 0.5127 and accuracy 82.67%\t\tValid: loss 1.2298, accuracy 62.14%\n",
      "Epoch 91, CIFAR-10 Batch 5:  \tBatch: loss 0.4986 and accuracy 82.92%\t\tValid: loss 1.2135, accuracy 63.04%\n",
      "Epoch 92, CIFAR-10 Batch 1:  \tBatch: loss 0.5054 and accuracy 81.68%\t\tValid: loss 1.2315, accuracy 63.10%\n",
      "Epoch 92, CIFAR-10 Batch 2:  \tBatch: loss 0.5139 and accuracy 83.42%\t\tValid: loss 1.2014, accuracy 63.62%\n",
      "Epoch 92, CIFAR-10 Batch 3:  \tBatch: loss 0.5082 and accuracy 81.31%\t\tValid: loss 1.2197, accuracy 63.30%\n",
      "Epoch 92, CIFAR-10 Batch 4:  \tBatch: loss 0.5276 and accuracy 82.80%\t\tValid: loss 1.2326, accuracy 62.76%\n",
      "Epoch 92, CIFAR-10 Batch 5:  \tBatch: loss 0.5023 and accuracy 81.68%\t\tValid: loss 1.2157, accuracy 63.04%\n",
      "Epoch 93, CIFAR-10 Batch 1:  \tBatch: loss 0.4866 and accuracy 84.65%\t\tValid: loss 1.2452, accuracy 62.54%\n",
      "Epoch 93, CIFAR-10 Batch 2:  \tBatch: loss 0.5189 and accuracy 79.46%\t\tValid: loss 1.2131, accuracy 63.58%\n",
      "Epoch 93, CIFAR-10 Batch 3:  \tBatch: loss 0.4905 and accuracy 81.68%\t\tValid: loss 1.2585, accuracy 63.18%\n",
      "Epoch 93, CIFAR-10 Batch 4:  \tBatch: loss 0.5311 and accuracy 81.06%\t\tValid: loss 1.2549, accuracy 62.48%\n",
      "Epoch 93, CIFAR-10 Batch 5:  \tBatch: loss 0.5102 and accuracy 82.30%\t\tValid: loss 1.2278, accuracy 62.88%\n",
      "Epoch 94, CIFAR-10 Batch 1:  \tBatch: loss 0.4548 and accuracy 84.78%\t\tValid: loss 1.2349, accuracy 63.74%\n",
      "Epoch 94, CIFAR-10 Batch 2:  \tBatch: loss 0.5409 and accuracy 80.82%\t\tValid: loss 1.2035, accuracy 63.84%\n",
      "Epoch 94, CIFAR-10 Batch 3:  \tBatch: loss 0.5144 and accuracy 83.17%\t\tValid: loss 1.2100, accuracy 63.88%\n",
      "Epoch 94, CIFAR-10 Batch 4:  \tBatch: loss 0.4925 and accuracy 83.66%\t\tValid: loss 1.2251, accuracy 62.18%\n",
      "Epoch 94, CIFAR-10 Batch 5:  \tBatch: loss 0.4944 and accuracy 81.68%\t\tValid: loss 1.2531, accuracy 62.42%\n",
      "Epoch 95, CIFAR-10 Batch 1:  \tBatch: loss 0.5151 and accuracy 80.69%\t\tValid: loss 1.2698, accuracy 61.88%\n",
      "Epoch 95, CIFAR-10 Batch 2:  \tBatch: loss 0.5410 and accuracy 81.81%\t\tValid: loss 1.2191, accuracy 62.80%\n",
      "Epoch 95, CIFAR-10 Batch 3:  \tBatch: loss 0.4657 and accuracy 83.79%\t\tValid: loss 1.1987, accuracy 63.54%\n",
      "Epoch 95, CIFAR-10 Batch 4:  \tBatch: loss 0.4938 and accuracy 82.80%\t\tValid: loss 1.2404, accuracy 62.58%\n",
      "Epoch 95, CIFAR-10 Batch 5:  \tBatch: loss 0.4735 and accuracy 83.79%\t\tValid: loss 1.2238, accuracy 62.38%\n",
      "Epoch 96, CIFAR-10 Batch 1:  \tBatch: loss 0.5247 and accuracy 80.45%\t\tValid: loss 1.2494, accuracy 62.00%\n",
      "Epoch 96, CIFAR-10 Batch 2:  \tBatch: loss 0.5249 and accuracy 81.68%\t\tValid: loss 1.2246, accuracy 63.12%\n",
      "Epoch 96, CIFAR-10 Batch 3:  \tBatch: loss 0.5163 and accuracy 83.17%\t\tValid: loss 1.2490, accuracy 62.74%\n",
      "Epoch 96, CIFAR-10 Batch 4:  \tBatch: loss 0.4431 and accuracy 85.77%\t\tValid: loss 1.2321, accuracy 62.68%\n",
      "Epoch 96, CIFAR-10 Batch 5:  \tBatch: loss 0.4727 and accuracy 81.81%\t\tValid: loss 1.2218, accuracy 63.26%\n",
      "Epoch 97, CIFAR-10 Batch 1:  \tBatch: loss 0.5019 and accuracy 83.04%\t\tValid: loss 1.2479, accuracy 63.04%\n",
      "Epoch 97, CIFAR-10 Batch 2:  \tBatch: loss 0.5114 and accuracy 83.04%\t\tValid: loss 1.2314, accuracy 62.98%\n",
      "Epoch 97, CIFAR-10 Batch 3:  \tBatch: loss 0.4913 and accuracy 82.43%\t\tValid: loss 1.2227, accuracy 63.66%\n",
      "Epoch 97, CIFAR-10 Batch 4:  \tBatch: loss 0.4533 and accuracy 84.16%\t\tValid: loss 1.2370, accuracy 62.86%\n",
      "Epoch 97, CIFAR-10 Batch 5:  \tBatch: loss 0.4599 and accuracy 86.39%\t\tValid: loss 1.2249, accuracy 63.42%\n",
      "Epoch 98, CIFAR-10 Batch 1:  \tBatch: loss 0.4742 and accuracy 83.79%\t\tValid: loss 1.2682, accuracy 62.20%\n",
      "Epoch 98, CIFAR-10 Batch 2:  \tBatch: loss 0.4927 and accuracy 82.18%\t\tValid: loss 1.2446, accuracy 62.70%\n",
      "Epoch 98, CIFAR-10 Batch 3:  \tBatch: loss 0.4222 and accuracy 86.63%\t\tValid: loss 1.2421, accuracy 63.44%\n",
      "Epoch 98, CIFAR-10 Batch 4:  \tBatch: loss 0.4661 and accuracy 83.91%\t\tValid: loss 1.2327, accuracy 63.68%\n",
      "Epoch 98, CIFAR-10 Batch 5:  \tBatch: loss 0.4546 and accuracy 85.02%\t\tValid: loss 1.2495, accuracy 62.72%\n",
      "Epoch 99, CIFAR-10 Batch 1:  \tBatch: loss 0.4370 and accuracy 85.27%\t\tValid: loss 1.2778, accuracy 62.72%\n",
      "Epoch 99, CIFAR-10 Batch 2:  \tBatch: loss 0.5158 and accuracy 80.20%\t\tValid: loss 1.2510, accuracy 62.84%\n",
      "Epoch 99, CIFAR-10 Batch 3:  \tBatch: loss 0.4544 and accuracy 83.79%\t\tValid: loss 1.2377, accuracy 63.90%\n",
      "Epoch 99, CIFAR-10 Batch 4:  \tBatch: loss 0.4942 and accuracy 83.29%\t\tValid: loss 1.2433, accuracy 63.52%\n",
      "Epoch 99, CIFAR-10 Batch 5:  \tBatch: loss 0.4364 and accuracy 86.51%\t\tValid: loss 1.2543, accuracy 62.92%\n",
      "Epoch 100, CIFAR-10 Batch 1:  \tBatch: loss 0.4722 and accuracy 83.29%\t\tValid: loss 1.2674, accuracy 62.96%\n",
      "Epoch 100, CIFAR-10 Batch 2:  \tBatch: loss 0.5306 and accuracy 82.92%\t\tValid: loss 1.2650, accuracy 62.90%\n",
      "Epoch 100, CIFAR-10 Batch 3:  \tBatch: loss 0.4941 and accuracy 82.67%\t\tValid: loss 1.2745, accuracy 63.18%\n",
      "Epoch 100, CIFAR-10 Batch 4:  \tBatch: loss 0.4607 and accuracy 84.78%\t\tValid: loss 1.2689, accuracy 63.14%\n",
      "Epoch 100, CIFAR-10 Batch 5:  \tBatch: loss 0.4286 and accuracy 85.64%\t\tValid: loss 1.2755, accuracy 62.94%\n"
     ]
    }
   ],
   "source": [
    "\"\"\"\n",
    "DON'T MODIFY ANYTHING IN THIS CELL\n",
    "\"\"\"\n",
    "save_model_path = './image_classification'\n",
    "\n",
    "print('Training...')\n",
    "with tf.Session() as sess:\n",
    "    # Initializing the variables\n",
    "    sess.run(tf.global_variables_initializer())\n",
    "    \n",
    "    # Training cycle\n",
    "    for epoch in range(epochs):\n",
    "        # Loop over all batches\n",
    "        n_batches = 5\n",
    "        for batch_i in range(1, n_batches + 1):\n",
    "            for batch_features, batch_labels in helper.load_preprocess_training_batch(batch_i, batch_size):\n",
    "                train_neural_network(sess, optimizer, keep_probability, batch_features, batch_labels)\n",
    "            print('Epoch {:>2}, CIFAR-10 Batch {}:  '.format(epoch + 1, batch_i), end='')\n",
    "            print_stats(sess, batch_features, batch_labels, cost, accuracy)\n",
    "            \n",
    "    # Save Model\n",
    "    saver = tf.train.Saver()\n",
    "    save_path = saver.save(sess, save_model_path)"
   ]
  },
  {
   "cell_type": "markdown",
   "metadata": {
    "deletable": true,
    "editable": true
   },
   "source": [
    "# Checkpoint\n",
    "The model has been saved to disk.\n",
    "## Test Model\n",
    "Test your model against the test dataset.  This will be your final accuracy. You should have an accuracy greater than 50%. If you don't, keep tweaking the model architecture and parameters."
   ]
  },
  {
   "cell_type": "code",
   "execution_count": 25,
   "metadata": {
    "collapsed": false,
    "deletable": true,
    "editable": true
   },
   "outputs": [
    {
     "name": "stdout",
     "output_type": "stream",
     "text": [
      "Testing Accuracy: 0.6365393757820129\n",
      "\n"
     ]
    },
    {
     "data": {
      "image/png": "[encoded data removed]",
      "text/plain": [
       "<matplotlib.figure.Figure at 0x222c46e67b8>"
      ]
     },
     "metadata": {
      "image/png": {
       "height": 319,
       "width": 355
      }
     },
     "output_type": "display_data"
    }
   ],
   "source": [
    "\"\"\"\n",
    "DON'T MODIFY ANYTHING IN THIS CELL\n",
    "\"\"\"\n",
    "%matplotlib inline\n",
    "%config InlineBackend.figure_format = 'retina'\n",
    "\n",
    "import tensorflow as tf\n",
    "import pickle\n",
    "import helper\n",
    "import random\n",
    "\n",
    "# Set batch size if not already set\n",
    "try:\n",
    "    if batch_size:\n",
    "        pass\n",
    "except NameError:\n",
    "    batch_size = 64\n",
    "\n",
    "save_model_path = './image_classification'\n",
    "n_samples = 4\n",
    "top_n_predictions = 3\n",
    "\n",
    "def test_model():\n",
    "    \"\"\"\n",
    "    Test the saved model against the test dataset\n",
    "    \"\"\"\n",
    "\n",
    "    test_features, test_labels = pickle.load(open('preprocess_training.p', mode='rb'))\n",
    "    loaded_graph = tf.Graph()\n",
    "\n",
    "    with tf.Session(graph=loaded_graph) as sess:\n",
    "        # Load model\n",
    "        loader = tf.train.import_meta_graph(save_model_path + '.meta')\n",
    "        loader.restore(sess, save_model_path)\n",
    "\n",
    "        # Get Tensors from loaded model\n",
    "        loaded_x = loaded_graph.get_tensor_by_name('x:0')\n",
    "        loaded_y = loaded_graph.get_tensor_by_name('y:0')\n",
    "        loaded_keep_prob = loaded_graph.get_tensor_by_name('keep_prob:0')\n",
    "        loaded_logits = loaded_graph.get_tensor_by_name('logits:0')\n",
    "        loaded_acc = loaded_graph.get_tensor_by_name('accuracy:0')\n",
    "        \n",
    "        # Get accuracy in batches for memory limitations\n",
    "        test_batch_acc_total = 0\n",
    "        test_batch_count = 0\n",
    "        \n",
    "        for train_feature_batch, train_label_batch in helper.batch_features_labels(test_features, test_labels, batch_size):\n",
    "            test_batch_acc_total += sess.run(\n",
    "                loaded_acc,\n",
    "                feed_dict={loaded_x: train_feature_batch, loaded_y: train_label_batch, loaded_keep_prob: 1.0})\n",
    "            test_batch_count += 1\n",
    "\n",
    "        print('Testing Accuracy: {}\\n'.format(test_batch_acc_total/test_batch_count))\n",
    "\n",
    "        # Print Random Samples\n",
    "        random_test_features, random_test_labels = tuple(zip(*random.sample(list(zip(test_features, test_labels)), n_samples)))\n",
    "        random_test_predictions = sess.run(\n",
    "            tf.nn.top_k(tf.nn.softmax(loaded_logits), top_n_predictions),\n",
    "            feed_dict={loaded_x: random_test_features, loaded_y: random_test_labels, loaded_keep_prob: 1.0})\n",
    "        helper.display_image_predictions(random_test_features, random_test_labels, random_test_predictions)\n",
    "\n",
    "\n",
    "test_model()"
   ]
  },
  {
   "cell_type": "markdown",
   "metadata": {
    "deletable": true,
    "editable": true
   },
   "source": [
    "## Why 50-80% Accuracy?\n",
    "You might be wondering why you can't get an accuracy any higher. First things first, 50% isn't bad for a simple CNN.  Pure guessing would get you 10% accuracy. That's because there are many more techniques that can be applied to your model and we recemmond that once you are done with this project, you explore!\n",
    "\n",
    "## Submitting This Project\n",
    "When submitting this project, make sure to run all the cells before saving the notebook.  Save the notebook file as \"dlnd_image_classification.ipynb\" and save it as a HTML file under \"File\" -> \"Download as\".  Include the \"helper.py\" and \"problem_unittests.py\" files in your submission."
   ]
  },
  {
   "cell_type": "code",
   "execution_count": null,
   "metadata": {
    "collapsed": true,
    "deletable": true,
    "editable": true
   },
   "outputs": [],
   "source": []
  }
 ],
 "metadata": {
  "kernelspec": {
   "display_name": "Python 3",
   "language": "python",
   "name": "python3"
  },
  "language_info": {
   "codemirror_mode": {
    "name": "ipython",
    "version": 3
   },
   "file_extension": ".py",
   "mimetype": "text/x-python",
   "name": "python",
   "nbconvert_exporter": "python",
   "pygments_lexer": "ipython3",
   "version": "3.5.3"
  }
 },
 "nbformat": 4,
 "nbformat_minor": 0
}
