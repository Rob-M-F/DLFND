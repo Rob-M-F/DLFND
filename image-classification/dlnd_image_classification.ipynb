{
 "cells": [
  {
   "cell_type": "markdown",
   "metadata": {
    "collapsed": true
   },
   "source": [
    "# Image Classification\n",
    "In this project, you'll classify images from the [CIFAR-10 dataset](https://www.cs.toronto.edu/~kriz/cifar.html).  The dataset consists of airplanes, dogs, cats, and other objects. You'll preprocess the images, then train a convolutional neural network on all the samples. The images need to be normalized and the labels need to be one-hot encoded.  You'll get to apply what you learned and build a convolutional, max pooling, dropout, and fully connected layers.  At the end, you'll get to see your neural network's predictions on the sample images.\n",
    "## Get the Data\n",
    "Run the following cell to download the [CIFAR-10 dataset for python](https://www.cs.toronto.edu/~kriz/cifar-10-python.tar.gz)."
   ]
  },
  {
   "cell_type": "code",
   "execution_count": 1,
   "metadata": {
    "collapsed": false
   },
   "outputs": [
    {
     "name": "stdout",
     "output_type": "stream",
     "text": [
      "All files found!\n"
     ]
    }
   ],
   "source": [
    "\"\"\"\n",
    "DON'T MODIFY ANYTHING IN THIS CELL THAT IS BELOW THIS LINE\n",
    "\"\"\"\n",
    "from urllib.request import urlretrieve\n",
    "from os.path import isfile, isdir\n",
    "from tqdm import tqdm\n",
    "import problem_unittests as tests\n",
    "import tarfile\n",
    "\n",
    "cifar10_dataset_folder_path = 'cifar-10-batches-py'\n",
    "\n",
    "class DLProgress(tqdm):\n",
    "    last_block = 0\n",
    "\n",
    "    def hook(self, block_num=1, block_size=1, total_size=None):\n",
    "        self.total = total_size\n",
    "        self.update((block_num - self.last_block) * block_size)\n",
    "        self.last_block = block_num\n",
    "\n",
    "if not isfile('cifar-10-python.tar.gz'):\n",
    "    with DLProgress(unit='B', unit_scale=True, miniters=1, desc='CIFAR-10 Dataset') as pbar:\n",
    "        urlretrieve(\n",
    "            'https://www.cs.toronto.edu/~kriz/cifar-10-python.tar.gz',\n",
    "            'cifar-10-python.tar.gz',\n",
    "            pbar.hook)\n",
    "\n",
    "if not isdir(cifar10_dataset_folder_path):\n",
    "    with tarfile.open('cifar-10-python.tar.gz') as tar:\n",
    "        tar.extractall()\n",
    "        tar.close()\n",
    "\n",
    "\n",
    "tests.test_folder_path(cifar10_dataset_folder_path)"
   ]
  },
  {
   "cell_type": "markdown",
   "metadata": {},
   "source": [
    "## Explore the Data\n",
    "The dataset is broken into batches to prevent your machine from running out of memory.  The CIFAR-10 dataset consists of 5 batches, named `data_batch_1`, `data_batch_2`, etc.. Each batch contains the labels and images that are one of the following:\n",
    "* airplane\n",
    "* automobile\n",
    "* bird\n",
    "* cat\n",
    "* deer\n",
    "* dog\n",
    "* frog\n",
    "* horse\n",
    "* ship\n",
    "* truck\n",
    "\n",
    "Understanding a dataset is part of making predictions on the data.  Play around with the code cell below by changing the `batch_id` and `sample_id`. The `batch_id` is the id for a batch (1-5). The `sample_id` is the id for a image and label pair in the batch.\n",
    "\n",
    "Ask yourself \"What are all possible labels?\", \"What is the range of values for the image data?\", \"Are the labels in order or random?\".  Answers to questions like these will help you preprocess the data and end up with better predictions."
   ]
  },
  {
   "cell_type": "code",
   "execution_count": 2,
   "metadata": {
    "collapsed": false
   },
   "outputs": [
    {
     "name": "stdout",
     "output_type": "stream",
     "text": [
      "\n",
      "Stats of batch 1:\n",
      "Samples: 10000\n",
      "Label Counts: {0: 1005, 1: 974, 2: 1032, 3: 1016, 4: 999, 5: 937, 6: 1030, 7: 1001, 8: 1025, 9: 981}\n",
      "First 20 Labels: [6, 9, 9, 4, 1, 1, 2, 7, 8, 3, 4, 7, 7, 2, 9, 9, 9, 3, 2, 6]\n",
      "\n",
      "Example of Image 5:\n",
      "Image - Min Value: 0 Max Value: 252\n",
      "Image - Shape: (32, 32, 3)\n",
      "Label - Label Id: 1 Name: automobile\n"
     ]
    },
    {
     "data": {
      "image/png": "[encoded data removed]",
      "text/plain": [
       "<matplotlib.figure.Figure at 0x268fd81b470>"
      ]
     },
     "metadata": {
      "image/png": {
       "height": 250,
       "width": 253
      }
     },
     "output_type": "display_data"
    }
   ],
   "source": [
    "%matplotlib inline\n",
    "%config InlineBackend.figure_format = 'retina'\n",
    "\n",
    "import helper\n",
    "import numpy as np\n",
    "\n",
    "# Explore the dataset\n",
    "batch_id = 1\n",
    "sample_id = 5\n",
    "helper.display_stats(cifar10_dataset_folder_path, batch_id, sample_id)"
   ]
  },
  {
   "cell_type": "markdown",
   "metadata": {},
   "source": [
    "## Implement Preprocess Functions\n",
    "### Normalize\n",
    "In the cell below, implement the `normalize` function to take in image data, `x`, and return it as a normalized Numpy array. The values should be in the range of 0 to 1, inclusive.  The return object should be the same shape as `x`."
   ]
  },
  {
   "cell_type": "code",
   "execution_count": 3,
   "metadata": {
    "collapsed": false
   },
   "outputs": [
    {
     "name": "stdout",
     "output_type": "stream",
     "text": [
      "Tests Passed\n"
     ]
    }
   ],
   "source": [
    "def normalize(x):\n",
    "    \"\"\"\n",
    "    Normalize a list of sample image data in the range of 0 to 1\n",
    "    : x: List of image data.  The image shape is (32, 32, 3)\n",
    "    : return: Numpy array of normalize data\n",
    "    \"\"\"\n",
    "    # TODO: Implement Function\n",
    "    return np.divide(x, 255.)\n",
    "\n",
    "\n",
    "\"\"\"\n",
    "DON'T MODIFY ANYTHING IN THIS CELL THAT IS BELOW THIS LINE\n",
    "\"\"\"\n",
    "tests.test_normalize(normalize)"
   ]
  },
  {
   "cell_type": "markdown",
   "metadata": {},
   "source": [
    "### One-hot encode\n",
    "Just like the previous code cell, you'll be implementing a function for preprocessing.  This time, you'll implement the `one_hot_encode` function. The input, `x`, are a list of labels.  Implement the function to return the list of labels as One-Hot encoded Numpy array.  The possible values for labels are 0 to 9. The one-hot encoding function should return the same encoding for each value between each call to `one_hot_encode`.  Make sure to save the map of encodings outside the function.\n",
    "\n",
    "Hint: Don't reinvent the wheel."
   ]
  },
  {
   "cell_type": "code",
   "execution_count": 4,
   "metadata": {
    "collapsed": false
   },
   "outputs": [
    {
     "name": "stdout",
     "output_type": "stream",
     "text": [
      "Tests Passed\n"
     ]
    }
   ],
   "source": [
    "def one_hot_encode(x):\n",
    "    \"\"\"\n",
    "    One hot encode a list of sample labels. Return a one-hot encoded vector for each label.\n",
    "    : x: List of sample Labels\n",
    "    : return: Numpy array of one-hot encoded labels\n",
    "    \"\"\"\n",
    "    a = np.zeros((len(x), 10), dtype=np.float32)\n",
    "    for i, j in enumerate(x):\n",
    "        a[i,j]  = 1\n",
    "    return a\n",
    "\n",
    "\n",
    "\"\"\"\n",
    "DON'T MODIFY ANYTHING IN THIS CELL THAT IS BELOW THIS LINE\n",
    "\"\"\"\n",
    "tests.test_one_hot_encode(one_hot_encode)"
   ]
  },
  {
   "cell_type": "markdown",
   "metadata": {},
   "source": [
    "### Randomize Data\n",
    "As you saw from exploring the data above, the order of the samples are randomized.  It doesn't hurt to randomize it again, but you don't need to for this dataset."
   ]
  },
  {
   "cell_type": "markdown",
   "metadata": {},
   "source": [
    "## Preprocess all the data and save it\n",
    "Running the code cell below will preprocess all the CIFAR-10 data and save it to file. The code below also uses 10% of the training data for validation."
   ]
  },
  {
   "cell_type": "code",
   "execution_count": 5,
   "metadata": {
    "collapsed": false
   },
   "outputs": [],
   "source": [
    "\"\"\"\n",
    "DON'T MODIFY ANYTHING IN THIS CELL\n",
    "\"\"\"\n",
    "# Preprocess Training, Validation, and Testing Data\n",
    "helper.preprocess_and_save_data(cifar10_dataset_folder_path, normalize, one_hot_encode)"
   ]
  },
  {
   "cell_type": "markdown",
   "metadata": {},
   "source": [
    "# Check Point\n",
    "This is your first checkpoint.  If you ever decide to come back to this notebook or have to restart the notebook, you can start from here.  The preprocessed data has been saved to disk."
   ]
  },
  {
   "cell_type": "code",
   "execution_count": 6,
   "metadata": {
    "collapsed": true
   },
   "outputs": [],
   "source": [
    "\"\"\"\n",
    "DON'T MODIFY ANYTHING IN THIS CELL\n",
    "\"\"\"\n",
    "import pickle\n",
    "import problem_unittests as tests\n",
    "import helper\n",
    "\n",
    "# Load the Preprocessed Validation data\n",
    "valid_features, valid_labels = pickle.load(open('preprocess_validation.p', mode='rb'))"
   ]
  },
  {
   "cell_type": "markdown",
   "metadata": {},
   "source": [
    "## Build the network\n",
    "For the neural network, you'll build each layer into a function.  Most of the code you've seen has been outside of functions. To test your code more thoroughly, we require that you put each layer in a function.  This allows us to give you better feedback and test for simple mistakes using our unittests before you submit your project.\n",
    "\n",
    ">**Note:** If you're finding it hard to dedicate enough time for this course each week, we've provided a small shortcut to this part of the project. In the next couple of problems, you'll have the option to use classes from the [TensorFlow Layers](https://www.tensorflow.org/api_docs/python/tf/layers) or [TensorFlow Layers (contrib)](https://www.tensorflow.org/api_guides/python/contrib.layers) packages to build each layer, except the layers you build in the \"Convolutional and Max Pooling Layer\" section.  TF Layers is similar to Keras's and TFLearn's abstraction to layers, so it's easy to pickup.\n",
    "\n",
    ">However, if you would like to get the most out of this course, try to solve all the problems _without_ using anything from the TF Layers packages. You **can** still use classes from other packages that happen to have the same name as ones you find in TF Layers! For example, instead of using the TF Layers version of the `conv2d` class, [tf.layers.conv2d](https://www.tensorflow.org/api_docs/python/tf/layers/conv2d), you would want to use the TF Neural Network version of `conv2d`, [tf.nn.conv2d](https://www.tensorflow.org/api_docs/python/tf/nn/conv2d). \n",
    "\n",
    "Let's begin!\n",
    "\n",
    "### Input\n",
    "The neural network needs to read the image data, one-hot encoded labels, and dropout keep probability. Implement the following functions\n",
    "* Implement `neural_net_image_input`\n",
    " * Return a [TF Placeholder](https://www.tensorflow.org/api_docs/python/tf/placeholder)\n",
    " * Set the shape using `image_shape` with batch size set to `None`.\n",
    " * Name the TensorFlow placeholder \"x\" using the TensorFlow `name` parameter in the [TF Placeholder](https://www.tensorflow.org/api_docs/python/tf/placeholder).\n",
    "* Implement `neural_net_label_input`\n",
    " * Return a [TF Placeholder](https://www.tensorflow.org/api_docs/python/tf/placeholder)\n",
    " * Set the shape using `n_classes` with batch size set to `None`.\n",
    " * Name the TensorFlow placeholder \"y\" using the TensorFlow `name` parameter in the [TF Placeholder](https://www.tensorflow.org/api_docs/python/tf/placeholder).\n",
    "* Implement `neural_net_keep_prob_input`\n",
    " * Return a [TF Placeholder](https://www.tensorflow.org/api_docs/python/tf/placeholder) for dropout keep probability.\n",
    " * Name the TensorFlow placeholder \"keep_prob\" using the TensorFlow `name` parameter in the [TF Placeholder](https://www.tensorflow.org/api_docs/python/tf/placeholder).\n",
    "\n",
    "These names will be used at the end of the project to load your saved model.\n",
    "\n",
    "Note: `None` for shapes in TensorFlow allow for a dynamic size."
   ]
  },
  {
   "cell_type": "code",
   "execution_count": 7,
   "metadata": {
    "collapsed": false
   },
   "outputs": [
    {
     "name": "stdout",
     "output_type": "stream",
     "text": [
      "Image Input Tests Passed.\n",
      "Label Input Tests Passed.\n",
      "Keep Prob Tests Passed.\n"
     ]
    }
   ],
   "source": [
    "import tensorflow as tf\n",
    "\n",
    "def neural_net_image_input(image_shape):\n",
    "    \"\"\"\n",
    "    Return a Tensor for a bach of image input\n",
    "    : image_shape: Shape of the images\n",
    "    : return: Tensor for image input.\n",
    "    \"\"\"\n",
    "    x = tf.placeholder(tf.float32, shape=(None, image_shape[0], image_shape[1], \n",
    "                                             image_shape[2]), name='x')\n",
    "    return x\n",
    "\n",
    "\n",
    "def neural_net_label_input(n_classes):\n",
    "    \"\"\"\n",
    "    Return a Tensor for a batch of label input\n",
    "    : n_classes: Number of classes\n",
    "    : return: Tensor for label input.\n",
    "    \"\"\"\n",
    "    y = tf.placeholder(tf.float32, shape=(None, n_classes), name='y')\n",
    "    return y\n",
    "\n",
    "\n",
    "def neural_net_keep_prob_input():\n",
    "    \"\"\"\n",
    "    Return a Tensor for keep probability\n",
    "    : return: Tensor for keep probability.\n",
    "    \"\"\"\n",
    "    keep_prob =  tf.placeholder(tf.float32, name='keep_prob')\n",
    "    return keep_prob\n",
    "\n",
    "\n",
    "\"\"\"\n",
    "DON'T MODIFY ANYTHING IN THIS CELL THAT IS BELOW THIS LINE\n",
    "\"\"\"\n",
    "tf.reset_default_graph()\n",
    "tests.test_nn_image_inputs(neural_net_image_input)\n",
    "tests.test_nn_label_inputs(neural_net_label_input)\n",
    "tests.test_nn_keep_prob_inputs(neural_net_keep_prob_input)"
   ]
  },
  {
   "cell_type": "markdown",
   "metadata": {},
   "source": [
    "### Convolution and Max Pooling Layer\n",
    "Convolution layers have a lot of success with images. For this code cell, you should implement the function `conv2d_maxpool` to apply convolution then max pooling:\n",
    "* Create the weight and bias using `conv_ksize`, `conv_num_outputs` and the shape of `x_tensor`.\n",
    "* Apply a convolution to `x_tensor` using weight and `conv_strides`.\n",
    " * We recommend you use same padding, but you're welcome to use any padding.\n",
    "* Add bias\n",
    "* Add a nonlinear activation to the convolution.\n",
    "* Apply Max Pooling using `pool_ksize` and `pool_strides`.\n",
    " * We recommend you use same padding, but you're welcome to use any padding.\n",
    "\n",
    "**Note:** You **can't** use [TensorFlow Layers](https://www.tensorflow.org/api_docs/python/tf/layers) or [TensorFlow Layers (contrib)](https://www.tensorflow.org/api_guides/python/contrib.layers) for **this** layer, but you can still use TensorFlow's [Neural Network](https://www.tensorflow.org/api_docs/python/tf/nn) package. You may still use the shortcut option for all the **other** layers."
   ]
  },
  {
   "cell_type": "code",
   "execution_count": 8,
   "metadata": {
    "collapsed": false
   },
   "outputs": [
    {
     "name": "stdout",
     "output_type": "stream",
     "text": [
      "Tests Passed\n"
     ]
    }
   ],
   "source": [
    "def conv2d_maxpool(x_tensor, conv_num_outputs=8, conv_ksize=(1,1), conv_strides=(1,1), pool_ksize=(1,1), pool_strides=(1,1)):\n",
    "    \"\"\"\n",
    "    Apply convolution then max pooling to x_tensor\n",
    "    :param x_tensor: TensorFlow Tensor\n",
    "    :param conv_num_outputs: Number of outputs for the convolutional layer\n",
    "    :param conv_ksize: kernal size 2-D Tuple for the convolutional layer\n",
    "    :param conv_strides: Stride 2-D Tuple for convolution\n",
    "    :param pool_ksize: kernal size 2-D Tuple for pool\n",
    "    :param pool_strides: Stride 2-D Tuple for pool\n",
    "    : return: A tensor that represents convolution and max pooling of x_tensor\n",
    "    \"\"\"\n",
    "    weights = tf.Variable(tf.truncated_normal([conv_ksize[0], conv_ksize[1], x_tensor.get_shape().as_list()[3], \n",
    "                                               conv_num_outputs], stddev=0.1))\n",
    "    bias = tf.Variable(tf.constant(1.0, shape=[conv_num_outputs]))\n",
    "    \n",
    "    conv = tf.nn.conv2d(x_tensor, weights, [1, conv_strides[0], conv_strides[1], 1], padding='SAME')\n",
    "    conv = tf.nn.relu(conv + bias)\n",
    "    conv = tf.nn.max_pool(conv, [1, pool_strides[0], pool_strides[0], 1], \n",
    "                          [1, pool_ksize[0], pool_ksize[1], 1], padding='SAME')\n",
    "    return conv\n",
    "\n",
    "\n",
    "\"\"\"\n",
    "DON'T MODIFY ANYTHING IN THIS CELL THAT IS BELOW THIS LINE\n",
    "\"\"\"\n",
    "tests.test_con_pool(conv2d_maxpool)"
   ]
  },
  {
   "cell_type": "markdown",
   "metadata": {},
   "source": [
    "### Flatten Layer\n",
    "Implement the `flatten` function to change the dimension of `x_tensor` from a 4-D tensor to a 2-D tensor.  The output should be the shape (*Batch Size*, *Flattened Image Size*). Shortcut option: you can use classes from the [TensorFlow Layers](https://www.tensorflow.org/api_docs/python/tf/layers) or [TensorFlow Layers (contrib)](https://www.tensorflow.org/api_guides/python/contrib.layers) packages for this layer. For more of a challenge, only use other TensorFlow packages."
   ]
  },
  {
   "cell_type": "code",
   "execution_count": 9,
   "metadata": {
    "collapsed": false
   },
   "outputs": [
    {
     "name": "stdout",
     "output_type": "stream",
     "text": [
      "Tests Passed\n"
     ]
    }
   ],
   "source": [
    "def flatten(x_tensor):\n",
    "    \"\"\"\n",
    "    Flatten x_tensor to (Batch Size, Flattened Image Size)\n",
    "    : x_tensor: A tensor of size (Batch Size, ...), where ... are the image dimensions.\n",
    "    : return: A tensor of size (Batch Size, Flattened Image Size).\n",
    "    \"\"\"\n",
    "    shape = x_tensor.get_shape().as_list()\n",
    "    x = tf.reshape(x_tensor, (-1, shape[1]*shape[2]*shape[3]))\n",
    "    return x\n",
    "\n",
    "\n",
    "\"\"\"\n",
    "DON'T MODIFY ANYTHING IN THIS CELL THAT IS BELOW THIS LINE\n",
    "\"\"\"\n",
    "tests.test_flatten(flatten)"
   ]
  },
  {
   "cell_type": "markdown",
   "metadata": {},
   "source": [
    "### Fully-Connected Layer\n",
    "Implement the `fully_conn` function to apply a fully connected layer to `x_tensor` with the shape (*Batch Size*, *num_outputs*). Shortcut option: you can use classes from the [TensorFlow Layers](https://www.tensorflow.org/api_docs/python/tf/layers) or [TensorFlow Layers (contrib)](https://www.tensorflow.org/api_guides/python/contrib.layers) packages for this layer. For more of a challenge, only use other TensorFlow packages."
   ]
  },
  {
   "cell_type": "code",
   "execution_count": 10,
   "metadata": {
    "collapsed": false
   },
   "outputs": [
    {
     "name": "stdout",
     "output_type": "stream",
     "text": [
      "Tests Passed\n"
     ]
    }
   ],
   "source": [
    "def fully_conn(x_tensor, num_outputs):\n",
    "    \"\"\"\n",
    "    Apply a fully connected layer to x_tensor using weight and bias\n",
    "    : x_tensor: A 2-D tensor where the first dimension is batch size.\n",
    "    : num_outputs: The number of output that the new tensor should be.\n",
    "    : return: A 2-D tensor where the second dimension is num_outputs.\n",
    "    \"\"\"\n",
    "    shape = x_tensor.get_shape().as_list()\n",
    "    weights = tf.Variable(tf.truncated_normal([shape[1], num_outputs], stddev=0.1))\n",
    "    bias = tf.Variable(tf.constant(1.0, shape=[num_outputs]))\n",
    "    \n",
    "    layer = tf.matmul(x_tensor, weights)\n",
    "    layer = tf.add(layer, bias)\n",
    "    layer = tf.nn.relu(layer)\n",
    "    return layer\n",
    "\n",
    "\"\"\"\n",
    "DON'T MODIFY ANYTHING IN THIS CELL THAT IS BELOW THIS LINE\n",
    "\"\"\"\n",
    "tests.test_fully_conn(fully_conn)"
   ]
  },
  {
   "cell_type": "markdown",
   "metadata": {},
   "source": [
    "### Output Layer\n",
    "Implement the `output` function to apply a fully connected layer to `x_tensor` with the shape (*Batch Size*, *num_outputs*). Shortcut option: you can use classes from the [TensorFlow Layers](https://www.tensorflow.org/api_docs/python/tf/layers) or [TensorFlow Layers (contrib)](https://www.tensorflow.org/api_guides/python/contrib.layers) packages for this layer. For more of a challenge, only use other TensorFlow packages.\n",
    "\n",
    "**Note:** Activation, softmax, or cross entropy should **not** be applied to this."
   ]
  },
  {
   "cell_type": "code",
   "execution_count": 11,
   "metadata": {
    "collapsed": false
   },
   "outputs": [
    {
     "name": "stdout",
     "output_type": "stream",
     "text": [
      "Tests Passed\n"
     ]
    }
   ],
   "source": [
    "def output(x_tensor, num_outputs=10):\n",
    "    \"\"\"\n",
    "    Apply a output layer to x_tensor using weight and bias\n",
    "    : x_tensor: A 2-D tensor where the first dimension is batch size.\n",
    "    : num_outputs: The number of output that the new tensor should be.\n",
    "    : return: A 2-D tensor where the second dimension is num_outputs.\n",
    "    \"\"\"\n",
    "    shape = x_tensor.get_shape().as_list()\n",
    "    weights = tf.Variable(tf.truncated_normal([shape[1], num_outputs], stddev=0.1))\n",
    "    bias = tf.Variable(tf.constant(1.0, shape=[num_outputs]))\n",
    "    \n",
    "    layer = tf.matmul(x_tensor, weights)\n",
    "    layer = tf.add(layer, bias)\n",
    "    return layer\n",
    "\n",
    "\n",
    "\"\"\"\n",
    "DON'T MODIFY ANYTHING IN THIS CELL THAT IS BELOW THIS LINE\n",
    "\"\"\"\n",
    "tests.test_output(output)"
   ]
  },
  {
   "cell_type": "markdown",
   "metadata": {},
   "source": [
    "### Create Convolutional Model\n",
    "Implement the function `conv_net` to create a convolutional neural network model. The function takes in a batch of images, `x`, and outputs logits.  Use the layers you created above to create this model:\n",
    "\n",
    "* Apply 1, 2, or 3 Convolution and Max Pool layers\n",
    "* Apply a Flatten Layer\n",
    "* Apply 1, 2, or 3 Fully Connected Layers\n",
    "* Apply an Output Layer\n",
    "* Return the output\n",
    "* Apply [TensorFlow's Dropout](https://www.tensorflow.org/api_docs/python/tf/nn/dropout) to one or more layers in the model using `keep_prob`. "
   ]
  },
  {
   "cell_type": "code",
   "execution_count": 12,
   "metadata": {
    "collapsed": false
   },
   "outputs": [
    {
     "name": "stdout",
     "output_type": "stream",
     "text": [
      "Neural Network Built!\n"
     ]
    }
   ],
   "source": [
    "def conv_net(x, keep_prob):\n",
    "    \"\"\"\n",
    "    Create a convolutional neural network model\n",
    "    : x: Placeholder tensor that holds image data.\n",
    "    : keep_prob: Placeholder tensor that hold dropout keep probability.\n",
    "    : return: Tensor that represents logits\n",
    "    \"\"\"\n",
    "    # TODO: Apply 1, 2, or 3 Convolution and Max Pool layers\n",
    "    #    Play around with different number of outputs, kernel size and stride\n",
    "    # Function Definition from Above:\n",
    "    #    conv2d_maxpool(x_tensor, conv_num_outputs, conv_ksize, conv_strides, pool_ksize, pool_strides)\n",
    "    model = conv2d_maxpool(x, conv_num_outputs=16, conv_ksize=(8,8), \n",
    "                           conv_strides=(2,2), pool_ksize=(2,2), \n",
    "                           pool_strides=(2,2))\n",
    "\n",
    "    # TODO: Apply a Flatten Layer\n",
    "    # Function Definition from Above:\n",
    "    #   flatten(x_tensor)\n",
    "    model = flatten(model)\n",
    "\n",
    "    # TODO: Apply 1, 2, or 3 Fully Connected Layers\n",
    "    #    Play around with different number of outputs\n",
    "    # Function Definition from Above:\n",
    "    #   fully_conn(x_tensor, num_outputs)\n",
    "    model = fully_conn(model, 1024)\n",
    "    model = fully_conn(model, 512)\n",
    "    model = tf.nn.dropout(model, keep_prob)\n",
    "    model = fully_conn(model, 256)\n",
    "    model = tf.nn.dropout(model, keep_prob)\n",
    "\n",
    "    # TODO: Apply an Output Layer\n",
    "    #    Set this to the number of classes\n",
    "    # Function Definition from Above:\n",
    "    #   output(x_tensor, num_outputs)\n",
    "    model = output(model, 10)\n",
    "    \n",
    "    # TODO: return output\n",
    "    return model\n",
    "\n",
    "\n",
    "\"\"\"\n",
    "DON'T MODIFY ANYTHING IN THIS CELL THAT IS BELOW THIS LINE\n",
    "\"\"\"\n",
    "\n",
    "##############################\n",
    "## Build the Neural Network ##\n",
    "##############################\n",
    "\n",
    "# Remove previous weights, bias, inputs, etc..\n",
    "tf.reset_default_graph()\n",
    "\n",
    "# Inputs\n",
    "x = neural_net_image_input((32, 32, 3))\n",
    "y = neural_net_label_input(10)\n",
    "keep_prob = neural_net_keep_prob_input()\n",
    "\n",
    "# Model\n",
    "logits = conv_net(x, keep_prob)\n",
    "\n",
    "# Name logits Tensor, so that is can be loaded from disk after training\n",
    "logits = tf.identity(logits, name='logits')\n",
    "\n",
    "# Loss and Optimizer\n",
    "cost = tf.reduce_mean(tf.nn.softmax_cross_entropy_with_logits(logits=logits, labels=y))\n",
    "optimizer = tf.train.AdamOptimizer().minimize(cost)\n",
    "\n",
    "# Accuracy\n",
    "correct_pred = tf.equal(tf.argmax(logits, 1), tf.argmax(y, 1))\n",
    "accuracy = tf.reduce_mean(tf.cast(correct_pred, tf.float32), name='accuracy')\n",
    "\n",
    "tests.test_conv_net(conv_net)"
   ]
  },
  {
   "cell_type": "markdown",
   "metadata": {},
   "source": [
    "## Train the Neural Network\n",
    "### Single Optimization\n",
    "Implement the function `train_neural_network` to do a single optimization.  The optimization should use `optimizer` to optimize in `session` with a `feed_dict` of the following:\n",
    "* `x` for image input\n",
    "* `y` for labels\n",
    "* `keep_prob` for keep probability for dropout\n",
    "\n",
    "This function will be called for each batch, so `tf.global_variables_initializer()` has already been called.\n",
    "\n",
    "Note: Nothing needs to be returned. This function is only optimizing the neural network."
   ]
  },
  {
   "cell_type": "code",
   "execution_count": 13,
   "metadata": {
    "collapsed": false
   },
   "outputs": [
    {
     "name": "stdout",
     "output_type": "stream",
     "text": [
      "Tests Passed\n"
     ]
    }
   ],
   "source": [
    "def train_neural_network(session, optimizer, keep_probability, feature_batch, label_batch):\n",
    "    \"\"\"\n",
    "    Optimize the session on a batch of images and labels\n",
    "    : session: Current TensorFlow session\n",
    "    : optimizer: TensorFlow optimizer function\n",
    "    : keep_probability: keep probability\n",
    "    : feature_batch: Batch of Numpy image data\n",
    "    : label_batch: Batch of Numpy label data\n",
    "    \"\"\"\n",
    "    feed_dict = {x:feature_batch, y:label_batch, keep_prob:keep_probability}\n",
    "    fetches = [optimizer]\n",
    "    session.run(fetches, feed_dict=feed_dict)\n",
    "\n",
    "\"\"\"\n",
    "DON'T MODIFY ANYTHING IN THIS CELL THAT IS BELOW THIS LINE\n",
    "\"\"\"\n",
    "tests.test_train_nn(train_neural_network)"
   ]
  },
  {
   "cell_type": "markdown",
   "metadata": {},
   "source": [
    "### Show Stats\n",
    "Implement the function `print_stats` to print loss and validation accuracy.  Use the global variables `valid_features` and `valid_labels` to calculate validation accuracy.  Use a keep probability of `1.0` to calculate the loss and validation accuracy."
   ]
  },
  {
   "cell_type": "code",
   "execution_count": 14,
   "metadata": {
    "collapsed": false
   },
   "outputs": [],
   "source": [
    "def print_stats(session, feature_batch, label_batch, cost, accuracy):\n",
    "    \"\"\"\n",
    "    Print information about loss and validation accuracy\n",
    "    : session: Current TensorFlow session\n",
    "    : feature_batch: Batch of Numpy image data\n",
    "    : label_batch: Batch of Numpy label data\n",
    "    : cost: TensorFlow cost function\n",
    "    : accuracy: TensorFlow accuracy function\n",
    "    \"\"\"\n",
    "    feed_dict = {x:feature_batch, y:label_batch, keep_prob:keep_probability}\n",
    "    loss, acc = session.run([cost, accuracy], feed_dict=feed_dict)\n",
    "    print('\\tBatch: loss {:6.4f} and accuracy {:4.2f}%'.format(loss, acc*100), end='\\t\\t')\n",
    "    \n",
    "    feed_dict = {x:valid_features, y:valid_labels, keep_prob:1}\n",
    "    loss, acc = session.run([cost, accuracy], feed_dict=feed_dict)\n",
    "    print('Valid: loss {:6.4f}, accuracy {:4.2f}%'.format(loss, acc*100))"
   ]
  },
  {
   "cell_type": "markdown",
   "metadata": {},
   "source": [
    "### Hyperparameters\n",
    "Tune the following parameters:\n",
    "* Set `epochs` to the number of iterations until the network stops learning or start overfitting\n",
    "* Set `batch_size` to the highest number that your machine has memory for.  Most people set them to common sizes of memory:\n",
    " * 64\n",
    " * 128\n",
    " * 256\n",
    " * ...\n",
    "* Set `keep_probability` to the probability of keeping a node using dropout"
   ]
  },
  {
   "cell_type": "code",
   "execution_count": 15,
   "metadata": {
    "collapsed": true
   },
   "outputs": [],
   "source": [
    "# TODO: Tune Parameters\n",
    "epochs = 40\n",
    "batch_size = 128\n",
    "keep_probability = 0.5"
   ]
  },
  {
   "cell_type": "markdown",
   "metadata": {},
   "source": [
    "### Train on a Single CIFAR-10 Batch\n",
    "Instead of training the neural network on all the CIFAR-10 batches of data, let's use a single batch. This should save time while you iterate on the model to get a better accuracy.  Once the final validation accuracy is 50% or greater, run the model on all the data in the next section."
   ]
  },
  {
   "cell_type": "code",
   "execution_count": 16,
   "metadata": {
    "collapsed": false,
    "scrolled": false
   },
   "outputs": [
    {
     "name": "stdout",
     "output_type": "stream",
     "text": [
      "Checking the Training on a Single Batch...\n",
      "Epoch  1, CIFAR-10 Batch 1:  \tBatch: loss 3.0127 and accuracy 10.00%\t\tValid: loss 2.0898, accuracy 22.90%\n",
      "Epoch  2, CIFAR-10 Batch 1:  \tBatch: loss 2.6388 and accuracy 10.00%\t\tValid: loss 1.9937, accuracy 26.16%\n",
      "Epoch  3, CIFAR-10 Batch 1:  \tBatch: loss 2.4864 and accuracy 15.00%\t\tValid: loss 1.9210, accuracy 28.38%\n",
      "Epoch  4, CIFAR-10 Batch 1:  \tBatch: loss 2.3752 and accuracy 12.50%\t\tValid: loss 1.9014, accuracy 29.72%\n",
      "Epoch  5, CIFAR-10 Batch 1:  \tBatch: loss 2.2935 and accuracy 40.00%\t\tValid: loss 1.8989, accuracy 29.38%\n",
      "Epoch  6, CIFAR-10 Batch 1:  \tBatch: loss 2.1147 and accuracy 32.50%\t\tValid: loss 1.8355, accuracy 33.36%\n",
      "Epoch  7, CIFAR-10 Batch 1:  \tBatch: loss 1.9393 and accuracy 35.00%\t\tValid: loss 1.8268, accuracy 35.28%\n",
      "Epoch  8, CIFAR-10 Batch 1:  \tBatch: loss 2.0989 and accuracy 12.50%\t\tValid: loss 1.8159, accuracy 33.98%\n",
      "Epoch  9, CIFAR-10 Batch 1:  \tBatch: loss 2.0992 and accuracy 30.00%\t\tValid: loss 1.7539, accuracy 36.74%\n",
      "Epoch 10, CIFAR-10 Batch 1:  \tBatch: loss 2.0511 and accuracy 17.50%\t\tValid: loss 1.7398, accuracy 36.94%\n",
      "Epoch 11, CIFAR-10 Batch 1:  \tBatch: loss 1.8907 and accuracy 30.00%\t\tValid: loss 1.7168, accuracy 37.30%\n",
      "Epoch 12, CIFAR-10 Batch 1:  \tBatch: loss 1.8099 and accuracy 32.50%\t\tValid: loss 1.6686, accuracy 39.90%\n",
      "Epoch 13, CIFAR-10 Batch 1:  \tBatch: loss 1.7664 and accuracy 35.00%\t\tValid: loss 1.6603, accuracy 41.28%\n",
      "Epoch 14, CIFAR-10 Batch 1:  \tBatch: loss 1.7073 and accuracy 42.50%\t\tValid: loss 1.6376, accuracy 40.90%\n",
      "Epoch 15, CIFAR-10 Batch 1:  \tBatch: loss 1.6315 and accuracy 40.00%\t\tValid: loss 1.6319, accuracy 41.58%\n",
      "Epoch 16, CIFAR-10 Batch 1:  \tBatch: loss 1.7610 and accuracy 47.50%\t\tValid: loss 1.5984, accuracy 41.20%\n",
      "Epoch 17, CIFAR-10 Batch 1:  \tBatch: loss 1.5910 and accuracy 40.00%\t\tValid: loss 1.6052, accuracy 42.66%\n",
      "Epoch 18, CIFAR-10 Batch 1:  \tBatch: loss 1.3811 and accuracy 52.50%\t\tValid: loss 1.5742, accuracy 43.74%\n",
      "Epoch 19, CIFAR-10 Batch 1:  \tBatch: loss 1.5703 and accuracy 37.50%\t\tValid: loss 1.5307, accuracy 44.88%\n",
      "Epoch 20, CIFAR-10 Batch 1:  \tBatch: loss 1.3098 and accuracy 55.00%\t\tValid: loss 1.5035, accuracy 46.32%\n",
      "Epoch 21, CIFAR-10 Batch 1:  \tBatch: loss 1.2897 and accuracy 50.00%\t\tValid: loss 1.5394, accuracy 43.98%\n",
      "Epoch 22, CIFAR-10 Batch 1:  \tBatch: loss 1.2553 and accuracy 45.00%\t\tValid: loss 1.4927, accuracy 46.12%\n",
      "Epoch 23, CIFAR-10 Batch 1:  \tBatch: loss 1.2822 and accuracy 52.50%\t\tValid: loss 1.4949, accuracy 46.20%\n",
      "Epoch 24, CIFAR-10 Batch 1:  \tBatch: loss 1.1009 and accuracy 65.00%\t\tValid: loss 1.4711, accuracy 46.40%\n",
      "Epoch 25, CIFAR-10 Batch 1:  \tBatch: loss 0.9521 and accuracy 62.50%\t\tValid: loss 1.4301, accuracy 49.82%\n",
      "Epoch 26, CIFAR-10 Batch 1:  \tBatch: loss 0.9080 and accuracy 62.50%\t\tValid: loss 1.4196, accuracy 49.98%\n",
      "Epoch 27, CIFAR-10 Batch 1:  \tBatch: loss 1.0839 and accuracy 70.00%\t\tValid: loss 1.4429, accuracy 49.06%\n",
      "Epoch 28, CIFAR-10 Batch 1:  \tBatch: loss 0.8360 and accuracy 72.50%\t\tValid: loss 1.4295, accuracy 49.40%\n",
      "Epoch 29, CIFAR-10 Batch 1:  \tBatch: loss 0.7459 and accuracy 72.50%\t\tValid: loss 1.4073, accuracy 50.58%\n",
      "Epoch 30, CIFAR-10 Batch 1:  \tBatch: loss 0.7878 and accuracy 72.50%\t\tValid: loss 1.4401, accuracy 49.84%\n",
      "Epoch 31, CIFAR-10 Batch 1:  \tBatch: loss 0.5701 and accuracy 82.50%\t\tValid: loss 1.4338, accuracy 50.24%\n",
      "Epoch 32, CIFAR-10 Batch 1:  \tBatch: loss 0.6549 and accuracy 77.50%\t\tValid: loss 1.4199, accuracy 51.10%\n",
      "Epoch 33, CIFAR-10 Batch 1:  \tBatch: loss 0.7063 and accuracy 75.00%\t\tValid: loss 1.4611, accuracy 50.94%\n",
      "Epoch 34, CIFAR-10 Batch 1:  \tBatch: loss 0.5320 and accuracy 75.00%\t\tValid: loss 1.4651, accuracy 51.36%\n",
      "Epoch 35, CIFAR-10 Batch 1:  \tBatch: loss 0.5767 and accuracy 80.00%\t\tValid: loss 1.4574, accuracy 50.92%\n",
      "Epoch 36, CIFAR-10 Batch 1:  \tBatch: loss 0.5381 and accuracy 77.50%\t\tValid: loss 1.4770, accuracy 50.04%\n",
      "Epoch 37, CIFAR-10 Batch 1:  \tBatch: loss 0.4956 and accuracy 75.00%\t\tValid: loss 1.5226, accuracy 49.94%\n",
      "Epoch 38, CIFAR-10 Batch 1:  \tBatch: loss 0.5137 and accuracy 82.50%\t\tValid: loss 1.5059, accuracy 51.72%\n",
      "Epoch 39, CIFAR-10 Batch 1:  \tBatch: loss 0.4647 and accuracy 85.00%\t\tValid: loss 1.5508, accuracy 51.54%\n",
      "Epoch 40, CIFAR-10 Batch 1:  \tBatch: loss 0.3976 and accuracy 90.00%\t\tValid: loss 1.6359, accuracy 50.44%\n"
     ]
    }
   ],
   "source": [
    "\"\"\"\n",
    "DON'T MODIFY ANYTHING IN THIS CELL\n",
    "\"\"\"\n",
    "print('Checking the Training on a Single Batch...')\n",
    "with tf.Session() as sess:\n",
    "    # Initializing the variables\n",
    "    sess.run(tf.global_variables_initializer())\n",
    "    \n",
    "    # Training cycle\n",
    "    for epoch in range(epochs):\n",
    "        batch_i = 1\n",
    "        for batch_features, batch_labels in helper.load_preprocess_training_batch(batch_i, batch_size):\n",
    "            train_neural_network(sess, optimizer, keep_probability, batch_features, batch_labels)\n",
    "        print('Epoch {:>2}, CIFAR-10 Batch {}:  '.format(epoch + 1, batch_i), end='')\n",
    "        print_stats(sess, batch_features, batch_labels, cost, accuracy)"
   ]
  },
  {
   "cell_type": "markdown",
   "metadata": {},
   "source": [
    "### Fully Train the Model\n",
    "Now that you got a good accuracy with a single CIFAR-10 batch, try it with all five batches."
   ]
  },
  {
   "cell_type": "code",
   "execution_count": 17,
   "metadata": {
    "collapsed": false,
    "scrolled": false
   },
   "outputs": [
    {
     "name": "stdout",
     "output_type": "stream",
     "text": [
      "Training...\n",
      "Epoch  1, CIFAR-10 Batch 1:  \tBatch: loss 2.5747 and accuracy 25.00%\t\tValid: loss 2.1375, accuracy 20.56%\n",
      "Epoch  1, CIFAR-10 Batch 2:  \tBatch: loss 2.7060 and accuracy 15.00%\t\tValid: loss 2.0213, accuracy 24.74%\n",
      "Epoch  1, CIFAR-10 Batch 3:  \tBatch: loss 2.4788 and accuracy 17.50%\t\tValid: loss 1.9949, accuracy 26.02%\n",
      "Epoch  1, CIFAR-10 Batch 4:  \tBatch: loss 2.1907 and accuracy 25.00%\t\tValid: loss 1.9618, accuracy 28.36%\n",
      "Epoch  1, CIFAR-10 Batch 5:  \tBatch: loss 2.0988 and accuracy 35.00%\t\tValid: loss 1.9427, accuracy 27.04%\n",
      "Epoch  2, CIFAR-10 Batch 1:  \tBatch: loss 2.1641 and accuracy 20.00%\t\tValid: loss 1.9105, accuracy 28.02%\n",
      "Epoch  2, CIFAR-10 Batch 2:  \tBatch: loss 2.1786 and accuracy 32.50%\t\tValid: loss 1.8872, accuracy 28.84%\n",
      "Epoch  2, CIFAR-10 Batch 3:  \tBatch: loss 2.0183 and accuracy 22.50%\t\tValid: loss 1.8483, accuracy 32.56%\n",
      "Epoch  2, CIFAR-10 Batch 4:  \tBatch: loss 1.7882 and accuracy 40.00%\t\tValid: loss 1.8312, accuracy 31.20%\n",
      "Epoch  2, CIFAR-10 Batch 5:  \tBatch: loss 2.0287 and accuracy 27.50%\t\tValid: loss 1.8559, accuracy 33.14%\n",
      "Epoch  3, CIFAR-10 Batch 1:  \tBatch: loss 2.2015 and accuracy 22.50%\t\tValid: loss 1.7979, accuracy 33.14%\n",
      "Epoch  3, CIFAR-10 Batch 2:  \tBatch: loss 1.9782 and accuracy 20.00%\t\tValid: loss 1.7789, accuracy 35.12%\n",
      "Epoch  3, CIFAR-10 Batch 3:  \tBatch: loss 1.7058 and accuracy 40.00%\t\tValid: loss 1.7579, accuracy 36.04%\n",
      "Epoch  3, CIFAR-10 Batch 4:  \tBatch: loss 1.8308 and accuracy 32.50%\t\tValid: loss 1.7278, accuracy 38.12%\n",
      "Epoch  3, CIFAR-10 Batch 5:  \tBatch: loss 2.0805 and accuracy 22.50%\t\tValid: loss 1.7396, accuracy 38.26%\n",
      "Epoch  4, CIFAR-10 Batch 1:  \tBatch: loss 2.0123 and accuracy 22.50%\t\tValid: loss 1.6818, accuracy 38.30%\n",
      "Epoch  4, CIFAR-10 Batch 2:  \tBatch: loss 1.8421 and accuracy 25.00%\t\tValid: loss 1.6753, accuracy 38.40%\n",
      "Epoch  4, CIFAR-10 Batch 3:  \tBatch: loss 1.6436 and accuracy 32.50%\t\tValid: loss 1.6573, accuracy 39.62%\n",
      "Epoch  4, CIFAR-10 Batch 4:  \tBatch: loss 1.6739 and accuracy 37.50%\t\tValid: loss 1.6436, accuracy 40.30%\n",
      "Epoch  4, CIFAR-10 Batch 5:  \tBatch: loss 1.7096 and accuracy 47.50%\t\tValid: loss 1.6031, accuracy 42.44%\n",
      "Epoch  5, CIFAR-10 Batch 1:  \tBatch: loss 1.8461 and accuracy 42.50%\t\tValid: loss 1.6579, accuracy 39.06%\n",
      "Epoch  5, CIFAR-10 Batch 2:  \tBatch: loss 1.7664 and accuracy 30.00%\t\tValid: loss 1.6132, accuracy 39.56%\n",
      "Epoch  5, CIFAR-10 Batch 3:  \tBatch: loss 1.5057 and accuracy 55.00%\t\tValid: loss 1.5568, accuracy 44.26%\n",
      "Epoch  5, CIFAR-10 Batch 4:  \tBatch: loss 1.6848 and accuracy 42.50%\t\tValid: loss 1.5605, accuracy 43.54%\n",
      "Epoch  5, CIFAR-10 Batch 5:  \tBatch: loss 1.6878 and accuracy 45.00%\t\tValid: loss 1.5495, accuracy 45.84%\n",
      "Epoch  6, CIFAR-10 Batch 1:  \tBatch: loss 1.9677 and accuracy 35.00%\t\tValid: loss 1.5323, accuracy 44.54%\n",
      "Epoch  6, CIFAR-10 Batch 2:  \tBatch: loss 1.7359 and accuracy 37.50%\t\tValid: loss 1.5147, accuracy 45.10%\n",
      "Epoch  6, CIFAR-10 Batch 3:  \tBatch: loss 1.4982 and accuracy 50.00%\t\tValid: loss 1.5005, accuracy 45.84%\n",
      "Epoch  6, CIFAR-10 Batch 4:  \tBatch: loss 1.3994 and accuracy 47.50%\t\tValid: loss 1.4769, accuracy 46.78%\n",
      "Epoch  6, CIFAR-10 Batch 5:  \tBatch: loss 1.7164 and accuracy 35.00%\t\tValid: loss 1.4888, accuracy 47.08%\n",
      "Epoch  7, CIFAR-10 Batch 1:  \tBatch: loss 1.7208 and accuracy 50.00%\t\tValid: loss 1.4432, accuracy 48.04%\n",
      "Epoch  7, CIFAR-10 Batch 2:  \tBatch: loss 1.5798 and accuracy 40.00%\t\tValid: loss 1.4557, accuracy 47.46%\n",
      "Epoch  7, CIFAR-10 Batch 3:  \tBatch: loss 1.1850 and accuracy 65.00%\t\tValid: loss 1.4346, accuracy 47.22%\n",
      "Epoch  7, CIFAR-10 Batch 4:  \tBatch: loss 1.5074 and accuracy 37.50%\t\tValid: loss 1.4358, accuracy 48.56%\n",
      "Epoch  7, CIFAR-10 Batch 5:  \tBatch: loss 1.8315 and accuracy 42.50%\t\tValid: loss 1.4300, accuracy 48.00%\n",
      "Epoch  8, CIFAR-10 Batch 1:  \tBatch: loss 1.4688 and accuracy 42.50%\t\tValid: loss 1.3768, accuracy 49.62%\n",
      "Epoch  8, CIFAR-10 Batch 2:  \tBatch: loss 1.4021 and accuracy 47.50%\t\tValid: loss 1.3692, accuracy 49.92%\n",
      "Epoch  8, CIFAR-10 Batch 3:  \tBatch: loss 1.0318 and accuracy 62.50%\t\tValid: loss 1.3397, accuracy 51.42%\n",
      "Epoch  8, CIFAR-10 Batch 4:  \tBatch: loss 1.2104 and accuracy 52.50%\t\tValid: loss 1.3784, accuracy 50.66%\n",
      "Epoch  8, CIFAR-10 Batch 5:  \tBatch: loss 1.6060 and accuracy 45.00%\t\tValid: loss 1.3684, accuracy 50.28%\n",
      "Epoch  9, CIFAR-10 Batch 1:  \tBatch: loss 1.4899 and accuracy 45.00%\t\tValid: loss 1.3415, accuracy 51.00%\n",
      "Epoch  9, CIFAR-10 Batch 2:  \tBatch: loss 1.2720 and accuracy 60.00%\t\tValid: loss 1.3379, accuracy 51.82%\n",
      "Epoch  9, CIFAR-10 Batch 3:  \tBatch: loss 1.1083 and accuracy 47.50%\t\tValid: loss 1.2887, accuracy 53.60%\n",
      "Epoch  9, CIFAR-10 Batch 4:  \tBatch: loss 1.2373 and accuracy 50.00%\t\tValid: loss 1.3088, accuracy 53.58%\n",
      "Epoch  9, CIFAR-10 Batch 5:  \tBatch: loss 1.5831 and accuracy 50.00%\t\tValid: loss 1.3117, accuracy 53.58%\n",
      "Epoch 10, CIFAR-10 Batch 1:  \tBatch: loss 1.1702 and accuracy 60.00%\t\tValid: loss 1.2772, accuracy 53.36%\n",
      "Epoch 10, CIFAR-10 Batch 2:  \tBatch: loss 1.2864 and accuracy 52.50%\t\tValid: loss 1.3083, accuracy 52.54%\n",
      "Epoch 10, CIFAR-10 Batch 3:  \tBatch: loss 1.0686 and accuracy 60.00%\t\tValid: loss 1.2752, accuracy 54.16%\n",
      "Epoch 10, CIFAR-10 Batch 4:  \tBatch: loss 0.9992 and accuracy 55.00%\t\tValid: loss 1.2525, accuracy 54.78%\n",
      "Epoch 10, CIFAR-10 Batch 5:  \tBatch: loss 1.0978 and accuracy 70.00%\t\tValid: loss 1.2672, accuracy 54.90%\n",
      "Epoch 11, CIFAR-10 Batch 1:  \tBatch: loss 1.2647 and accuracy 52.50%\t\tValid: loss 1.2485, accuracy 55.42%\n",
      "Epoch 11, CIFAR-10 Batch 2:  \tBatch: loss 0.9856 and accuracy 70.00%\t\tValid: loss 1.2719, accuracy 54.10%\n",
      "Epoch 11, CIFAR-10 Batch 3:  \tBatch: loss 0.9352 and accuracy 62.50%\t\tValid: loss 1.2322, accuracy 55.14%\n",
      "Epoch 11, CIFAR-10 Batch 4:  \tBatch: loss 0.9419 and accuracy 67.50%\t\tValid: loss 1.2250, accuracy 56.28%\n",
      "Epoch 11, CIFAR-10 Batch 5:  \tBatch: loss 1.0513 and accuracy 60.00%\t\tValid: loss 1.2267, accuracy 55.78%\n",
      "Epoch 12, CIFAR-10 Batch 1:  \tBatch: loss 1.0601 and accuracy 62.50%\t\tValid: loss 1.2391, accuracy 55.52%\n",
      "Epoch 12, CIFAR-10 Batch 2:  \tBatch: loss 0.8989 and accuracy 67.50%\t\tValid: loss 1.2250, accuracy 55.44%\n",
      "Epoch 12, CIFAR-10 Batch 3:  \tBatch: loss 0.8919 and accuracy 67.50%\t\tValid: loss 1.2380, accuracy 55.34%\n",
      "Epoch 12, CIFAR-10 Batch 4:  \tBatch: loss 0.9679 and accuracy 62.50%\t\tValid: loss 1.2073, accuracy 57.66%\n",
      "Epoch 12, CIFAR-10 Batch 5:  \tBatch: loss 0.9605 and accuracy 65.00%\t\tValid: loss 1.1981, accuracy 58.36%\n",
      "Epoch 13, CIFAR-10 Batch 1:  \tBatch: loss 0.9954 and accuracy 60.00%\t\tValid: loss 1.2407, accuracy 56.32%\n",
      "Epoch 13, CIFAR-10 Batch 2:  \tBatch: loss 0.7802 and accuracy 70.00%\t\tValid: loss 1.2213, accuracy 56.84%\n",
      "Epoch 13, CIFAR-10 Batch 3:  \tBatch: loss 0.6979 and accuracy 75.00%\t\tValid: loss 1.2075, accuracy 57.30%\n",
      "Epoch 13, CIFAR-10 Batch 4:  \tBatch: loss 0.6183 and accuracy 75.00%\t\tValid: loss 1.1970, accuracy 57.10%\n",
      "Epoch 13, CIFAR-10 Batch 5:  \tBatch: loss 0.8204 and accuracy 70.00%\t\tValid: loss 1.1822, accuracy 58.50%\n",
      "Epoch 14, CIFAR-10 Batch 1:  \tBatch: loss 0.7307 and accuracy 67.50%\t\tValid: loss 1.2176, accuracy 57.28%\n",
      "Epoch 14, CIFAR-10 Batch 2:  \tBatch: loss 0.7024 and accuracy 72.50%\t\tValid: loss 1.1551, accuracy 58.84%\n",
      "Epoch 14, CIFAR-10 Batch 3:  \tBatch: loss 0.6688 and accuracy 82.50%\t\tValid: loss 1.1715, accuracy 58.94%\n",
      "Epoch 14, CIFAR-10 Batch 4:  \tBatch: loss 0.7605 and accuracy 72.50%\t\tValid: loss 1.1697, accuracy 58.62%\n",
      "Epoch 14, CIFAR-10 Batch 5:  \tBatch: loss 0.7252 and accuracy 67.50%\t\tValid: loss 1.1819, accuracy 58.82%\n",
      "Epoch 15, CIFAR-10 Batch 1:  \tBatch: loss 0.7911 and accuracy 70.00%\t\tValid: loss 1.1803, accuracy 58.32%\n",
      "Epoch 15, CIFAR-10 Batch 2:  \tBatch: loss 0.5558 and accuracy 82.50%\t\tValid: loss 1.1819, accuracy 59.28%\n",
      "Epoch 15, CIFAR-10 Batch 3:  \tBatch: loss 0.5089 and accuracy 82.50%\t\tValid: loss 1.1879, accuracy 58.42%\n",
      "Epoch 15, CIFAR-10 Batch 4:  \tBatch: loss 0.5236 and accuracy 85.00%\t\tValid: loss 1.1612, accuracy 59.20%\n",
      "Epoch 15, CIFAR-10 Batch 5:  \tBatch: loss 0.5568 and accuracy 85.00%\t\tValid: loss 1.1583, accuracy 60.10%\n",
      "Epoch 16, CIFAR-10 Batch 1:  \tBatch: loss 0.6391 and accuracy 85.00%\t\tValid: loss 1.1959, accuracy 58.44%\n",
      "Epoch 16, CIFAR-10 Batch 2:  \tBatch: loss 0.5018 and accuracy 85.00%\t\tValid: loss 1.2045, accuracy 58.96%\n",
      "Epoch 16, CIFAR-10 Batch 3:  \tBatch: loss 0.4823 and accuracy 85.00%\t\tValid: loss 1.1985, accuracy 58.12%\n",
      "Epoch 16, CIFAR-10 Batch 4:  \tBatch: loss 0.5450 and accuracy 77.50%\t\tValid: loss 1.1935, accuracy 59.74%\n",
      "Epoch 16, CIFAR-10 Batch 5:  \tBatch: loss 0.6200 and accuracy 85.00%\t\tValid: loss 1.1601, accuracy 60.64%\n",
      "Epoch 17, CIFAR-10 Batch 1:  \tBatch: loss 0.5923 and accuracy 80.00%\t\tValid: loss 1.2152, accuracy 59.10%\n",
      "Epoch 17, CIFAR-10 Batch 2:  \tBatch: loss 0.4096 and accuracy 85.00%\t\tValid: loss 1.2477, accuracy 58.54%\n",
      "Epoch 17, CIFAR-10 Batch 3:  \tBatch: loss 0.3928 and accuracy 90.00%\t\tValid: loss 1.1913, accuracy 59.70%\n",
      "Epoch 17, CIFAR-10 Batch 4:  \tBatch: loss 0.4449 and accuracy 90.00%\t\tValid: loss 1.1889, accuracy 60.40%\n",
      "Epoch 17, CIFAR-10 Batch 5:  \tBatch: loss 0.4793 and accuracy 87.50%\t\tValid: loss 1.2390, accuracy 59.24%\n",
      "Epoch 18, CIFAR-10 Batch 1:  \tBatch: loss 0.5902 and accuracy 85.00%\t\tValid: loss 1.2474, accuracy 59.38%\n",
      "Epoch 18, CIFAR-10 Batch 2:  \tBatch: loss 0.4052 and accuracy 92.50%\t\tValid: loss 1.2142, accuracy 58.98%\n",
      "Epoch 18, CIFAR-10 Batch 3:  \tBatch: loss 0.4536 and accuracy 82.50%\t\tValid: loss 1.2012, accuracy 60.94%\n",
      "Epoch 18, CIFAR-10 Batch 4:  \tBatch: loss 0.3522 and accuracy 85.00%\t\tValid: loss 1.2347, accuracy 60.32%\n",
      "Epoch 18, CIFAR-10 Batch 5:  \tBatch: loss 0.5624 and accuracy 77.50%\t\tValid: loss 1.2198, accuracy 60.68%\n",
      "Epoch 19, CIFAR-10 Batch 1:  \tBatch: loss 0.4725 and accuracy 82.50%\t\tValid: loss 1.2503, accuracy 59.02%\n",
      "Epoch 19, CIFAR-10 Batch 2:  \tBatch: loss 0.3490 and accuracy 87.50%\t\tValid: loss 1.2230, accuracy 60.08%\n",
      "Epoch 19, CIFAR-10 Batch 3:  \tBatch: loss 0.3753 and accuracy 90.00%\t\tValid: loss 1.2435, accuracy 60.08%\n",
      "Epoch 19, CIFAR-10 Batch 4:  \tBatch: loss 0.2942 and accuracy 92.50%\t\tValid: loss 1.2454, accuracy 61.10%\n",
      "Epoch 19, CIFAR-10 Batch 5:  \tBatch: loss 0.4431 and accuracy 82.50%\t\tValid: loss 1.2544, accuracy 60.58%\n",
      "Epoch 20, CIFAR-10 Batch 1:  \tBatch: loss 0.4390 and accuracy 85.00%\t\tValid: loss 1.3758, accuracy 57.92%\n",
      "Epoch 20, CIFAR-10 Batch 2:  \tBatch: loss 0.3683 and accuracy 87.50%\t\tValid: loss 1.2286, accuracy 59.54%\n",
      "Epoch 20, CIFAR-10 Batch 3:  \tBatch: loss 0.3229 and accuracy 92.50%\t\tValid: loss 1.2347, accuracy 60.54%\n",
      "Epoch 20, CIFAR-10 Batch 4:  \tBatch: loss 0.3082 and accuracy 87.50%\t\tValid: loss 1.2821, accuracy 59.84%\n",
      "Epoch 20, CIFAR-10 Batch 5:  \tBatch: loss 0.3349 and accuracy 87.50%\t\tValid: loss 1.2705, accuracy 61.02%\n",
      "Epoch 21, CIFAR-10 Batch 1:  \tBatch: loss 0.2845 and accuracy 92.50%\t\tValid: loss 1.3372, accuracy 58.62%\n",
      "Epoch 21, CIFAR-10 Batch 2:  \tBatch: loss 0.3732 and accuracy 90.00%\t\tValid: loss 1.2734, accuracy 60.56%\n",
      "Epoch 21, CIFAR-10 Batch 3:  \tBatch: loss 0.3613 and accuracy 90.00%\t\tValid: loss 1.2933, accuracy 60.78%\n",
      "Epoch 21, CIFAR-10 Batch 4:  \tBatch: loss 0.2378 and accuracy 92.50%\t\tValid: loss 1.3040, accuracy 60.08%\n",
      "Epoch 21, CIFAR-10 Batch 5:  \tBatch: loss 0.1856 and accuracy 97.50%\t\tValid: loss 1.3041, accuracy 61.06%\n",
      "Epoch 22, CIFAR-10 Batch 1:  \tBatch: loss 0.3411 and accuracy 90.00%\t\tValid: loss 1.2917, accuracy 61.54%\n",
      "Epoch 22, CIFAR-10 Batch 2:  \tBatch: loss 0.2505 and accuracy 97.50%\t\tValid: loss 1.3072, accuracy 60.04%\n",
      "Epoch 22, CIFAR-10 Batch 3:  \tBatch: loss 0.1997 and accuracy 97.50%\t\tValid: loss 1.3457, accuracy 59.60%\n",
      "Epoch 22, CIFAR-10 Batch 4:  \tBatch: loss 0.2399 and accuracy 97.50%\t\tValid: loss 1.3797, accuracy 59.66%\n",
      "Epoch 22, CIFAR-10 Batch 5:  \tBatch: loss 0.2252 and accuracy 97.50%\t\tValid: loss 1.3352, accuracy 61.42%\n",
      "Epoch 23, CIFAR-10 Batch 1:  \tBatch: loss 0.2344 and accuracy 92.50%\t\tValid: loss 1.4090, accuracy 60.02%\n",
      "Epoch 23, CIFAR-10 Batch 2:  \tBatch: loss 0.2997 and accuracy 92.50%\t\tValid: loss 1.3716, accuracy 59.84%\n",
      "Epoch 23, CIFAR-10 Batch 3:  \tBatch: loss 0.2635 and accuracy 90.00%\t\tValid: loss 1.3714, accuracy 60.22%\n",
      "Epoch 23, CIFAR-10 Batch 4:  \tBatch: loss 0.2820 and accuracy 90.00%\t\tValid: loss 1.4672, accuracy 59.24%\n",
      "Epoch 23, CIFAR-10 Batch 5:  \tBatch: loss 0.1570 and accuracy 97.50%\t\tValid: loss 1.4328, accuracy 60.84%\n",
      "Epoch 24, CIFAR-10 Batch 1:  \tBatch: loss 0.2620 and accuracy 90.00%\t\tValid: loss 1.4056, accuracy 61.16%\n",
      "Epoch 24, CIFAR-10 Batch 2:  \tBatch: loss 0.1724 and accuracy 95.00%\t\tValid: loss 1.4723, accuracy 59.26%\n",
      "Epoch 24, CIFAR-10 Batch 3:  \tBatch: loss 0.1790 and accuracy 100.00%\t\tValid: loss 1.4109, accuracy 59.96%\n",
      "Epoch 24, CIFAR-10 Batch 4:  \tBatch: loss 0.1725 and accuracy 95.00%\t\tValid: loss 1.4514, accuracy 60.60%\n",
      "Epoch 24, CIFAR-10 Batch 5:  \tBatch: loss 0.1831 and accuracy 95.00%\t\tValid: loss 1.4909, accuracy 60.36%\n",
      "Epoch 25, CIFAR-10 Batch 1:  \tBatch: loss 0.2093 and accuracy 95.00%\t\tValid: loss 1.4522, accuracy 60.58%\n",
      "Epoch 25, CIFAR-10 Batch 2:  \tBatch: loss 0.1658 and accuracy 95.00%\t\tValid: loss 1.5387, accuracy 58.82%\n",
      "Epoch 25, CIFAR-10 Batch 3:  \tBatch: loss 0.2574 and accuracy 92.50%\t\tValid: loss 1.4822, accuracy 59.64%\n",
      "Epoch 25, CIFAR-10 Batch 4:  \tBatch: loss 0.2202 and accuracy 92.50%\t\tValid: loss 1.5133, accuracy 61.04%\n",
      "Epoch 25, CIFAR-10 Batch 5:  \tBatch: loss 0.0947 and accuracy 100.00%\t\tValid: loss 1.5062, accuracy 61.10%\n",
      "Epoch 26, CIFAR-10 Batch 1:  \tBatch: loss 0.2401 and accuracy 87.50%\t\tValid: loss 1.4885, accuracy 60.38%\n",
      "Epoch 26, CIFAR-10 Batch 2:  \tBatch: loss 0.1677 and accuracy 95.00%\t\tValid: loss 1.5515, accuracy 59.50%\n",
      "Epoch 26, CIFAR-10 Batch 3:  \tBatch: loss 0.0992 and accuracy 95.00%\t\tValid: loss 1.5245, accuracy 60.66%\n",
      "Epoch 26, CIFAR-10 Batch 4:  \tBatch: loss 0.1502 and accuracy 95.00%\t\tValid: loss 1.5781, accuracy 59.52%\n",
      "Epoch 26, CIFAR-10 Batch 5:  \tBatch: loss 0.1251 and accuracy 97.50%\t\tValid: loss 1.5563, accuracy 60.64%\n",
      "Epoch 27, CIFAR-10 Batch 1:  \tBatch: loss 0.2051 and accuracy 92.50%\t\tValid: loss 1.5802, accuracy 60.26%\n",
      "Epoch 27, CIFAR-10 Batch 2:  \tBatch: loss 0.1656 and accuracy 95.00%\t\tValid: loss 1.7082, accuracy 57.60%\n",
      "Epoch 27, CIFAR-10 Batch 3:  \tBatch: loss 0.1709 and accuracy 95.00%\t\tValid: loss 1.5243, accuracy 61.16%\n",
      "Epoch 27, CIFAR-10 Batch 4:  \tBatch: loss 0.1188 and accuracy 97.50%\t\tValid: loss 1.6712, accuracy 60.38%\n",
      "Epoch 27, CIFAR-10 Batch 5:  \tBatch: loss 0.0926 and accuracy 97.50%\t\tValid: loss 1.6320, accuracy 59.76%\n",
      "Epoch 28, CIFAR-10 Batch 1:  \tBatch: loss 0.1597 and accuracy 95.00%\t\tValid: loss 1.6198, accuracy 61.06%\n",
      "Epoch 28, CIFAR-10 Batch 2:  \tBatch: loss 0.0892 and accuracy 97.50%\t\tValid: loss 1.6409, accuracy 58.86%\n",
      "Epoch 28, CIFAR-10 Batch 3:  \tBatch: loss 0.1205 and accuracy 97.50%\t\tValid: loss 1.6403, accuracy 60.44%\n",
      "Epoch 28, CIFAR-10 Batch 4:  \tBatch: loss 0.1396 and accuracy 97.50%\t\tValid: loss 1.6879, accuracy 60.20%\n",
      "Epoch 28, CIFAR-10 Batch 5:  \tBatch: loss 0.0760 and accuracy 97.50%\t\tValid: loss 1.6987, accuracy 60.08%\n",
      "Epoch 29, CIFAR-10 Batch 1:  \tBatch: loss 0.0801 and accuracy 100.00%\t\tValid: loss 1.6748, accuracy 60.34%\n",
      "Epoch 29, CIFAR-10 Batch 2:  \tBatch: loss 0.0362 and accuracy 100.00%\t\tValid: loss 1.6344, accuracy 60.68%\n",
      "Epoch 29, CIFAR-10 Batch 3:  \tBatch: loss 0.0784 and accuracy 100.00%\t\tValid: loss 1.6848, accuracy 60.72%\n",
      "Epoch 29, CIFAR-10 Batch 4:  \tBatch: loss 0.0342 and accuracy 100.00%\t\tValid: loss 1.7779, accuracy 61.38%\n",
      "Epoch 29, CIFAR-10 Batch 5:  \tBatch: loss 0.1147 and accuracy 97.50%\t\tValid: loss 1.7854, accuracy 60.90%\n",
      "Epoch 30, CIFAR-10 Batch 1:  \tBatch: loss 0.0599 and accuracy 100.00%\t\tValid: loss 1.7154, accuracy 61.26%\n",
      "Epoch 30, CIFAR-10 Batch 2:  \tBatch: loss 0.0589 and accuracy 100.00%\t\tValid: loss 1.7457, accuracy 59.72%\n",
      "Epoch 30, CIFAR-10 Batch 3:  \tBatch: loss 0.1038 and accuracy 95.00%\t\tValid: loss 1.7108, accuracy 60.16%\n",
      "Epoch 30, CIFAR-10 Batch 4:  \tBatch: loss 0.1164 and accuracy 97.50%\t\tValid: loss 1.8819, accuracy 61.14%\n",
      "Epoch 30, CIFAR-10 Batch 5:  \tBatch: loss 0.0878 and accuracy 95.00%\t\tValid: loss 1.8149, accuracy 60.14%\n",
      "Epoch 31, CIFAR-10 Batch 1:  \tBatch: loss 0.1091 and accuracy 97.50%\t\tValid: loss 1.7800, accuracy 60.32%\n",
      "Epoch 31, CIFAR-10 Batch 2:  \tBatch: loss 0.0686 and accuracy 97.50%\t\tValid: loss 1.7614, accuracy 59.54%\n",
      "Epoch 31, CIFAR-10 Batch 3:  \tBatch: loss 0.0554 and accuracy 100.00%\t\tValid: loss 1.8488, accuracy 59.98%\n",
      "Epoch 31, CIFAR-10 Batch 4:  \tBatch: loss 0.0849 and accuracy 97.50%\t\tValid: loss 1.8670, accuracy 60.08%\n",
      "Epoch 31, CIFAR-10 Batch 5:  \tBatch: loss 0.1004 and accuracy 95.00%\t\tValid: loss 1.9824, accuracy 60.16%\n",
      "Epoch 32, CIFAR-10 Batch 1:  \tBatch: loss 0.1209 and accuracy 97.50%\t\tValid: loss 1.8737, accuracy 60.20%\n",
      "Epoch 32, CIFAR-10 Batch 2:  \tBatch: loss 0.0717 and accuracy 97.50%\t\tValid: loss 1.8771, accuracy 59.12%\n",
      "Epoch 32, CIFAR-10 Batch 3:  \tBatch: loss 0.0228 and accuracy 100.00%\t\tValid: loss 1.8960, accuracy 60.36%\n",
      "Epoch 32, CIFAR-10 Batch 4:  \tBatch: loss 0.0671 and accuracy 97.50%\t\tValid: loss 1.9774, accuracy 60.18%\n",
      "Epoch 32, CIFAR-10 Batch 5:  \tBatch: loss 0.0531 and accuracy 97.50%\t\tValid: loss 1.8877, accuracy 61.86%\n",
      "Epoch 33, CIFAR-10 Batch 1:  \tBatch: loss 0.1372 and accuracy 95.00%\t\tValid: loss 1.9169, accuracy 60.98%\n",
      "Epoch 33, CIFAR-10 Batch 2:  \tBatch: loss 0.0519 and accuracy 97.50%\t\tValid: loss 1.8486, accuracy 59.26%\n",
      "Epoch 33, CIFAR-10 Batch 3:  \tBatch: loss 0.0508 and accuracy 97.50%\t\tValid: loss 1.9173, accuracy 60.20%\n",
      "Epoch 33, CIFAR-10 Batch 4:  \tBatch: loss 0.0444 and accuracy 100.00%\t\tValid: loss 2.0630, accuracy 60.02%\n",
      "Epoch 33, CIFAR-10 Batch 5:  \tBatch: loss 0.0651 and accuracy 97.50%\t\tValid: loss 1.9583, accuracy 61.88%\n",
      "Epoch 34, CIFAR-10 Batch 1:  \tBatch: loss 0.1058 and accuracy 95.00%\t\tValid: loss 2.0000, accuracy 61.48%\n",
      "Epoch 34, CIFAR-10 Batch 2:  \tBatch: loss 0.1011 and accuracy 95.00%\t\tValid: loss 2.0235, accuracy 59.34%\n",
      "Epoch 34, CIFAR-10 Batch 3:  \tBatch: loss 0.0389 and accuracy 100.00%\t\tValid: loss 1.9837, accuracy 60.10%\n",
      "Epoch 34, CIFAR-10 Batch 4:  \tBatch: loss 0.0370 and accuracy 100.00%\t\tValid: loss 2.2643, accuracy 59.76%\n",
      "Epoch 34, CIFAR-10 Batch 5:  \tBatch: loss 0.0225 and accuracy 100.00%\t\tValid: loss 1.9083, accuracy 61.20%\n",
      "Epoch 35, CIFAR-10 Batch 1:  \tBatch: loss 0.0985 and accuracy 97.50%\t\tValid: loss 2.0367, accuracy 60.32%\n",
      "Epoch 35, CIFAR-10 Batch 2:  \tBatch: loss 0.0639 and accuracy 100.00%\t\tValid: loss 1.9812, accuracy 60.68%\n",
      "Epoch 35, CIFAR-10 Batch 3:  \tBatch: loss 0.0201 and accuracy 100.00%\t\tValid: loss 2.0452, accuracy 60.80%\n",
      "Epoch 35, CIFAR-10 Batch 4:  \tBatch: loss 0.0537 and accuracy 97.50%\t\tValid: loss 2.1563, accuracy 60.24%\n",
      "Epoch 35, CIFAR-10 Batch 5:  \tBatch: loss 0.0735 and accuracy 97.50%\t\tValid: loss 2.0155, accuracy 61.44%\n",
      "Epoch 36, CIFAR-10 Batch 1:  \tBatch: loss 0.0222 and accuracy 100.00%\t\tValid: loss 2.0781, accuracy 61.24%\n",
      "Epoch 36, CIFAR-10 Batch 2:  \tBatch: loss 0.0714 and accuracy 97.50%\t\tValid: loss 2.0697, accuracy 60.82%\n",
      "Epoch 36, CIFAR-10 Batch 3:  \tBatch: loss 0.0391 and accuracy 100.00%\t\tValid: loss 2.2053, accuracy 59.60%\n",
      "Epoch 36, CIFAR-10 Batch 4:  \tBatch: loss 0.0613 and accuracy 97.50%\t\tValid: loss 2.1542, accuracy 60.32%\n",
      "Epoch 36, CIFAR-10 Batch 5:  \tBatch: loss 0.0166 and accuracy 100.00%\t\tValid: loss 2.0856, accuracy 61.08%\n",
      "Epoch 37, CIFAR-10 Batch 1:  \tBatch: loss 0.0096 and accuracy 100.00%\t\tValid: loss 2.2322, accuracy 60.00%\n",
      "Epoch 37, CIFAR-10 Batch 2:  \tBatch: loss 0.0182 and accuracy 100.00%\t\tValid: loss 2.0530, accuracy 59.44%\n",
      "Epoch 37, CIFAR-10 Batch 3:  \tBatch: loss 0.0232 and accuracy 100.00%\t\tValid: loss 2.1948, accuracy 59.46%\n",
      "Epoch 37, CIFAR-10 Batch 4:  \tBatch: loss 0.0804 and accuracy 97.50%\t\tValid: loss 2.0232, accuracy 60.84%\n",
      "Epoch 37, CIFAR-10 Batch 5:  \tBatch: loss 0.0391 and accuracy 100.00%\t\tValid: loss 2.0830, accuracy 61.66%\n",
      "Epoch 38, CIFAR-10 Batch 1:  \tBatch: loss 0.0913 and accuracy 97.50%\t\tValid: loss 2.2793, accuracy 59.28%\n",
      "Epoch 38, CIFAR-10 Batch 2:  \tBatch: loss 0.0081 and accuracy 100.00%\t\tValid: loss 2.1068, accuracy 60.12%\n",
      "Epoch 38, CIFAR-10 Batch 3:  \tBatch: loss 0.0221 and accuracy 100.00%\t\tValid: loss 2.2672, accuracy 60.16%\n",
      "Epoch 38, CIFAR-10 Batch 4:  \tBatch: loss 0.0077 and accuracy 100.00%\t\tValid: loss 2.0602, accuracy 60.80%\n",
      "Epoch 38, CIFAR-10 Batch 5:  \tBatch: loss 0.0079 and accuracy 100.00%\t\tValid: loss 2.1339, accuracy 61.12%\n",
      "Epoch 39, CIFAR-10 Batch 1:  \tBatch: loss 0.0590 and accuracy 97.50%\t\tValid: loss 2.3213, accuracy 59.34%\n",
      "Epoch 39, CIFAR-10 Batch 2:  \tBatch: loss 0.0069 and accuracy 100.00%\t\tValid: loss 2.2137, accuracy 59.72%\n",
      "Epoch 39, CIFAR-10 Batch 3:  \tBatch: loss 0.0218 and accuracy 100.00%\t\tValid: loss 2.1940, accuracy 60.42%\n",
      "Epoch 39, CIFAR-10 Batch 4:  \tBatch: loss 0.0930 and accuracy 97.50%\t\tValid: loss 2.3082, accuracy 60.10%\n",
      "Epoch 39, CIFAR-10 Batch 5:  \tBatch: loss 0.0365 and accuracy 97.50%\t\tValid: loss 2.1768, accuracy 60.68%\n",
      "Epoch 40, CIFAR-10 Batch 1:  \tBatch: loss 0.0194 and accuracy 100.00%\t\tValid: loss 2.3409, accuracy 59.66%\n",
      "Epoch 40, CIFAR-10 Batch 2:  \tBatch: loss 0.0119 and accuracy 100.00%\t\tValid: loss 2.2687, accuracy 60.12%\n",
      "Epoch 40, CIFAR-10 Batch 3:  \tBatch: loss 0.0169 and accuracy 100.00%\t\tValid: loss 2.2665, accuracy 61.30%\n",
      "Epoch 40, CIFAR-10 Batch 4:  \tBatch: loss 0.0692 and accuracy 97.50%\t\tValid: loss 2.2277, accuracy 59.94%\n",
      "Epoch 40, CIFAR-10 Batch 5:  \tBatch: loss 0.0530 and accuracy 97.50%\t\tValid: loss 2.2296, accuracy 60.62%\n"
     ]
    }
   ],
   "source": [
    "\"\"\"\n",
    "DON'T MODIFY ANYTHING IN THIS CELL\n",
    "\"\"\"\n",
    "save_model_path = './image_classification'\n",
    "\n",
    "print('Training...')\n",
    "with tf.Session() as sess:\n",
    "    # Initializing the variables\n",
    "    sess.run(tf.global_variables_initializer())\n",
    "    \n",
    "    # Training cycle\n",
    "    for epoch in range(epochs):\n",
    "        # Loop over all batches\n",
    "        n_batches = 5\n",
    "        for batch_i in range(1, n_batches + 1):\n",
    "            for batch_features, batch_labels in helper.load_preprocess_training_batch(batch_i, batch_size):\n",
    "                train_neural_network(sess, optimizer, keep_probability, batch_features, batch_labels)\n",
    "            print('Epoch {:>2}, CIFAR-10 Batch {}:  '.format(epoch + 1, batch_i), end='')\n",
    "            print_stats(sess, batch_features, batch_labels, cost, accuracy)\n",
    "            \n",
    "    # Save Model\n",
    "    saver = tf.train.Saver()\n",
    "    save_path = saver.save(sess, save_model_path)"
   ]
  },
  {
   "cell_type": "markdown",
   "metadata": {},
   "source": [
    "# Checkpoint\n",
    "The model has been saved to disk.\n",
    "## Test Model\n",
    "Test your model against the test dataset.  This will be your final accuracy. You should have an accuracy greater than 50%. If you don't, keep tweaking the model architecture and parameters."
   ]
  },
  {
   "cell_type": "code",
   "execution_count": 18,
   "metadata": {
    "collapsed": false
   },
   "outputs": [
    {
     "name": "stdout",
     "output_type": "stream",
     "text": [
      "Testing Accuracy: 0.6077927215189873\n",
      "\n"
     ]
    },
    {
     "data": {
      "image/png": "[encoded data removed]",
      "text/plain": [
       "<matplotlib.figure.Figure at 0x2688c3cf5f8>"
      ]
     },
     "metadata": {
      "image/png": {
       "height": 319,
       "width": 355
      }
     },
     "output_type": "display_data"
    }
   ],
   "source": [
    "\"\"\"\n",
    "DON'T MODIFY ANYTHING IN THIS CELL\n",
    "\"\"\"\n",
    "%matplotlib inline\n",
    "%config InlineBackend.figure_format = 'retina'\n",
    "\n",
    "import tensorflow as tf\n",
    "import pickle\n",
    "import helper\n",
    "import random\n",
    "\n",
    "# Set batch size if not already set\n",
    "try:\n",
    "    if batch_size:\n",
    "        pass\n",
    "except NameError:\n",
    "    batch_size = 64\n",
    "\n",
    "save_model_path = './image_classification'\n",
    "n_samples = 4\n",
    "top_n_predictions = 3\n",
    "\n",
    "def test_model():\n",
    "    \"\"\"\n",
    "    Test the saved model against the test dataset\n",
    "    \"\"\"\n",
    "\n",
    "    test_features, test_labels = pickle.load(open('preprocess_training.p', mode='rb'))\n",
    "    loaded_graph = tf.Graph()\n",
    "\n",
    "    with tf.Session(graph=loaded_graph) as sess:\n",
    "        # Load model\n",
    "        loader = tf.train.import_meta_graph(save_model_path + '.meta')\n",
    "        loader.restore(sess, save_model_path)\n",
    "\n",
    "        # Get Tensors from loaded model\n",
    "        loaded_x = loaded_graph.get_tensor_by_name('x:0')\n",
    "        loaded_y = loaded_graph.get_tensor_by_name('y:0')\n",
    "        loaded_keep_prob = loaded_graph.get_tensor_by_name('keep_prob:0')\n",
    "        loaded_logits = loaded_graph.get_tensor_by_name('logits:0')\n",
    "        loaded_acc = loaded_graph.get_tensor_by_name('accuracy:0')\n",
    "        \n",
    "        # Get accuracy in batches for memory limitations\n",
    "        test_batch_acc_total = 0\n",
    "        test_batch_count = 0\n",
    "        \n",
    "        for train_feature_batch, train_label_batch in helper.batch_features_labels(test_features, test_labels, batch_size):\n",
    "            test_batch_acc_total += sess.run(\n",
    "                loaded_acc,\n",
    "                feed_dict={loaded_x: train_feature_batch, loaded_y: train_label_batch, loaded_keep_prob: 1.0})\n",
    "            test_batch_count += 1\n",
    "\n",
    "        print('Testing Accuracy: {}\\n'.format(test_batch_acc_total/test_batch_count))\n",
    "\n",
    "        # Print Random Samples\n",
    "        random_test_features, random_test_labels = tuple(zip(*random.sample(list(zip(test_features, test_labels)), n_samples)))\n",
    "        random_test_predictions = sess.run(\n",
    "            tf.nn.top_k(tf.nn.softmax(loaded_logits), top_n_predictions),\n",
    "            feed_dict={loaded_x: random_test_features, loaded_y: random_test_labels, loaded_keep_prob: 1.0})\n",
    "        helper.display_image_predictions(random_test_features, random_test_labels, random_test_predictions)\n",
    "\n",
    "\n",
    "test_model()"
   ]
  },
  {
   "cell_type": "markdown",
   "metadata": {},
   "source": [
    "## Why 50-70% Accuracy?\n",
    "You might be wondering why you can't get an accuracy any higher. First things first, 50% isn't bad for a simple CNN.  Pure guessing would get you 10% accuracy. However, you might notice people are getting scores [well above 70%](http://rodrigob.github.io/are_we_there_yet/build/classification_datasets_results.html#43494641522d3130).  That's because we haven't taught you all there is to know about neural networks. We still need to cover a few more techniques.\n",
    "## Submitting This Project\n",
    "When submitting this project, make sure to run all the cells before saving the notebook.  Save the notebook file as \"dlnd_image_classification.ipynb\" and save it as a HTML file under \"File\" -> \"Download as\".  Include the \"helper.py\" and \"problem_unittests.py\" files in your submission."
   ]
  }
 ],
 "metadata": {
  "kernelspec": {
   "display_name": "Python 3",
   "language": "python",
   "name": "python3"
  },
  "language_info": {
   "codemirror_mode": {
    "name": "ipython",
    "version": 3
   },
   "file_extension": ".py",
   "mimetype": "text/x-python",
   "name": "python",
   "nbconvert_exporter": "python",
   "pygments_lexer": "ipython3",
   "version": "3.5.3"
  }
 },
 "nbformat": 4,
 "nbformat_minor": 0
}
