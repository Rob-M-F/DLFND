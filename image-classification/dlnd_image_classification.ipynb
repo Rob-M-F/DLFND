{
 "cells": [
  {
   "cell_type": "markdown",
   "metadata": {
    "collapsed": true
   },
   "source": [
    "# Image Classification\n",
    "In this project, you'll classify images from the [CIFAR-10 dataset](https://www.cs.toronto.edu/~kriz/cifar.html).  The dataset consists of airplanes, dogs, cats, and other objects. You'll preprocess the images, then train a convolutional neural network on all the samples. The images need to be normalized and the labels need to be one-hot encoded.  You'll get to apply what you learned and build a convolutional, max pooling, dropout, and fully connected layers.  At the end, you'll get to see your neural network's predictions on the sample images.\n",
    "## Get the Data\n",
    "Run the following cell to download the [CIFAR-10 dataset for python](https://www.cs.toronto.edu/~kriz/cifar-10-python.tar.gz)."
   ]
  },
  {
   "cell_type": "code",
   "execution_count": 1,
   "metadata": {
    "collapsed": false
   },
   "outputs": [
    {
     "name": "stdout",
     "output_type": "stream",
     "text": [
      "All files found!\n"
     ]
    }
   ],
   "source": [
    "\"\"\"\n",
    "DON'T MODIFY ANYTHING IN THIS CELL THAT IS BELOW THIS LINE\n",
    "\"\"\"\n",
    "from urllib.request import urlretrieve\n",
    "from os.path import isfile, isdir\n",
    "from tqdm import tqdm\n",
    "import problem_unittests as tests\n",
    "import tarfile\n",
    "\n",
    "cifar10_dataset_folder_path = 'cifar-10-batches-py'\n",
    "\n",
    "class DLProgress(tqdm):\n",
    "    last_block = 0\n",
    "\n",
    "    def hook(self, block_num=1, block_size=1, total_size=None):\n",
    "        self.total = total_size\n",
    "        self.update((block_num - self.last_block) * block_size)\n",
    "        self.last_block = block_num\n",
    "\n",
    "if not isfile('cifar-10-python.tar.gz'):\n",
    "    with DLProgress(unit='B', unit_scale=True, miniters=1, desc='CIFAR-10 Dataset') as pbar:\n",
    "        urlretrieve(\n",
    "            'https://www.cs.toronto.edu/~kriz/cifar-10-python.tar.gz',\n",
    "            'cifar-10-python.tar.gz',\n",
    "            pbar.hook)\n",
    "\n",
    "if not isdir(cifar10_dataset_folder_path):\n",
    "    with tarfile.open('cifar-10-python.tar.gz') as tar:\n",
    "        tar.extractall()\n",
    "        tar.close()\n",
    "\n",
    "\n",
    "tests.test_folder_path(cifar10_dataset_folder_path)"
   ]
  },
  {
   "cell_type": "markdown",
   "metadata": {},
   "source": [
    "## Explore the Data\n",
    "The dataset is broken into batches to prevent your machine from running out of memory.  The CIFAR-10 dataset consists of 5 batches, named `data_batch_1`, `data_batch_2`, etc.. Each batch contains the labels and images that are one of the following:\n",
    "* airplane\n",
    "* automobile\n",
    "* bird\n",
    "* cat\n",
    "* deer\n",
    "* dog\n",
    "* frog\n",
    "* horse\n",
    "* ship\n",
    "* truck\n",
    "\n",
    "Understanding a dataset is part of making predictions on the data.  Play around with the code cell below by changing the `batch_id` and `sample_id`. The `batch_id` is the id for a batch (1-5). The `sample_id` is the id for a image and label pair in the batch.\n",
    "\n",
    "Ask yourself \"What are all possible labels?\", \"What is the range of values for the image data?\", \"Are the labels in order or random?\".  Answers to questions like these will help you preprocess the data and end up with better predictions."
   ]
  },
  {
   "cell_type": "code",
   "execution_count": 2,
   "metadata": {
    "collapsed": false
   },
   "outputs": [
    {
     "name": "stdout",
     "output_type": "stream",
     "text": [
      "\n",
      "Stats of batch 1:\n",
      "Samples: 10000\n",
      "Label Counts: {0: 1005, 1: 974, 2: 1032, 3: 1016, 4: 999, 5: 937, 6: 1030, 7: 1001, 8: 1025, 9: 981}\n",
      "First 20 Labels: [6, 9, 9, 4, 1, 1, 2, 7, 8, 3, 4, 7, 7, 2, 9, 9, 9, 3, 2, 6]\n",
      "\n",
      "Example of Image 5:\n",
      "Image - Min Value: 0 Max Value: 252\n",
      "Image - Shape: (32, 32, 3)\n",
      "Label - Label Id: 1 Name: automobile\n"
     ]
    },
    {
     "data": {
      "image/png": "[encoded data removed]",
      "text/plain": [
       "<matplotlib.figure.Figure at 0x1f66d6e9240>"
      ]
     },
     "metadata": {
      "image/png": {
       "height": 250,
       "width": 253
      }
     },
     "output_type": "display_data"
    }
   ],
   "source": [
    "%matplotlib inline\n",
    "%config InlineBackend.figure_format = 'retina'\n",
    "\n",
    "import helper\n",
    "import numpy as np\n",
    "\n",
    "# Explore the dataset\n",
    "batch_id = 1\n",
    "sample_id = 5\n",
    "helper.display_stats(cifar10_dataset_folder_path, batch_id, sample_id)"
   ]
  },
  {
   "cell_type": "markdown",
   "metadata": {},
   "source": [
    "## Implement Preprocess Functions\n",
    "### Normalize\n",
    "In the cell below, implement the `normalize` function to take in image data, `x`, and return it as a normalized Numpy array. The values should be in the range of 0 to 1, inclusive.  The return object should be the same shape as `x`."
   ]
  },
  {
   "cell_type": "code",
   "execution_count": 3,
   "metadata": {
    "collapsed": false
   },
   "outputs": [
    {
     "name": "stdout",
     "output_type": "stream",
     "text": [
      "Tests Passed\n"
     ]
    }
   ],
   "source": [
    "def normalize(x):\n",
    "    \"\"\"\n",
    "    Normalize a list of sample image data in the range of 0 to 1\n",
    "    : x: List of image data.  The image shape is (32, 32, 3)\n",
    "    : return: Numpy array of normalize data\n",
    "    \"\"\"\n",
    "    # TODO: Implement Function\n",
    "    return np.divide(x, 255.)\n",
    "\n",
    "\n",
    "\"\"\"\n",
    "DON'T MODIFY ANYTHING IN THIS CELL THAT IS BELOW THIS LINE\n",
    "\"\"\"\n",
    "tests.test_normalize(normalize)"
   ]
  },
  {
   "cell_type": "markdown",
   "metadata": {},
   "source": [
    "### One-hot encode\n",
    "Just like the previous code cell, you'll be implementing a function for preprocessing.  This time, you'll implement the `one_hot_encode` function. The input, `x`, are a list of labels.  Implement the function to return the list of labels as One-Hot encoded Numpy array.  The possible values for labels are 0 to 9. The one-hot encoding function should return the same encoding for each value between each call to `one_hot_encode`.  Make sure to save the map of encodings outside the function.\n",
    "\n",
    "Hint: Don't reinvent the wheel."
   ]
  },
  {
   "cell_type": "code",
   "execution_count": 4,
   "metadata": {
    "collapsed": false
   },
   "outputs": [
    {
     "name": "stdout",
     "output_type": "stream",
     "text": [
      "Tests Passed\n"
     ]
    }
   ],
   "source": [
    "def one_hot_encode(x):\n",
    "    \"\"\"\n",
    "    One hot encode a list of sample labels. Return a one-hot encoded vector for each label.\n",
    "    : x: List of sample Labels\n",
    "    : return: Numpy array of one-hot encoded labels\n",
    "    \"\"\"\n",
    "    a = np.zeros((len(x), 10), dtype=np.float32)\n",
    "    for i, j in enumerate(x):\n",
    "        a[i,j]  = 1\n",
    "    return a\n",
    "\n",
    "\n",
    "\"\"\"\n",
    "DON'T MODIFY ANYTHING IN THIS CELL THAT IS BELOW THIS LINE\n",
    "\"\"\"\n",
    "tests.test_one_hot_encode(one_hot_encode)"
   ]
  },
  {
   "cell_type": "markdown",
   "metadata": {},
   "source": [
    "### Randomize Data\n",
    "As you saw from exploring the data above, the order of the samples are randomized.  It doesn't hurt to randomize it again, but you don't need to for this dataset."
   ]
  },
  {
   "cell_type": "markdown",
   "metadata": {},
   "source": [
    "## Preprocess all the data and save it\n",
    "Running the code cell below will preprocess all the CIFAR-10 data and save it to file. The code below also uses 10% of the training data for validation."
   ]
  },
  {
   "cell_type": "code",
   "execution_count": 5,
   "metadata": {
    "collapsed": false
   },
   "outputs": [],
   "source": [
    "\"\"\"\n",
    "DON'T MODIFY ANYTHING IN THIS CELL\n",
    "\"\"\"\n",
    "# Preprocess Training, Validation, and Testing Data\n",
    "helper.preprocess_and_save_data(cifar10_dataset_folder_path, normalize, one_hot_encode)"
   ]
  },
  {
   "cell_type": "markdown",
   "metadata": {},
   "source": [
    "# Check Point\n",
    "This is your first checkpoint.  If you ever decide to come back to this notebook or have to restart the notebook, you can start from here.  The preprocessed data has been saved to disk."
   ]
  },
  {
   "cell_type": "code",
   "execution_count": 6,
   "metadata": {
    "collapsed": true
   },
   "outputs": [],
   "source": [
    "\"\"\"\n",
    "DON'T MODIFY ANYTHING IN THIS CELL\n",
    "\"\"\"\n",
    "import pickle\n",
    "import problem_unittests as tests\n",
    "import helper\n",
    "\n",
    "# Load the Preprocessed Validation data\n",
    "valid_features, valid_labels = pickle.load(open('preprocess_validation.p', mode='rb'))"
   ]
  },
  {
   "cell_type": "markdown",
   "metadata": {},
   "source": [
    "## Build the network\n",
    "For the neural network, you'll build each layer into a function.  Most of the code you've seen has been outside of functions. To test your code more thoroughly, we require that you put each layer in a function.  This allows us to give you better feedback and test for simple mistakes using our unittests before you submit your project.\n",
    "\n",
    ">**Note:** If you're finding it hard to dedicate enough time for this course each week, we've provided a small shortcut to this part of the project. In the next couple of problems, you'll have the option to use classes from the [TensorFlow Layers](https://www.tensorflow.org/api_docs/python/tf/layers) or [TensorFlow Layers (contrib)](https://www.tensorflow.org/api_guides/python/contrib.layers) packages to build each layer, except the layers you build in the \"Convolutional and Max Pooling Layer\" section.  TF Layers is similar to Keras's and TFLearn's abstraction to layers, so it's easy to pickup.\n",
    "\n",
    ">However, if you would like to get the most out of this course, try to solve all the problems _without_ using anything from the TF Layers packages. You **can** still use classes from other packages that happen to have the same name as ones you find in TF Layers! For example, instead of using the TF Layers version of the `conv2d` class, [tf.layers.conv2d](https://www.tensorflow.org/api_docs/python/tf/layers/conv2d), you would want to use the TF Neural Network version of `conv2d`, [tf.nn.conv2d](https://www.tensorflow.org/api_docs/python/tf/nn/conv2d). \n",
    "\n",
    "Let's begin!\n",
    "\n",
    "### Input\n",
    "The neural network needs to read the image data, one-hot encoded labels, and dropout keep probability. Implement the following functions\n",
    "* Implement `neural_net_image_input`\n",
    " * Return a [TF Placeholder](https://www.tensorflow.org/api_docs/python/tf/placeholder)\n",
    " * Set the shape using `image_shape` with batch size set to `None`.\n",
    " * Name the TensorFlow placeholder \"x\" using the TensorFlow `name` parameter in the [TF Placeholder](https://www.tensorflow.org/api_docs/python/tf/placeholder).\n",
    "* Implement `neural_net_label_input`\n",
    " * Return a [TF Placeholder](https://www.tensorflow.org/api_docs/python/tf/placeholder)\n",
    " * Set the shape using `n_classes` with batch size set to `None`.\n",
    " * Name the TensorFlow placeholder \"y\" using the TensorFlow `name` parameter in the [TF Placeholder](https://www.tensorflow.org/api_docs/python/tf/placeholder).\n",
    "* Implement `neural_net_keep_prob_input`\n",
    " * Return a [TF Placeholder](https://www.tensorflow.org/api_docs/python/tf/placeholder) for dropout keep probability.\n",
    " * Name the TensorFlow placeholder \"keep_prob\" using the TensorFlow `name` parameter in the [TF Placeholder](https://www.tensorflow.org/api_docs/python/tf/placeholder).\n",
    "\n",
    "These names will be used at the end of the project to load your saved model.\n",
    "\n",
    "Note: `None` for shapes in TensorFlow allow for a dynamic size."
   ]
  },
  {
   "cell_type": "code",
   "execution_count": 7,
   "metadata": {
    "collapsed": false
   },
   "outputs": [
    {
     "name": "stdout",
     "output_type": "stream",
     "text": [
      "Image Input Tests Passed.\n",
      "Label Input Tests Passed.\n",
      "Keep Prob Tests Passed.\n"
     ]
    }
   ],
   "source": [
    "import tensorflow as tf\n",
    "\n",
    "def neural_net_image_input(image_shape):\n",
    "    \"\"\"\n",
    "    Return a Tensor for a bach of image input\n",
    "    : image_shape: Shape of the images\n",
    "    : return: Tensor for image input.\n",
    "    \"\"\"\n",
    "    x = tf.placeholder(tf.float32, shape=(None, image_shape[0], image_shape[1], \n",
    "                                             image_shape[2]), name='x')\n",
    "    return x\n",
    "\n",
    "\n",
    "def neural_net_label_input(n_classes):\n",
    "    \"\"\"\n",
    "    Return a Tensor for a batch of label input\n",
    "    : n_classes: Number of classes\n",
    "    : return: Tensor for label input.\n",
    "    \"\"\"\n",
    "    y = tf.placeholder(tf.float32, shape=(None, n_classes), name='y')\n",
    "    return y\n",
    "\n",
    "\n",
    "def neural_net_keep_prob_input():\n",
    "    \"\"\"\n",
    "    Return a Tensor for keep probability\n",
    "    : return: Tensor for keep probability.\n",
    "    \"\"\"\n",
    "    keep_prob =  tf.placeholder(tf.float32, name='keep_prob')\n",
    "    return keep_prob\n",
    "\n",
    "\n",
    "\"\"\"\n",
    "DON'T MODIFY ANYTHING IN THIS CELL THAT IS BELOW THIS LINE\n",
    "\"\"\"\n",
    "tf.reset_default_graph()\n",
    "tests.test_nn_image_inputs(neural_net_image_input)\n",
    "tests.test_nn_label_inputs(neural_net_label_input)\n",
    "tests.test_nn_keep_prob_inputs(neural_net_keep_prob_input)"
   ]
  },
  {
   "cell_type": "markdown",
   "metadata": {},
   "source": [
    "### Convolution and Max Pooling Layer\n",
    "Convolution layers have a lot of success with images. For this code cell, you should implement the function `conv2d_maxpool` to apply convolution then max pooling:\n",
    "* Create the weight and bias using `conv_ksize`, `conv_num_outputs` and the shape of `x_tensor`.\n",
    "* Apply a convolution to `x_tensor` using weight and `conv_strides`.\n",
    " * We recommend you use same padding, but you're welcome to use any padding.\n",
    "* Add bias\n",
    "* Add a nonlinear activation to the convolution.\n",
    "* Apply Max Pooling using `pool_ksize` and `pool_strides`.\n",
    " * We recommend you use same padding, but you're welcome to use any padding.\n",
    "\n",
    "**Note:** You **can't** use [TensorFlow Layers](https://www.tensorflow.org/api_docs/python/tf/layers) or [TensorFlow Layers (contrib)](https://www.tensorflow.org/api_guides/python/contrib.layers) for **this** layer, but you can still use TensorFlow's [Neural Network](https://www.tensorflow.org/api_docs/python/tf/nn) package. You may still use the shortcut option for all the **other** layers."
   ]
  },
  {
   "cell_type": "code",
   "execution_count": 8,
   "metadata": {
    "collapsed": false
   },
   "outputs": [
    {
     "name": "stdout",
     "output_type": "stream",
     "text": [
      "Tests Passed\n"
     ]
    }
   ],
   "source": [
    "def conv2d_maxpool(x_tensor, conv_num_outputs=8, conv_ksize=(1,1), conv_strides=(1,1), pool_ksize=(1,1), pool_strides=(1,1)):\n",
    "    \"\"\"\n",
    "    Apply convolution then max pooling to x_tensor\n",
    "    :param x_tensor: TensorFlow Tensor\n",
    "    :param conv_num_outputs: Number of outputs for the convolutional layer\n",
    "    :param conv_ksize: kernal size 2-D Tuple for the convolutional layer\n",
    "    :param conv_strides: Stride 2-D Tuple for convolution\n",
    "    :param pool_ksize: kernal size 2-D Tuple for pool\n",
    "    :param pool_strides: Stride 2-D Tuple for pool\n",
    "    : return: A tensor that represents convolution and max pooling of x_tensor\n",
    "    \"\"\"\n",
    "    weights = tf.Variable(tf.truncated_normal([conv_ksize[0], conv_ksize[1], x_tensor.get_shape().as_list()[3], \n",
    "                                               conv_num_outputs], stddev=0.1))\n",
    "    bias = tf.Variable(tf.constant(1.0, shape=[conv_num_outputs]))\n",
    "    \n",
    "    conv = tf.nn.conv2d(x_tensor, weights, [1, conv_strides[0], conv_strides[1], 1], padding='SAME')\n",
    "    conv = tf.nn.relu(conv + bias)\n",
    "    conv = tf.nn.max_pool(conv, [1, pool_strides[0], pool_strides[0], 1], \n",
    "                          [1, pool_ksize[0], pool_ksize[1], 1], padding='SAME')\n",
    "    return conv\n",
    "\n",
    "\n",
    "\"\"\"\n",
    "DON'T MODIFY ANYTHING IN THIS CELL THAT IS BELOW THIS LINE\n",
    "\"\"\"\n",
    "tests.test_con_pool(conv2d_maxpool)"
   ]
  },
  {
   "cell_type": "markdown",
   "metadata": {},
   "source": [
    "### Flatten Layer\n",
    "Implement the `flatten` function to change the dimension of `x_tensor` from a 4-D tensor to a 2-D tensor.  The output should be the shape (*Batch Size*, *Flattened Image Size*). Shortcut option: you can use classes from the [TensorFlow Layers](https://www.tensorflow.org/api_docs/python/tf/layers) or [TensorFlow Layers (contrib)](https://www.tensorflow.org/api_guides/python/contrib.layers) packages for this layer. For more of a challenge, only use other TensorFlow packages."
   ]
  },
  {
   "cell_type": "code",
   "execution_count": 9,
   "metadata": {
    "collapsed": false
   },
   "outputs": [
    {
     "name": "stdout",
     "output_type": "stream",
     "text": [
      "Tests Passed\n"
     ]
    }
   ],
   "source": [
    "def flatten(x_tensor):\n",
    "    \"\"\"\n",
    "    Flatten x_tensor to (Batch Size, Flattened Image Size)\n",
    "    : x_tensor: A tensor of size (Batch Size, ...), where ... are the image dimensions.\n",
    "    : return: A tensor of size (Batch Size, Flattened Image Size).\n",
    "    \"\"\"\n",
    "    shape = x_tensor.get_shape().as_list()\n",
    "    x = tf.reshape(x_tensor, (-1, shape[1]*shape[2]*shape[3]))\n",
    "    return x\n",
    "\n",
    "\n",
    "\"\"\"\n",
    "DON'T MODIFY ANYTHING IN THIS CELL THAT IS BELOW THIS LINE\n",
    "\"\"\"\n",
    "tests.test_flatten(flatten)"
   ]
  },
  {
   "cell_type": "markdown",
   "metadata": {},
   "source": [
    "### Fully-Connected Layer\n",
    "Implement the `fully_conn` function to apply a fully connected layer to `x_tensor` with the shape (*Batch Size*, *num_outputs*). Shortcut option: you can use classes from the [TensorFlow Layers](https://www.tensorflow.org/api_docs/python/tf/layers) or [TensorFlow Layers (contrib)](https://www.tensorflow.org/api_guides/python/contrib.layers) packages for this layer. For more of a challenge, only use other TensorFlow packages."
   ]
  },
  {
   "cell_type": "code",
   "execution_count": 10,
   "metadata": {
    "collapsed": false
   },
   "outputs": [
    {
     "name": "stdout",
     "output_type": "stream",
     "text": [
      "Tests Passed\n"
     ]
    }
   ],
   "source": [
    "def fully_conn(x_tensor, num_outputs):\n",
    "    \"\"\"\n",
    "    Apply a fully connected layer to x_tensor using weight and bias\n",
    "    : x_tensor: A 2-D tensor where the first dimension is batch size.\n",
    "    : num_outputs: The number of output that the new tensor should be.\n",
    "    : return: A 2-D tensor where the second dimension is num_outputs.\n",
    "    \"\"\"\n",
    "    shape = x_tensor.get_shape().as_list()\n",
    "    weights = tf.Variable(tf.truncated_normal([shape[1], num_outputs], stddev=0.1))\n",
    "    bias = tf.Variable(tf.constant(1.0, shape=[num_outputs]))\n",
    "    \n",
    "    layer = tf.matmul(x_tensor, weights)\n",
    "    layer = tf.add(layer, bias)\n",
    "    layer = tf.nn.relu(layer)\n",
    "    return layer\n",
    "\n",
    "\"\"\"\n",
    "DON'T MODIFY ANYTHING IN THIS CELL THAT IS BELOW THIS LINE\n",
    "\"\"\"\n",
    "tests.test_fully_conn(fully_conn)"
   ]
  },
  {
   "cell_type": "markdown",
   "metadata": {},
   "source": [
    "### Output Layer\n",
    "Implement the `output` function to apply a fully connected layer to `x_tensor` with the shape (*Batch Size*, *num_outputs*). Shortcut option: you can use classes from the [TensorFlow Layers](https://www.tensorflow.org/api_docs/python/tf/layers) or [TensorFlow Layers (contrib)](https://www.tensorflow.org/api_guides/python/contrib.layers) packages for this layer. For more of a challenge, only use other TensorFlow packages.\n",
    "\n",
    "**Note:** Activation, softmax, or cross entropy should **not** be applied to this."
   ]
  },
  {
   "cell_type": "code",
   "execution_count": 11,
   "metadata": {
    "collapsed": false
   },
   "outputs": [
    {
     "name": "stdout",
     "output_type": "stream",
     "text": [
      "Tests Passed\n"
     ]
    }
   ],
   "source": [
    "def output(x_tensor, num_outputs=10):\n",
    "    \"\"\"\n",
    "    Apply a output layer to x_tensor using weight and bias\n",
    "    : x_tensor: A 2-D tensor where the first dimension is batch size.\n",
    "    : num_outputs: The number of output that the new tensor should be.\n",
    "    : return: A 2-D tensor where the second dimension is num_outputs.\n",
    "    \"\"\"\n",
    "    shape = x_tensor.get_shape().as_list()\n",
    "    weights = tf.Variable(tf.truncated_normal([shape[1], num_outputs], stddev=0.1))\n",
    "    bias = tf.Variable(tf.constant(1.0, shape=[num_outputs]))\n",
    "    \n",
    "    layer = tf.matmul(x_tensor, weights)\n",
    "    layer = tf.add(layer, bias)\n",
    "    return layer\n",
    "\n",
    "\n",
    "\"\"\"\n",
    "DON'T MODIFY ANYTHING IN THIS CELL THAT IS BELOW THIS LINE\n",
    "\"\"\"\n",
    "tests.test_output(output)"
   ]
  },
  {
   "cell_type": "markdown",
   "metadata": {},
   "source": [
    "### Create Convolutional Model\n",
    "Implement the function `conv_net` to create a convolutional neural network model. The function takes in a batch of images, `x`, and outputs logits.  Use the layers you created above to create this model:\n",
    "\n",
    "* Apply 1, 2, or 3 Convolution and Max Pool layers\n",
    "* Apply a Flatten Layer\n",
    "* Apply 1, 2, or 3 Fully Connected Layers\n",
    "* Apply an Output Layer\n",
    "* Return the output\n",
    "* Apply [TensorFlow's Dropout](https://www.tensorflow.org/api_docs/python/tf/nn/dropout) to one or more layers in the model using `keep_prob`. "
   ]
  },
  {
   "cell_type": "code",
   "execution_count": 12,
   "metadata": {
    "collapsed": false
   },
   "outputs": [
    {
     "name": "stdout",
     "output_type": "stream",
     "text": [
      "Neural Network Built!\n"
     ]
    }
   ],
   "source": [
    "def conv_net(x, keep_prob):\n",
    "    \"\"\"\n",
    "    Create a convolutional neural network model\n",
    "    : x: Placeholder tensor that holds image data.\n",
    "    : keep_prob: Placeholder tensor that hold dropout keep probability.\n",
    "    : return: Tensor that represents logits\n",
    "    \"\"\"\n",
    "    # TODO: Apply 1, 2, or 3 Convolution and Max Pool layers\n",
    "    #    Play around with different number of outputs, kernel size and stride\n",
    "    # Function Definition from Above:\n",
    "    #    conv2d_maxpool(x_tensor, conv_num_outputs, conv_ksize, conv_strides, pool_ksize, pool_strides)\n",
    "    model = conv2d_maxpool(x, conv_num_outputs=16, conv_ksize=(8,8), \n",
    "                           conv_strides=(2,2), pool_ksize=(2,2), \n",
    "                           pool_strides=(1,1))\n",
    "\n",
    "    # TODO: Apply a Flatten Layer\n",
    "    # Function Definition from Above:\n",
    "    #   flatten(x_tensor)\n",
    "    model = flatten(model)\n",
    "\n",
    "    # TODO: Apply 1, 2, or 3 Fully Connected Layers\n",
    "    #    Play around with different number of outputs\n",
    "    # Function Definition from Above:\n",
    "    #   fully_conn(x_tensor, num_outputs)\n",
    "    model = fully_conn(model, 1024)\n",
    "    model = fully_conn(model, 512)\n",
    "    model = tf.nn.dropout(model, keep_prob)\n",
    "    model = fully_conn(model, 256)\n",
    "    model = tf.nn.dropout(model, keep_prob)\n",
    "\n",
    "    # TODO: Apply an Output Layer\n",
    "    #    Set this to the number of classes\n",
    "    # Function Definition from Above:\n",
    "    #   output(x_tensor, num_outputs)\n",
    "    model = output(model, 10)\n",
    "    \n",
    "    # TODO: return output\n",
    "    return model\n",
    "\n",
    "\n",
    "\"\"\"\n",
    "DON'T MODIFY ANYTHING IN THIS CELL THAT IS BELOW THIS LINE\n",
    "\"\"\"\n",
    "\n",
    "##############################\n",
    "## Build the Neural Network ##\n",
    "##############################\n",
    "\n",
    "# Remove previous weights, bias, inputs, etc..\n",
    "tf.reset_default_graph()\n",
    "\n",
    "# Inputs\n",
    "x = neural_net_image_input((32, 32, 3))\n",
    "y = neural_net_label_input(10)\n",
    "keep_prob = neural_net_keep_prob_input()\n",
    "\n",
    "# Model\n",
    "logits = conv_net(x, keep_prob)\n",
    "\n",
    "# Name logits Tensor, so that is can be loaded from disk after training\n",
    "logits = tf.identity(logits, name='logits')\n",
    "\n",
    "# Loss and Optimizer\n",
    "cost = tf.reduce_mean(tf.nn.softmax_cross_entropy_with_logits(logits=logits, labels=y))\n",
    "optimizer = tf.train.AdamOptimizer().minimize(cost)\n",
    "\n",
    "# Accuracy\n",
    "correct_pred = tf.equal(tf.argmax(logits, 1), tf.argmax(y, 1))\n",
    "accuracy = tf.reduce_mean(tf.cast(correct_pred, tf.float32), name='accuracy')\n",
    "\n",
    "tests.test_conv_net(conv_net)"
   ]
  },
  {
   "cell_type": "markdown",
   "metadata": {},
   "source": [
    "## Train the Neural Network\n",
    "### Single Optimization\n",
    "Implement the function `train_neural_network` to do a single optimization.  The optimization should use `optimizer` to optimize in `session` with a `feed_dict` of the following:\n",
    "* `x` for image input\n",
    "* `y` for labels\n",
    "* `keep_prob` for keep probability for dropout\n",
    "\n",
    "This function will be called for each batch, so `tf.global_variables_initializer()` has already been called.\n",
    "\n",
    "Note: Nothing needs to be returned. This function is only optimizing the neural network."
   ]
  },
  {
   "cell_type": "code",
   "execution_count": 13,
   "metadata": {
    "collapsed": false
   },
   "outputs": [
    {
     "name": "stdout",
     "output_type": "stream",
     "text": [
      "Tests Passed\n"
     ]
    }
   ],
   "source": [
    "def train_neural_network(session, optimizer, keep_probability, feature_batch, label_batch):\n",
    "    \"\"\"\n",
    "    Optimize the session on a batch of images and labels\n",
    "    : session: Current TensorFlow session\n",
    "    : optimizer: TensorFlow optimizer function\n",
    "    : keep_probability: keep probability\n",
    "    : feature_batch: Batch of Numpy image data\n",
    "    : label_batch: Batch of Numpy label data\n",
    "    \"\"\"\n",
    "    feed_dict = {x:feature_batch, y:label_batch, keep_prob:keep_probability}\n",
    "    fetches = [optimizer]\n",
    "    session.run(fetches, feed_dict=feed_dict)\n",
    "\n",
    "\"\"\"\n",
    "DON'T MODIFY ANYTHING IN THIS CELL THAT IS BELOW THIS LINE\n",
    "\"\"\"\n",
    "tests.test_train_nn(train_neural_network)"
   ]
  },
  {
   "cell_type": "markdown",
   "metadata": {},
   "source": [
    "### Show Stats\n",
    "Implement the function `print_stats` to print loss and validation accuracy.  Use the global variables `valid_features` and `valid_labels` to calculate validation accuracy.  Use a keep probability of `1.0` to calculate the loss and validation accuracy."
   ]
  },
  {
   "cell_type": "code",
   "execution_count": 14,
   "metadata": {
    "collapsed": false
   },
   "outputs": [],
   "source": [
    "def print_stats(session, feature_batch, label_batch, cost, accuracy):\n",
    "    \"\"\"\n",
    "    Print information about loss and validation accuracy\n",
    "    : session: Current TensorFlow session\n",
    "    : feature_batch: Batch of Numpy image data\n",
    "    : label_batch: Batch of Numpy label data\n",
    "    : cost: TensorFlow cost function\n",
    "    : accuracy: TensorFlow accuracy function\n",
    "    \"\"\"\n",
    "    feed_dict = {x:feature_batch, y:label_batch, keep_prob:1}\n",
    "    loss, acc = session.run([cost, accuracy], feed_dict=feed_dict)\n",
    "    print('Batch loss: {:6.4f}; Batch accuracy: {:4.2f}%'.format(loss, acc*100))"
   ]
  },
  {
   "cell_type": "markdown",
   "metadata": {},
   "source": [
    "### Hyperparameters\n",
    "Tune the following parameters:\n",
    "* Set `epochs` to the number of iterations until the network stops learning or start overfitting\n",
    "* Set `batch_size` to the highest number that your machine has memory for.  Most people set them to common sizes of memory:\n",
    " * 64\n",
    " * 128\n",
    " * 256\n",
    " * ...\n",
    "* Set `keep_probability` to the probability of keeping a node using dropout"
   ]
  },
  {
   "cell_type": "code",
   "execution_count": 15,
   "metadata": {
    "collapsed": true
   },
   "outputs": [],
   "source": [
    "# TODO: Tune Parameters\n",
    "epochs = 30\n",
    "batch_size = 512\n",
    "keep_probability = 0.5"
   ]
  },
  {
   "cell_type": "markdown",
   "metadata": {},
   "source": [
    "### Train on a Single CIFAR-10 Batch\n",
    "Instead of training the neural network on all the CIFAR-10 batches of data, let's use a single batch. This should save time while you iterate on the model to get a better accuracy.  Once the final validation accuracy is 50% or greater, run the model on all the data in the next section."
   ]
  },
  {
   "cell_type": "code",
   "execution_count": 16,
   "metadata": {
    "collapsed": false,
    "scrolled": false
   },
   "outputs": [
    {
     "name": "stdout",
     "output_type": "stream",
     "text": [
      "Checking the Training on a Single Batch...\n",
      "Epoch  1, CIFAR-10 Batch 1:  Batch loss: 2.2489; Batch accuracy: 19.59%\n",
      "Epoch  2, CIFAR-10 Batch 1:  Batch loss: 2.1468; Batch accuracy: 18.92%\n",
      "Epoch  3, CIFAR-10 Batch 1:  Batch loss: 2.0348; Batch accuracy: 25.68%\n",
      "Epoch  4, CIFAR-10 Batch 1:  Batch loss: 2.0033; Batch accuracy: 26.01%\n",
      "Epoch  5, CIFAR-10 Batch 1:  Batch loss: 1.9790; Batch accuracy: 29.05%\n",
      "Epoch  6, CIFAR-10 Batch 1:  Batch loss: 1.9076; Batch accuracy: 32.77%\n",
      "Epoch  7, CIFAR-10 Batch 1:  Batch loss: 1.9323; Batch accuracy: 31.08%\n",
      "Epoch  8, CIFAR-10 Batch 1:  Batch loss: 1.9058; Batch accuracy: 29.39%\n",
      "Epoch  9, CIFAR-10 Batch 1:  Batch loss: 1.8754; Batch accuracy: 31.76%\n",
      "Epoch 10, CIFAR-10 Batch 1:  Batch loss: 1.8581; Batch accuracy: 34.12%\n",
      "Epoch 11, CIFAR-10 Batch 1:  Batch loss: 1.8338; Batch accuracy: 35.47%\n",
      "Epoch 12, CIFAR-10 Batch 1:  Batch loss: 1.8018; Batch accuracy: 37.16%\n",
      "Epoch 13, CIFAR-10 Batch 1:  Batch loss: 1.7669; Batch accuracy: 36.15%\n",
      "Epoch 14, CIFAR-10 Batch 1:  Batch loss: 1.7815; Batch accuracy: 39.86%\n",
      "Epoch 15, CIFAR-10 Batch 1:  Batch loss: 1.7630; Batch accuracy: 37.50%\n",
      "Epoch 16, CIFAR-10 Batch 1:  Batch loss: 1.7361; Batch accuracy: 38.51%\n",
      "Epoch 17, CIFAR-10 Batch 1:  Batch loss: 1.7121; Batch accuracy: 41.55%\n",
      "Epoch 18, CIFAR-10 Batch 1:  Batch loss: 1.6788; Batch accuracy: 42.23%\n",
      "Epoch 19, CIFAR-10 Batch 1:  Batch loss: 1.6621; Batch accuracy: 41.89%\n",
      "Epoch 20, CIFAR-10 Batch 1:  Batch loss: 1.6298; Batch accuracy: 43.24%\n",
      "Epoch 21, CIFAR-10 Batch 1:  Batch loss: 1.6526; Batch accuracy: 44.26%\n",
      "Epoch 22, CIFAR-10 Batch 1:  Batch loss: 1.6178; Batch accuracy: 48.31%\n",
      "Epoch 23, CIFAR-10 Batch 1:  Batch loss: 1.6353; Batch accuracy: 44.93%\n",
      "Epoch 24, CIFAR-10 Batch 1:  Batch loss: 1.6016; Batch accuracy: 46.96%\n",
      "Epoch 25, CIFAR-10 Batch 1:  Batch loss: 1.5723; Batch accuracy: 48.65%\n",
      "Epoch 26, CIFAR-10 Batch 1:  Batch loss: 1.5195; Batch accuracy: 50.00%\n",
      "Epoch 27, CIFAR-10 Batch 1:  Batch loss: 1.4816; Batch accuracy: 52.36%\n",
      "Epoch 28, CIFAR-10 Batch 1:  Batch loss: 1.5058; Batch accuracy: 50.34%\n",
      "Epoch 29, CIFAR-10 Batch 1:  Batch loss: 1.4610; Batch accuracy: 54.05%\n",
      "Epoch 30, CIFAR-10 Batch 1:  Batch loss: 1.4197; Batch accuracy: 52.70%\n"
     ]
    }
   ],
   "source": [
    "\"\"\"\n",
    "DON'T MODIFY ANYTHING IN THIS CELL\n",
    "\"\"\"\n",
    "print('Checking the Training on a Single Batch...')\n",
    "with tf.Session() as sess:\n",
    "    # Initializing the variables\n",
    "    sess.run(tf.global_variables_initializer())\n",
    "    \n",
    "    # Training cycle\n",
    "    for epoch in range(epochs):\n",
    "        batch_i = 1\n",
    "        for batch_features, batch_labels in helper.load_preprocess_training_batch(batch_i, batch_size):\n",
    "            train_neural_network(sess, optimizer, keep_probability, batch_features, batch_labels)\n",
    "        print('Epoch {:>2}, CIFAR-10 Batch {}:  '.format(epoch + 1, batch_i), end='')\n",
    "        print_stats(sess, batch_features, batch_labels, cost, accuracy)"
   ]
  },
  {
   "cell_type": "markdown",
   "metadata": {},
   "source": [
    "### Fully Train the Model\n",
    "Now that you got a good accuracy with a single CIFAR-10 batch, try it with all five batches."
   ]
  },
  {
   "cell_type": "code",
   "execution_count": 17,
   "metadata": {
    "collapsed": false,
    "scrolled": false
   },
   "outputs": [
    {
     "name": "stdout",
     "output_type": "stream",
     "text": [
      "Training...\n",
      "Epoch  1, CIFAR-10 Batch 1:  Batch loss: 2.2006; Batch accuracy: 20.27%\n",
      "Epoch  1, CIFAR-10 Batch 2:  Batch loss: 2.0338; Batch accuracy: 22.97%\n",
      "Epoch  1, CIFAR-10 Batch 3:  Batch loss: 1.9557; Batch accuracy: 30.74%\n",
      "Epoch  1, CIFAR-10 Batch 4:  Batch loss: 1.8779; Batch accuracy: 34.12%\n",
      "Epoch  1, CIFAR-10 Batch 5:  Batch loss: 1.9711; Batch accuracy: 31.42%\n",
      "Epoch  2, CIFAR-10 Batch 1:  Batch loss: 1.9209; Batch accuracy: 32.43%\n",
      "Epoch  2, CIFAR-10 Batch 2:  Batch loss: 1.8273; Batch accuracy: 35.14%\n",
      "Epoch  2, CIFAR-10 Batch 3:  Batch loss: 1.8376; Batch accuracy: 36.82%\n",
      "Epoch  2, CIFAR-10 Batch 4:  Batch loss: 1.7566; Batch accuracy: 37.84%\n",
      "Epoch  2, CIFAR-10 Batch 5:  Batch loss: 1.8939; Batch accuracy: 35.47%\n",
      "Epoch  3, CIFAR-10 Batch 1:  Batch loss: 1.8835; Batch accuracy: 33.45%\n",
      "Epoch  3, CIFAR-10 Batch 2:  Batch loss: 1.7848; Batch accuracy: 42.23%\n",
      "Epoch  3, CIFAR-10 Batch 3:  Batch loss: 1.7926; Batch accuracy: 40.54%\n",
      "Epoch  3, CIFAR-10 Batch 4:  Batch loss: 1.7213; Batch accuracy: 40.54%\n",
      "Epoch  3, CIFAR-10 Batch 5:  Batch loss: 1.8054; Batch accuracy: 37.50%\n",
      "Epoch  4, CIFAR-10 Batch 1:  Batch loss: 1.8368; Batch accuracy: 34.46%\n",
      "Epoch  4, CIFAR-10 Batch 2:  Batch loss: 1.7282; Batch accuracy: 44.26%\n",
      "Epoch  4, CIFAR-10 Batch 3:  Batch loss: 1.7175; Batch accuracy: 42.91%\n",
      "Epoch  4, CIFAR-10 Batch 4:  Batch loss: 1.6529; Batch accuracy: 41.22%\n",
      "Epoch  4, CIFAR-10 Batch 5:  Batch loss: 1.7889; Batch accuracy: 38.85%\n",
      "Epoch  5, CIFAR-10 Batch 1:  Batch loss: 1.7788; Batch accuracy: 35.81%\n",
      "Epoch  5, CIFAR-10 Batch 2:  Batch loss: 1.6718; Batch accuracy: 44.59%\n",
      "Epoch  5, CIFAR-10 Batch 3:  Batch loss: 1.6631; Batch accuracy: 44.93%\n",
      "Epoch  5, CIFAR-10 Batch 4:  Batch loss: 1.6461; Batch accuracy: 43.24%\n",
      "Epoch  5, CIFAR-10 Batch 5:  Batch loss: 1.7197; Batch accuracy: 41.55%\n",
      "Epoch  6, CIFAR-10 Batch 1:  Batch loss: 1.7484; Batch accuracy: 38.18%\n",
      "Epoch  6, CIFAR-10 Batch 2:  Batch loss: 1.6492; Batch accuracy: 45.61%\n",
      "Epoch  6, CIFAR-10 Batch 3:  Batch loss: 1.5527; Batch accuracy: 48.31%\n",
      "Epoch  6, CIFAR-10 Batch 4:  Batch loss: 1.5254; Batch accuracy: 47.30%\n",
      "Epoch  6, CIFAR-10 Batch 5:  Batch loss: 1.6476; Batch accuracy: 42.57%\n",
      "Epoch  7, CIFAR-10 Batch 1:  Batch loss: 1.6951; Batch accuracy: 39.19%\n",
      "Epoch  7, CIFAR-10 Batch 2:  Batch loss: 1.6024; Batch accuracy: 46.28%\n",
      "Epoch  7, CIFAR-10 Batch 3:  Batch loss: 1.4823; Batch accuracy: 48.31%\n",
      "Epoch  7, CIFAR-10 Batch 4:  Batch loss: 1.4728; Batch accuracy: 51.01%\n",
      "Epoch  7, CIFAR-10 Batch 5:  Batch loss: 1.5859; Batch accuracy: 44.59%\n",
      "Epoch  8, CIFAR-10 Batch 1:  Batch loss: 1.6278; Batch accuracy: 41.22%\n",
      "Epoch  8, CIFAR-10 Batch 2:  Batch loss: 1.5922; Batch accuracy: 43.92%\n",
      "Epoch  8, CIFAR-10 Batch 3:  Batch loss: 1.4625; Batch accuracy: 52.03%\n",
      "Epoch  8, CIFAR-10 Batch 4:  Batch loss: 1.4240; Batch accuracy: 51.35%\n",
      "Epoch  8, CIFAR-10 Batch 5:  Batch loss: 1.5327; Batch accuracy: 46.96%\n",
      "Epoch  9, CIFAR-10 Batch 1:  Batch loss: 1.5902; Batch accuracy: 41.55%\n",
      "Epoch  9, CIFAR-10 Batch 2:  Batch loss: 1.5225; Batch accuracy: 46.62%\n",
      "Epoch  9, CIFAR-10 Batch 3:  Batch loss: 1.4102; Batch accuracy: 51.01%\n",
      "Epoch  9, CIFAR-10 Batch 4:  Batch loss: 1.3973; Batch accuracy: 53.04%\n",
      "Epoch  9, CIFAR-10 Batch 5:  Batch loss: 1.4995; Batch accuracy: 46.96%\n",
      "Epoch 10, CIFAR-10 Batch 1:  Batch loss: 1.5470; Batch accuracy: 41.89%\n",
      "Epoch 10, CIFAR-10 Batch 2:  Batch loss: 1.4831; Batch accuracy: 48.31%\n",
      "Epoch 10, CIFAR-10 Batch 3:  Batch loss: 1.3717; Batch accuracy: 54.05%\n",
      "Epoch 10, CIFAR-10 Batch 4:  Batch loss: 1.3427; Batch accuracy: 53.38%\n",
      "Epoch 10, CIFAR-10 Batch 5:  Batch loss: 1.4557; Batch accuracy: 48.99%\n",
      "Epoch 11, CIFAR-10 Batch 1:  Batch loss: 1.5185; Batch accuracy: 42.91%\n",
      "Epoch 11, CIFAR-10 Batch 2:  Batch loss: 1.4309; Batch accuracy: 51.01%\n",
      "Epoch 11, CIFAR-10 Batch 3:  Batch loss: 1.3274; Batch accuracy: 55.41%\n",
      "Epoch 11, CIFAR-10 Batch 4:  Batch loss: 1.3413; Batch accuracy: 52.70%\n",
      "Epoch 11, CIFAR-10 Batch 5:  Batch loss: 1.4123; Batch accuracy: 50.34%\n",
      "Epoch 12, CIFAR-10 Batch 1:  Batch loss: 1.4566; Batch accuracy: 47.30%\n",
      "Epoch 12, CIFAR-10 Batch 2:  Batch loss: 1.4022; Batch accuracy: 52.03%\n",
      "Epoch 12, CIFAR-10 Batch 3:  Batch loss: 1.2664; Batch accuracy: 55.74%\n",
      "Epoch 12, CIFAR-10 Batch 4:  Batch loss: 1.3061; Batch accuracy: 52.03%\n",
      "Epoch 12, CIFAR-10 Batch 5:  Batch loss: 1.3594; Batch accuracy: 51.35%\n",
      "Epoch 13, CIFAR-10 Batch 1:  Batch loss: 1.4108; Batch accuracy: 46.62%\n",
      "Epoch 13, CIFAR-10 Batch 2:  Batch loss: 1.3558; Batch accuracy: 56.76%\n",
      "Epoch 13, CIFAR-10 Batch 3:  Batch loss: 1.2406; Batch accuracy: 57.43%\n",
      "Epoch 13, CIFAR-10 Batch 4:  Batch loss: 1.2598; Batch accuracy: 54.39%\n",
      "Epoch 13, CIFAR-10 Batch 5:  Batch loss: 1.3570; Batch accuracy: 54.05%\n",
      "Epoch 14, CIFAR-10 Batch 1:  Batch loss: 1.3947; Batch accuracy: 49.32%\n",
      "Epoch 14, CIFAR-10 Batch 2:  Batch loss: 1.3204; Batch accuracy: 56.42%\n",
      "Epoch 14, CIFAR-10 Batch 3:  Batch loss: 1.2164; Batch accuracy: 57.77%\n",
      "Epoch 14, CIFAR-10 Batch 4:  Batch loss: 1.2233; Batch accuracy: 57.43%\n",
      "Epoch 14, CIFAR-10 Batch 5:  Batch loss: 1.3057; Batch accuracy: 52.70%\n",
      "Epoch 15, CIFAR-10 Batch 1:  Batch loss: 1.3472; Batch accuracy: 51.69%\n",
      "Epoch 15, CIFAR-10 Batch 2:  Batch loss: 1.2642; Batch accuracy: 59.46%\n",
      "Epoch 15, CIFAR-10 Batch 3:  Batch loss: 1.1671; Batch accuracy: 59.12%\n",
      "Epoch 15, CIFAR-10 Batch 4:  Batch loss: 1.1782; Batch accuracy: 59.46%\n",
      "Epoch 15, CIFAR-10 Batch 5:  Batch loss: 1.2762; Batch accuracy: 55.74%\n",
      "Epoch 16, CIFAR-10 Batch 1:  Batch loss: 1.2960; Batch accuracy: 54.05%\n",
      "Epoch 16, CIFAR-10 Batch 2:  Batch loss: 1.2843; Batch accuracy: 57.43%\n",
      "Epoch 16, CIFAR-10 Batch 3:  Batch loss: 1.1302; Batch accuracy: 60.81%\n",
      "Epoch 16, CIFAR-10 Batch 4:  Batch loss: 1.1387; Batch accuracy: 63.51%\n",
      "Epoch 16, CIFAR-10 Batch 5:  Batch loss: 1.2382; Batch accuracy: 55.07%\n",
      "Epoch 17, CIFAR-10 Batch 1:  Batch loss: 1.2393; Batch accuracy: 55.74%\n",
      "Epoch 17, CIFAR-10 Batch 2:  Batch loss: 1.1683; Batch accuracy: 61.15%\n",
      "Epoch 17, CIFAR-10 Batch 3:  Batch loss: 1.1090; Batch accuracy: 59.46%\n",
      "Epoch 17, CIFAR-10 Batch 4:  Batch loss: 1.0921; Batch accuracy: 62.84%\n",
      "Epoch 17, CIFAR-10 Batch 5:  Batch loss: 1.1798; Batch accuracy: 58.11%\n",
      "Epoch 18, CIFAR-10 Batch 1:  Batch loss: 1.2073; Batch accuracy: 57.43%\n",
      "Epoch 18, CIFAR-10 Batch 2:  Batch loss: 1.1613; Batch accuracy: 60.14%\n",
      "Epoch 18, CIFAR-10 Batch 3:  Batch loss: 1.0467; Batch accuracy: 64.53%\n",
      "Epoch 18, CIFAR-10 Batch 4:  Batch loss: 1.0340; Batch accuracy: 67.91%\n",
      "Epoch 18, CIFAR-10 Batch 5:  Batch loss: 1.1085; Batch accuracy: 61.15%\n",
      "Epoch 19, CIFAR-10 Batch 1:  Batch loss: 1.1802; Batch accuracy: 57.09%\n",
      "Epoch 19, CIFAR-10 Batch 2:  Batch loss: 1.0983; Batch accuracy: 65.20%\n",
      "Epoch 19, CIFAR-10 Batch 3:  Batch loss: 1.0342; Batch accuracy: 61.82%\n",
      "Epoch 19, CIFAR-10 Batch 4:  Batch loss: 1.0120; Batch accuracy: 64.53%\n",
      "Epoch 19, CIFAR-10 Batch 5:  Batch loss: 1.0766; Batch accuracy: 62.50%\n",
      "Epoch 20, CIFAR-10 Batch 1:  Batch loss: 1.1242; Batch accuracy: 60.81%\n",
      "Epoch 20, CIFAR-10 Batch 2:  Batch loss: 1.0622; Batch accuracy: 66.22%\n",
      "Epoch 20, CIFAR-10 Batch 3:  Batch loss: 0.9819; Batch accuracy: 65.54%\n",
      "Epoch 20, CIFAR-10 Batch 4:  Batch loss: 0.9625; Batch accuracy: 70.27%\n",
      "Epoch 20, CIFAR-10 Batch 5:  Batch loss: 1.0581; Batch accuracy: 63.51%\n",
      "Epoch 21, CIFAR-10 Batch 1:  Batch loss: 1.0384; Batch accuracy: 64.53%\n",
      "Epoch 21, CIFAR-10 Batch 2:  Batch loss: 0.9911; Batch accuracy: 68.92%\n",
      "Epoch 21, CIFAR-10 Batch 3:  Batch loss: 0.9429; Batch accuracy: 65.54%\n",
      "Epoch 21, CIFAR-10 Batch 4:  Batch loss: 0.9214; Batch accuracy: 71.96%\n",
      "Epoch 21, CIFAR-10 Batch 5:  Batch loss: 1.0218; Batch accuracy: 65.88%\n",
      "Epoch 22, CIFAR-10 Batch 1:  Batch loss: 1.0186; Batch accuracy: 64.86%\n",
      "Epoch 22, CIFAR-10 Batch 2:  Batch loss: 0.9644; Batch accuracy: 68.58%\n",
      "Epoch 22, CIFAR-10 Batch 3:  Batch loss: 0.9046; Batch accuracy: 68.24%\n",
      "Epoch 22, CIFAR-10 Batch 4:  Batch loss: 0.8871; Batch accuracy: 72.64%\n",
      "Epoch 22, CIFAR-10 Batch 5:  Batch loss: 0.9575; Batch accuracy: 64.53%\n",
      "Epoch 23, CIFAR-10 Batch 1:  Batch loss: 0.9591; Batch accuracy: 68.58%\n",
      "Epoch 23, CIFAR-10 Batch 2:  Batch loss: 0.9006; Batch accuracy: 69.59%\n",
      "Epoch 23, CIFAR-10 Batch 3:  Batch loss: 0.8540; Batch accuracy: 69.26%\n",
      "Epoch 23, CIFAR-10 Batch 4:  Batch loss: 0.8377; Batch accuracy: 73.31%\n",
      "Epoch 23, CIFAR-10 Batch 5:  Batch loss: 0.8900; Batch accuracy: 69.59%\n",
      "Epoch 24, CIFAR-10 Batch 1:  Batch loss: 0.9473; Batch accuracy: 70.27%\n",
      "Epoch 24, CIFAR-10 Batch 2:  Batch loss: 0.8833; Batch accuracy: 70.95%\n",
      "Epoch 24, CIFAR-10 Batch 3:  Batch loss: 0.8272; Batch accuracy: 69.93%\n",
      "Epoch 24, CIFAR-10 Batch 4:  Batch loss: 0.7922; Batch accuracy: 75.00%\n",
      "Epoch 24, CIFAR-10 Batch 5:  Batch loss: 0.8788; Batch accuracy: 71.28%\n",
      "Epoch 25, CIFAR-10 Batch 1:  Batch loss: 0.8745; Batch accuracy: 74.32%\n",
      "Epoch 25, CIFAR-10 Batch 2:  Batch loss: 0.8187; Batch accuracy: 74.66%\n",
      "Epoch 25, CIFAR-10 Batch 3:  Batch loss: 0.7880; Batch accuracy: 71.62%\n",
      "Epoch 25, CIFAR-10 Batch 4:  Batch loss: 0.7389; Batch accuracy: 77.36%\n",
      "Epoch 25, CIFAR-10 Batch 5:  Batch loss: 0.8326; Batch accuracy: 71.62%\n",
      "Epoch 26, CIFAR-10 Batch 1:  Batch loss: 0.8331; Batch accuracy: 72.97%\n",
      "Epoch 26, CIFAR-10 Batch 2:  Batch loss: 0.7752; Batch accuracy: 75.68%\n",
      "Epoch 26, CIFAR-10 Batch 3:  Batch loss: 0.7486; Batch accuracy: 73.99%\n",
      "Epoch 26, CIFAR-10 Batch 4:  Batch loss: 0.6998; Batch accuracy: 80.07%\n",
      "Epoch 26, CIFAR-10 Batch 5:  Batch loss: 0.8011; Batch accuracy: 73.65%\n",
      "Epoch 27, CIFAR-10 Batch 1:  Batch loss: 0.8080; Batch accuracy: 73.65%\n",
      "Epoch 27, CIFAR-10 Batch 2:  Batch loss: 0.7481; Batch accuracy: 76.01%\n",
      "Epoch 27, CIFAR-10 Batch 3:  Batch loss: 0.7401; Batch accuracy: 72.64%\n",
      "Epoch 27, CIFAR-10 Batch 4:  Batch loss: 0.6692; Batch accuracy: 80.07%\n",
      "Epoch 27, CIFAR-10 Batch 5:  Batch loss: 0.7351; Batch accuracy: 77.70%\n",
      "Epoch 28, CIFAR-10 Batch 1:  Batch loss: 0.7846; Batch accuracy: 72.97%\n",
      "Epoch 28, CIFAR-10 Batch 2:  Batch loss: 0.7459; Batch accuracy: 73.31%\n",
      "Epoch 28, CIFAR-10 Batch 3:  Batch loss: 0.6575; Batch accuracy: 78.38%\n",
      "Epoch 28, CIFAR-10 Batch 4:  Batch loss: 0.6436; Batch accuracy: 79.39%\n",
      "Epoch 28, CIFAR-10 Batch 5:  Batch loss: 0.7072; Batch accuracy: 77.03%\n",
      "Epoch 29, CIFAR-10 Batch 1:  Batch loss: 0.7140; Batch accuracy: 76.35%\n",
      "Epoch 29, CIFAR-10 Batch 2:  Batch loss: 0.6766; Batch accuracy: 75.68%\n",
      "Epoch 29, CIFAR-10 Batch 3:  Batch loss: 0.6236; Batch accuracy: 79.05%\n",
      "Epoch 29, CIFAR-10 Batch 4:  Batch loss: 0.5999; Batch accuracy: 82.43%\n",
      "Epoch 29, CIFAR-10 Batch 5:  Batch loss: 0.6643; Batch accuracy: 78.38%\n",
      "Epoch 30, CIFAR-10 Batch 1:  Batch loss: 0.6391; Batch accuracy: 79.73%\n",
      "Epoch 30, CIFAR-10 Batch 2:  Batch loss: 0.6470; Batch accuracy: 79.05%\n",
      "Epoch 30, CIFAR-10 Batch 3:  Batch loss: 0.6089; Batch accuracy: 79.39%\n",
      "Epoch 30, CIFAR-10 Batch 4:  Batch loss: 0.5496; Batch accuracy: 83.45%\n",
      "Epoch 30, CIFAR-10 Batch 5:  Batch loss: 0.6462; Batch accuracy: 78.72%\n"
     ]
    }
   ],
   "source": [
    "\"\"\"\n",
    "DON'T MODIFY ANYTHING IN THIS CELL\n",
    "\"\"\"\n",
    "save_model_path = './image_classification'\n",
    "\n",
    "print('Training...')\n",
    "with tf.Session() as sess:\n",
    "    # Initializing the variables\n",
    "    sess.run(tf.global_variables_initializer())\n",
    "    \n",
    "    # Training cycle\n",
    "    for epoch in range(epochs):\n",
    "        # Loop over all batches\n",
    "        n_batches = 5\n",
    "        for batch_i in range(1, n_batches + 1):\n",
    "            for batch_features, batch_labels in helper.load_preprocess_training_batch(batch_i, batch_size):\n",
    "                train_neural_network(sess, optimizer, keep_probability, batch_features, batch_labels)\n",
    "            print('Epoch {:>2}, CIFAR-10 Batch {}:  '.format(epoch + 1, batch_i), end='')\n",
    "            print_stats(sess, batch_features, batch_labels, cost, accuracy)\n",
    "            \n",
    "    # Save Model\n",
    "    saver = tf.train.Saver()\n",
    "    save_path = saver.save(sess, save_model_path)"
   ]
  },
  {
   "cell_type": "markdown",
   "metadata": {},
   "source": [
    "# Checkpoint\n",
    "The model has been saved to disk.\n",
    "## Test Model\n",
    "Test your model against the test dataset.  This will be your final accuracy. You should have an accuracy greater than 50%. If you don't, keep tweaking the model architecture and parameters."
   ]
  },
  {
   "cell_type": "code",
   "execution_count": 18,
   "metadata": {
    "collapsed": false
   },
   "outputs": [
    {
     "name": "stdout",
     "output_type": "stream",
     "text": [
      "Testing Accuracy: 0.5494542747735978\n",
      "\n"
     ]
    },
    {
     "data": {
      "image/png": "[encoded data removed]",
      "text/plain": [
       "<matplotlib.figure.Figure at 0x1f665a476a0>"
      ]
     },
     "metadata": {
      "image/png": {
       "height": 319,
       "width": 355
      }
     },
     "output_type": "display_data"
    }
   ],
   "source": [
    "\"\"\"\n",
    "DON'T MODIFY ANYTHING IN THIS CELL\n",
    "\"\"\"\n",
    "%matplotlib inline\n",
    "%config InlineBackend.figure_format = 'retina'\n",
    "\n",
    "import tensorflow as tf\n",
    "import pickle\n",
    "import helper\n",
    "import random\n",
    "\n",
    "# Set batch size if not already set\n",
    "try:\n",
    "    if batch_size:\n",
    "        pass\n",
    "except NameError:\n",
    "    batch_size = 64\n",
    "\n",
    "save_model_path = './image_classification'\n",
    "n_samples = 4\n",
    "top_n_predictions = 3\n",
    "\n",
    "def test_model():\n",
    "    \"\"\"\n",
    "    Test the saved model against the test dataset\n",
    "    \"\"\"\n",
    "\n",
    "    test_features, test_labels = pickle.load(open('preprocess_training.p', mode='rb'))\n",
    "    loaded_graph = tf.Graph()\n",
    "\n",
    "    with tf.Session(graph=loaded_graph) as sess:\n",
    "        # Load model\n",
    "        loader = tf.train.import_meta_graph(save_model_path + '.meta')\n",
    "        loader.restore(sess, save_model_path)\n",
    "\n",
    "        # Get Tensors from loaded model\n",
    "        loaded_x = loaded_graph.get_tensor_by_name('x:0')\n",
    "        loaded_y = loaded_graph.get_tensor_by_name('y:0')\n",
    "        loaded_keep_prob = loaded_graph.get_tensor_by_name('keep_prob:0')\n",
    "        loaded_logits = loaded_graph.get_tensor_by_name('logits:0')\n",
    "        loaded_acc = loaded_graph.get_tensor_by_name('accuracy:0')\n",
    "        \n",
    "        # Get accuracy in batches for memory limitations\n",
    "        test_batch_acc_total = 0\n",
    "        test_batch_count = 0\n",
    "        \n",
    "        for train_feature_batch, train_label_batch in helper.batch_features_labels(test_features, test_labels, batch_size):\n",
    "            test_batch_acc_total += sess.run(\n",
    "                loaded_acc,\n",
    "                feed_dict={loaded_x: train_feature_batch, loaded_y: train_label_batch, loaded_keep_prob: 1.0})\n",
    "            test_batch_count += 1\n",
    "\n",
    "        print('Testing Accuracy: {}\\n'.format(test_batch_acc_total/test_batch_count))\n",
    "\n",
    "        # Print Random Samples\n",
    "        random_test_features, random_test_labels = tuple(zip(*random.sample(list(zip(test_features, test_labels)), n_samples)))\n",
    "        random_test_predictions = sess.run(\n",
    "            tf.nn.top_k(tf.nn.softmax(loaded_logits), top_n_predictions),\n",
    "            feed_dict={loaded_x: random_test_features, loaded_y: random_test_labels, loaded_keep_prob: 1.0})\n",
    "        helper.display_image_predictions(random_test_features, random_test_labels, random_test_predictions)\n",
    "\n",
    "\n",
    "test_model()"
   ]
  },
  {
   "cell_type": "markdown",
   "metadata": {},
   "source": [
    "## Why 50-70% Accuracy?\n",
    "You might be wondering why you can't get an accuracy any higher. First things first, 50% isn't bad for a simple CNN.  Pure guessing would get you 10% accuracy. However, you might notice people are getting scores [well above 70%](http://rodrigob.github.io/are_we_there_yet/build/classification_datasets_results.html#43494641522d3130).  That's because we haven't taught you all there is to know about neural networks. We still need to cover a few more techniques.\n",
    "## Submitting This Project\n",
    "When submitting this project, make sure to run all the cells before saving the notebook.  Save the notebook file as \"dlnd_image_classification.ipynb\" and save it as a HTML file under \"File\" -> \"Download as\".  Include the \"helper.py\" and \"problem_unittests.py\" files in your submission."
   ]
  }
 ],
 "metadata": {
  "kernelspec": {
   "display_name": "Python 3",
   "language": "python",
   "name": "python3"
  },
  "language_info": {
   "codemirror_mode": {
    "name": "ipython",
    "version": 3
   },
   "file_extension": ".py",
   "mimetype": "text/x-python",
   "name": "python",
   "nbconvert_exporter": "python",
   "pygments_lexer": "ipython3",
   "version": "3.5.3"
  }
 },
 "nbformat": 4,
 "nbformat_minor": 0
}
