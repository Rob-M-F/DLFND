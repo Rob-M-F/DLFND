{
 "cells": [
  {
   "cell_type": "markdown",
   "metadata": {
    "collapsed": true
   },
   "source": [
    "# Image Classification\n",
    "In this project, you'll classify images from the [CIFAR-10 dataset](https://www.cs.toronto.edu/~kriz/cifar.html).  The dataset consists of airplanes, dogs, cats, and other objects. You'll preprocess the images, then train a convolutional neural network on all the samples. The images need to be normalized and the labels need to be one-hot encoded.  You'll get to apply what you learned and build a convolutional, max pooling, dropout, and fully connected layers.  At the end, you'll get to see your neural network's predictions on the sample images.\n",
    "## Get the Data\n",
    "Run the following cell to download the [CIFAR-10 dataset for python](https://www.cs.toronto.edu/~kriz/cifar-10-python.tar.gz)."
   ]
  },
  {
   "cell_type": "code",
   "execution_count": 1,
   "metadata": {
    "collapsed": false
   },
   "outputs": [
    {
     "name": "stdout",
     "output_type": "stream",
     "text": [
      "All files found!\n"
     ]
    }
   ],
   "source": [
    "\"\"\"\n",
    "DON'T MODIFY ANYTHING IN THIS CELL THAT IS BELOW THIS LINE\n",
    "\"\"\"\n",
    "from urllib.request import urlretrieve\n",
    "from os.path import isfile, isdir\n",
    "from tqdm import tqdm\n",
    "import problem_unittests as tests\n",
    "import tarfile\n",
    "\n",
    "cifar10_dataset_folder_path = 'cifar-10-batches-py'\n",
    "\n",
    "class DLProgress(tqdm):\n",
    "    last_block = 0\n",
    "\n",
    "    def hook(self, block_num=1, block_size=1, total_size=None):\n",
    "        self.total = total_size\n",
    "        self.update((block_num - self.last_block) * block_size)\n",
    "        self.last_block = block_num\n",
    "\n",
    "if not isfile('cifar-10-python.tar.gz'):\n",
    "    with DLProgress(unit='B', unit_scale=True, miniters=1, desc='CIFAR-10 Dataset') as pbar:\n",
    "        urlretrieve(\n",
    "            'https://www.cs.toronto.edu/~kriz/cifar-10-python.tar.gz',\n",
    "            'cifar-10-python.tar.gz',\n",
    "            pbar.hook)\n",
    "\n",
    "if not isdir(cifar10_dataset_folder_path):\n",
    "    with tarfile.open('cifar-10-python.tar.gz') as tar:\n",
    "        tar.extractall()\n",
    "        tar.close()\n",
    "\n",
    "\n",
    "tests.test_folder_path(cifar10_dataset_folder_path)"
   ]
  },
  {
   "cell_type": "markdown",
   "metadata": {},
   "source": [
    "## Explore the Data\n",
    "The dataset is broken into batches to prevent your machine from running out of memory.  The CIFAR-10 dataset consists of 5 batches, named `data_batch_1`, `data_batch_2`, etc.. Each batch contains the labels and images that are one of the following:\n",
    "* airplane\n",
    "* automobile\n",
    "* bird\n",
    "* cat\n",
    "* deer\n",
    "* dog\n",
    "* frog\n",
    "* horse\n",
    "* ship\n",
    "* truck\n",
    "\n",
    "Understanding a dataset is part of making predictions on the data.  Play around with the code cell below by changing the `batch_id` and `sample_id`. The `batch_id` is the id for a batch (1-5). The `sample_id` is the id for a image and label pair in the batch.\n",
    "\n",
    "Ask yourself \"What are all possible labels?\", \"What is the range of values for the image data?\", \"Are the labels in order or random?\".  Answers to questions like these will help you preprocess the data and end up with better predictions."
   ]
  },
  {
   "cell_type": "code",
   "execution_count": 2,
   "metadata": {
    "collapsed": false
   },
   "outputs": [
    {
     "name": "stdout",
     "output_type": "stream",
     "text": [
      "\n",
      "Stats of batch 1:\n",
      "Samples: 10000\n",
      "Label Counts: {0: 1005, 1: 974, 2: 1032, 3: 1016, 4: 999, 5: 937, 6: 1030, 7: 1001, 8: 1025, 9: 981}\n",
      "First 20 Labels: [6, 9, 9, 4, 1, 1, 2, 7, 8, 3, 4, 7, 7, 2, 9, 9, 9, 3, 2, 6]\n",
      "\n",
      "Example of Image 5:\n",
      "Image - Min Value: 0 Max Value: 252\n",
      "Image - Shape: (32, 32, 3)\n",
      "Label - Label Id: 1 Name: automobile\n"
     ]
    },
    {
     "data": {
      "image/png": "[encoded data removed]",
      "text/plain": [
       "<matplotlib.figure.Figure at 0x2b428ffac50>"
      ]
     },
     "metadata": {
      "image/png": {
       "height": 250,
       "width": 253
      }
     },
     "output_type": "display_data"
    }
   ],
   "source": [
    "%matplotlib inline\n",
    "%config InlineBackend.figure_format = 'retina'\n",
    "\n",
    "import helper\n",
    "import numpy as np\n",
    "\n",
    "# Explore the dataset\n",
    "batch_id = 1\n",
    "sample_id = 5\n",
    "helper.display_stats(cifar10_dataset_folder_path, batch_id, sample_id)"
   ]
  },
  {
   "cell_type": "markdown",
   "metadata": {},
   "source": [
    "## Implement Preprocess Functions\n",
    "### Normalize\n",
    "In the cell below, implement the `normalize` function to take in image data, `x`, and return it as a normalized Numpy array. The values should be in the range of 0 to 1, inclusive.  The return object should be the same shape as `x`."
   ]
  },
  {
   "cell_type": "code",
   "execution_count": 3,
   "metadata": {
    "collapsed": false
   },
   "outputs": [
    {
     "name": "stdout",
     "output_type": "stream",
     "text": [
      "Tests Passed\n"
     ]
    }
   ],
   "source": [
    "def normalize(x):\n",
    "    \"\"\"\n",
    "    Normalize a list of sample image data in the range of 0 to 1\n",
    "    : x: List of image data.  The image shape is (32, 32, 3)\n",
    "    : return: Numpy array of normalize data\n",
    "    \"\"\"\n",
    "    # TODO: Implement Function\n",
    "    return np.divide(x, 255.)\n",
    "\n",
    "\n",
    "\"\"\"\n",
    "DON'T MODIFY ANYTHING IN THIS CELL THAT IS BELOW THIS LINE\n",
    "\"\"\"\n",
    "tests.test_normalize(normalize)"
   ]
  },
  {
   "cell_type": "markdown",
   "metadata": {},
   "source": [
    "### One-hot encode\n",
    "Just like the previous code cell, you'll be implementing a function for preprocessing.  This time, you'll implement the `one_hot_encode` function. The input, `x`, are a list of labels.  Implement the function to return the list of labels as One-Hot encoded Numpy array.  The possible values for labels are 0 to 9. The one-hot encoding function should return the same encoding for each value between each call to `one_hot_encode`.  Make sure to save the map of encodings outside the function.\n",
    "\n",
    "Hint: Don't reinvent the wheel."
   ]
  },
  {
   "cell_type": "code",
   "execution_count": 4,
   "metadata": {
    "collapsed": false
   },
   "outputs": [
    {
     "name": "stdout",
     "output_type": "stream",
     "text": [
      "Tests Passed\n"
     ]
    }
   ],
   "source": [
    "def one_hot_encode(x):\n",
    "    \"\"\"\n",
    "    One hot encode a list of sample labels. Return a one-hot encoded vector for each label.\n",
    "    : x: List of sample Labels\n",
    "    : return: Numpy array of one-hot encoded labels\n",
    "    \"\"\"\n",
    "    a = np.zeros((len(x), 10), dtype=np.float32)\n",
    "    for i, j in enumerate(x):\n",
    "        a[i,j]  = 1\n",
    "    return a\n",
    "\n",
    "\n",
    "\"\"\"\n",
    "DON'T MODIFY ANYTHING IN THIS CELL THAT IS BELOW THIS LINE\n",
    "\"\"\"\n",
    "tests.test_one_hot_encode(one_hot_encode)"
   ]
  },
  {
   "cell_type": "markdown",
   "metadata": {},
   "source": [
    "### Randomize Data\n",
    "As you saw from exploring the data above, the order of the samples are randomized.  It doesn't hurt to randomize it again, but you don't need to for this dataset."
   ]
  },
  {
   "cell_type": "markdown",
   "metadata": {},
   "source": [
    "## Preprocess all the data and save it\n",
    "Running the code cell below will preprocess all the CIFAR-10 data and save it to file. The code below also uses 10% of the training data for validation."
   ]
  },
  {
   "cell_type": "code",
   "execution_count": 5,
   "metadata": {
    "collapsed": false
   },
   "outputs": [],
   "source": [
    "\"\"\"\n",
    "DON'T MODIFY ANYTHING IN THIS CELL\n",
    "\"\"\"\n",
    "# Preprocess Training, Validation, and Testing Data\n",
    "helper.preprocess_and_save_data(cifar10_dataset_folder_path, normalize, one_hot_encode)"
   ]
  },
  {
   "cell_type": "markdown",
   "metadata": {},
   "source": [
    "# Check Point\n",
    "This is your first checkpoint.  If you ever decide to come back to this notebook or have to restart the notebook, you can start from here.  The preprocessed data has been saved to disk."
   ]
  },
  {
   "cell_type": "code",
   "execution_count": 6,
   "metadata": {
    "collapsed": true
   },
   "outputs": [],
   "source": [
    "\"\"\"\n",
    "DON'T MODIFY ANYTHING IN THIS CELL\n",
    "\"\"\"\n",
    "import pickle\n",
    "import problem_unittests as tests\n",
    "import helper\n",
    "\n",
    "# Load the Preprocessed Validation data\n",
    "valid_features, valid_labels = pickle.load(open('preprocess_validation.p', mode='rb'))"
   ]
  },
  {
   "cell_type": "markdown",
   "metadata": {},
   "source": [
    "## Build the network\n",
    "For the neural network, you'll build each layer into a function.  Most of the code you've seen has been outside of functions. To test your code more thoroughly, we require that you put each layer in a function.  This allows us to give you better feedback and test for simple mistakes using our unittests before you submit your project.\n",
    "\n",
    ">**Note:** If you're finding it hard to dedicate enough time for this course each week, we've provided a small shortcut to this part of the project. In the next couple of problems, you'll have the option to use classes from the [TensorFlow Layers](https://www.tensorflow.org/api_docs/python/tf/layers) or [TensorFlow Layers (contrib)](https://www.tensorflow.org/api_guides/python/contrib.layers) packages to build each layer, except the layers you build in the \"Convolutional and Max Pooling Layer\" section.  TF Layers is similar to Keras's and TFLearn's abstraction to layers, so it's easy to pickup.\n",
    "\n",
    ">However, if you would like to get the most out of this course, try to solve all the problems _without_ using anything from the TF Layers packages. You **can** still use classes from other packages that happen to have the same name as ones you find in TF Layers! For example, instead of using the TF Layers version of the `conv2d` class, [tf.layers.conv2d](https://www.tensorflow.org/api_docs/python/tf/layers/conv2d), you would want to use the TF Neural Network version of `conv2d`, [tf.nn.conv2d](https://www.tensorflow.org/api_docs/python/tf/nn/conv2d). \n",
    "\n",
    "Let's begin!\n",
    "\n",
    "### Input\n",
    "The neural network needs to read the image data, one-hot encoded labels, and dropout keep probability. Implement the following functions\n",
    "* Implement `neural_net_image_input`\n",
    " * Return a [TF Placeholder](https://www.tensorflow.org/api_docs/python/tf/placeholder)\n",
    " * Set the shape using `image_shape` with batch size set to `None`.\n",
    " * Name the TensorFlow placeholder \"x\" using the TensorFlow `name` parameter in the [TF Placeholder](https://www.tensorflow.org/api_docs/python/tf/placeholder).\n",
    "* Implement `neural_net_label_input`\n",
    " * Return a [TF Placeholder](https://www.tensorflow.org/api_docs/python/tf/placeholder)\n",
    " * Set the shape using `n_classes` with batch size set to `None`.\n",
    " * Name the TensorFlow placeholder \"y\" using the TensorFlow `name` parameter in the [TF Placeholder](https://www.tensorflow.org/api_docs/python/tf/placeholder).\n",
    "* Implement `neural_net_keep_prob_input`\n",
    " * Return a [TF Placeholder](https://www.tensorflow.org/api_docs/python/tf/placeholder) for dropout keep probability.\n",
    " * Name the TensorFlow placeholder \"keep_prob\" using the TensorFlow `name` parameter in the [TF Placeholder](https://www.tensorflow.org/api_docs/python/tf/placeholder).\n",
    "\n",
    "These names will be used at the end of the project to load your saved model.\n",
    "\n",
    "Note: `None` for shapes in TensorFlow allow for a dynamic size."
   ]
  },
  {
   "cell_type": "code",
   "execution_count": 7,
   "metadata": {
    "collapsed": false
   },
   "outputs": [
    {
     "name": "stdout",
     "output_type": "stream",
     "text": [
      "Image Input Tests Passed.\n",
      "Label Input Tests Passed.\n",
      "Keep Prob Tests Passed.\n"
     ]
    }
   ],
   "source": [
    "import tensorflow as tf\n",
    "\n",
    "def neural_net_image_input(image_shape):\n",
    "    \"\"\"\n",
    "    Return a Tensor for a bach of image input\n",
    "    : image_shape: Shape of the images\n",
    "    : return: Tensor for image input.\n",
    "    \"\"\"\n",
    "    x = tf.placeholder(tf.float32, shape=(None, image_shape[0], image_shape[1], \n",
    "                                             image_shape[2]), name='x')\n",
    "    return x\n",
    "\n",
    "\n",
    "def neural_net_label_input(n_classes):\n",
    "    \"\"\"\n",
    "    Return a Tensor for a batch of label input\n",
    "    : n_classes: Number of classes\n",
    "    : return: Tensor for label input.\n",
    "    \"\"\"\n",
    "    y = tf.placeholder(tf.float32, shape=(None, n_classes), name='y')\n",
    "    return y\n",
    "\n",
    "\n",
    "def neural_net_keep_prob_input():\n",
    "    \"\"\"\n",
    "    Return a Tensor for keep probability\n",
    "    : return: Tensor for keep probability.\n",
    "    \"\"\"\n",
    "    keep_prob =  tf.placeholder(tf.float32, name='keep_prob')\n",
    "    return keep_prob\n",
    "\n",
    "\n",
    "\"\"\"\n",
    "DON'T MODIFY ANYTHING IN THIS CELL THAT IS BELOW THIS LINE\n",
    "\"\"\"\n",
    "tf.reset_default_graph()\n",
    "tests.test_nn_image_inputs(neural_net_image_input)\n",
    "tests.test_nn_label_inputs(neural_net_label_input)\n",
    "tests.test_nn_keep_prob_inputs(neural_net_keep_prob_input)"
   ]
  },
  {
   "cell_type": "markdown",
   "metadata": {},
   "source": [
    "### Convolution and Max Pooling Layer\n",
    "Convolution layers have a lot of success with images. For this code cell, you should implement the function `conv2d_maxpool` to apply convolution then max pooling:\n",
    "* Create the weight and bias using `conv_ksize`, `conv_num_outputs` and the shape of `x_tensor`.\n",
    "* Apply a convolution to `x_tensor` using weight and `conv_strides`.\n",
    " * We recommend you use same padding, but you're welcome to use any padding.\n",
    "* Add bias\n",
    "* Add a nonlinear activation to the convolution.\n",
    "* Apply Max Pooling using `pool_ksize` and `pool_strides`.\n",
    " * We recommend you use same padding, but you're welcome to use any padding.\n",
    "\n",
    "**Note:** You **can't** use [TensorFlow Layers](https://www.tensorflow.org/api_docs/python/tf/layers) or [TensorFlow Layers (contrib)](https://www.tensorflow.org/api_guides/python/contrib.layers) for **this** layer, but you can still use TensorFlow's [Neural Network](https://www.tensorflow.org/api_docs/python/tf/nn) package. You may still use the shortcut option for all the **other** layers."
   ]
  },
  {
   "cell_type": "code",
   "execution_count": 8,
   "metadata": {
    "collapsed": false
   },
   "outputs": [
    {
     "name": "stdout",
     "output_type": "stream",
     "text": [
      "Tests Passed\n"
     ]
    }
   ],
   "source": [
    "def conv2d_maxpool(x_tensor, conv_num_outputs=8, conv_ksize=(1,1), conv_strides=(1,1), pool_ksize=(1,1), pool_strides=(1,1)):\n",
    "    \"\"\"\n",
    "    Apply convolution then max pooling to x_tensor\n",
    "    :param x_tensor: TensorFlow Tensor\n",
    "    :param conv_num_outputs: Number of outputs for the convolutional layer\n",
    "    :param conv_ksize: kernal size 2-D Tuple for the convolutional layer\n",
    "    :param conv_strides: Stride 2-D Tuple for convolution\n",
    "    :param pool_ksize: kernal size 2-D Tuple for pool\n",
    "    :param pool_strides: Stride 2-D Tuple for pool\n",
    "    : return: A tensor that represents convolution and max pooling of x_tensor\n",
    "    \"\"\"\n",
    "    weights = tf.Variable(tf.truncated_normal([conv_ksize[0], conv_ksize[1], x_tensor.get_shape().as_list()[3], \n",
    "                                               conv_num_outputs], stddev=0.1))\n",
    "    bias = tf.Variable(tf.constant(1.0, shape=[conv_num_outputs]))\n",
    "    \n",
    "    conv = tf.nn.conv2d(x_tensor, weights, [1, conv_strides[0], conv_strides[1], 1], padding='SAME')\n",
    "    conv = tf.nn.relu(conv + bias)\n",
    "    conv = tf.nn.max_pool(conv, [1, pool_strides[0], pool_strides[0], 1], \n",
    "                          [1, pool_ksize[0], pool_ksize[1], 1], padding='SAME')\n",
    "    return conv\n",
    "\n",
    "\n",
    "\"\"\"\n",
    "DON'T MODIFY ANYTHING IN THIS CELL THAT IS BELOW THIS LINE\n",
    "\"\"\"\n",
    "tests.test_con_pool(conv2d_maxpool)"
   ]
  },
  {
   "cell_type": "markdown",
   "metadata": {},
   "source": [
    "### Flatten Layer\n",
    "Implement the `flatten` function to change the dimension of `x_tensor` from a 4-D tensor to a 2-D tensor.  The output should be the shape (*Batch Size*, *Flattened Image Size*). Shortcut option: you can use classes from the [TensorFlow Layers](https://www.tensorflow.org/api_docs/python/tf/layers) or [TensorFlow Layers (contrib)](https://www.tensorflow.org/api_guides/python/contrib.layers) packages for this layer. For more of a challenge, only use other TensorFlow packages."
   ]
  },
  {
   "cell_type": "code",
   "execution_count": 9,
   "metadata": {
    "collapsed": false
   },
   "outputs": [
    {
     "name": "stdout",
     "output_type": "stream",
     "text": [
      "Tests Passed\n"
     ]
    }
   ],
   "source": [
    "def flatten(x_tensor):\n",
    "    \"\"\"\n",
    "    Flatten x_tensor to (Batch Size, Flattened Image Size)\n",
    "    : x_tensor: A tensor of size (Batch Size, ...), where ... are the image dimensions.\n",
    "    : return: A tensor of size (Batch Size, Flattened Image Size).\n",
    "    \"\"\"\n",
    "    shape = x_tensor.get_shape().as_list()\n",
    "    x = tf.reshape(x_tensor, (-1, shape[1]*shape[2]*shape[3]))\n",
    "    return x\n",
    "\n",
    "\n",
    "\"\"\"\n",
    "DON'T MODIFY ANYTHING IN THIS CELL THAT IS BELOW THIS LINE\n",
    "\"\"\"\n",
    "tests.test_flatten(flatten)"
   ]
  },
  {
   "cell_type": "markdown",
   "metadata": {},
   "source": [
    "### Fully-Connected Layer\n",
    "Implement the `fully_conn` function to apply a fully connected layer to `x_tensor` with the shape (*Batch Size*, *num_outputs*). Shortcut option: you can use classes from the [TensorFlow Layers](https://www.tensorflow.org/api_docs/python/tf/layers) or [TensorFlow Layers (contrib)](https://www.tensorflow.org/api_guides/python/contrib.layers) packages for this layer. For more of a challenge, only use other TensorFlow packages."
   ]
  },
  {
   "cell_type": "code",
   "execution_count": 10,
   "metadata": {
    "collapsed": false
   },
   "outputs": [
    {
     "name": "stdout",
     "output_type": "stream",
     "text": [
      "Tests Passed\n"
     ]
    }
   ],
   "source": [
    "def fully_conn(x_tensor, num_outputs):\n",
    "    \"\"\"\n",
    "    Apply a fully connected layer to x_tensor using weight and bias\n",
    "    : x_tensor: A 2-D tensor where the first dimension is batch size.\n",
    "    : num_outputs: The number of output that the new tensor should be.\n",
    "    : return: A 2-D tensor where the second dimension is num_outputs.\n",
    "    \"\"\"\n",
    "    shape = x_tensor.get_shape().as_list()\n",
    "    weights = tf.Variable(tf.truncated_normal([shape[1], num_outputs], stddev=0.1))\n",
    "    bias = tf.Variable(tf.constant(1.0, shape=[num_outputs]))\n",
    "    \n",
    "    layer = tf.matmul(x_tensor, weights)\n",
    "    layer = tf.add(layer, bias)\n",
    "    layer = tf.nn.relu(layer)\n",
    "    return layer\n",
    "\n",
    "\"\"\"\n",
    "DON'T MODIFY ANYTHING IN THIS CELL THAT IS BELOW THIS LINE\n",
    "\"\"\"\n",
    "tests.test_fully_conn(fully_conn)"
   ]
  },
  {
   "cell_type": "markdown",
   "metadata": {},
   "source": [
    "### Output Layer\n",
    "Implement the `output` function to apply a fully connected layer to `x_tensor` with the shape (*Batch Size*, *num_outputs*). Shortcut option: you can use classes from the [TensorFlow Layers](https://www.tensorflow.org/api_docs/python/tf/layers) or [TensorFlow Layers (contrib)](https://www.tensorflow.org/api_guides/python/contrib.layers) packages for this layer. For more of a challenge, only use other TensorFlow packages.\n",
    "\n",
    "**Note:** Activation, softmax, or cross entropy should **not** be applied to this."
   ]
  },
  {
   "cell_type": "code",
   "execution_count": 11,
   "metadata": {
    "collapsed": false
   },
   "outputs": [
    {
     "name": "stdout",
     "output_type": "stream",
     "text": [
      "Tests Passed\n"
     ]
    }
   ],
   "source": [
    "def output(x_tensor, num_outputs=10):\n",
    "    \"\"\"\n",
    "    Apply a output layer to x_tensor using weight and bias\n",
    "    : x_tensor: A 2-D tensor where the first dimension is batch size.\n",
    "    : num_outputs: The number of output that the new tensor should be.\n",
    "    : return: A 2-D tensor where the second dimension is num_outputs.\n",
    "    \"\"\"\n",
    "    shape = x_tensor.get_shape().as_list()\n",
    "    weights = tf.Variable(tf.truncated_normal([shape[1], num_outputs], stddev=0.1))\n",
    "    bias = tf.Variable(tf.constant(1.0, shape=[num_outputs]))\n",
    "    \n",
    "    layer = tf.matmul(x_tensor, weights)\n",
    "    layer = tf.add(layer, bias)\n",
    "    return layer\n",
    "\n",
    "\n",
    "\"\"\"\n",
    "DON'T MODIFY ANYTHING IN THIS CELL THAT IS BELOW THIS LINE\n",
    "\"\"\"\n",
    "tests.test_output(output)"
   ]
  },
  {
   "cell_type": "markdown",
   "metadata": {},
   "source": [
    "### Create Convolutional Model\n",
    "Implement the function `conv_net` to create a convolutional neural network model. The function takes in a batch of images, `x`, and outputs logits.  Use the layers you created above to create this model:\n",
    "\n",
    "* Apply 1, 2, or 3 Convolution and Max Pool layers\n",
    "* Apply a Flatten Layer\n",
    "* Apply 1, 2, or 3 Fully Connected Layers\n",
    "* Apply an Output Layer\n",
    "* Return the output\n",
    "* Apply [TensorFlow's Dropout](https://www.tensorflow.org/api_docs/python/tf/nn/dropout) to one or more layers in the model using `keep_prob`. "
   ]
  },
  {
   "cell_type": "code",
   "execution_count": 12,
   "metadata": {
    "collapsed": false
   },
   "outputs": [
    {
     "name": "stdout",
     "output_type": "stream",
     "text": [
      "Neural Network Built!\n"
     ]
    }
   ],
   "source": [
    "def conv_net(x, keep_prob):\n",
    "    \"\"\"\n",
    "    Create a convolutional neural network model\n",
    "    : x: Placeholder tensor that holds image data.\n",
    "    : keep_prob: Placeholder tensor that hold dropout keep probability.\n",
    "    : return: Tensor that represents logits\n",
    "    \"\"\"\n",
    "    # TODO: Apply 1, 2, or 3 Convolution and Max Pool layers\n",
    "    #    Play around with different number of outputs, kernel size and stride\n",
    "    # Function Definition from Above:\n",
    "    #    conv2d_maxpool(x_tensor, conv_num_outputs, conv_ksize, conv_strides, pool_ksize, pool_strides)\n",
    "    model = conv2d_maxpool(x, conv_num_outputs=16, conv_ksize=(8,8), \n",
    "                           conv_strides=(2,2), pool_ksize=(2,2), \n",
    "                           pool_strides=(1,1))\n",
    "\n",
    "    # TODO: Apply a Flatten Layer\n",
    "    # Function Definition from Above:\n",
    "    #   flatten(x_tensor)\n",
    "    model = flatten(model)\n",
    "\n",
    "    # TODO: Apply 1, 2, or 3 Fully Connected Layers\n",
    "    #    Play around with different number of outputs\n",
    "    # Function Definition from Above:\n",
    "    #   fully_conn(x_tensor, num_outputs)\n",
    "    model = fully_conn(model, 1024)\n",
    "    model = fully_conn(model, 512)\n",
    "    model = tf.nn.dropout(model, keep_prob)\n",
    "    model = fully_conn(model, 256)\n",
    "    model = tf.nn.dropout(model, keep_prob)\n",
    "\n",
    "    # TODO: Apply an Output Layer\n",
    "    #    Set this to the number of classes\n",
    "    # Function Definition from Above:\n",
    "    #   output(x_tensor, num_outputs)\n",
    "    model = output(model, 10)\n",
    "    \n",
    "    # TODO: return output\n",
    "    return model\n",
    "\n",
    "\n",
    "\"\"\"\n",
    "DON'T MODIFY ANYTHING IN THIS CELL THAT IS BELOW THIS LINE\n",
    "\"\"\"\n",
    "\n",
    "##############################\n",
    "## Build the Neural Network ##\n",
    "##############################\n",
    "\n",
    "# Remove previous weights, bias, inputs, etc..\n",
    "tf.reset_default_graph()\n",
    "\n",
    "# Inputs\n",
    "x = neural_net_image_input((32, 32, 3))\n",
    "y = neural_net_label_input(10)\n",
    "keep_prob = neural_net_keep_prob_input()\n",
    "\n",
    "# Model\n",
    "logits = conv_net(x, keep_prob)\n",
    "\n",
    "# Name logits Tensor, so that is can be loaded from disk after training\n",
    "logits = tf.identity(logits, name='logits')\n",
    "\n",
    "# Loss and Optimizer\n",
    "cost = tf.reduce_mean(tf.nn.softmax_cross_entropy_with_logits(logits=logits, labels=y))\n",
    "optimizer = tf.train.AdamOptimizer().minimize(cost)\n",
    "\n",
    "# Accuracy\n",
    "correct_pred = tf.equal(tf.argmax(logits, 1), tf.argmax(y, 1))\n",
    "accuracy = tf.reduce_mean(tf.cast(correct_pred, tf.float32), name='accuracy')\n",
    "\n",
    "tests.test_conv_net(conv_net)"
   ]
  },
  {
   "cell_type": "markdown",
   "metadata": {},
   "source": [
    "## Train the Neural Network\n",
    "### Single Optimization\n",
    "Implement the function `train_neural_network` to do a single optimization.  The optimization should use `optimizer` to optimize in `session` with a `feed_dict` of the following:\n",
    "* `x` for image input\n",
    "* `y` for labels\n",
    "* `keep_prob` for keep probability for dropout\n",
    "\n",
    "This function will be called for each batch, so `tf.global_variables_initializer()` has already been called.\n",
    "\n",
    "Note: Nothing needs to be returned. This function is only optimizing the neural network."
   ]
  },
  {
   "cell_type": "code",
   "execution_count": 13,
   "metadata": {
    "collapsed": false
   },
   "outputs": [
    {
     "name": "stdout",
     "output_type": "stream",
     "text": [
      "Tests Passed\n"
     ]
    }
   ],
   "source": [
    "def train_neural_network(session, optimizer, keep_probability, feature_batch, label_batch):\n",
    "    \"\"\"\n",
    "    Optimize the session on a batch of images and labels\n",
    "    : session: Current TensorFlow session\n",
    "    : optimizer: TensorFlow optimizer function\n",
    "    : keep_probability: keep probability\n",
    "    : feature_batch: Batch of Numpy image data\n",
    "    : label_batch: Batch of Numpy label data\n",
    "    \"\"\"\n",
    "    feed_dict = {x:feature_batch, y:label_batch, keep_prob:keep_probability}\n",
    "    fetches = [optimizer]\n",
    "    session.run(fetches, feed_dict=feed_dict)\n",
    "\n",
    "\"\"\"\n",
    "DON'T MODIFY ANYTHING IN THIS CELL THAT IS BELOW THIS LINE\n",
    "\"\"\"\n",
    "tests.test_train_nn(train_neural_network)"
   ]
  },
  {
   "cell_type": "markdown",
   "metadata": {},
   "source": [
    "### Show Stats\n",
    "Implement the function `print_stats` to print loss and validation accuracy.  Use the global variables `valid_features` and `valid_labels` to calculate validation accuracy.  Use a keep probability of `1.0` to calculate the loss and validation accuracy."
   ]
  },
  {
   "cell_type": "code",
   "execution_count": 14,
   "metadata": {
    "collapsed": false
   },
   "outputs": [],
   "source": [
    "def print_stats(session, feature_batch, label_batch, cost, accuracy):\n",
    "    \"\"\"\n",
    "    Print information about loss and validation accuracy\n",
    "    : session: Current TensorFlow session\n",
    "    : feature_batch: Batch of Numpy image data\n",
    "    : label_batch: Batch of Numpy label data\n",
    "    : cost: TensorFlow cost function\n",
    "    : accuracy: TensorFlow accuracy function\n",
    "    \"\"\"\n",
    "    feed_dict = {x:feature_batch, y:label_batch, keep_prob:1}\n",
    "    loss, acc = session.run([cost, accuracy], feed_dict=feed_dict)\n",
    "    print('Batch loss: {:6.4f}; Batch accuracy: {:4.2f}%'.format(loss, acc*100))"
   ]
  },
  {
   "cell_type": "markdown",
   "metadata": {},
   "source": [
    "### Hyperparameters\n",
    "Tune the following parameters:\n",
    "* Set `epochs` to the number of iterations until the network stops learning or start overfitting\n",
    "* Set `batch_size` to the highest number that your machine has memory for.  Most people set them to common sizes of memory:\n",
    " * 64\n",
    " * 128\n",
    " * 256\n",
    " * ...\n",
    "* Set `keep_probability` to the probability of keeping a node using dropout"
   ]
  },
  {
   "cell_type": "code",
   "execution_count": 15,
   "metadata": {
    "collapsed": true
   },
   "outputs": [],
   "source": [
    "# TODO: Tune Parameters\n",
    "epochs = 50\n",
    "batch_size = 512\n",
    "keep_probability = 0.5"
   ]
  },
  {
   "cell_type": "markdown",
   "metadata": {},
   "source": [
    "### Train on a Single CIFAR-10 Batch\n",
    "Instead of training the neural network on all the CIFAR-10 batches of data, let's use a single batch. This should save time while you iterate on the model to get a better accuracy.  Once the final validation accuracy is 50% or greater, run the model on all the data in the next section."
   ]
  },
  {
   "cell_type": "code",
   "execution_count": 16,
   "metadata": {
    "collapsed": false,
    "scrolled": false
   },
   "outputs": [
    {
     "name": "stdout",
     "output_type": "stream",
     "text": [
      "Checking the Training on a Single Batch...\n",
      "Epoch  1, CIFAR-10 Batch 1:  Batch loss: 2.2791; Batch accuracy: 16.22%\n",
      "Epoch  2, CIFAR-10 Batch 1:  Batch loss: 2.1394; Batch accuracy: 23.31%\n",
      "Epoch  3, CIFAR-10 Batch 1:  Batch loss: 2.0562; Batch accuracy: 23.31%\n",
      "Epoch  4, CIFAR-10 Batch 1:  Batch loss: 2.0158; Batch accuracy: 29.05%\n",
      "Epoch  5, CIFAR-10 Batch 1:  Batch loss: 1.9339; Batch accuracy: 31.42%\n",
      "Epoch  6, CIFAR-10 Batch 1:  Batch loss: 1.9177; Batch accuracy: 30.07%\n",
      "Epoch  7, CIFAR-10 Batch 1:  Batch loss: 1.9023; Batch accuracy: 31.42%\n",
      "Epoch  8, CIFAR-10 Batch 1:  Batch loss: 1.8780; Batch accuracy: 33.78%\n",
      "Epoch  9, CIFAR-10 Batch 1:  Batch loss: 1.8737; Batch accuracy: 29.05%\n",
      "Epoch 10, CIFAR-10 Batch 1:  Batch loss: 1.8495; Batch accuracy: 35.14%\n",
      "Epoch 11, CIFAR-10 Batch 1:  Batch loss: 1.8611; Batch accuracy: 34.12%\n",
      "Epoch 12, CIFAR-10 Batch 1:  Batch loss: 1.8458; Batch accuracy: 35.47%\n",
      "Epoch 13, CIFAR-10 Batch 1:  Batch loss: 1.7920; Batch accuracy: 35.47%\n",
      "Epoch 14, CIFAR-10 Batch 1:  Batch loss: 1.7802; Batch accuracy: 38.51%\n",
      "Epoch 15, CIFAR-10 Batch 1:  Batch loss: 1.8026; Batch accuracy: 37.16%\n",
      "Epoch 16, CIFAR-10 Batch 1:  Batch loss: 1.7659; Batch accuracy: 40.20%\n",
      "Epoch 17, CIFAR-10 Batch 1:  Batch loss: 1.7476; Batch accuracy: 42.57%\n",
      "Epoch 18, CIFAR-10 Batch 1:  Batch loss: 1.7273; Batch accuracy: 40.54%\n",
      "Epoch 19, CIFAR-10 Batch 1:  Batch loss: 1.7157; Batch accuracy: 42.23%\n",
      "Epoch 20, CIFAR-10 Batch 1:  Batch loss: 1.7424; Batch accuracy: 40.88%\n",
      "Epoch 21, CIFAR-10 Batch 1:  Batch loss: 1.7007; Batch accuracy: 39.86%\n",
      "Epoch 22, CIFAR-10 Batch 1:  Batch loss: 1.6351; Batch accuracy: 43.24%\n",
      "Epoch 23, CIFAR-10 Batch 1:  Batch loss: 1.6201; Batch accuracy: 46.62%\n",
      "Epoch 24, CIFAR-10 Batch 1:  Batch loss: 1.6044; Batch accuracy: 46.62%\n",
      "Epoch 25, CIFAR-10 Batch 1:  Batch loss: 1.5627; Batch accuracy: 44.93%\n",
      "Epoch 26, CIFAR-10 Batch 1:  Batch loss: 1.5261; Batch accuracy: 50.00%\n",
      "Epoch 27, CIFAR-10 Batch 1:  Batch loss: 1.5440; Batch accuracy: 50.34%\n",
      "Epoch 28, CIFAR-10 Batch 1:  Batch loss: 1.5266; Batch accuracy: 47.64%\n",
      "Epoch 29, CIFAR-10 Batch 1:  Batch loss: 1.4527; Batch accuracy: 54.05%\n",
      "Epoch 30, CIFAR-10 Batch 1:  Batch loss: 1.4308; Batch accuracy: 54.39%\n",
      "Epoch 31, CIFAR-10 Batch 1:  Batch loss: 1.3877; Batch accuracy: 53.72%\n",
      "Epoch 32, CIFAR-10 Batch 1:  Batch loss: 1.3610; Batch accuracy: 56.42%\n",
      "Epoch 33, CIFAR-10 Batch 1:  Batch loss: 1.3742; Batch accuracy: 52.70%\n",
      "Epoch 34, CIFAR-10 Batch 1:  Batch loss: 1.3343; Batch accuracy: 57.09%\n",
      "Epoch 35, CIFAR-10 Batch 1:  Batch loss: 1.3017; Batch accuracy: 58.78%\n",
      "Epoch 36, CIFAR-10 Batch 1:  Batch loss: 1.2893; Batch accuracy: 57.09%\n",
      "Epoch 37, CIFAR-10 Batch 1:  Batch loss: 1.2182; Batch accuracy: 60.47%\n",
      "Epoch 38, CIFAR-10 Batch 1:  Batch loss: 1.2089; Batch accuracy: 60.81%\n",
      "Epoch 39, CIFAR-10 Batch 1:  Batch loss: 1.1686; Batch accuracy: 61.49%\n",
      "Epoch 40, CIFAR-10 Batch 1:  Batch loss: 1.1544; Batch accuracy: 63.85%\n",
      "Epoch 41, CIFAR-10 Batch 1:  Batch loss: 1.1027; Batch accuracy: 63.51%\n",
      "Epoch 42, CIFAR-10 Batch 1:  Batch loss: 1.0979; Batch accuracy: 65.54%\n",
      "Epoch 43, CIFAR-10 Batch 1:  Batch loss: 1.0653; Batch accuracy: 64.19%\n",
      "Epoch 44, CIFAR-10 Batch 1:  Batch loss: 1.0169; Batch accuracy: 70.95%\n",
      "Epoch 45, CIFAR-10 Batch 1:  Batch loss: 0.9886; Batch accuracy: 68.24%\n",
      "Epoch 46, CIFAR-10 Batch 1:  Batch loss: 0.9866; Batch accuracy: 72.30%\n",
      "Epoch 47, CIFAR-10 Batch 1:  Batch loss: 0.9601; Batch accuracy: 69.93%\n",
      "Epoch 48, CIFAR-10 Batch 1:  Batch loss: 0.9059; Batch accuracy: 69.93%\n",
      "Epoch 49, CIFAR-10 Batch 1:  Batch loss: 0.8817; Batch accuracy: 72.64%\n",
      "Epoch 50, CIFAR-10 Batch 1:  Batch loss: 0.8409; Batch accuracy: 73.65%\n"
     ]
    }
   ],
   "source": [
    "\"\"\"\n",
    "DON'T MODIFY ANYTHING IN THIS CELL\n",
    "\"\"\"\n",
    "print('Checking the Training on a Single Batch...')\n",
    "with tf.Session() as sess:\n",
    "    # Initializing the variables\n",
    "    sess.run(tf.global_variables_initializer())\n",
    "    \n",
    "    # Training cycle\n",
    "    for epoch in range(epochs):\n",
    "        batch_i = 1\n",
    "        for batch_features, batch_labels in helper.load_preprocess_training_batch(batch_i, batch_size):\n",
    "            train_neural_network(sess, optimizer, keep_probability, batch_features, batch_labels)\n",
    "        print('Epoch {:>2}, CIFAR-10 Batch {}:  '.format(epoch + 1, batch_i), end='')\n",
    "        print_stats(sess, batch_features, batch_labels, cost, accuracy)"
   ]
  },
  {
   "cell_type": "markdown",
   "metadata": {},
   "source": [
    "### Fully Train the Model\n",
    "Now that you got a good accuracy with a single CIFAR-10 batch, try it with all five batches."
   ]
  },
  {
   "cell_type": "code",
   "execution_count": 17,
   "metadata": {
    "collapsed": false,
    "scrolled": false
   },
   "outputs": [
    {
     "name": "stdout",
     "output_type": "stream",
     "text": [
      "Training...\n",
      "Epoch  1, CIFAR-10 Batch 1:  Batch loss: 2.2887; Batch accuracy: 14.53%\n",
      "Epoch  1, CIFAR-10 Batch 2:  Batch loss: 2.1041; Batch accuracy: 21.96%\n",
      "Epoch  1, CIFAR-10 Batch 3:  Batch loss: 1.9884; Batch accuracy: 29.05%\n",
      "Epoch  1, CIFAR-10 Batch 4:  Batch loss: 1.8890; Batch accuracy: 31.08%\n",
      "Epoch  1, CIFAR-10 Batch 5:  Batch loss: 1.9117; Batch accuracy: 31.76%\n",
      "Epoch  2, CIFAR-10 Batch 1:  Batch loss: 1.9787; Batch accuracy: 24.66%\n",
      "Epoch  2, CIFAR-10 Batch 2:  Batch loss: 1.9197; Batch accuracy: 36.49%\n",
      "Epoch  2, CIFAR-10 Batch 3:  Batch loss: 1.8649; Batch accuracy: 36.49%\n",
      "Epoch  2, CIFAR-10 Batch 4:  Batch loss: 1.8064; Batch accuracy: 39.53%\n",
      "Epoch  2, CIFAR-10 Batch 5:  Batch loss: 1.8331; Batch accuracy: 36.15%\n",
      "Epoch  3, CIFAR-10 Batch 1:  Batch loss: 1.9245; Batch accuracy: 32.09%\n",
      "Epoch  3, CIFAR-10 Batch 2:  Batch loss: 1.8543; Batch accuracy: 36.82%\n",
      "Epoch  3, CIFAR-10 Batch 3:  Batch loss: 1.7756; Batch accuracy: 42.57%\n",
      "Epoch  3, CIFAR-10 Batch 4:  Batch loss: 1.7017; Batch accuracy: 40.20%\n",
      "Epoch  3, CIFAR-10 Batch 5:  Batch loss: 1.7772; Batch accuracy: 40.20%\n",
      "Epoch  4, CIFAR-10 Batch 1:  Batch loss: 1.8362; Batch accuracy: 36.49%\n",
      "Epoch  4, CIFAR-10 Batch 2:  Batch loss: 1.7980; Batch accuracy: 37.84%\n",
      "Epoch  4, CIFAR-10 Batch 3:  Batch loss: 1.6616; Batch accuracy: 45.27%\n",
      "Epoch  4, CIFAR-10 Batch 4:  Batch loss: 1.6396; Batch accuracy: 42.91%\n",
      "Epoch  4, CIFAR-10 Batch 5:  Batch loss: 1.7266; Batch accuracy: 37.84%\n",
      "Epoch  5, CIFAR-10 Batch 1:  Batch loss: 1.7477; Batch accuracy: 37.50%\n",
      "Epoch  5, CIFAR-10 Batch 2:  Batch loss: 1.7085; Batch accuracy: 42.57%\n",
      "Epoch  5, CIFAR-10 Batch 3:  Batch loss: 1.5793; Batch accuracy: 44.26%\n",
      "Epoch  5, CIFAR-10 Batch 4:  Batch loss: 1.5654; Batch accuracy: 49.32%\n",
      "Epoch  5, CIFAR-10 Batch 5:  Batch loss: 1.6542; Batch accuracy: 40.54%\n",
      "Epoch  6, CIFAR-10 Batch 1:  Batch loss: 1.6883; Batch accuracy: 37.84%\n",
      "Epoch  6, CIFAR-10 Batch 2:  Batch loss: 1.7019; Batch accuracy: 38.18%\n",
      "Epoch  6, CIFAR-10 Batch 3:  Batch loss: 1.5081; Batch accuracy: 47.30%\n",
      "Epoch  6, CIFAR-10 Batch 4:  Batch loss: 1.5350; Batch accuracy: 49.32%\n",
      "Epoch  6, CIFAR-10 Batch 5:  Batch loss: 1.5518; Batch accuracy: 43.24%\n",
      "Epoch  7, CIFAR-10 Batch 1:  Batch loss: 1.6507; Batch accuracy: 41.89%\n",
      "Epoch  7, CIFAR-10 Batch 2:  Batch loss: 1.5980; Batch accuracy: 43.24%\n",
      "Epoch  7, CIFAR-10 Batch 3:  Batch loss: 1.4942; Batch accuracy: 47.64%\n",
      "Epoch  7, CIFAR-10 Batch 4:  Batch loss: 1.4674; Batch accuracy: 48.65%\n",
      "Epoch  7, CIFAR-10 Batch 5:  Batch loss: 1.5182; Batch accuracy: 44.26%\n",
      "Epoch  8, CIFAR-10 Batch 1:  Batch loss: 1.5739; Batch accuracy: 45.61%\n",
      "Epoch  8, CIFAR-10 Batch 2:  Batch loss: 1.5900; Batch accuracy: 42.57%\n",
      "Epoch  8, CIFAR-10 Batch 3:  Batch loss: 1.4180; Batch accuracy: 49.32%\n",
      "Epoch  8, CIFAR-10 Batch 4:  Batch loss: 1.4078; Batch accuracy: 49.66%\n",
      "Epoch  8, CIFAR-10 Batch 5:  Batch loss: 1.4599; Batch accuracy: 47.64%\n",
      "Epoch  9, CIFAR-10 Batch 1:  Batch loss: 1.5393; Batch accuracy: 45.95%\n",
      "Epoch  9, CIFAR-10 Batch 2:  Batch loss: 1.5465; Batch accuracy: 43.58%\n",
      "Epoch  9, CIFAR-10 Batch 3:  Batch loss: 1.3866; Batch accuracy: 47.30%\n",
      "Epoch  9, CIFAR-10 Batch 4:  Batch loss: 1.3715; Batch accuracy: 55.74%\n",
      "Epoch  9, CIFAR-10 Batch 5:  Batch loss: 1.4524; Batch accuracy: 48.31%\n",
      "Epoch 10, CIFAR-10 Batch 1:  Batch loss: 1.5142; Batch accuracy: 44.59%\n",
      "Epoch 10, CIFAR-10 Batch 2:  Batch loss: 1.4619; Batch accuracy: 48.99%\n",
      "Epoch 10, CIFAR-10 Batch 3:  Batch loss: 1.3050; Batch accuracy: 52.70%\n",
      "Epoch 10, CIFAR-10 Batch 4:  Batch loss: 1.3425; Batch accuracy: 51.69%\n",
      "Epoch 10, CIFAR-10 Batch 5:  Batch loss: 1.3849; Batch accuracy: 47.97%\n",
      "Epoch 11, CIFAR-10 Batch 1:  Batch loss: 1.4626; Batch accuracy: 46.96%\n",
      "Epoch 11, CIFAR-10 Batch 2:  Batch loss: 1.4274; Batch accuracy: 53.04%\n",
      "Epoch 11, CIFAR-10 Batch 3:  Batch loss: 1.2955; Batch accuracy: 52.70%\n",
      "Epoch 11, CIFAR-10 Batch 4:  Batch loss: 1.2978; Batch accuracy: 55.41%\n",
      "Epoch 11, CIFAR-10 Batch 5:  Batch loss: 1.3631; Batch accuracy: 51.35%\n",
      "Epoch 12, CIFAR-10 Batch 1:  Batch loss: 1.3841; Batch accuracy: 48.99%\n",
      "Epoch 12, CIFAR-10 Batch 2:  Batch loss: 1.3817; Batch accuracy: 52.36%\n",
      "Epoch 12, CIFAR-10 Batch 3:  Batch loss: 1.2262; Batch accuracy: 56.76%\n",
      "Epoch 12, CIFAR-10 Batch 4:  Batch loss: 1.2229; Batch accuracy: 58.45%\n",
      "Epoch 12, CIFAR-10 Batch 5:  Batch loss: 1.2985; Batch accuracy: 55.07%\n",
      "Epoch 13, CIFAR-10 Batch 1:  Batch loss: 1.3311; Batch accuracy: 53.38%\n",
      "Epoch 13, CIFAR-10 Batch 2:  Batch loss: 1.3236; Batch accuracy: 53.72%\n",
      "Epoch 13, CIFAR-10 Batch 3:  Batch loss: 1.1676; Batch accuracy: 57.77%\n",
      "Epoch 13, CIFAR-10 Batch 4:  Batch loss: 1.1906; Batch accuracy: 59.80%\n",
      "Epoch 13, CIFAR-10 Batch 5:  Batch loss: 1.2451; Batch accuracy: 54.39%\n",
      "Epoch 14, CIFAR-10 Batch 1:  Batch loss: 1.2917; Batch accuracy: 56.42%\n",
      "Epoch 14, CIFAR-10 Batch 2:  Batch loss: 1.2964; Batch accuracy: 56.76%\n",
      "Epoch 14, CIFAR-10 Batch 3:  Batch loss: 1.0917; Batch accuracy: 61.49%\n",
      "Epoch 14, CIFAR-10 Batch 4:  Batch loss: 1.1403; Batch accuracy: 61.15%\n",
      "Epoch 14, CIFAR-10 Batch 5:  Batch loss: 1.1980; Batch accuracy: 57.09%\n",
      "Epoch 15, CIFAR-10 Batch 1:  Batch loss: 1.2073; Batch accuracy: 59.46%\n",
      "Epoch 15, CIFAR-10 Batch 2:  Batch loss: 1.2524; Batch accuracy: 58.11%\n",
      "Epoch 15, CIFAR-10 Batch 3:  Batch loss: 1.0664; Batch accuracy: 60.81%\n",
      "Epoch 15, CIFAR-10 Batch 4:  Batch loss: 1.0801; Batch accuracy: 61.82%\n",
      "Epoch 15, CIFAR-10 Batch 5:  Batch loss: 1.1621; Batch accuracy: 59.46%\n",
      "Epoch 16, CIFAR-10 Batch 1:  Batch loss: 1.1798; Batch accuracy: 61.49%\n",
      "Epoch 16, CIFAR-10 Batch 2:  Batch loss: 1.1968; Batch accuracy: 59.12%\n",
      "Epoch 16, CIFAR-10 Batch 3:  Batch loss: 1.0122; Batch accuracy: 62.50%\n",
      "Epoch 16, CIFAR-10 Batch 4:  Batch loss: 1.0361; Batch accuracy: 65.54%\n",
      "Epoch 16, CIFAR-10 Batch 5:  Batch loss: 1.1001; Batch accuracy: 62.50%\n",
      "Epoch 17, CIFAR-10 Batch 1:  Batch loss: 1.0997; Batch accuracy: 63.18%\n",
      "Epoch 17, CIFAR-10 Batch 2:  Batch loss: 1.1391; Batch accuracy: 59.80%\n",
      "Epoch 17, CIFAR-10 Batch 3:  Batch loss: 0.9927; Batch accuracy: 62.50%\n",
      "Epoch 17, CIFAR-10 Batch 4:  Batch loss: 0.9741; Batch accuracy: 66.89%\n",
      "Epoch 17, CIFAR-10 Batch 5:  Batch loss: 1.0585; Batch accuracy: 59.46%\n",
      "Epoch 18, CIFAR-10 Batch 1:  Batch loss: 1.0487; Batch accuracy: 64.19%\n",
      "Epoch 18, CIFAR-10 Batch 2:  Batch loss: 1.0829; Batch accuracy: 63.51%\n",
      "Epoch 18, CIFAR-10 Batch 3:  Batch loss: 0.9196; Batch accuracy: 64.53%\n",
      "Epoch 18, CIFAR-10 Batch 4:  Batch loss: 0.9306; Batch accuracy: 68.92%\n",
      "Epoch 18, CIFAR-10 Batch 5:  Batch loss: 0.9763; Batch accuracy: 66.22%\n",
      "Epoch 19, CIFAR-10 Batch 1:  Batch loss: 1.0085; Batch accuracy: 67.23%\n",
      "Epoch 19, CIFAR-10 Batch 2:  Batch loss: 1.0254; Batch accuracy: 65.20%\n",
      "Epoch 19, CIFAR-10 Batch 3:  Batch loss: 0.8769; Batch accuracy: 68.24%\n",
      "Epoch 19, CIFAR-10 Batch 4:  Batch loss: 0.8814; Batch accuracy: 68.92%\n",
      "Epoch 19, CIFAR-10 Batch 5:  Batch loss: 0.9749; Batch accuracy: 67.23%\n",
      "Epoch 20, CIFAR-10 Batch 1:  Batch loss: 0.9699; Batch accuracy: 67.57%\n",
      "Epoch 20, CIFAR-10 Batch 2:  Batch loss: 0.9809; Batch accuracy: 66.55%\n",
      "Epoch 20, CIFAR-10 Batch 3:  Batch loss: 0.8492; Batch accuracy: 68.92%\n",
      "Epoch 20, CIFAR-10 Batch 4:  Batch loss: 0.8384; Batch accuracy: 70.61%\n",
      "Epoch 20, CIFAR-10 Batch 5:  Batch loss: 0.9092; Batch accuracy: 69.26%\n",
      "Epoch 21, CIFAR-10 Batch 1:  Batch loss: 0.9127; Batch accuracy: 72.30%\n",
      "Epoch 21, CIFAR-10 Batch 2:  Batch loss: 0.9195; Batch accuracy: 71.28%\n",
      "Epoch 21, CIFAR-10 Batch 3:  Batch loss: 0.7876; Batch accuracy: 74.32%\n",
      "Epoch 21, CIFAR-10 Batch 4:  Batch loss: 0.7929; Batch accuracy: 72.97%\n",
      "Epoch 21, CIFAR-10 Batch 5:  Batch loss: 0.8280; Batch accuracy: 70.61%\n",
      "Epoch 22, CIFAR-10 Batch 1:  Batch loss: 0.8787; Batch accuracy: 71.62%\n",
      "Epoch 22, CIFAR-10 Batch 2:  Batch loss: 0.8829; Batch accuracy: 69.93%\n",
      "Epoch 22, CIFAR-10 Batch 3:  Batch loss: 0.7408; Batch accuracy: 75.00%\n",
      "Epoch 22, CIFAR-10 Batch 4:  Batch loss: 0.7647; Batch accuracy: 73.31%\n",
      "Epoch 22, CIFAR-10 Batch 5:  Batch loss: 0.8073; Batch accuracy: 72.97%\n",
      "Epoch 23, CIFAR-10 Batch 1:  Batch loss: 0.8044; Batch accuracy: 71.62%\n",
      "Epoch 23, CIFAR-10 Batch 2:  Batch loss: 0.8363; Batch accuracy: 71.28%\n",
      "Epoch 23, CIFAR-10 Batch 3:  Batch loss: 0.7147; Batch accuracy: 76.35%\n",
      "Epoch 23, CIFAR-10 Batch 4:  Batch loss: 0.7066; Batch accuracy: 77.70%\n",
      "Epoch 23, CIFAR-10 Batch 5:  Batch loss: 0.7189; Batch accuracy: 78.38%\n",
      "Epoch 24, CIFAR-10 Batch 1:  Batch loss: 0.7278; Batch accuracy: 76.69%\n",
      "Epoch 24, CIFAR-10 Batch 2:  Batch loss: 0.7789; Batch accuracy: 72.97%\n",
      "Epoch 24, CIFAR-10 Batch 3:  Batch loss: 0.7019; Batch accuracy: 77.03%\n",
      "Epoch 24, CIFAR-10 Batch 4:  Batch loss: 0.6605; Batch accuracy: 79.05%\n",
      "Epoch 24, CIFAR-10 Batch 5:  Batch loss: 0.6601; Batch accuracy: 80.41%\n",
      "Epoch 25, CIFAR-10 Batch 1:  Batch loss: 0.6884; Batch accuracy: 77.36%\n",
      "Epoch 25, CIFAR-10 Batch 2:  Batch loss: 0.6852; Batch accuracy: 75.68%\n",
      "Epoch 25, CIFAR-10 Batch 3:  Batch loss: 0.6307; Batch accuracy: 78.72%\n",
      "Epoch 25, CIFAR-10 Batch 4:  Batch loss: 0.6193; Batch accuracy: 79.73%\n",
      "Epoch 25, CIFAR-10 Batch 5:  Batch loss: 0.6076; Batch accuracy: 81.08%\n",
      "Epoch 26, CIFAR-10 Batch 1:  Batch loss: 0.6067; Batch accuracy: 80.41%\n",
      "Epoch 26, CIFAR-10 Batch 2:  Batch loss: 0.6284; Batch accuracy: 79.39%\n",
      "Epoch 26, CIFAR-10 Batch 3:  Batch loss: 0.5669; Batch accuracy: 81.42%\n",
      "Epoch 26, CIFAR-10 Batch 4:  Batch loss: 0.5877; Batch accuracy: 79.39%\n",
      "Epoch 26, CIFAR-10 Batch 5:  Batch loss: 0.6145; Batch accuracy: 79.05%\n",
      "Epoch 27, CIFAR-10 Batch 1:  Batch loss: 0.5652; Batch accuracy: 82.09%\n",
      "Epoch 27, CIFAR-10 Batch 2:  Batch loss: 0.5801; Batch accuracy: 82.43%\n",
      "Epoch 27, CIFAR-10 Batch 3:  Batch loss: 0.5376; Batch accuracy: 83.45%\n",
      "Epoch 27, CIFAR-10 Batch 4:  Batch loss: 0.5377; Batch accuracy: 81.76%\n",
      "Epoch 27, CIFAR-10 Batch 5:  Batch loss: 0.5509; Batch accuracy: 81.42%\n",
      "Epoch 28, CIFAR-10 Batch 1:  Batch loss: 0.5719; Batch accuracy: 83.78%\n",
      "Epoch 28, CIFAR-10 Batch 2:  Batch loss: 0.5773; Batch accuracy: 82.43%\n",
      "Epoch 28, CIFAR-10 Batch 3:  Batch loss: 0.4633; Batch accuracy: 87.16%\n",
      "Epoch 28, CIFAR-10 Batch 4:  Batch loss: 0.4451; Batch accuracy: 86.49%\n",
      "Epoch 28, CIFAR-10 Batch 5:  Batch loss: 0.4917; Batch accuracy: 87.50%\n",
      "Epoch 29, CIFAR-10 Batch 1:  Batch loss: 0.5211; Batch accuracy: 82.43%\n",
      "Epoch 29, CIFAR-10 Batch 2:  Batch loss: 0.5340; Batch accuracy: 82.77%\n",
      "Epoch 29, CIFAR-10 Batch 3:  Batch loss: 0.4215; Batch accuracy: 87.16%\n",
      "Epoch 29, CIFAR-10 Batch 4:  Batch loss: 0.4226; Batch accuracy: 90.20%\n",
      "Epoch 29, CIFAR-10 Batch 5:  Batch loss: 0.4527; Batch accuracy: 87.16%\n",
      "Epoch 30, CIFAR-10 Batch 1:  Batch loss: 0.4665; Batch accuracy: 84.46%\n",
      "Epoch 30, CIFAR-10 Batch 2:  Batch loss: 0.4524; Batch accuracy: 86.49%\n",
      "Epoch 30, CIFAR-10 Batch 3:  Batch loss: 0.3921; Batch accuracy: 89.86%\n",
      "Epoch 30, CIFAR-10 Batch 4:  Batch loss: 0.3980; Batch accuracy: 87.50%\n",
      "Epoch 30, CIFAR-10 Batch 5:  Batch loss: 0.4204; Batch accuracy: 90.54%\n",
      "Epoch 31, CIFAR-10 Batch 1:  Batch loss: 0.4388; Batch accuracy: 85.81%\n",
      "Epoch 31, CIFAR-10 Batch 2:  Batch loss: 0.4383; Batch accuracy: 86.82%\n",
      "Epoch 31, CIFAR-10 Batch 3:  Batch loss: 0.3707; Batch accuracy: 89.19%\n",
      "Epoch 31, CIFAR-10 Batch 4:  Batch loss: 0.3699; Batch accuracy: 90.88%\n",
      "Epoch 31, CIFAR-10 Batch 5:  Batch loss: 0.4023; Batch accuracy: 89.19%\n",
      "Epoch 32, CIFAR-10 Batch 1:  Batch loss: 0.3806; Batch accuracy: 87.50%\n",
      "Epoch 32, CIFAR-10 Batch 2:  Batch loss: 0.4189; Batch accuracy: 86.82%\n",
      "Epoch 32, CIFAR-10 Batch 3:  Batch loss: 0.3577; Batch accuracy: 89.86%\n",
      "Epoch 32, CIFAR-10 Batch 4:  Batch loss: 0.3659; Batch accuracy: 87.84%\n",
      "Epoch 32, CIFAR-10 Batch 5:  Batch loss: 0.3690; Batch accuracy: 90.54%\n",
      "Epoch 33, CIFAR-10 Batch 1:  Batch loss: 0.3651; Batch accuracy: 88.85%\n",
      "Epoch 33, CIFAR-10 Batch 2:  Batch loss: 0.3807; Batch accuracy: 88.85%\n",
      "Epoch 33, CIFAR-10 Batch 3:  Batch loss: 0.3041; Batch accuracy: 92.23%\n",
      "Epoch 33, CIFAR-10 Batch 4:  Batch loss: 0.3025; Batch accuracy: 91.89%\n",
      "Epoch 33, CIFAR-10 Batch 5:  Batch loss: 0.3441; Batch accuracy: 92.57%\n",
      "Epoch 34, CIFAR-10 Batch 1:  Batch loss: 0.3199; Batch accuracy: 90.54%\n",
      "Epoch 34, CIFAR-10 Batch 2:  Batch loss: 0.3602; Batch accuracy: 89.86%\n",
      "Epoch 34, CIFAR-10 Batch 3:  Batch loss: 0.2553; Batch accuracy: 93.24%\n",
      "Epoch 34, CIFAR-10 Batch 4:  Batch loss: 0.3045; Batch accuracy: 89.86%\n",
      "Epoch 34, CIFAR-10 Batch 5:  Batch loss: 0.2993; Batch accuracy: 92.23%\n",
      "Epoch 35, CIFAR-10 Batch 1:  Batch loss: 0.2940; Batch accuracy: 90.88%\n",
      "Epoch 35, CIFAR-10 Batch 2:  Batch loss: 0.3218; Batch accuracy: 90.88%\n",
      "Epoch 35, CIFAR-10 Batch 3:  Batch loss: 0.2214; Batch accuracy: 95.27%\n",
      "Epoch 35, CIFAR-10 Batch 4:  Batch loss: 0.2708; Batch accuracy: 91.22%\n",
      "Epoch 35, CIFAR-10 Batch 5:  Batch loss: 0.2624; Batch accuracy: 95.61%\n",
      "Epoch 36, CIFAR-10 Batch 1:  Batch loss: 0.2555; Batch accuracy: 93.92%\n",
      "Epoch 36, CIFAR-10 Batch 2:  Batch loss: 0.3247; Batch accuracy: 90.54%\n",
      "Epoch 36, CIFAR-10 Batch 3:  Batch loss: 0.2298; Batch accuracy: 94.26%\n",
      "Epoch 36, CIFAR-10 Batch 4:  Batch loss: 0.2248; Batch accuracy: 94.93%\n",
      "Epoch 36, CIFAR-10 Batch 5:  Batch loss: 0.2376; Batch accuracy: 95.95%\n",
      "Epoch 37, CIFAR-10 Batch 1:  Batch loss: 0.2206; Batch accuracy: 94.93%\n",
      "Epoch 37, CIFAR-10 Batch 2:  Batch loss: 0.2636; Batch accuracy: 92.91%\n",
      "Epoch 37, CIFAR-10 Batch 3:  Batch loss: 0.2031; Batch accuracy: 94.59%\n",
      "Epoch 37, CIFAR-10 Batch 4:  Batch loss: 0.2063; Batch accuracy: 95.27%\n",
      "Epoch 37, CIFAR-10 Batch 5:  Batch loss: 0.2466; Batch accuracy: 93.58%\n",
      "Epoch 38, CIFAR-10 Batch 1:  Batch loss: 0.2044; Batch accuracy: 94.26%\n",
      "Epoch 38, CIFAR-10 Batch 2:  Batch loss: 0.2390; Batch accuracy: 93.92%\n",
      "Epoch 38, CIFAR-10 Batch 3:  Batch loss: 0.1954; Batch accuracy: 94.93%\n",
      "Epoch 38, CIFAR-10 Batch 4:  Batch loss: 0.2015; Batch accuracy: 94.59%\n",
      "Epoch 38, CIFAR-10 Batch 5:  Batch loss: 0.2460; Batch accuracy: 94.26%\n",
      "Epoch 39, CIFAR-10 Batch 1:  Batch loss: 0.1954; Batch accuracy: 95.61%\n",
      "Epoch 39, CIFAR-10 Batch 2:  Batch loss: 0.2290; Batch accuracy: 91.22%\n",
      "Epoch 39, CIFAR-10 Batch 3:  Batch loss: 0.2139; Batch accuracy: 94.26%\n",
      "Epoch 39, CIFAR-10 Batch 4:  Batch loss: 0.2035; Batch accuracy: 93.58%\n",
      "Epoch 39, CIFAR-10 Batch 5:  Batch loss: 0.2221; Batch accuracy: 95.95%\n",
      "Epoch 40, CIFAR-10 Batch 1:  Batch loss: 0.1643; Batch accuracy: 96.28%\n",
      "Epoch 40, CIFAR-10 Batch 2:  Batch loss: 0.2075; Batch accuracy: 94.26%\n",
      "Epoch 40, CIFAR-10 Batch 3:  Batch loss: 0.1636; Batch accuracy: 96.28%\n",
      "Epoch 40, CIFAR-10 Batch 4:  Batch loss: 0.1783; Batch accuracy: 95.61%\n",
      "Epoch 40, CIFAR-10 Batch 5:  Batch loss: 0.1923; Batch accuracy: 95.27%\n",
      "Epoch 41, CIFAR-10 Batch 1:  Batch loss: 0.1471; Batch accuracy: 97.64%\n",
      "Epoch 41, CIFAR-10 Batch 2:  Batch loss: 0.1547; Batch accuracy: 96.62%\n",
      "Epoch 41, CIFAR-10 Batch 3:  Batch loss: 0.1275; Batch accuracy: 97.64%\n",
      "Epoch 41, CIFAR-10 Batch 4:  Batch loss: 0.1344; Batch accuracy: 97.97%\n",
      "Epoch 41, CIFAR-10 Batch 5:  Batch loss: 0.1467; Batch accuracy: 96.96%\n",
      "Epoch 42, CIFAR-10 Batch 1:  Batch loss: 0.1269; Batch accuracy: 96.62%\n",
      "Epoch 42, CIFAR-10 Batch 2:  Batch loss: 0.1411; Batch accuracy: 96.62%\n",
      "Epoch 42, CIFAR-10 Batch 3:  Batch loss: 0.1238; Batch accuracy: 97.64%\n",
      "Epoch 42, CIFAR-10 Batch 4:  Batch loss: 0.1495; Batch accuracy: 96.62%\n",
      "Epoch 42, CIFAR-10 Batch 5:  Batch loss: 0.1150; Batch accuracy: 98.99%\n",
      "Epoch 43, CIFAR-10 Batch 1:  Batch loss: 0.1030; Batch accuracy: 98.31%\n",
      "Epoch 43, CIFAR-10 Batch 2:  Batch loss: 0.1305; Batch accuracy: 96.62%\n",
      "Epoch 43, CIFAR-10 Batch 3:  Batch loss: 0.1036; Batch accuracy: 97.64%\n",
      "Epoch 43, CIFAR-10 Batch 4:  Batch loss: 0.1155; Batch accuracy: 97.64%\n",
      "Epoch 43, CIFAR-10 Batch 5:  Batch loss: 0.1243; Batch accuracy: 98.31%\n",
      "Epoch 44, CIFAR-10 Batch 1:  Batch loss: 0.1026; Batch accuracy: 98.65%\n",
      "Epoch 44, CIFAR-10 Batch 2:  Batch loss: 0.1099; Batch accuracy: 97.64%\n",
      "Epoch 44, CIFAR-10 Batch 3:  Batch loss: 0.1160; Batch accuracy: 97.97%\n",
      "Epoch 44, CIFAR-10 Batch 4:  Batch loss: 0.1175; Batch accuracy: 97.97%\n",
      "Epoch 44, CIFAR-10 Batch 5:  Batch loss: 0.0985; Batch accuracy: 99.32%\n",
      "Epoch 45, CIFAR-10 Batch 1:  Batch loss: 0.1294; Batch accuracy: 97.64%\n",
      "Epoch 45, CIFAR-10 Batch 2:  Batch loss: 0.1148; Batch accuracy: 96.96%\n",
      "Epoch 45, CIFAR-10 Batch 3:  Batch loss: 0.0979; Batch accuracy: 96.96%\n",
      "Epoch 45, CIFAR-10 Batch 4:  Batch loss: 0.1131; Batch accuracy: 98.65%\n",
      "Epoch 45, CIFAR-10 Batch 5:  Batch loss: 0.0871; Batch accuracy: 99.66%\n",
      "Epoch 46, CIFAR-10 Batch 1:  Batch loss: 0.1139; Batch accuracy: 97.97%\n",
      "Epoch 46, CIFAR-10 Batch 2:  Batch loss: 0.1039; Batch accuracy: 97.30%\n",
      "Epoch 46, CIFAR-10 Batch 3:  Batch loss: 0.0684; Batch accuracy: 99.66%\n",
      "Epoch 46, CIFAR-10 Batch 4:  Batch loss: 0.0992; Batch accuracy: 98.31%\n",
      "Epoch 46, CIFAR-10 Batch 5:  Batch loss: 0.0706; Batch accuracy: 100.00%\n",
      "Epoch 47, CIFAR-10 Batch 1:  Batch loss: 0.0864; Batch accuracy: 97.97%\n",
      "Epoch 47, CIFAR-10 Batch 2:  Batch loss: 0.0702; Batch accuracy: 98.99%\n",
      "Epoch 47, CIFAR-10 Batch 3:  Batch loss: 0.0806; Batch accuracy: 98.99%\n",
      "Epoch 47, CIFAR-10 Batch 4:  Batch loss: 0.0863; Batch accuracy: 98.99%\n",
      "Epoch 47, CIFAR-10 Batch 5:  Batch loss: 0.0982; Batch accuracy: 97.97%\n",
      "Epoch 48, CIFAR-10 Batch 1:  Batch loss: 0.0925; Batch accuracy: 97.97%\n",
      "Epoch 48, CIFAR-10 Batch 2:  Batch loss: 0.0647; Batch accuracy: 99.32%\n",
      "Epoch 48, CIFAR-10 Batch 3:  Batch loss: 0.0581; Batch accuracy: 99.66%\n",
      "Epoch 48, CIFAR-10 Batch 4:  Batch loss: 0.0638; Batch accuracy: 98.65%\n",
      "Epoch 48, CIFAR-10 Batch 5:  Batch loss: 0.0634; Batch accuracy: 98.99%\n",
      "Epoch 49, CIFAR-10 Batch 1:  Batch loss: 0.0725; Batch accuracy: 98.65%\n",
      "Epoch 49, CIFAR-10 Batch 2:  Batch loss: 0.0739; Batch accuracy: 98.31%\n",
      "Epoch 49, CIFAR-10 Batch 3:  Batch loss: 0.0730; Batch accuracy: 98.65%\n",
      "Epoch 49, CIFAR-10 Batch 4:  Batch loss: 0.0635; Batch accuracy: 99.32%\n",
      "Epoch 49, CIFAR-10 Batch 5:  Batch loss: 0.0626; Batch accuracy: 98.31%\n",
      "Epoch 50, CIFAR-10 Batch 1:  Batch loss: 0.0573; Batch accuracy: 98.31%\n",
      "Epoch 50, CIFAR-10 Batch 2:  Batch loss: 0.0588; Batch accuracy: 98.31%\n",
      "Epoch 50, CIFAR-10 Batch 3:  Batch loss: 0.0446; Batch accuracy: 99.66%\n",
      "Epoch 50, CIFAR-10 Batch 4:  Batch loss: 0.0610; Batch accuracy: 98.65%\n",
      "Epoch 50, CIFAR-10 Batch 5:  Batch loss: 0.0556; Batch accuracy: 98.99%\n"
     ]
    }
   ],
   "source": [
    "\"\"\"\n",
    "DON'T MODIFY ANYTHING IN THIS CELL\n",
    "\"\"\"\n",
    "save_model_path = './image_classification'\n",
    "\n",
    "print('Training...')\n",
    "with tf.Session() as sess:\n",
    "    # Initializing the variables\n",
    "    sess.run(tf.global_variables_initializer())\n",
    "    \n",
    "    # Training cycle\n",
    "    for epoch in range(epochs):\n",
    "        # Loop over all batches\n",
    "        n_batches = 5\n",
    "        for batch_i in range(1, n_batches + 1):\n",
    "            for batch_features, batch_labels in helper.load_preprocess_training_batch(batch_i, batch_size):\n",
    "                train_neural_network(sess, optimizer, keep_probability, batch_features, batch_labels)\n",
    "            print('Epoch {:>2}, CIFAR-10 Batch {}:  '.format(epoch + 1, batch_i), end='')\n",
    "            print_stats(sess, batch_features, batch_labels, cost, accuracy)\n",
    "            \n",
    "    # Save Model\n",
    "    saver = tf.train.Saver()\n",
    "    save_path = saver.save(sess, save_model_path)"
   ]
  },
  {
   "cell_type": "markdown",
   "metadata": {},
   "source": [
    "# Checkpoint\n",
    "The model has been saved to disk.\n",
    "## Test Model\n",
    "Test your model against the test dataset.  This will be your final accuracy. You should have an accuracy greater than 50%. If you don't, keep tweaking the model architecture and parameters."
   ]
  },
  {
   "cell_type": "code",
   "execution_count": 18,
   "metadata": {
    "collapsed": false
   },
   "outputs": [
    {
     "name": "stdout",
     "output_type": "stream",
     "text": [
      "Testing Accuracy: 0.5506721079349518\n",
      "\n"
     ]
    },
    {
     "data": {
      "image/png": "[encoded data removed]",
      "text/plain": [
       "<matplotlib.figure.Figure at 0x2b428bd95c0>"
      ]
     },
     "metadata": {
      "image/png": {
       "height": 319,
       "width": 355
      }
     },
     "output_type": "display_data"
    }
   ],
   "source": [
    "\"\"\"\n",
    "DON'T MODIFY ANYTHING IN THIS CELL\n",
    "\"\"\"\n",
    "%matplotlib inline\n",
    "%config InlineBackend.figure_format = 'retina'\n",
    "\n",
    "import tensorflow as tf\n",
    "import pickle\n",
    "import helper\n",
    "import random\n",
    "\n",
    "# Set batch size if not already set\n",
    "try:\n",
    "    if batch_size:\n",
    "        pass\n",
    "except NameError:\n",
    "    batch_size = 64\n",
    "\n",
    "save_model_path = './image_classification'\n",
    "n_samples = 4\n",
    "top_n_predictions = 3\n",
    "\n",
    "def test_model():\n",
    "    \"\"\"\n",
    "    Test the saved model against the test dataset\n",
    "    \"\"\"\n",
    "\n",
    "    test_features, test_labels = pickle.load(open('preprocess_training.p', mode='rb'))\n",
    "    loaded_graph = tf.Graph()\n",
    "\n",
    "    with tf.Session(graph=loaded_graph) as sess:\n",
    "        # Load model\n",
    "        loader = tf.train.import_meta_graph(save_model_path + '.meta')\n",
    "        loader.restore(sess, save_model_path)\n",
    "\n",
    "        # Get Tensors from loaded model\n",
    "        loaded_x = loaded_graph.get_tensor_by_name('x:0')\n",
    "        loaded_y = loaded_graph.get_tensor_by_name('y:0')\n",
    "        loaded_keep_prob = loaded_graph.get_tensor_by_name('keep_prob:0')\n",
    "        loaded_logits = loaded_graph.get_tensor_by_name('logits:0')\n",
    "        loaded_acc = loaded_graph.get_tensor_by_name('accuracy:0')\n",
    "        \n",
    "        # Get accuracy in batches for memory limitations\n",
    "        test_batch_acc_total = 0\n",
    "        test_batch_count = 0\n",
    "        \n",
    "        for train_feature_batch, train_label_batch in helper.batch_features_labels(test_features, test_labels, batch_size):\n",
    "            test_batch_acc_total += sess.run(\n",
    "                loaded_acc,\n",
    "                feed_dict={loaded_x: train_feature_batch, loaded_y: train_label_batch, loaded_keep_prob: 1.0})\n",
    "            test_batch_count += 1\n",
    "\n",
    "        print('Testing Accuracy: {}\\n'.format(test_batch_acc_total/test_batch_count))\n",
    "\n",
    "        # Print Random Samples\n",
    "        random_test_features, random_test_labels = tuple(zip(*random.sample(list(zip(test_features, test_labels)), n_samples)))\n",
    "        random_test_predictions = sess.run(\n",
    "            tf.nn.top_k(tf.nn.softmax(loaded_logits), top_n_predictions),\n",
    "            feed_dict={loaded_x: random_test_features, loaded_y: random_test_labels, loaded_keep_prob: 1.0})\n",
    "        helper.display_image_predictions(random_test_features, random_test_labels, random_test_predictions)\n",
    "\n",
    "\n",
    "test_model()"
   ]
  },
  {
   "cell_type": "markdown",
   "metadata": {},
   "source": [
    "## Why 50-70% Accuracy?\n",
    "You might be wondering why you can't get an accuracy any higher. First things first, 50% isn't bad for a simple CNN.  Pure guessing would get you 10% accuracy. However, you might notice people are getting scores [well above 70%](http://rodrigob.github.io/are_we_there_yet/build/classification_datasets_results.html#43494641522d3130).  That's because we haven't taught you all there is to know about neural networks. We still need to cover a few more techniques.\n",
    "## Submitting This Project\n",
    "When submitting this project, make sure to run all the cells before saving the notebook.  Save the notebook file as \"dlnd_image_classification.ipynb\" and save it as a HTML file under \"File\" -> \"Download as\".  Include the \"helper.py\" and \"problem_unittests.py\" files in your submission."
   ]
  }
 ],
 "metadata": {
  "kernelspec": {
   "display_name": "Python 3",
   "language": "python",
   "name": "python3"
  },
  "language_info": {
   "codemirror_mode": {
    "name": "ipython",
    "version": 3
   },
   "file_extension": ".py",
   "mimetype": "text/x-python",
   "name": "python",
   "nbconvert_exporter": "python",
   "pygments_lexer": "ipython3",
   "version": "3.5.3"
  }
 },
 "nbformat": 4,
 "nbformat_minor": 0
}
